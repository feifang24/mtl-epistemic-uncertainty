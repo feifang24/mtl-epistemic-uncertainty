{
 "cells": [
  {
   "cell_type": "code",
   "execution_count": 1,
   "metadata": {},
   "outputs": [],
   "source": [
    "import os\n",
    "import random"
   ]
  },
  {
   "cell_type": "code",
   "execution_count": 2,
   "metadata": {},
   "outputs": [],
   "source": [
    "src_data_dir = '/Users/feifang/Desktop/Dev/glue_data'\n",
    "target_data_dir = './glue_data'"
   ]
  },
  {
   "cell_type": "code",
   "execution_count": 3,
   "metadata": {},
   "outputs": [],
   "source": [
    "tasks = ['SST-2', 'RTE', 'MRPC']"
   ]
  },
  {
   "cell_type": "markdown",
   "metadata": {},
   "source": [
    "### Downsample datasets "
   ]
  },
  {
   "cell_type": "code",
   "execution_count": 4,
   "metadata": {},
   "outputs": [],
   "source": [
    "def read_data(path):\n",
    "    with open(path, 'r', encoding='utf-8') as f:\n",
    "        header = f.readline()\n",
    "        all_samples = f.readlines()\n",
    "    return header, all_samples"
   ]
  },
  {
   "cell_type": "code",
   "execution_count": 5,
   "metadata": {},
   "outputs": [],
   "source": [
    "def write_data(task, fn, header, samples):\n",
    "    output_dir = os.path.join(target_data_dir, task)\n",
    "    if not os.path.isdir(output_dir): os.makedirs(output_dir)\n",
    "    output_fn = os.path.join(output_dir, fn)\n",
    "    with open(output_fn, 'w', encoding='utf-8') as f:\n",
    "        f.write(header)\n",
    "        f.writelines(samples)"
   ]
  },
  {
   "cell_type": "code",
   "execution_count": 6,
   "metadata": {},
   "outputs": [],
   "source": [
    "def sample_data(input_dir, input_fn, num_samples):\n",
    "    task = input_dir.split('/')[-1]\n",
    "\n",
    "    if input_fn == 'dev_ids.tsv': \n",
    "        return\n",
    "    input_fp = os.path.join(input_dir, input_fn)\n",
    "    header, all_data = read_data(input_fp)\n",
    "    if num_samples > 0:\n",
    "        num_samples = min(num_samples, len(all_data))\n",
    "        random.seed(42)\n",
    "        samples = random.sample(all_data, num_samples)\n",
    "    else:\n",
    "        samples = all_data\n",
    "    write_data(task, input_fn, header, samples)"
   ]
  },
  {
   "cell_type": "code",
   "execution_count": 83,
   "metadata": {},
   "outputs": [],
   "source": [
    "def sample():\n",
    "    for root, _, files in os.walk(src_data_dir):\n",
    "        for f in files:\n",
    "            if f.endswith('tsv'):\n",
    "                task = root.split('/')[-1]\n",
    "                print(f'{task}: {f}')\n",
    "                if task not in tasks:\n",
    "                    print('Skipping: task not in domain.')\n",
    "                    continue\n",
    "                num_samples = input('Enter number of samples for this dataset: ')\n",
    "                print('\\n')\n",
    "                if not num_samples: \n",
    "                    return\n",
    "                sample_data(root, f, int(num_samples))"
   ]
  },
  {
   "cell_type": "code",
   "execution_count": 84,
   "metadata": {},
   "outputs": [
    {
     "name": "stdout",
     "output_type": "stream",
     "text": [
      "SST-2: train.tsv\n",
      "Enter number of samples for this dataset: 9128\n",
      "\n",
      "\n",
      "SST-2: dev.tsv\n",
      "Enter number of samples for this dataset: 0\n",
      "\n",
      "\n",
      "SST-2: test.tsv\n",
      "Enter number of samples for this dataset: \n",
      "\n",
      "\n"
     ]
    }
   ],
   "source": [
    "sample()"
   ]
  },
  {
   "cell_type": "markdown",
   "metadata": {},
   "source": [
    "### for SST only: move 1128 samples of train to dev "
   ]
  },
  {
   "cell_type": "code",
   "execution_count": 85,
   "metadata": {},
   "outputs": [],
   "source": [
    "task = 'SST-2'\n",
    "sst_train_fp = os.path.join(target_data_dir, task, 'train.tsv')\n",
    "sst_header, sst_samples = read_data(sst_train_fp)"
   ]
  },
  {
   "cell_type": "code",
   "execution_count": 86,
   "metadata": {},
   "outputs": [
    {
     "data": {
      "text/plain": [
       "9128"
      ]
     },
     "execution_count": 86,
     "metadata": {},
     "output_type": "execute_result"
    }
   ],
   "source": [
    "len(sst_samples)"
   ]
  },
  {
   "cell_type": "code",
   "execution_count": 87,
   "metadata": {},
   "outputs": [],
   "source": [
    "indices_shuffled = list(range(len(sst_samples)))\n",
    "random.seed(42)\n",
    "random.shuffle(indices_shuffled)"
   ]
  },
  {
   "cell_type": "code",
   "execution_count": 88,
   "metadata": {},
   "outputs": [],
   "source": [
    "num_train = 8000\n",
    "indices_to_keep, indices_to_move = indices_shuffled[:num_train], indices_shuffled[num_train:]"
   ]
  },
  {
   "cell_type": "code",
   "execution_count": 89,
   "metadata": {},
   "outputs": [],
   "source": [
    "new_train_samples = [sst_samples[i] for i in indices_to_keep]\n",
    "new_dev_samples = [sst_samples[i] for i in indices_to_move]"
   ]
  },
  {
   "cell_type": "code",
   "execution_count": 90,
   "metadata": {},
   "outputs": [
    {
     "data": {
      "text/plain": [
       "8000"
      ]
     },
     "execution_count": 90,
     "metadata": {},
     "output_type": "execute_result"
    }
   ],
   "source": [
    "len(new_train_samples)"
   ]
  },
  {
   "cell_type": "code",
   "execution_count": 91,
   "metadata": {},
   "outputs": [],
   "source": [
    "with open(sst_train_fp, 'w', encoding='utf-8') as f:\n",
    "    f.write(sst_header)\n",
    "    f.writelines(new_train_samples)"
   ]
  },
  {
   "cell_type": "code",
   "execution_count": 92,
   "metadata": {},
   "outputs": [],
   "source": [
    "sst_dev_fp = os.path.join(target_data_dir, task, 'dev.tsv')"
   ]
  },
  {
   "cell_type": "code",
   "execution_count": 93,
   "metadata": {},
   "outputs": [],
   "source": [
    "with open(sst_dev_fp, 'a', encoding='utf-8') as f:\n",
    "    f.writelines(new_dev_samples)"
   ]
  },
  {
   "cell_type": "markdown",
   "metadata": {},
   "source": [
    "## Move half of dev to test "
   ]
  },
  {
   "cell_type": "code",
   "execution_count": 7,
   "metadata": {},
   "outputs": [],
   "source": [
    "for task in tasks:\n",
    "    dev_fp = os.path.join(target_data_dir, task, 'dev.tsv')\n",
    "    test_fp = os.path.join(target_data_dir, task, 'test.tsv')\n",
    "    header, samples = read_data(dev_fp)\n",
    "    num_samples = len(samples)\n",
    "    dev_samples, test_samples = samples[:num_samples//2], samples[num_samples//2:]\n",
    "    with open(dev_fp, 'w', encoding='utf-8') as f:\n",
    "        f.write(header)\n",
    "        f.writelines(dev_samples)\n",
    "    with open(test_fp, 'w', encoding='utf-8') as f:\n",
    "        f.write(header)\n",
    "        f.writelines(test_samples)"
   ]
  }
 ],
 "metadata": {
  "kernelspec": {
   "display_name": "Python 3",
   "language": "python",
   "name": "python3"
  },
  "language_info": {
   "codemirror_mode": {
    "name": "ipython",
    "version": 3
   },
   "file_extension": ".py",
   "mimetype": "text/x-python",
   "name": "python",
   "nbconvert_exporter": "python",
   "pygments_lexer": "ipython3",
   "version": "3.7.1"
  }
 },
 "nbformat": 4,
 "nbformat_minor": 2
}
