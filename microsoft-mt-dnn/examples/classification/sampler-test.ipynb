{
 "cells": [
  {
   "cell_type": "markdown",
   "metadata": {},
   "source": [
    "## Goal: test active sampler implementation\n",
    "\n",
    "Using placeholder uncertainty = 1 for all tasks.\n",
    "\n",
    "Key difference between this and `train-baseline.ipynb`: `config.uncertainty_based_sampling = True` (under \"Define a Configuration Object\")"
   ]
  },
  {
   "cell_type": "markdown",
   "metadata": {},
   "source": [
    "## PyTorch Setup "
   ]
  },
  {
   "cell_type": "code",
   "execution_count": 1,
   "metadata": {},
   "outputs": [],
   "source": [
    "# uninstall the default 1.4.0 and run the following command (due to the config of our dev box)\n",
    "# !pip install torch==1.6.0+cu101 torchvision==0.7.0+cu101 -f https://download.pytorch.org/whl/torch_stable.html"
   ]
  },
  {
   "cell_type": "markdown",
   "metadata": {},
   "source": [
    "\n",
    "### Text Classification of MultiNLI Sentences using MT-DNN\n",
    "\n",
    "This notebook utilizes the pip installable package that implements the Multi-Task Deep Neural Network Toolkit (MTDNN) for Natural Language Understanding. It's recommended to run this notebook on GPU machines as it's very computationally intensive."
   ]
  },
  {
   "cell_type": "code",
   "execution_count": 2,
   "metadata": {},
   "outputs": [],
   "source": [
    "%load_ext autoreload\n",
    "%autoreload 2"
   ]
  },
  {
   "cell_type": "code",
   "execution_count": 3,
   "metadata": {},
   "outputs": [],
   "source": [
    "import json\n",
    "import os\n",
    "import shutil\n",
    "import sys\n",
    "from datetime import datetime\n",
    "\n",
    "import pandas as pd\n",
    "import torch\n",
    "import tensorflow.io.gfile as gfile\n",
    "\n",
    "from mtdnn.common.types import EncoderModelType\n",
    "from mtdnn.configuration_mtdnn import MTDNNConfig\n",
    "from mtdnn.data_builder_mtdnn import MTDNNDataBuilder\n",
    "from mtdnn.modeling_mtdnn import MTDNNModel\n",
    "from mtdnn.process_mtdnn import MTDNNDataProcess\n",
    "from mtdnn.tasks.config import MTDNNTaskDefs\n",
    "from mtdnn.tokenizer_mtdnn import MTDNNTokenizer"
   ]
  },
  {
   "cell_type": "markdown",
   "metadata": {},
   "source": [
    "## Define Configuration, Tasks and Model Objects"
   ]
  },
  {
   "cell_type": "code",
   "execution_count": 4,
   "metadata": {},
   "outputs": [],
   "source": [
    "DEBUG = True"
   ]
  },
  {
   "cell_type": "code",
   "execution_count": 5,
   "metadata": {},
   "outputs": [],
   "source": [
    "# Define Configuration, Tasks and Model Objects\n",
    "ROOT_DIR = 'gs://cs330'\n",
    "MODEL_ID = datetime.now().strftime('%m%d%H%M')\n",
    "OUTPUT_DIR = os.path.join(ROOT_DIR, 'checkpoint', MODEL_ID)\n",
    "\n",
    "DATA_DIR = \"../../../glue_data/\" if not DEBUG else \"../../../debug_data/\"\n",
    "TASK_DATA_DIRS = {\n",
    "    'qqp': os.path.join(DATA_DIR, \"QQP\"),\n",
    "    'mnli': os.path.join(DATA_DIR, \"MNLI\"),\n",
    "    'sst': os.path.join(DATA_DIR, \"SST-2\"),\n",
    "    'mrpc': os.path.join(DATA_DIR, \"MRPC\")\n",
    "    }"
   ]
  },
  {
   "cell_type": "code",
   "execution_count": 6,
   "metadata": {},
   "outputs": [],
   "source": [
    "# Training parameters\n",
    "BATCH_SIZE = 16\n",
    "MULTI_GPU_ON = False\n",
    "MAX_SEQ_LEN = 128\n",
    "NUM_EPOCHS = 2 if DEBUG else 5\n",
    "\n",
    "UNCERTAINTY_BASED_SAMPLING = True\n",
    "LOG_PER_UPDATES = 4 if DEBUG else 500"
   ]
  },
  {
   "cell_type": "code",
   "execution_count": 7,
   "metadata": {},
   "outputs": [
    {
     "data": {
      "text/plain": [
       "{'qqp': '../../../debug_data/QQP',\n",
       " 'mnli': '../../../debug_data/MNLI',\n",
       " 'sst': '../../../debug_data/SST-2',\n",
       " 'mrpc': '../../../debug_data/MRPC'}"
      ]
     },
     "execution_count": 7,
     "metadata": {},
     "output_type": "execute_result"
    }
   ],
   "source": [
    "TASK_DATA_DIRS"
   ]
  },
  {
   "cell_type": "markdown",
   "metadata": {},
   "source": [
    "Exploring the location for our data to be downloaded, model to be checkpointed and logs to be dumped"
   ]
  },
  {
   "cell_type": "code",
   "execution_count": 8,
   "metadata": {},
   "outputs": [
    {
     "name": "stdout",
     "output_type": "stream",
     "text": [
      "gs://cs330/checkpoint/11120706\n"
     ]
    }
   ],
   "source": [
    "print(OUTPUT_DIR)"
   ]
  },
  {
   "cell_type": "markdown",
   "metadata": {},
   "source": [
    "### Define a Configuration Object \n",
    "\n",
    "Create a model configuration object, `MTDNNConfig`, with the necessary parameters to initialize the MT-DNN model. Initialization without any parameters will default to a similar configuration that initializes a BERT model. "
   ]
  },
  {
   "cell_type": "code",
   "execution_count": 9,
   "metadata": {},
   "outputs": [],
   "source": [
    "config = MTDNNConfig(batch_size=BATCH_SIZE, \n",
    "                     max_seq_len=MAX_SEQ_LEN, \n",
    "                     multi_gpu_on=MULTI_GPU_ON,\n",
    "                     log_per_updates=LOG_PER_UPDATES,\n",
    "                     uncertainty_based_sampling=UNCERTAINTY_BASED_SAMPLING,\n",
    "                    )"
   ]
  },
  {
   "cell_type": "markdown",
   "metadata": {},
   "source": [
    "\n",
    "### Create Task Definition Object  \n",
    "\n",
    "Define the task parameters to train for and initialize an `MTDNNTaskDefs` object. Create a task parameter dictionary. Definition can be a single or multiple tasks to train.  `MTDNNTaskDefs` can take a python dict, yaml or json file with task(s) defintion.\n",
    "\n",
    "The data source directory is the path of data downloaded and extracted above using `download_tsv_files_and_extract` which is the `MNLI` dir under the `DATA_DIR` temporary directory.    \n",
    "\n",
    "The data source has options that are set to drive each task pre-processing; `data_process_opts`\n"
   ]
  },
  {
   "cell_type": "code",
   "execution_count": 10,
   "metadata": {},
   "outputs": [
    {
     "name": "stdout",
     "output_type": "stream",
     "text": [
      "11/12/2020 07:06:21 - mtdnn.tasks.config - INFO - Mapping Task attributes\n",
      "11/12/2020 07:06:21 - mtdnn.tasks.config - INFO - Mapping Task attributes\n",
      "11/12/2020 07:06:21 - mtdnn.tasks.config - INFO - Mapping Task attributes\n",
      "11/12/2020 07:06:21 - mtdnn.tasks.config - INFO - Mapping Task attributes\n",
      "11/12/2020 07:06:21 - mtdnn.tasks.config - INFO - Configured task definitions - ['mnli', 'mrpc', 'sst', 'qqp']\n"
     ]
    }
   ],
   "source": [
    "default_data_process_opts = {\"header\": True, \"is_train\": True, \"multi_snli\": False,}\n",
    "default_split_names = [\"train\", \"dev\", \"test\"]\n",
    "tasks_params = {\n",
    "    \"mnli\": {\n",
    "        \"data_format\": \"PremiseAndOneHypothesis\",\n",
    "        \"encoder_type\": \"BERT\",\n",
    "        \"dropout_p\": 0.3,\n",
    "        \"enable_san\": True,\n",
    "        \"labels\": [\"contradiction\", \"neutral\", \"entailment\"],\n",
    "        \"metric_meta\": [\"ACC\"],\n",
    "        \"loss\": \"CeCriterion\",\n",
    "        \"kd_loss\": \"MseCriterion\",\n",
    "        \"n_class\": 3,\n",
    "        \"split_names\": [\n",
    "            \"train\",\n",
    "            \"dev_matched\",\n",
    "            \"dev_mismatched\",\n",
    "            \"test_matched\",\n",
    "            \"test_mismatched\",\n",
    "        ],\n",
    "        \"data_source_dir\": TASK_DATA_DIRS['mnli'],\n",
    "        \"data_process_opts\": default_data_process_opts,\n",
    "        \"task_type\": \"Classification\",\n",
    "    },\n",
    "    \"mrpc\": {\n",
    "                \"task_name\": \"mrpc\",\n",
    "                \"data_format\": \"PremiseAndOneHypothesis\",\n",
    "                \"encoder_type\": \"BERT\",\n",
    "                \"enable_san\": True,\n",
    "                \"metric_meta\": [\"ACC\", \"F1\"],\n",
    "                \"loss\": \"CeCriterion\",\n",
    "                \"kd_loss\": \"MseCriterion\",\n",
    "                \"n_class\": 2,\n",
    "                \"split_names\": default_split_names,\n",
    "                \"data_source_dir\": TASK_DATA_DIRS['mrpc'],\n",
    "                \"data_process_opts\": default_data_process_opts,\n",
    "                \"task_type\": \"Classification\",\n",
    "            },\n",
    "    \"sst\": {\n",
    "                \"task_name\": \"sst\",\n",
    "                \"data_format\": \"PremiseOnly\",\n",
    "                \"encoder_type\": \"BERT\",\n",
    "                \"enable_san\": False,\n",
    "                \"metric_meta\": [\"ACC\"],\n",
    "                \"loss\": \"CeCriterion\",\n",
    "                \"kd_loss\": \"MseCriterion\",\n",
    "                \"n_class\": 2,\n",
    "                \"split_names\": default_split_names,\n",
    "                \"data_source_dir\": TASK_DATA_DIRS['sst'],\n",
    "                \"data_process_opts\": default_data_process_opts,\n",
    "                \"task_type\": \"Classification\",\n",
    "            },\n",
    "    \"qqp\": {\n",
    "        \"task_name\": \"qqp\",\n",
    "        \"data_format\": \"PremiseAndOneHypothesis\",\n",
    "        \"encoder_type\": \"BERT\",\n",
    "        \"enable_san\": True,\n",
    "        \"metric_meta\": [\"ACC\", \"F1\"],\n",
    "        \"loss\": \"CeCriterion\",\n",
    "        \"kd_loss\": \"MseCriterion\",\n",
    "        \"n_class\": 2,\n",
    "        \"split_names\": default_split_names,\n",
    "        \"data_source_dir\": TASK_DATA_DIRS['qqp'],\n",
    "        \"data_process_opts\": default_data_process_opts,\n",
    "        \"task_type\": \"Classification\",\n",
    "    }\n",
    "}\n",
    "\n",
    "# Define the tasks\n",
    "task_defs = MTDNNTaskDefs(tasks_params)"
   ]
  },
  {
   "cell_type": "markdown",
   "metadata": {},
   "source": [
    "\n",
    "### Create the MTDNN Data Tokenizer Object  \n",
    "\n",
    "Create a data tokenizing object, `MTDNNTokenizer`. Based on the model initial checkpoint, it wraps around the model's Huggingface transformers library to encode the data to MT-DNN format. This becomes the input to the data building stage.  \n"
   ]
  },
  {
   "cell_type": "code",
   "execution_count": 11,
   "metadata": {},
   "outputs": [],
   "source": [
    "tokenizer = MTDNNTokenizer(do_lower_case=True)"
   ]
  },
  {
   "cell_type": "markdown",
   "metadata": {},
   "source": [
    "#### Testing out the Tokenizer encode function on a sample text\n",
    "`tokenizer.encode(\"What NLP toolkit do you recommend\", \"MT-DNN is a fantastic toolkit\")`"
   ]
  },
  {
   "cell_type": "code",
   "execution_count": 12,
   "metadata": {},
   "outputs": [
    {
     "data": {
      "text/plain": [
       "([101, 2054, 17953, 2361, 6994, 23615, 2079, 2017, 16755, 102, 102],\n",
       " None,\n",
       " [0, 0, 0, 0, 0, 0, 0, 0, 0, 0, 1])"
      ]
     },
     "execution_count": 12,
     "metadata": {},
     "output_type": "execute_result"
    }
   ],
   "source": [
    "# single sentence\n",
    "tokenizer.encode(\"What NLP toolkit do you recommend\")"
   ]
  },
  {
   "cell_type": "code",
   "execution_count": 13,
   "metadata": {},
   "outputs": [
    {
     "name": "stdout",
     "output_type": "stream",
     "text": [
      "([101, 2054, 17953, 2361, 6994, 23615, 2079, 2017, 16755, 102, 11047, 1011, 1040, 10695, 2003, 1037, 10392, 6994, 23615, 102], None, [0, 0, 0, 0, 0, 0, 0, 0, 0, 0, 1, 1, 1, 1, 1, 1, 1, 1, 1, 1])\n"
     ]
    }
   ],
   "source": [
    "# sentence pair\n",
    "print(tokenizer.encode(\"What NLP toolkit do you recommend\", \"MT-DNN is a fantastic toolkit\"))"
   ]
  },
  {
   "cell_type": "markdown",
   "metadata": {},
   "source": [
    "## Data Preprocessing"
   ]
  },
  {
   "cell_type": "markdown",
   "metadata": {},
   "source": [
    "### Create the Data Builder Object  \n",
    "\n",
    "Create a data preprocessing object, `MTDNNDataBuilder`. This class is responsible for converting the data into the MT-DNN format depending on the task.  \n",
    " \n",
    "\n",
    "Define a data builder that handles the creating of each task's vectorized data utilizing the model tokenizer. This will build out the vectorized data needed for creating the training, test and development PyTorch dataloaders"
   ]
  },
  {
   "cell_type": "code",
   "execution_count": 14,
   "metadata": {
    "scrolled": true
   },
   "outputs": [
    {
     "data": {
      "text/plain": [
       "{'mnli': {'data_paths': ['../../../debug_data/MNLI/train.tsv',\n",
       "   '../../../debug_data/MNLI/dev_matched.tsv',\n",
       "   '../../../debug_data/MNLI/dev_mismatched.tsv',\n",
       "   '../../../debug_data/MNLI/test_matched.tsv',\n",
       "   '../../../debug_data/MNLI/test_mismatched.tsv'],\n",
       "  'data_opts': {'header': True, 'is_train': True, 'multi_snli': False}},\n",
       " 'mrpc': {'data_paths': ['../../../debug_data/MRPC/train.tsv',\n",
       "   '../../../debug_data/MRPC/dev.tsv',\n",
       "   '../../../debug_data/MRPC/test.tsv'],\n",
       "  'data_opts': {'header': True, 'is_train': True, 'multi_snli': False}},\n",
       " 'sst': {'data_paths': ['../../../debug_data/SST-2/train.tsv',\n",
       "   '../../../debug_data/SST-2/dev.tsv',\n",
       "   '../../../debug_data/SST-2/test.tsv'],\n",
       "  'data_opts': {'header': True, 'is_train': True, 'multi_snli': False}},\n",
       " 'qqp': {'data_paths': ['../../../debug_data/QQP/train.tsv',\n",
       "   '../../../debug_data/QQP/dev.tsv',\n",
       "   '../../../debug_data/QQP/test.tsv'],\n",
       "  'data_opts': {'header': True, 'is_train': True, 'multi_snli': False}}}"
      ]
     },
     "execution_count": 14,
     "metadata": {},
     "output_type": "execute_result"
    }
   ],
   "source": [
    "task_defs.data_paths_map"
   ]
  },
  {
   "cell_type": "code",
   "execution_count": 15,
   "metadata": {
    "scrolled": true
   },
   "outputs": [
    {
     "name": "stdout",
     "output_type": "stream",
     "text": [
      "11/12/2020 07:06:21 - mtdnn.data_builder_mtdnn - INFO - Sucessfully loaded and built 64 samples for mnli at ./canonical_data/mnli_train.tsv\n",
      "11/12/2020 07:06:21 - mtdnn.data_builder_mtdnn - INFO - Sucessfully loaded and built 64 samples for mnli at ./canonical_data/mnli_dev_matched.tsv\n",
      "11/12/2020 07:06:21 - mtdnn.data_builder_mtdnn - INFO - Sucessfully loaded and built 64 samples for mnli at ./canonical_data/mnli_dev_mismatched.tsv\n",
      "11/12/2020 07:06:21 - mtdnn.data_builder_mtdnn - INFO - Sucessfully loaded and built 64 samples for mnli at ./canonical_data/mnli_test_matched.tsv\n",
      "11/12/2020 07:06:21 - mtdnn.data_builder_mtdnn - INFO - Sucessfully loaded and built 64 samples for mnli at ./canonical_data/mnli_test_mismatched.tsv\n",
      "11/12/2020 07:06:21 - mtdnn.data_builder_mtdnn - INFO - Sucessfully loaded and built 64 samples for mrpc at ./canonical_data/mrpc_train.tsv\n",
      "11/12/2020 07:06:21 - mtdnn.data_builder_mtdnn - INFO - Sucessfully loaded and built 64 samples for mrpc at ./canonical_data/mrpc_dev.tsv\n",
      "11/12/2020 07:06:21 - mtdnn.data_builder_mtdnn - INFO - Sucessfully loaded and built 64 samples for mrpc at ./canonical_data/mrpc_test.tsv\n",
      "11/12/2020 07:06:21 - mtdnn.data_builder_mtdnn - INFO - Sucessfully loaded and built 64 samples for sst at ./canonical_data/sst_train.tsv\n",
      "11/12/2020 07:06:21 - mtdnn.data_builder_mtdnn - INFO - Sucessfully loaded and built 64 samples for sst at ./canonical_data/sst_dev.tsv\n",
      "11/12/2020 07:06:21 - mtdnn.data_builder_mtdnn - INFO - Sucessfully loaded and built 64 samples for sst at ./canonical_data/sst_test.tsv\n",
      "11/12/2020 07:06:21 - mtdnn.data_builder_mtdnn - INFO - Sucessfully loaded and built 64 samples for qqp at ./canonical_data/qqp_train.tsv\n",
      "11/12/2020 07:06:21 - mtdnn.data_builder_mtdnn - INFO - Sucessfully loaded and built 64 samples for qqp at ./canonical_data/qqp_dev.tsv\n",
      "11/12/2020 07:06:21 - mtdnn.data_builder_mtdnn - INFO - Sucessfully loaded and built 64 samples for qqp at ./canonical_data/qqp_test.tsv\n",
      "mnli_train\n",
      "11/12/2020 07:06:21 - mtdnn.data_builder_mtdnn - INFO - Building Data For 'MNLI TRAIN' Task\n"
     ]
    },
    {
     "name": "stderr",
     "output_type": "stream",
     "text": [
      "Building Data For Premise and One Hypothesis: 64it [00:00, 1137.07it/s]"
     ]
    },
    {
     "name": "stdout",
     "output_type": "stream",
     "text": [
      "11/12/2020 07:06:21 - mtdnn.data_builder_mtdnn - INFO - Saving data to ./canonical_data/bert_base_uncased/mnli_train.json\n"
     ]
    },
    {
     "name": "stderr",
     "output_type": "stream",
     "text": [
      "\n",
      "Saving Data For PremiseAndOneHypothesis: 100%|██████████| 64/64 [00:00<00:00, 29382.16it/s]"
     ]
    },
    {
     "name": "stdout",
     "output_type": "stream",
     "text": [
      "mnli_dev_matched\n",
      "11/12/2020 07:06:21 - mtdnn.data_builder_mtdnn - INFO - Building Data For 'MNLI DEV MATCHED' Task\n"
     ]
    },
    {
     "name": "stderr",
     "output_type": "stream",
     "text": [
      "\n",
      "Building Data For Premise and One Hypothesis: 64it [00:00, 1114.05it/s]"
     ]
    },
    {
     "name": "stdout",
     "output_type": "stream",
     "text": [
      "11/12/2020 07:06:21 - mtdnn.data_builder_mtdnn - INFO - Saving data to ./canonical_data/bert_base_uncased/mnli_dev_matched.json\n"
     ]
    },
    {
     "name": "stderr",
     "output_type": "stream",
     "text": [
      "\n",
      "Saving Data For PremiseAndOneHypothesis: 100%|██████████| 64/64 [00:00<00:00, 29976.04it/s]"
     ]
    },
    {
     "name": "stdout",
     "output_type": "stream",
     "text": [
      "mnli_dev_mismatched\n",
      "11/12/2020 07:06:21 - mtdnn.data_builder_mtdnn - INFO - Building Data For 'MNLI DEV MISMATCHED' Task\n"
     ]
    },
    {
     "name": "stderr",
     "output_type": "stream",
     "text": [
      "\n",
      "Building Data For Premise and One Hypothesis: 64it [00:00, 1249.50it/s]"
     ]
    },
    {
     "name": "stdout",
     "output_type": "stream",
     "text": [
      "11/12/2020 07:06:21 - mtdnn.data_builder_mtdnn - INFO - Saving data to ./canonical_data/bert_base_uncased/mnli_dev_mismatched.json\n"
     ]
    },
    {
     "name": "stderr",
     "output_type": "stream",
     "text": [
      "\n",
      "Saving Data For PremiseAndOneHypothesis: 100%|██████████| 64/64 [00:00<00:00, 34160.79it/s]"
     ]
    },
    {
     "name": "stdout",
     "output_type": "stream",
     "text": [
      "mnli_test_matched\n",
      "11/12/2020 07:06:21 - mtdnn.data_builder_mtdnn - INFO - Building Data For 'MNLI TEST MATCHED' Task\n"
     ]
    },
    {
     "name": "stderr",
     "output_type": "stream",
     "text": [
      "\n",
      "Building Data For Premise and One Hypothesis: 64it [00:00, 1255.16it/s]"
     ]
    },
    {
     "name": "stdout",
     "output_type": "stream",
     "text": [
      "11/12/2020 07:06:21 - mtdnn.data_builder_mtdnn - INFO - Saving data to ./canonical_data/bert_base_uncased/mnli_test_matched.json\n"
     ]
    },
    {
     "name": "stderr",
     "output_type": "stream",
     "text": [
      "\n",
      "Saving Data For PremiseAndOneHypothesis: 100%|██████████| 64/64 [00:00<00:00, 31907.22it/s]"
     ]
    },
    {
     "name": "stdout",
     "output_type": "stream",
     "text": [
      "mnli_test_mismatched\n",
      "11/12/2020 07:06:21 - mtdnn.data_builder_mtdnn - INFO - Building Data For 'MNLI TEST MISMATCHED' Task\n"
     ]
    },
    {
     "name": "stderr",
     "output_type": "stream",
     "text": [
      "\n",
      "Building Data For Premise and One Hypothesis: 64it [00:00, 1194.15it/s]"
     ]
    },
    {
     "name": "stdout",
     "output_type": "stream",
     "text": [
      "11/12/2020 07:06:21 - mtdnn.data_builder_mtdnn - INFO - Saving data to ./canonical_data/bert_base_uncased/mnli_test_mismatched.json\n"
     ]
    },
    {
     "name": "stderr",
     "output_type": "stream",
     "text": [
      "\n",
      "Saving Data For PremiseAndOneHypothesis: 100%|██████████| 64/64 [00:00<00:00, 30321.41it/s]"
     ]
    },
    {
     "name": "stdout",
     "output_type": "stream",
     "text": [
      "mrpc_train\n",
      "11/12/2020 07:06:21 - mtdnn.data_builder_mtdnn - INFO - Building Data For 'MRPC TRAIN' Task\n"
     ]
    },
    {
     "name": "stderr",
     "output_type": "stream",
     "text": [
      "\n",
      "Building Data For Premise and One Hypothesis: 64it [00:00, 996.99it/s]"
     ]
    },
    {
     "name": "stdout",
     "output_type": "stream",
     "text": [
      "11/12/2020 07:06:22 - mtdnn.data_builder_mtdnn - INFO - Saving data to ./canonical_data/bert_base_uncased/mrpc_train.json\n"
     ]
    },
    {
     "name": "stderr",
     "output_type": "stream",
     "text": [
      "\n",
      "Saving Data For PremiseAndOneHypothesis: 100%|██████████| 64/64 [00:00<00:00, 22304.57it/s]"
     ]
    },
    {
     "name": "stdout",
     "output_type": "stream",
     "text": [
      "mrpc_dev\n",
      "11/12/2020 07:06:22 - mtdnn.data_builder_mtdnn - INFO - Building Data For 'MRPC DEV' Task\n"
     ]
    },
    {
     "name": "stderr",
     "output_type": "stream",
     "text": [
      "\n",
      "Building Data For Premise and One Hypothesis: 64it [00:00, 943.60it/s]"
     ]
    },
    {
     "name": "stdout",
     "output_type": "stream",
     "text": [
      "11/12/2020 07:06:22 - mtdnn.data_builder_mtdnn - INFO - Saving data to ./canonical_data/bert_base_uncased/mrpc_dev.json\n"
     ]
    },
    {
     "name": "stderr",
     "output_type": "stream",
     "text": [
      "\n",
      "Saving Data For PremiseAndOneHypothesis: 100%|██████████| 64/64 [00:00<00:00, 21730.39it/s]"
     ]
    },
    {
     "name": "stdout",
     "output_type": "stream",
     "text": [
      "mrpc_test\n",
      "11/12/2020 07:06:22 - mtdnn.data_builder_mtdnn - INFO - Building Data For 'MRPC TEST' Task\n"
     ]
    },
    {
     "name": "stderr",
     "output_type": "stream",
     "text": [
      "\n",
      "Building Data For Premise and One Hypothesis: 64it [00:00, 993.50it/s]"
     ]
    },
    {
     "name": "stdout",
     "output_type": "stream",
     "text": [
      "11/12/2020 07:06:22 - mtdnn.data_builder_mtdnn - INFO - Saving data to ./canonical_data/bert_base_uncased/mrpc_test.json\n"
     ]
    },
    {
     "name": "stderr",
     "output_type": "stream",
     "text": [
      "\n",
      "Saving Data For PremiseAndOneHypothesis: 100%|██████████| 64/64 [00:00<00:00, 13789.96it/s]"
     ]
    },
    {
     "name": "stdout",
     "output_type": "stream",
     "text": [
      "sst_train\n",
      "11/12/2020 07:06:22 - mtdnn.data_builder_mtdnn - INFO - Building Data For 'SST TRAIN' Task\n"
     ]
    },
    {
     "name": "stderr",
     "output_type": "stream",
     "text": [
      "\n",
      "Building Data For Premise Only: 64it [00:00, 3184.70it/s]"
     ]
    },
    {
     "name": "stdout",
     "output_type": "stream",
     "text": [
      "11/12/2020 07:06:22 - mtdnn.data_builder_mtdnn - INFO - Saving data to ./canonical_data/bert_base_uncased/sst_train.json\n"
     ]
    },
    {
     "name": "stderr",
     "output_type": "stream",
     "text": [
      "\n",
      "Saving Data For PremiseOnly: 100%|██████████| 64/64 [00:00<00:00, 32796.02it/s]"
     ]
    },
    {
     "name": "stdout",
     "output_type": "stream",
     "text": [
      "sst_dev\n",
      "11/12/2020 07:06:22 - mtdnn.data_builder_mtdnn - INFO - Building Data For 'SST DEV' Task\n"
     ]
    },
    {
     "name": "stderr",
     "output_type": "stream",
     "text": [
      "\n",
      "Building Data For Premise Only: 64it [00:00, 1922.16it/s]"
     ]
    },
    {
     "name": "stdout",
     "output_type": "stream",
     "text": [
      "11/12/2020 07:06:22 - mtdnn.data_builder_mtdnn - INFO - Saving data to ./canonical_data/bert_base_uncased/sst_dev.json\n"
     ]
    },
    {
     "name": "stderr",
     "output_type": "stream",
     "text": [
      "\n",
      "Saving Data For PremiseOnly: 100%|██████████| 64/64 [00:00<00:00, 20862.32it/s]"
     ]
    },
    {
     "name": "stdout",
     "output_type": "stream",
     "text": [
      "sst_test\n",
      "11/12/2020 07:06:22 - mtdnn.data_builder_mtdnn - INFO - Building Data For 'SST TEST' Task\n"
     ]
    },
    {
     "name": "stderr",
     "output_type": "stream",
     "text": [
      "\n",
      "Building Data For Premise Only: 64it [00:00, 2062.00it/s]"
     ]
    },
    {
     "name": "stdout",
     "output_type": "stream",
     "text": [
      "11/12/2020 07:06:22 - mtdnn.data_builder_mtdnn - INFO - Saving data to ./canonical_data/bert_base_uncased/sst_test.json\n"
     ]
    },
    {
     "name": "stderr",
     "output_type": "stream",
     "text": [
      "\n",
      "Saving Data For PremiseOnly: 100%|██████████| 64/64 [00:00<00:00, 21289.19it/s]"
     ]
    },
    {
     "name": "stdout",
     "output_type": "stream",
     "text": [
      "qqp_train\n",
      "11/12/2020 07:06:22 - mtdnn.data_builder_mtdnn - INFO - Building Data For 'QQP TRAIN' Task\n"
     ]
    },
    {
     "name": "stderr",
     "output_type": "stream",
     "text": [
      "\n",
      "Building Data For Premise and One Hypothesis: 64it [00:00, 1681.92it/s]"
     ]
    },
    {
     "name": "stdout",
     "output_type": "stream",
     "text": [
      "11/12/2020 07:06:22 - mtdnn.data_builder_mtdnn - INFO - Saving data to ./canonical_data/bert_base_uncased/qqp_train.json\n"
     ]
    },
    {
     "name": "stderr",
     "output_type": "stream",
     "text": [
      "\n",
      "Saving Data For PremiseAndOneHypothesis: 100%|██████████| 64/64 [00:00<00:00, 16003.07it/s]"
     ]
    },
    {
     "name": "stdout",
     "output_type": "stream",
     "text": [
      "qqp_dev\n",
      "11/12/2020 07:06:22 - mtdnn.data_builder_mtdnn - INFO - Building Data For 'QQP DEV' Task\n"
     ]
    },
    {
     "name": "stderr",
     "output_type": "stream",
     "text": [
      "\n",
      "Building Data For Premise and One Hypothesis: 64it [00:00, 1753.48it/s]"
     ]
    },
    {
     "name": "stdout",
     "output_type": "stream",
     "text": [
      "11/12/2020 07:06:22 - mtdnn.data_builder_mtdnn - INFO - Saving data to ./canonical_data/bert_base_uncased/qqp_dev.json\n"
     ]
    },
    {
     "name": "stderr",
     "output_type": "stream",
     "text": [
      "\n",
      "Saving Data For PremiseAndOneHypothesis: 100%|██████████| 64/64 [00:00<00:00, 20323.70it/s]"
     ]
    },
    {
     "name": "stdout",
     "output_type": "stream",
     "text": [
      "qqp_test\n",
      "11/12/2020 07:06:22 - mtdnn.data_builder_mtdnn - INFO - Building Data For 'QQP TEST' Task\n"
     ]
    },
    {
     "name": "stderr",
     "output_type": "stream",
     "text": [
      "\n",
      "Building Data For Premise and One Hypothesis: 64it [00:00, 1692.33it/s]"
     ]
    },
    {
     "name": "stdout",
     "output_type": "stream",
     "text": [
      "11/12/2020 07:06:22 - mtdnn.data_builder_mtdnn - INFO - Saving data to ./canonical_data/bert_base_uncased/qqp_test.json\n"
     ]
    },
    {
     "name": "stderr",
     "output_type": "stream",
     "text": [
      "\n",
      "Saving Data For PremiseAndOneHypothesis: 100%|██████████| 64/64 [00:00<00:00, 20460.02it/s]\n"
     ]
    }
   ],
   "source": [
    "## Load and build data\n",
    "data_builder = MTDNNDataBuilder(\n",
    "    tokenizer=tokenizer,\n",
    "    task_defs=task_defs,\n",
    "    data_dir='.', #DATA_SOURCE_DIR,\n",
    "    canonical_data_suffix=\"canonical_data\",\n",
    "    dump_rows=True,\n",
    ")\n",
    "\n",
    "## Build data to MTDNN Format\n",
    "## Iterable of each specific task and processed data\n",
    "vectorized_data = data_builder.vectorize()"
   ]
  },
  {
   "cell_type": "markdown",
   "metadata": {},
   "source": [
    "### Create the Data Processing Object  \n",
    "\n",
    "Create a data preprocessing object, `MTDNNDataProcess`. This creates the training, test and development PyTorch dataloaders needed for training and testing. We also need to retrieve the necessary training options required to initialize the model correctly, for all tasks.  \n",
    "\n",
    "Define a data process that handles creating the training, test and development PyTorch dataloaders"
   ]
  },
  {
   "cell_type": "code",
   "execution_count": 16,
   "metadata": {},
   "outputs": [
    {
     "name": "stdout",
     "output_type": "stream",
     "text": [
      "11/12/2020 07:06:22 - mtdnn.process_mtdnn - INFO - Starting to process the training data sets\n",
      "11/12/2020 07:06:22 - mtdnn.process_mtdnn - INFO - Loading mnli_train as task 0\n",
      "11/12/2020 07:06:22 - mtdnn.dataset_mtdnn - INFO - Loaded 63 samples out of 64\n",
      "11/12/2020 07:06:22 - mtdnn.process_mtdnn - INFO - Loading mrpc_train as task 1\n",
      "11/12/2020 07:06:22 - mtdnn.dataset_mtdnn - INFO - Loaded 64 samples out of 64\n",
      "11/12/2020 07:06:22 - mtdnn.process_mtdnn - INFO - Loading sst_train as task 2\n",
      "11/12/2020 07:06:22 - mtdnn.dataset_mtdnn - INFO - Loaded 64 samples out of 64\n",
      "11/12/2020 07:06:22 - mtdnn.process_mtdnn - INFO - Loading qqp_train as task 3\n",
      "11/12/2020 07:06:22 - mtdnn.dataset_mtdnn - INFO - Loaded 64 samples out of 64\n",
      "11/12/2020 07:06:22 - mtdnn.process_mtdnn - INFO - Starting to process the testing data sets\n",
      "11/12/2020 07:06:22 - mtdnn.process_mtdnn - INFO - Loading mnli_dev_matched as task 0\n",
      "11/12/2020 07:06:22 - mtdnn.dataset_mtdnn - INFO - Loaded 64 samples out of 64\n",
      "11/12/2020 07:06:22 - mtdnn.process_mtdnn - INFO - Loading mnli_dev_mismatched as task 0\n",
      "11/12/2020 07:06:22 - mtdnn.dataset_mtdnn - INFO - Loaded 64 samples out of 64\n",
      "11/12/2020 07:06:22 - mtdnn.process_mtdnn - INFO - Loading mnli_test_matched as task 0\n",
      "11/12/2020 07:06:22 - mtdnn.dataset_mtdnn - INFO - Loaded 64 samples out of 64\n",
      "11/12/2020 07:06:22 - mtdnn.process_mtdnn - INFO - Loading mnli_test_mismatched as task 0\n",
      "11/12/2020 07:06:22 - mtdnn.dataset_mtdnn - INFO - Loaded 64 samples out of 64\n",
      "11/12/2020 07:06:22 - mtdnn.process_mtdnn - INFO - Loading mrpc_dev as task 1\n",
      "11/12/2020 07:06:22 - mtdnn.dataset_mtdnn - INFO - Loaded 64 samples out of 64\n",
      "11/12/2020 07:06:22 - mtdnn.process_mtdnn - INFO - Loading mrpc_test as task 1\n",
      "11/12/2020 07:06:22 - mtdnn.dataset_mtdnn - INFO - Loaded 64 samples out of 64\n",
      "11/12/2020 07:06:22 - mtdnn.process_mtdnn - INFO - Loading sst_dev as task 2\n",
      "11/12/2020 07:06:22 - mtdnn.dataset_mtdnn - INFO - Loaded 64 samples out of 64\n",
      "11/12/2020 07:06:22 - mtdnn.process_mtdnn - INFO - Loading sst_test as task 2\n",
      "11/12/2020 07:06:22 - mtdnn.dataset_mtdnn - INFO - Loaded 64 samples out of 64\n",
      "11/12/2020 07:06:22 - mtdnn.process_mtdnn - INFO - Loading qqp_dev as task 3\n",
      "11/12/2020 07:06:22 - mtdnn.dataset_mtdnn - INFO - Loaded 64 samples out of 64\n",
      "11/12/2020 07:06:22 - mtdnn.process_mtdnn - INFO - Loading qqp_test as task 3\n",
      "11/12/2020 07:06:22 - mtdnn.dataset_mtdnn - INFO - Loaded 64 samples out of 64\n"
     ]
    }
   ],
   "source": [
    "# Make the Data Preprocess step and update the config with training data updates\n",
    "data_processor = MTDNNDataProcess(\n",
    "    config=config, task_defs=task_defs, vectorized_data=vectorized_data\n",
    ")"
   ]
  },
  {
   "cell_type": "markdown",
   "metadata": {},
   "source": [
    "### Instantiate the MTDNN Model\n",
    "\n",
    "Now we can go ahead and create an `MTDNNModel` model"
   ]
  },
  {
   "cell_type": "code",
   "execution_count": 17,
   "metadata": {
    "scrolled": false
   },
   "outputs": [
    {
     "name": "stderr",
     "output_type": "stream",
     "text": [
      "\u001b[34m\u001b[1mwandb\u001b[0m: Currently logged in as: \u001b[33mfeifang24\u001b[0m (use `wandb login --relogin` to force relogin)\n",
      "\u001b[34m\u001b[1mwandb\u001b[0m: wandb version 0.10.10 is available!  To upgrade, please run:\n",
      "\u001b[34m\u001b[1mwandb\u001b[0m:  $ pip install wandb --upgrade\n"
     ]
    },
    {
     "data": {
      "text/html": [
       "\n",
       "                Tracking run with wandb version 0.10.8<br/>\n",
       "                Syncing run <strong style=\"color:#cdcd00\">visionary-eon-27</strong> to <a href=\"https://wandb.ai\" target=\"_blank\">Weights & Biases</a> <a href=\"https://docs.wandb.com/integrations/jupyter.html\" target=\"_blank\">(Documentation)</a>.<br/>\n",
       "                Project page: <a href=\"https://wandb.ai/feifang24/mtl-uncertainty\" target=\"_blank\">https://wandb.ai/feifang24/mtl-uncertainty</a><br/>\n",
       "                Run page: <a href=\"https://wandb.ai/feifang24/mtl-uncertainty/runs/2aensuvk\" target=\"_blank\">https://wandb.ai/feifang24/mtl-uncertainty/runs/2aensuvk</a><br/>\n",
       "                Run data is saved locally in <code>wandb/run-20201112_070622-2aensuvk</code><br/><br/>\n",
       "            "
      ],
      "text/plain": [
       "<IPython.core.display.HTML object>"
      ]
     },
     "metadata": {},
     "output_type": "display_data"
    },
    {
     "name": "stdout",
     "output_type": "stream",
     "text": [
      "idx: 0, number of task labels: 3\n",
      "idx: 1, number of task labels: 2\n",
      "idx: 2, number of task labels: 2\n",
      "idx: 3, number of task labels: 2\n"
     ]
    }
   ],
   "source": [
    "model = MTDNNModel(\n",
    "    config,\n",
    "    task_defs,\n",
    "    data_processor=data_processor,\n",
    "    pretrained_model_name=\"bert-base-uncased\",\n",
    "    output_dir=OUTPUT_DIR,\n",
    ")"
   ]
  },
  {
   "cell_type": "code",
   "execution_count": 18,
   "metadata": {
    "scrolled": true
   },
   "outputs": [
    {
     "name": "stdout",
     "output_type": "stream",
     "text": [
      "0 mnli_matched\n",
      "1 mnli_mismatched\n",
      "2 mrpc\n",
      "3 sst\n",
      "4 qqp\n"
     ]
    }
   ],
   "source": [
    "for idx, dataset in enumerate(model.test_datasets_list):\n",
    "    print(idx, dataset)"
   ]
  },
  {
   "cell_type": "code",
   "execution_count": 19,
   "metadata": {},
   "outputs": [
    {
     "name": "stdout",
     "output_type": "stream",
     "text": [
      "0 mnli\n",
      "1 mrpc\n",
      "2 sst\n",
      "3 qqp\n"
     ]
    }
   ],
   "source": [
    "for idx, task in enumerate(model.tasks):\n",
    "    print(idx, task)"
   ]
  },
  {
   "cell_type": "markdown",
   "metadata": {},
   "source": [
    "## Model Finetuning, Prediction and Evaluation\n",
    "\n",
    "### Fit and finetune model on five epochs and predict using the training and test  \n",
    "\n",
    "At this point the MT-DNN model allows us to fit to the model and create predictions. The fit takes an optional `epochs` parameter that overwrites the epochs set in the `MTDNNConfig` object. "
   ]
  },
  {
   "cell_type": "code",
   "execution_count": 20,
   "metadata": {
    "scrolled": true
   },
   "outputs": [
    {
     "name": "stdout",
     "output_type": "stream",
     "text": [
      "11/12/2020 07:06:32 - mtdnn.modeling_mtdnn - INFO - Total number of params: 109489161\n",
      "11/12/2020 07:06:32 - mtdnn.modeling_mtdnn - INFO - At epoch 1\n",
      "11/12/2020 07:06:32 - mtdnn.modeling_mtdnn - INFO - Amount of data to go over: 16\n",
      "11/12/2020 07:06:32 - mtdnn.modeling_mtdnn - INFO - Updates - [     1] Training Loss - [0.75243] Time Remaining - [0:00:04]\n",
      "11/12/2020 07:06:32 - mtdnn.modeling_mtdnn - INFO - Evaluating on dev ds 0: MNLI_MATCHED\n",
      "11/12/2020 07:06:32 - mtdnn.modeling_mtdnn - INFO - predicting 0\n"
     ]
    },
    {
     "name": "stderr",
     "output_type": "stream",
     "text": [
      "/home/feifang/mtl-epistemic-uncertainty/microsoft-mt-dnn/mtdnn/common/bert_optim.py:144: UserWarning: This overload of add_ is deprecated:\n",
      "\tadd_(Number alpha, Tensor other)\n",
      "Consider using one of the following signatures instead:\n",
      "\tadd_(Tensor other, *, Number alpha) (Triggered internally at  /pytorch/torch/csrc/utils/python_arg_parser.cpp:766.)\n",
      "  exp_avg.mul_(beta1).add_(1 - beta1, grad)\n"
     ]
    },
    {
     "name": "stdout",
     "output_type": "stream",
     "text": [
      "11/12/2020 07:06:33 - mtdnn.modeling_mtdnn - INFO - Task mnli_matched -- Dev loss: 1.283\n",
      "11/12/2020 07:06:33 - mtdnn.modeling_mtdnn - INFO - Task mnli_matched -- Dev ACC: 25.000\n",
      "11/12/2020 07:06:33 - mtdnn.modeling_mtdnn - INFO - Evaluating on dev ds 1: MNLI_MISMATCHED\n",
      "11/12/2020 07:06:33 - mtdnn.modeling_mtdnn - INFO - predicting 0\n",
      "11/12/2020 07:06:33 - mtdnn.modeling_mtdnn - INFO - Task mnli_mismatched -- Dev loss: 1.165\n",
      "11/12/2020 07:06:33 - mtdnn.modeling_mtdnn - INFO - Task mnli_mismatched -- Dev ACC: 35.938\n",
      "11/12/2020 07:06:33 - mtdnn.modeling_mtdnn - INFO - Evaluating on dev ds 2: MRPC\n",
      "11/12/2020 07:06:33 - mtdnn.modeling_mtdnn - INFO - predicting 0\n",
      "11/12/2020 07:06:33 - mtdnn.modeling_mtdnn - INFO - Task mrpc -- Dev loss: 0.634\n",
      "11/12/2020 07:06:33 - mtdnn.modeling_mtdnn - INFO - Task mrpc -- Dev ACC: 67.188\n",
      "11/12/2020 07:06:33 - mtdnn.modeling_mtdnn - INFO - Task mrpc -- Dev F1: 80.374\n",
      "11/12/2020 07:06:33 - mtdnn.modeling_mtdnn - INFO - Evaluating on dev ds 3: SST\n",
      "11/12/2020 07:06:33 - mtdnn.modeling_mtdnn - INFO - predicting 0\n",
      "11/12/2020 07:06:33 - mtdnn.modeling_mtdnn - INFO - Task sst -- Dev loss: 0.764\n",
      "11/12/2020 07:06:33 - mtdnn.modeling_mtdnn - INFO - Task sst -- Dev ACC: 39.062\n",
      "11/12/2020 07:06:33 - mtdnn.modeling_mtdnn - INFO - Evaluating on dev ds 4: QQP\n",
      "11/12/2020 07:06:33 - mtdnn.modeling_mtdnn - INFO - predicting 0\n",
      "11/12/2020 07:06:34 - mtdnn.modeling_mtdnn - INFO - Task qqp -- Dev loss: 0.685\n",
      "11/12/2020 07:06:34 - mtdnn.modeling_mtdnn - INFO - Task qqp -- Dev ACC: 59.375\n",
      "11/12/2020 07:06:34 - mtdnn.modeling_mtdnn - INFO - Task qqp -- Dev F1: 0.000\n",
      "11/12/2020 07:06:34 - mtdnn.modeling_mtdnn - INFO - Dev loss: 0.906204628944397\n",
      "11/12/2020 07:06:34 - mtdnn.modeling_mtdnn - INFO - Updates - [     4] Training Loss - [0.71237] Time Remaining - [0:00:06]\n",
      "11/12/2020 07:06:34 - mtdnn.modeling_mtdnn - INFO - Evaluating on dev ds 0: MNLI_MATCHED\n",
      "11/12/2020 07:06:34 - mtdnn.modeling_mtdnn - INFO - predicting 0\n",
      "11/12/2020 07:06:35 - mtdnn.modeling_mtdnn - INFO - Task mnli_matched -- Dev loss: 1.283\n",
      "11/12/2020 07:06:35 - mtdnn.modeling_mtdnn - INFO - Task mnli_matched -- Dev ACC: 25.000\n",
      "11/12/2020 07:06:35 - mtdnn.modeling_mtdnn - INFO - Evaluating on dev ds 1: MNLI_MISMATCHED\n",
      "11/12/2020 07:06:35 - mtdnn.modeling_mtdnn - INFO - predicting 0\n",
      "11/12/2020 07:06:35 - mtdnn.modeling_mtdnn - INFO - Task mnli_mismatched -- Dev loss: 1.165\n",
      "11/12/2020 07:06:35 - mtdnn.modeling_mtdnn - INFO - Task mnli_mismatched -- Dev ACC: 35.938\n",
      "11/12/2020 07:06:35 - mtdnn.modeling_mtdnn - INFO - Evaluating on dev ds 2: MRPC\n",
      "11/12/2020 07:06:35 - mtdnn.modeling_mtdnn - INFO - predicting 0\n",
      "11/12/2020 07:06:35 - mtdnn.modeling_mtdnn - INFO - Task mrpc -- Dev loss: 0.633\n",
      "11/12/2020 07:06:35 - mtdnn.modeling_mtdnn - INFO - Task mrpc -- Dev ACC: 67.188\n",
      "11/12/2020 07:06:35 - mtdnn.modeling_mtdnn - INFO - Task mrpc -- Dev F1: 80.374\n",
      "11/12/2020 07:06:35 - mtdnn.modeling_mtdnn - INFO - Evaluating on dev ds 3: SST\n",
      "11/12/2020 07:06:35 - mtdnn.modeling_mtdnn - INFO - predicting 0\n",
      "11/12/2020 07:06:35 - mtdnn.modeling_mtdnn - INFO - Task sst -- Dev loss: 0.759\n",
      "11/12/2020 07:06:35 - mtdnn.modeling_mtdnn - INFO - Task sst -- Dev ACC: 39.062\n",
      "11/12/2020 07:06:35 - mtdnn.modeling_mtdnn - INFO - Evaluating on dev ds 4: QQP\n",
      "11/12/2020 07:06:35 - mtdnn.modeling_mtdnn - INFO - predicting 0\n",
      "11/12/2020 07:06:36 - mtdnn.modeling_mtdnn - INFO - Task qqp -- Dev loss: 0.685\n",
      "11/12/2020 07:06:36 - mtdnn.modeling_mtdnn - INFO - Task qqp -- Dev ACC: 59.375\n",
      "11/12/2020 07:06:36 - mtdnn.modeling_mtdnn - INFO - Task qqp -- Dev F1: 0.000\n",
      "11/12/2020 07:06:36 - mtdnn.modeling_mtdnn - INFO - Dev loss: 0.9049817100167274\n",
      "11/12/2020 07:06:37 - mtdnn.modeling_mtdnn - INFO - Updates - [     8] Training Loss - [0.78144] Time Remaining - [0:00:04]\n",
      "11/12/2020 07:06:37 - mtdnn.modeling_mtdnn - INFO - Evaluating on dev ds 0: MNLI_MATCHED\n",
      "11/12/2020 07:06:37 - mtdnn.modeling_mtdnn - INFO - predicting 0\n",
      "11/12/2020 07:06:37 - mtdnn.modeling_mtdnn - INFO - Task mnli_matched -- Dev loss: 1.281\n",
      "11/12/2020 07:06:37 - mtdnn.modeling_mtdnn - INFO - Task mnli_matched -- Dev ACC: 26.562\n",
      "11/12/2020 07:06:37 - mtdnn.modeling_mtdnn - INFO - Evaluating on dev ds 1: MNLI_MISMATCHED\n",
      "11/12/2020 07:06:37 - mtdnn.modeling_mtdnn - INFO - predicting 0\n",
      "11/12/2020 07:06:37 - mtdnn.modeling_mtdnn - INFO - Task mnli_mismatched -- Dev loss: 1.165\n",
      "11/12/2020 07:06:37 - mtdnn.modeling_mtdnn - INFO - Task mnli_mismatched -- Dev ACC: 35.938\n",
      "11/12/2020 07:06:37 - mtdnn.modeling_mtdnn - INFO - Evaluating on dev ds 2: MRPC\n",
      "11/12/2020 07:06:37 - mtdnn.modeling_mtdnn - INFO - predicting 0\n",
      "11/12/2020 07:06:38 - mtdnn.modeling_mtdnn - INFO - Task mrpc -- Dev loss: 0.632\n",
      "11/12/2020 07:06:38 - mtdnn.modeling_mtdnn - INFO - Task mrpc -- Dev ACC: 67.188\n",
      "11/12/2020 07:06:38 - mtdnn.modeling_mtdnn - INFO - Task mrpc -- Dev F1: 80.374\n",
      "11/12/2020 07:06:38 - mtdnn.modeling_mtdnn - INFO - Evaluating on dev ds 3: SST\n",
      "11/12/2020 07:06:38 - mtdnn.modeling_mtdnn - INFO - predicting 0\n",
      "11/12/2020 07:06:38 - mtdnn.modeling_mtdnn - INFO - Task sst -- Dev loss: 0.738\n",
      "11/12/2020 07:06:38 - mtdnn.modeling_mtdnn - INFO - Task sst -- Dev ACC: 39.062\n",
      "11/12/2020 07:06:38 - mtdnn.modeling_mtdnn - INFO - Evaluating on dev ds 4: QQP\n",
      "11/12/2020 07:06:38 - mtdnn.modeling_mtdnn - INFO - predicting 0\n",
      "11/12/2020 07:06:38 - mtdnn.modeling_mtdnn - INFO - Task qqp -- Dev loss: 0.683\n",
      "11/12/2020 07:06:38 - mtdnn.modeling_mtdnn - INFO - Task qqp -- Dev ACC: 59.375\n",
      "11/12/2020 07:06:38 - mtdnn.modeling_mtdnn - INFO - Task qqp -- Dev F1: 0.000\n",
      "11/12/2020 07:06:38 - mtdnn.modeling_mtdnn - INFO - Dev loss: 0.8998111113905907\n",
      "11/12/2020 07:06:39 - mtdnn.modeling_mtdnn - INFO - Updates - [    12] Training Loss - [0.88875] Time Remaining - [0:00:02]\n",
      "11/12/2020 07:06:39 - mtdnn.modeling_mtdnn - INFO - Evaluating on dev ds 0: MNLI_MATCHED\n",
      "11/12/2020 07:06:39 - mtdnn.modeling_mtdnn - INFO - predicting 0\n",
      "11/12/2020 07:06:39 - mtdnn.modeling_mtdnn - INFO - Task mnli_matched -- Dev loss: 1.272\n",
      "11/12/2020 07:06:39 - mtdnn.modeling_mtdnn - INFO - Task mnli_matched -- Dev ACC: 26.562\n",
      "11/12/2020 07:06:39 - mtdnn.modeling_mtdnn - INFO - Evaluating on dev ds 1: MNLI_MISMATCHED\n",
      "11/12/2020 07:06:39 - mtdnn.modeling_mtdnn - INFO - predicting 0\n",
      "11/12/2020 07:06:40 - mtdnn.modeling_mtdnn - INFO - Task mnli_mismatched -- Dev loss: 1.159\n",
      "11/12/2020 07:06:40 - mtdnn.modeling_mtdnn - INFO - Task mnli_mismatched -- Dev ACC: 35.938\n",
      "11/12/2020 07:06:40 - mtdnn.modeling_mtdnn - INFO - Evaluating on dev ds 2: MRPC\n",
      "11/12/2020 07:06:40 - mtdnn.modeling_mtdnn - INFO - predicting 0\n",
      "11/12/2020 07:06:40 - mtdnn.modeling_mtdnn - INFO - Task mrpc -- Dev loss: 0.630\n",
      "11/12/2020 07:06:40 - mtdnn.modeling_mtdnn - INFO - Task mrpc -- Dev ACC: 67.188\n",
      "11/12/2020 07:06:40 - mtdnn.modeling_mtdnn - INFO - Task mrpc -- Dev F1: 80.374\n",
      "11/12/2020 07:06:40 - mtdnn.modeling_mtdnn - INFO - Evaluating on dev ds 3: SST\n",
      "11/12/2020 07:06:40 - mtdnn.modeling_mtdnn - INFO - predicting 0\n",
      "11/12/2020 07:06:40 - mtdnn.modeling_mtdnn - INFO - Task sst -- Dev loss: 0.721\n",
      "11/12/2020 07:06:40 - mtdnn.modeling_mtdnn - INFO - Task sst -- Dev ACC: 34.375\n",
      "11/12/2020 07:06:40 - mtdnn.modeling_mtdnn - INFO - Evaluating on dev ds 4: QQP\n",
      "11/12/2020 07:06:40 - mtdnn.modeling_mtdnn - INFO - predicting 0\n",
      "11/12/2020 07:06:40 - mtdnn.modeling_mtdnn - INFO - Task qqp -- Dev loss: 0.681\n",
      "11/12/2020 07:06:40 - mtdnn.modeling_mtdnn - INFO - Task qqp -- Dev ACC: 59.375\n",
      "11/12/2020 07:06:40 - mtdnn.modeling_mtdnn - INFO - Task qqp -- Dev F1: 0.000\n",
      "11/12/2020 07:06:40 - mtdnn.modeling_mtdnn - INFO - Dev loss: 0.8925191551446915\n",
      "11/12/2020 07:06:41 - mtdnn.modeling_mtdnn - INFO - Updates - [    16] Training Loss - [0.84320] Time Remaining - [0:00:00]\n",
      "11/12/2020 07:06:41 - mtdnn.modeling_mtdnn - INFO - Evaluating on dev ds 0: MNLI_MATCHED\n",
      "11/12/2020 07:06:41 - mtdnn.modeling_mtdnn - INFO - predicting 0\n",
      "11/12/2020 07:06:42 - mtdnn.modeling_mtdnn - INFO - Task mnli_matched -- Dev loss: 1.258\n",
      "11/12/2020 07:06:42 - mtdnn.modeling_mtdnn - INFO - Task mnli_matched -- Dev ACC: 26.562\n",
      "11/12/2020 07:06:42 - mtdnn.modeling_mtdnn - INFO - Evaluating on dev ds 1: MNLI_MISMATCHED\n",
      "11/12/2020 07:06:42 - mtdnn.modeling_mtdnn - INFO - predicting 0\n",
      "11/12/2020 07:06:42 - mtdnn.modeling_mtdnn - INFO - Task mnli_mismatched -- Dev loss: 1.151\n"
     ]
    },
    {
     "name": "stdout",
     "output_type": "stream",
     "text": [
      "11/12/2020 07:06:42 - mtdnn.modeling_mtdnn - INFO - Task mnli_mismatched -- Dev ACC: 35.938\n",
      "11/12/2020 07:06:42 - mtdnn.modeling_mtdnn - INFO - Evaluating on dev ds 2: MRPC\n",
      "11/12/2020 07:06:42 - mtdnn.modeling_mtdnn - INFO - predicting 0\n",
      "11/12/2020 07:06:42 - mtdnn.modeling_mtdnn - INFO - Task mrpc -- Dev loss: 0.629\n",
      "11/12/2020 07:06:42 - mtdnn.modeling_mtdnn - INFO - Task mrpc -- Dev ACC: 67.188\n",
      "11/12/2020 07:06:42 - mtdnn.modeling_mtdnn - INFO - Task mrpc -- Dev F1: 80.374\n",
      "11/12/2020 07:06:42 - mtdnn.modeling_mtdnn - INFO - Evaluating on dev ds 3: SST\n",
      "11/12/2020 07:06:42 - mtdnn.modeling_mtdnn - INFO - predicting 0\n",
      "11/12/2020 07:06:42 - mtdnn.modeling_mtdnn - INFO - Task sst -- Dev loss: 0.706\n",
      "11/12/2020 07:06:42 - mtdnn.modeling_mtdnn - INFO - Task sst -- Dev ACC: 39.062\n",
      "11/12/2020 07:06:42 - mtdnn.modeling_mtdnn - INFO - Evaluating on dev ds 4: QQP\n",
      "11/12/2020 07:06:42 - mtdnn.modeling_mtdnn - INFO - predicting 0\n",
      "11/12/2020 07:06:43 - mtdnn.modeling_mtdnn - INFO - Task qqp -- Dev loss: 0.679\n",
      "11/12/2020 07:06:43 - mtdnn.modeling_mtdnn - INFO - Task qqp -- Dev ACC: 59.375\n",
      "11/12/2020 07:06:43 - mtdnn.modeling_mtdnn - INFO - Task qqp -- Dev F1: 0.000\n",
      "11/12/2020 07:06:43 - mtdnn.modeling_mtdnn - INFO - Dev loss: 0.8844369113445282\n",
      "11/12/2020 07:06:43 - mtdnn.modeling_mtdnn - INFO - ===== End of EPOCH 1 =====\n",
      "11/12/2020 07:06:43 - mtdnn.modeling_mtdnn - INFO - Train loss (epoch avg): 0.8432038956997441\n",
      "11/12/2020 07:06:43 - mtdnn.modeling_mtdnn - INFO - Evaluating on dev ds 0: MNLI_MATCHED\n",
      "11/12/2020 07:06:43 - mtdnn.modeling_mtdnn - INFO - predicting 0\n",
      "11/12/2020 07:06:43 - mtdnn.modeling_mtdnn - INFO - Task mnli_matched -- Dev loss: 1.258\n",
      "11/12/2020 07:06:43 - mtdnn.modeling_mtdnn - INFO - Task mnli_matched -- Dev ACC: 26.562\n",
      "11/12/2020 07:06:43 - mtdnn.modeling_mtdnn - INFO - Evaluating on dev ds 1: MNLI_MISMATCHED\n",
      "11/12/2020 07:06:43 - mtdnn.modeling_mtdnn - INFO - predicting 0\n",
      "11/12/2020 07:06:44 - mtdnn.modeling_mtdnn - INFO - Task mnli_mismatched -- Dev loss: 1.151\n",
      "11/12/2020 07:06:44 - mtdnn.modeling_mtdnn - INFO - Task mnli_mismatched -- Dev ACC: 35.938\n",
      "11/12/2020 07:06:44 - mtdnn.modeling_mtdnn - INFO - Evaluating on dev ds 2: MRPC\n",
      "11/12/2020 07:06:44 - mtdnn.modeling_mtdnn - INFO - predicting 0\n",
      "11/12/2020 07:06:44 - mtdnn.modeling_mtdnn - INFO - Task mrpc -- Dev loss: 0.629\n",
      "11/12/2020 07:06:44 - mtdnn.modeling_mtdnn - INFO - Task mrpc -- Dev ACC: 67.188\n",
      "11/12/2020 07:06:44 - mtdnn.modeling_mtdnn - INFO - Task mrpc -- Dev F1: 80.374\n",
      "11/12/2020 07:06:44 - mtdnn.modeling_mtdnn - INFO - Evaluating on dev ds 3: SST\n",
      "11/12/2020 07:06:44 - mtdnn.modeling_mtdnn - INFO - predicting 0\n",
      "11/12/2020 07:06:45 - mtdnn.modeling_mtdnn - INFO - Task sst -- Dev loss: 0.706\n",
      "11/12/2020 07:06:45 - mtdnn.modeling_mtdnn - INFO - Task sst -- Dev ACC: 39.062\n",
      "11/12/2020 07:06:45 - mtdnn.modeling_mtdnn - INFO - Evaluating on dev ds 4: QQP\n",
      "11/12/2020 07:06:45 - mtdnn.modeling_mtdnn - INFO - predicting 0\n",
      "11/12/2020 07:06:45 - mtdnn.modeling_mtdnn - INFO - Task qqp -- Dev loss: 0.679\n",
      "11/12/2020 07:06:45 - mtdnn.modeling_mtdnn - INFO - Task qqp -- Dev ACC: 59.375\n",
      "11/12/2020 07:06:45 - mtdnn.modeling_mtdnn - INFO - Task qqp -- Dev F1: 0.000\n",
      "11/12/2020 07:06:45 - mtdnn.modeling_mtdnn - INFO - Dev loss: 0.8844369113445282\n",
      "11/12/2020 07:06:45 - mtdnn.modeling_mtdnn - INFO - Saving mt-dnn model to gs://cs330/checkpoint/11120706/model_1.pt\n",
      "11/12/2020 07:07:00 - mtdnn.modeling_mtdnn - INFO - model saved to gs://cs330/checkpoint/11120706/model_1.pt\n",
      "11/12/2020 07:07:00 - mtdnn.modeling_mtdnn - INFO - At epoch 2\n",
      "11/12/2020 07:07:00 - mtdnn.modeling_mtdnn - INFO - Amount of data to go over: 16\n",
      "11/12/2020 07:07:01 - mtdnn.modeling_mtdnn - INFO - Updates - [    20] Training Loss - [0.84131] Time Remaining - [0:00:03]\n",
      "11/12/2020 07:07:01 - mtdnn.modeling_mtdnn - INFO - Evaluating on dev ds 0: MNLI_MATCHED\n",
      "11/12/2020 07:07:01 - mtdnn.modeling_mtdnn - INFO - predicting 0\n",
      "11/12/2020 07:07:01 - mtdnn.modeling_mtdnn - INFO - Task mnli_matched -- Dev loss: 1.244\n",
      "11/12/2020 07:07:01 - mtdnn.modeling_mtdnn - INFO - Task mnli_matched -- Dev ACC: 26.562\n",
      "11/12/2020 07:07:01 - mtdnn.modeling_mtdnn - INFO - Evaluating on dev ds 1: MNLI_MISMATCHED\n",
      "11/12/2020 07:07:01 - mtdnn.modeling_mtdnn - INFO - predicting 0\n",
      "11/12/2020 07:07:01 - mtdnn.modeling_mtdnn - INFO - Task mnli_mismatched -- Dev loss: 1.143\n",
      "11/12/2020 07:07:01 - mtdnn.modeling_mtdnn - INFO - Task mnli_mismatched -- Dev ACC: 35.938\n",
      "11/12/2020 07:07:01 - mtdnn.modeling_mtdnn - INFO - Evaluating on dev ds 2: MRPC\n",
      "11/12/2020 07:07:01 - mtdnn.modeling_mtdnn - INFO - predicting 0\n",
      "11/12/2020 07:07:02 - mtdnn.modeling_mtdnn - INFO - Task mrpc -- Dev loss: 0.629\n",
      "11/12/2020 07:07:02 - mtdnn.modeling_mtdnn - INFO - Task mrpc -- Dev ACC: 67.188\n",
      "11/12/2020 07:07:02 - mtdnn.modeling_mtdnn - INFO - Task mrpc -- Dev F1: 80.374\n",
      "11/12/2020 07:07:02 - mtdnn.modeling_mtdnn - INFO - Evaluating on dev ds 3: SST\n",
      "11/12/2020 07:07:02 - mtdnn.modeling_mtdnn - INFO - predicting 0\n",
      "11/12/2020 07:07:02 - mtdnn.modeling_mtdnn - INFO - Task sst -- Dev loss: 0.694\n",
      "11/12/2020 07:07:02 - mtdnn.modeling_mtdnn - INFO - Task sst -- Dev ACC: 60.938\n",
      "11/12/2020 07:07:02 - mtdnn.modeling_mtdnn - INFO - Evaluating on dev ds 4: QQP\n",
      "11/12/2020 07:07:02 - mtdnn.modeling_mtdnn - INFO - predicting 0\n",
      "11/12/2020 07:07:02 - mtdnn.modeling_mtdnn - INFO - Task qqp -- Dev loss: 0.678\n",
      "11/12/2020 07:07:02 - mtdnn.modeling_mtdnn - INFO - Task qqp -- Dev ACC: 59.375\n",
      "11/12/2020 07:07:02 - mtdnn.modeling_mtdnn - INFO - Task qqp -- Dev F1: 0.000\n",
      "11/12/2020 07:07:02 - mtdnn.modeling_mtdnn - INFO - Dev loss: 0.8774011492729187\n",
      "11/12/2020 07:07:03 - mtdnn.modeling_mtdnn - INFO - Updates - [    24] Training Loss - [0.81085] Time Remaining - [0:00:03]\n",
      "11/12/2020 07:07:03 - mtdnn.modeling_mtdnn - INFO - Evaluating on dev ds 0: MNLI_MATCHED\n",
      "11/12/2020 07:07:03 - mtdnn.modeling_mtdnn - INFO - predicting 0\n",
      "11/12/2020 07:07:03 - mtdnn.modeling_mtdnn - INFO - Task mnli_matched -- Dev loss: 1.233\n",
      "11/12/2020 07:07:03 - mtdnn.modeling_mtdnn - INFO - Task mnli_matched -- Dev ACC: 26.562\n",
      "11/12/2020 07:07:03 - mtdnn.modeling_mtdnn - INFO - Evaluating on dev ds 1: MNLI_MISMATCHED\n",
      "11/12/2020 07:07:03 - mtdnn.modeling_mtdnn - INFO - predicting 0\n",
      "11/12/2020 07:07:04 - mtdnn.modeling_mtdnn - INFO - Task mnli_mismatched -- Dev loss: 1.137\n",
      "11/12/2020 07:07:04 - mtdnn.modeling_mtdnn - INFO - Task mnli_mismatched -- Dev ACC: 35.938\n",
      "11/12/2020 07:07:04 - mtdnn.modeling_mtdnn - INFO - Evaluating on dev ds 2: MRPC\n",
      "11/12/2020 07:07:04 - mtdnn.modeling_mtdnn - INFO - predicting 0\n",
      "11/12/2020 07:07:04 - mtdnn.modeling_mtdnn - INFO - Task mrpc -- Dev loss: 0.628\n",
      "11/12/2020 07:07:04 - mtdnn.modeling_mtdnn - INFO - Task mrpc -- Dev ACC: 67.188\n",
      "11/12/2020 07:07:04 - mtdnn.modeling_mtdnn - INFO - Task mrpc -- Dev F1: 80.374\n",
      "11/12/2020 07:07:04 - mtdnn.modeling_mtdnn - INFO - Evaluating on dev ds 3: SST\n",
      "11/12/2020 07:07:04 - mtdnn.modeling_mtdnn - INFO - predicting 0\n",
      "11/12/2020 07:07:04 - mtdnn.modeling_mtdnn - INFO - Task sst -- Dev loss: 0.682\n",
      "11/12/2020 07:07:04 - mtdnn.modeling_mtdnn - INFO - Task sst -- Dev ACC: 60.938\n",
      "11/12/2020 07:07:04 - mtdnn.modeling_mtdnn - INFO - Evaluating on dev ds 4: QQP\n",
      "11/12/2020 07:07:04 - mtdnn.modeling_mtdnn - INFO - predicting 0\n",
      "11/12/2020 07:07:04 - mtdnn.modeling_mtdnn - INFO - Task qqp -- Dev loss: 0.678\n",
      "11/12/2020 07:07:04 - mtdnn.modeling_mtdnn - INFO - Task qqp -- Dev ACC: 59.375\n",
      "11/12/2020 07:07:04 - mtdnn.modeling_mtdnn - INFO - Task qqp -- Dev F1: 0.000\n",
      "11/12/2020 07:07:04 - mtdnn.modeling_mtdnn - INFO - Dev loss: 0.8717035308480263\n",
      "11/12/2020 07:07:05 - mtdnn.modeling_mtdnn - INFO - Updates - [    28] Training Loss - [0.80247] Time Remaining - [0:00:01]\n",
      "11/12/2020 07:07:05 - mtdnn.modeling_mtdnn - INFO - Evaluating on dev ds 0: MNLI_MATCHED\n",
      "11/12/2020 07:07:05 - mtdnn.modeling_mtdnn - INFO - predicting 0\n",
      "11/12/2020 07:07:06 - mtdnn.modeling_mtdnn - INFO - Task mnli_matched -- Dev loss: 1.227\n",
      "11/12/2020 07:07:06 - mtdnn.modeling_mtdnn - INFO - Task mnli_matched -- Dev ACC: 26.562\n",
      "11/12/2020 07:07:06 - mtdnn.modeling_mtdnn - INFO - Evaluating on dev ds 1: MNLI_MISMATCHED\n",
      "11/12/2020 07:07:06 - mtdnn.modeling_mtdnn - INFO - predicting 0\n",
      "11/12/2020 07:07:06 - mtdnn.modeling_mtdnn - INFO - Task mnli_mismatched -- Dev loss: 1.134\n"
     ]
    },
    {
     "name": "stdout",
     "output_type": "stream",
     "text": [
      "11/12/2020 07:07:06 - mtdnn.modeling_mtdnn - INFO - Task mnli_mismatched -- Dev ACC: 35.938\n",
      "11/12/2020 07:07:06 - mtdnn.modeling_mtdnn - INFO - Evaluating on dev ds 2: MRPC\n",
      "11/12/2020 07:07:06 - mtdnn.modeling_mtdnn - INFO - predicting 0\n",
      "11/12/2020 07:07:06 - mtdnn.modeling_mtdnn - INFO - Task mrpc -- Dev loss: 0.628\n",
      "11/12/2020 07:07:06 - mtdnn.modeling_mtdnn - INFO - Task mrpc -- Dev ACC: 67.188\n",
      "11/12/2020 07:07:06 - mtdnn.modeling_mtdnn - INFO - Task mrpc -- Dev F1: 80.374\n",
      "11/12/2020 07:07:06 - mtdnn.modeling_mtdnn - INFO - Evaluating on dev ds 3: SST\n",
      "11/12/2020 07:07:06 - mtdnn.modeling_mtdnn - INFO - predicting 0\n",
      "11/12/2020 07:07:06 - mtdnn.modeling_mtdnn - INFO - Task sst -- Dev loss: 0.676\n",
      "11/12/2020 07:07:06 - mtdnn.modeling_mtdnn - INFO - Task sst -- Dev ACC: 60.938\n",
      "11/12/2020 07:07:06 - mtdnn.modeling_mtdnn - INFO - Evaluating on dev ds 4: QQP\n",
      "11/12/2020 07:07:06 - mtdnn.modeling_mtdnn - INFO - predicting 0\n",
      "11/12/2020 07:07:07 - mtdnn.modeling_mtdnn - INFO - Task qqp -- Dev loss: 0.676\n",
      "11/12/2020 07:07:07 - mtdnn.modeling_mtdnn - INFO - Task qqp -- Dev ACC: 59.375\n",
      "11/12/2020 07:07:07 - mtdnn.modeling_mtdnn - INFO - Task qqp -- Dev F1: 0.000\n",
      "11/12/2020 07:07:07 - mtdnn.modeling_mtdnn - INFO - Dev loss: 0.8681641682982445\n",
      "11/12/2020 07:07:08 - mtdnn.modeling_mtdnn - INFO - Updates - [    32] Training Loss - [0.81080] Time Remaining - [0:00:00]\n",
      "11/12/2020 07:07:08 - mtdnn.modeling_mtdnn - INFO - Evaluating on dev ds 0: MNLI_MATCHED\n",
      "11/12/2020 07:07:08 - mtdnn.modeling_mtdnn - INFO - predicting 0\n",
      "11/12/2020 07:07:08 - mtdnn.modeling_mtdnn - INFO - Task mnli_matched -- Dev loss: 1.220\n",
      "11/12/2020 07:07:08 - mtdnn.modeling_mtdnn - INFO - Task mnli_matched -- Dev ACC: 26.562\n",
      "11/12/2020 07:07:08 - mtdnn.modeling_mtdnn - INFO - Evaluating on dev ds 1: MNLI_MISMATCHED\n",
      "11/12/2020 07:07:08 - mtdnn.modeling_mtdnn - INFO - predicting 0\n",
      "11/12/2020 07:07:08 - mtdnn.modeling_mtdnn - INFO - Task mnli_mismatched -- Dev loss: 1.130\n",
      "11/12/2020 07:07:08 - mtdnn.modeling_mtdnn - INFO - Task mnli_mismatched -- Dev ACC: 35.938\n",
      "11/12/2020 07:07:08 - mtdnn.modeling_mtdnn - INFO - Evaluating on dev ds 2: MRPC\n",
      "11/12/2020 07:07:08 - mtdnn.modeling_mtdnn - INFO - predicting 0\n",
      "11/12/2020 07:07:08 - mtdnn.modeling_mtdnn - INFO - Task mrpc -- Dev loss: 0.628\n",
      "11/12/2020 07:07:08 - mtdnn.modeling_mtdnn - INFO - Task mrpc -- Dev ACC: 67.188\n",
      "11/12/2020 07:07:08 - mtdnn.modeling_mtdnn - INFO - Task mrpc -- Dev F1: 80.374\n",
      "11/12/2020 07:07:09 - mtdnn.modeling_mtdnn - INFO - Evaluating on dev ds 3: SST\n",
      "11/12/2020 07:07:09 - mtdnn.modeling_mtdnn - INFO - predicting 0\n",
      "11/12/2020 07:07:09 - mtdnn.modeling_mtdnn - INFO - Task sst -- Dev loss: 0.672\n",
      "11/12/2020 07:07:09 - mtdnn.modeling_mtdnn - INFO - Task sst -- Dev ACC: 60.938\n",
      "11/12/2020 07:07:09 - mtdnn.modeling_mtdnn - INFO - Evaluating on dev ds 4: QQP\n",
      "11/12/2020 07:07:09 - mtdnn.modeling_mtdnn - INFO - predicting 0\n",
      "11/12/2020 07:07:09 - mtdnn.modeling_mtdnn - INFO - Task qqp -- Dev loss: 0.675\n",
      "11/12/2020 07:07:09 - mtdnn.modeling_mtdnn - INFO - Task qqp -- Dev ACC: 59.375\n",
      "11/12/2020 07:07:09 - mtdnn.modeling_mtdnn - INFO - Task qqp -- Dev F1: 0.000\n",
      "11/12/2020 07:07:09 - mtdnn.modeling_mtdnn - INFO - Dev loss: 0.8650789692997932\n",
      "11/12/2020 07:07:09 - mtdnn.modeling_mtdnn - INFO - ===== End of EPOCH 2 =====\n",
      "11/12/2020 07:07:09 - mtdnn.modeling_mtdnn - INFO - Train loss (epoch avg): 0.8108002964188071\n",
      "11/12/2020 07:07:09 - mtdnn.modeling_mtdnn - INFO - Evaluating on dev ds 0: MNLI_MATCHED\n",
      "11/12/2020 07:07:09 - mtdnn.modeling_mtdnn - INFO - predicting 0\n",
      "11/12/2020 07:07:09 - mtdnn.modeling_mtdnn - INFO - Task mnli_matched -- Dev loss: 1.220\n",
      "11/12/2020 07:07:09 - mtdnn.modeling_mtdnn - INFO - Task mnli_matched -- Dev ACC: 26.562\n",
      "11/12/2020 07:07:09 - mtdnn.modeling_mtdnn - INFO - Evaluating on dev ds 1: MNLI_MISMATCHED\n",
      "11/12/2020 07:07:09 - mtdnn.modeling_mtdnn - INFO - predicting 0\n",
      "11/12/2020 07:07:10 - mtdnn.modeling_mtdnn - INFO - Task mnli_mismatched -- Dev loss: 1.130\n",
      "11/12/2020 07:07:10 - mtdnn.modeling_mtdnn - INFO - Task mnli_mismatched -- Dev ACC: 35.938\n",
      "11/12/2020 07:07:10 - mtdnn.modeling_mtdnn - INFO - Evaluating on dev ds 2: MRPC\n",
      "11/12/2020 07:07:10 - mtdnn.modeling_mtdnn - INFO - predicting 0\n",
      "11/12/2020 07:07:11 - mtdnn.modeling_mtdnn - INFO - Task mrpc -- Dev loss: 0.628\n",
      "11/12/2020 07:07:11 - mtdnn.modeling_mtdnn - INFO - Task mrpc -- Dev ACC: 67.188\n",
      "11/12/2020 07:07:11 - mtdnn.modeling_mtdnn - INFO - Task mrpc -- Dev F1: 80.374\n",
      "11/12/2020 07:07:11 - mtdnn.modeling_mtdnn - INFO - Evaluating on dev ds 3: SST\n",
      "11/12/2020 07:07:11 - mtdnn.modeling_mtdnn - INFO - predicting 0\n",
      "11/12/2020 07:07:11 - mtdnn.modeling_mtdnn - INFO - Task sst -- Dev loss: 0.672\n",
      "11/12/2020 07:07:11 - mtdnn.modeling_mtdnn - INFO - Task sst -- Dev ACC: 60.938\n",
      "11/12/2020 07:07:11 - mtdnn.modeling_mtdnn - INFO - Evaluating on dev ds 4: QQP\n",
      "11/12/2020 07:07:11 - mtdnn.modeling_mtdnn - INFO - predicting 0\n",
      "11/12/2020 07:07:12 - mtdnn.modeling_mtdnn - INFO - Task qqp -- Dev loss: 0.675\n",
      "11/12/2020 07:07:12 - mtdnn.modeling_mtdnn - INFO - Task qqp -- Dev ACC: 59.375\n",
      "11/12/2020 07:07:12 - mtdnn.modeling_mtdnn - INFO - Task qqp -- Dev F1: 0.000\n",
      "11/12/2020 07:07:12 - mtdnn.modeling_mtdnn - INFO - Dev loss: 0.8650789692997932\n",
      "11/12/2020 07:07:12 - mtdnn.modeling_mtdnn - INFO - Saving mt-dnn model to gs://cs330/checkpoint/11120706/model_2.pt\n",
      "11/12/2020 07:07:29 - mtdnn.modeling_mtdnn - INFO - model saved to gs://cs330/checkpoint/11120706/model_2.pt\n"
     ]
    }
   ],
   "source": [
    "model.fit(epochs=NUM_EPOCHS)"
   ]
  }
 ],
 "metadata": {
  "kernelspec": {
   "display_name": "Python 3",
   "language": "python",
   "name": "python3"
  },
  "language_info": {
   "codemirror_mode": {
    "name": "ipython",
    "version": 3
   },
   "file_extension": ".py",
   "mimetype": "text/x-python",
   "name": "python",
   "nbconvert_exporter": "python",
   "pygments_lexer": "ipython3",
   "version": "3.6.12"
  }
 },
 "nbformat": 4,
 "nbformat_minor": 4
}
