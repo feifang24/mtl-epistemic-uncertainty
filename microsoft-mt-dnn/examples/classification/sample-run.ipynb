{
 "cells": [
  {
   "cell_type": "markdown",
   "metadata": {},
   "source": [
    "*Copyright (c) Microsoft Corporation. All rights reserved.*\n",
    "\n",
    "*Licensed under the MIT License.*\n",
    "\n",
    "# The Microsoft Toolkit of Multi-Task Deep Neural Networks for Natural Language Understanding\n"
   ]
  },
  {
   "cell_type": "markdown",
   "metadata": {},
   "source": [
    "## Summary"
   ]
  },
  {
   "cell_type": "markdown",
   "metadata": {},
   "source": [
    "MT-DNN is an open-source natural language understanding (NLU) toolkit that makes it easy for researchers and developers to train customized deep learning models. Built upon PyTorch and Transformers, MT-DNN is designed to facilitate rapid\n",
    "customization for a broad spectrum of NLU tasks, using a variety of objectives (classification, regression, structured prediction) and text encoders (e.g., RNNs, BERT, RoBERTa, UniLM). A unique feature of MT-DNN is its built-in support for robust and transferable learning using the adversarial multi-task learning paradigm. To enable efficient production deployment, MT-DNN supports multitask knowledge distillation, which can substantially compress a deep neural model without significant performance drop. We demonstrate the effectiveness of MT-DNN on a wide range of NLU applications across general and biomedical domains. The pip installable package and pretrained models will be publicly available at https://github.com/microsoft/mt-dnn."
   ]
  },
  {
   "cell_type": "markdown",
   "metadata": {},
   "source": [
    "### Design"
   ]
  },
  {
   "cell_type": "markdown",
   "metadata": {},
   "source": [
    "MT-DNN is designed for modularity, flexibility, and ease of use. These modules are built upon PyTorch (Paszke et al., 2019) and Transformers (Wolf\n",
    "et al., 2019), allowing the use of the SOTA pretrained models, e.g., BERT (Devlin et al., 2019), RoBERTa (Liu et al., 2019c) and UniLM (Dong\n",
    "et al., 2019). The unique attribute of this package is a flexible interface for adversarial multi-task fine-tuning and knowledge distillation, so that researchers and developers can build large SOTA NLU models and then compress them to small ones\n",
    "for online deployment.The overall workflow and system architecture are shown in figures 1 and 3 respectively.\n",
    "\n",
    "\n",
    "![Workflow Design](https://nlpbp.blob.core.windows.net/images/mt-dnn2.JPG)\n",
    "\n",
    "The above figure shows workflow of MT-DNN: train a neural language model on a large amount of unlabeled raw text\n",
    "to obtain general contextual representations; then finetune the learned contextual representation on downstream tasks, e.g. GLUE (Wang et al., 2018); lastly, distill this large model to a lighter one for online deployment. In the later two phrases, we can leverage powerful multi-task learning and adversarial training to further improve performance."
   ]
  },
  {
   "cell_type": "markdown",
   "metadata": {},
   "source": [
    "## Architecture"
   ]
  },
  {
   "cell_type": "markdown",
   "metadata": {},
   "source": [
    "![overall_arch](https://nlpbp.blob.core.windows.net/images/mt-dnn.png)\n",
    "The figure above shows the overall system architecture. The lower layers are shared across all tasks while the top layers are taskspecific. The input X (either a sentence or a set of sentences) is first represented as a sequence of embedding\n",
    "vectors, one for each word, in l1. Then the encoder, e.g a Transformer or recurrent neural network (LSTM) model,\n",
    "captures the contextual information for each word and generates the shared contextual embedding vectors in l2.\n",
    "Finally, for each task, additional task-specific layers generate task-specific representations, followed by operations\n",
    "necessary for classification, similarity scoring, or relevance ranking. In case of adversarial training, we perturb\n",
    "embeddings from the lexicon encoder and then add an extra loss term during the training. Note that for the\n",
    "inference phrase, it does not require perturbations."
   ]
  },
  {
   "cell_type": "markdown",
   "metadata": {},
   "source": [
    "## Introduction\n",
    "In this notebook, we fine-tune and evaluate MT-DNN models on a subset of the [MultiNLI](https://www.nyu.edu/projects/bowman/multinli/) dataset.  \n",
    "\n",
    "### Running Time\n",
    "\n",
    "This is a __computationally intensive__ notebook that runs on the entire MNLI dataset for match and mismatched datasets for training, development and test.  \n",
    "\n",
    "The table below provides some reference running time on a GPU machine.  \n",
    "\n",
    "|Dataset|MULTI_GPU_ON|Machine Configurations|Running time|\n",
    "|:------|:---------|:----------------------|:------------|\n",
    "|MultiNLI|True|4 NVIDIA Tesla K80 GPUs, 24GB GPU memory| ~ 20 hours |\n",
    "\n",
    "If you run into `CUDA out-of-memory error` or the jupyter kernel dies constantly, try reducing the `BATCH_SIZE` and `MAX_SEQ_LEN` in `MTDNNConfig`, but note that model performance may be compromised.\n"
   ]
  },
  {
   "cell_type": "markdown",
   "metadata": {},
   "source": [
    "## PyTorch Setup "
   ]
  },
  {
   "cell_type": "code",
   "execution_count": 1,
   "metadata": {},
   "outputs": [],
   "source": [
    "# uninstall the default 1.4.0 and run the following command (due to the config of our dev box)\n",
    "# !pip install torch==1.6.0+cu101 torchvision==0.7.0+cu101 -f https://download.pytorch.org/whl/torch_stable.html"
   ]
  },
  {
   "cell_type": "markdown",
   "metadata": {},
   "source": [
    "\n",
    "### Text Classification of MultiNLI Sentences using MT-DNN\n",
    "\n",
    "This notebook utilizes the pip installable package that implements the Multi-Task Deep Neural Network Toolkit (MTDNN) for Natural Language Understanding. It's recommended to run this notebook on GPU machines as it's very computationally intensive."
   ]
  },
  {
   "cell_type": "code",
   "execution_count": 1,
   "metadata": {},
   "outputs": [],
   "source": [
    "%load_ext autoreload\n",
    "%autoreload 2"
   ]
  },
  {
   "cell_type": "code",
   "execution_count": 2,
   "metadata": {},
   "outputs": [],
   "source": [
    "import json\n",
    "import os\n",
    "import shutil\n",
    "import sys\n",
    "from datetime import datetime\n",
    "\n",
    "import pandas as pd\n",
    "import torch\n",
    "import tensorflow.io.gfile as gfile\n",
    "\n",
    "from mtdnn.common.types import EncoderModelType\n",
    "from mtdnn.configuration_mtdnn import MTDNNConfig\n",
    "from mtdnn.data_builder_mtdnn import MTDNNDataBuilder\n",
    "from mtdnn.modeling_mtdnn import MTDNNModel\n",
    "from mtdnn.process_mtdnn import MTDNNDataProcess\n",
    "from mtdnn.tasks.config import MTDNNTaskDefs\n",
    "from mtdnn.tokenizer_mtdnn import MTDNNTokenizer"
   ]
  },
  {
   "cell_type": "markdown",
   "metadata": {},
   "source": [
    "## Define Configuration, Tasks and Model Objects"
   ]
  },
  {
   "cell_type": "code",
   "execution_count": 3,
   "metadata": {},
   "outputs": [],
   "source": [
    "DEBUG = False"
   ]
  },
  {
   "cell_type": "code",
   "execution_count": 4,
   "metadata": {},
   "outputs": [],
   "source": [
    "# Define Configuration, Tasks and Model Objects\n",
    "ROOT_DIR = 'gs://cs330'\n",
    "MODEL_ID = datetime.now().strftime('%m%d%H%M')\n",
    "OUTPUT_DIR = os.path.join(ROOT_DIR, 'checkpoint', MODEL_ID)\n",
    "\n",
    "DATA_DIR = \"../../../glue_data/\" if not DEBUG else \"../../../debug_data/\"\n",
    "TASK_DATA_DIRS = {\n",
    "    'qqp': os.path.join(DATA_DIR, \"QQP\"),\n",
    "    'mnli': os.path.join(DATA_DIR, \"MNLI\"),\n",
    "    'sst': os.path.join(DATA_DIR, \"SST-2\"),\n",
    "    'mrpc': os.path.join(DATA_DIR, \"MRPC\")\n",
    "    }"
   ]
  },
  {
   "cell_type": "code",
   "execution_count": 5,
   "metadata": {},
   "outputs": [],
   "source": [
    "# Training parameters\n",
    "BATCH_SIZE = 16\n",
    "MULTI_GPU_ON = False\n",
    "MAX_SEQ_LEN = 128\n",
    "NUM_EPOCHS = 5"
   ]
  },
  {
   "cell_type": "code",
   "execution_count": 6,
   "metadata": {},
   "outputs": [
    {
     "data": {
      "text/plain": [
       "{'qqp': '../../../glue_data/QQP',\n",
       " 'mnli': '../../../glue_data/MNLI',\n",
       " 'sst': '../../../glue_data/SST-2',\n",
       " 'mrpc': '../../../glue_data/MRPC'}"
      ]
     },
     "execution_count": 6,
     "metadata": {},
     "output_type": "execute_result"
    }
   ],
   "source": [
    "TASK_DATA_DIRS"
   ]
  },
  {
   "cell_type": "markdown",
   "metadata": {},
   "source": [
    "Exploring the location for our data to be downloaded, model to be checkpointed and logs to be dumped"
   ]
  },
  {
   "cell_type": "code",
   "execution_count": 7,
   "metadata": {},
   "outputs": [
    {
     "name": "stdout",
     "output_type": "stream",
     "text": [
      "gs://cs330/checkpoint/11031951\n"
     ]
    }
   ],
   "source": [
    "print(OUTPUT_DIR)"
   ]
  },
  {
   "cell_type": "markdown",
   "metadata": {},
   "source": [
    "### Define a Configuration Object \n",
    "\n",
    "Create a model configuration object, `MTDNNConfig`, with the necessary parameters to initialize the MT-DNN model. Initialization without any parameters will default to a similar configuration that initializes a BERT model. "
   ]
  },
  {
   "cell_type": "code",
   "execution_count": 8,
   "metadata": {},
   "outputs": [],
   "source": [
    "config = MTDNNConfig(batch_size=BATCH_SIZE, \n",
    "                     max_seq_len=MAX_SEQ_LEN, \n",
    "                     multi_gpu_on=MULTI_GPU_ON)"
   ]
  },
  {
   "cell_type": "markdown",
   "metadata": {},
   "source": [
    "\n",
    "### Create Task Definition Object  \n",
    "\n",
    "Define the task parameters to train for and initialize an `MTDNNTaskDefs` object. Create a task parameter dictionary. Definition can be a single or multiple tasks to train.  `MTDNNTaskDefs` can take a python dict, yaml or json file with task(s) defintion.\n",
    "\n",
    "The data source directory is the path of data downloaded and extracted above using `download_tsv_files_and_extract` which is the `MNLI` dir under the `DATA_DIR` temporary directory.    \n",
    "\n",
    "The data source has options that are set to drive each task pre-processing; `data_process_opts`\n"
   ]
  },
  {
   "cell_type": "code",
   "execution_count": 9,
   "metadata": {},
   "outputs": [
    {
     "name": "stdout",
     "output_type": "stream",
     "text": [
      "11/03/2020 07:51:29 - mtdnn.tasks.config - INFO - Mapping Task attributes\n",
      "11/03/2020 07:51:29 - mtdnn.tasks.config - INFO - Mapping Task attributes\n",
      "11/03/2020 07:51:29 - mtdnn.tasks.config - INFO - Mapping Task attributes\n",
      "11/03/2020 07:51:29 - mtdnn.tasks.config - INFO - Mapping Task attributes\n",
      "11/03/2020 07:51:29 - mtdnn.tasks.config - INFO - Configured task definitions - ['mnli', 'mrpc', 'sst', 'qqp']\n"
     ]
    }
   ],
   "source": [
    "default_data_process_opts = {\"header\": True, \"is_train\": True, \"multi_snli\": False,}\n",
    "default_split_names = [\"train\", \"dev\", \"test\"]\n",
    "tasks_params = {\n",
    "    \"mnli\": {\n",
    "        \"data_format\": \"PremiseAndOneHypothesis\",\n",
    "        \"encoder_type\": \"BERT\",\n",
    "        \"dropout_p\": 0.3,\n",
    "        \"enable_san\": True,\n",
    "        \"labels\": [\"contradiction\", \"neutral\", \"entailment\"],\n",
    "        \"metric_meta\": [\"ACC\"],\n",
    "        \"loss\": \"CeCriterion\",\n",
    "        \"kd_loss\": \"MseCriterion\",\n",
    "        \"n_class\": 3,\n",
    "        \"split_names\": [\n",
    "            \"train\",\n",
    "            \"dev_matched\",\n",
    "            \"dev_mismatched\",\n",
    "            \"test_matched\",\n",
    "            \"test_mismatched\",\n",
    "        ],\n",
    "        \"data_source_dir\": TASK_DATA_DIRS['mnli'],\n",
    "        \"data_process_opts\": default_data_process_opts,\n",
    "        \"task_type\": \"Classification\",\n",
    "    },\n",
    "    \"mrpc\": {\n",
    "                \"task_name\": \"mrpc\",\n",
    "                \"data_format\": \"PremiseAndOneHypothesis\",\n",
    "                \"encoder_type\": \"BERT\",\n",
    "                \"enable_san\": True,\n",
    "                \"metric_meta\": [\"ACC\", \"F1\"],\n",
    "                \"loss\": \"CeCriterion\",\n",
    "                \"kd_loss\": \"MseCriterion\",\n",
    "                \"n_class\": 2,\n",
    "                \"split_names\": default_split_names,\n",
    "                \"data_source_dir\": TASK_DATA_DIRS['mrpc'],\n",
    "                \"data_process_opts\": default_data_process_opts,\n",
    "                \"task_type\": \"Classification\",\n",
    "            },\n",
    "    \"sst\": {\n",
    "                \"task_name\": \"sst\",\n",
    "                \"data_format\": \"PremiseOnly\",\n",
    "                \"encoder_type\": \"BERT\",\n",
    "                \"enable_san\": False,\n",
    "                \"metric_meta\": [\"ACC\"],\n",
    "                \"loss\": \"CeCriterion\",\n",
    "                \"kd_loss\": \"MseCriterion\",\n",
    "                \"n_class\": 2,\n",
    "                \"split_names\": default_split_names,\n",
    "                \"data_source_dir\": TASK_DATA_DIRS['sst'],\n",
    "                \"data_process_opts\": default_data_process_opts,\n",
    "                \"task_type\": \"Classification\",\n",
    "            },\n",
    "    \"qqp\": {\n",
    "        \"task_name\": \"qqp\",\n",
    "        \"data_format\": \"PremiseAndOneHypothesis\",\n",
    "        \"encoder_type\": \"BERT\",\n",
    "        \"enable_san\": True,\n",
    "        \"metric_meta\": [\"ACC\", \"F1\"],\n",
    "        \"loss\": \"CeCriterion\",\n",
    "        \"kd_loss\": \"MseCriterion\",\n",
    "        \"n_class\": 2,\n",
    "        \"split_names\": default_split_names,\n",
    "        \"data_source_dir\": TASK_DATA_DIRS['qqp'],\n",
    "        \"data_process_opts\": default_data_process_opts,\n",
    "        \"task_type\": \"Classification\",\n",
    "    }\n",
    "}\n",
    "\n",
    "# Define the tasks\n",
    "task_defs = MTDNNTaskDefs(tasks_params)"
   ]
  },
  {
   "cell_type": "markdown",
   "metadata": {},
   "source": [
    "\n",
    "### Create the MTDNN Data Tokenizer Object  \n",
    "\n",
    "Create a data tokenizing object, `MTDNNTokenizer`. Based on the model initial checkpoint, it wraps around the model's Huggingface transformers library to encode the data to MT-DNN format. This becomes the input to the data building stage.  \n"
   ]
  },
  {
   "cell_type": "code",
   "execution_count": 10,
   "metadata": {},
   "outputs": [],
   "source": [
    "tokenizer = MTDNNTokenizer(do_lower_case=True)"
   ]
  },
  {
   "cell_type": "markdown",
   "metadata": {},
   "source": [
    "#### Testing out the Tokenizer encode function on a sample text\n",
    "`tokenizer.encode(\"What NLP toolkit do you recommend\", \"MT-DNN is a fantastic toolkit\")`"
   ]
  },
  {
   "cell_type": "code",
   "execution_count": 11,
   "metadata": {},
   "outputs": [
    {
     "data": {
      "text/plain": [
       "([101, 2054, 17953, 2361, 6994, 23615, 2079, 2017, 16755, 102, 102],\n",
       " None,\n",
       " [0, 0, 0, 0, 0, 0, 0, 0, 0, 0, 1])"
      ]
     },
     "execution_count": 11,
     "metadata": {},
     "output_type": "execute_result"
    }
   ],
   "source": [
    "# single sentence\n",
    "tokenizer.encode(\"What NLP toolkit do you recommend\")"
   ]
  },
  {
   "cell_type": "code",
   "execution_count": 12,
   "metadata": {},
   "outputs": [
    {
     "name": "stdout",
     "output_type": "stream",
     "text": [
      "([101, 2054, 17953, 2361, 6994, 23615, 2079, 2017, 16755, 102, 11047, 1011, 1040, 10695, 2003, 1037, 10392, 6994, 23615, 102], None, [0, 0, 0, 0, 0, 0, 0, 0, 0, 0, 1, 1, 1, 1, 1, 1, 1, 1, 1, 1])\n"
     ]
    }
   ],
   "source": [
    "# sentence pair\n",
    "print(tokenizer.encode(\"What NLP toolkit do you recommend\", \"MT-DNN is a fantastic toolkit\"))"
   ]
  },
  {
   "cell_type": "markdown",
   "metadata": {},
   "source": [
    "## Data Preprocessing"
   ]
  },
  {
   "cell_type": "markdown",
   "metadata": {},
   "source": [
    "### Create the Data Builder Object  \n",
    "\n",
    "Create a data preprocessing object, `MTDNNDataBuilder`. This class is responsible for converting the data into the MT-DNN format depending on the task.  \n",
    " \n",
    "\n",
    "Define a data builder that handles the creating of each task's vectorized data utilizing the model tokenizer. This will build out the vectorized data needed for creating the training, test and development PyTorch dataloaders"
   ]
  },
  {
   "cell_type": "code",
   "execution_count": 13,
   "metadata": {
    "scrolled": true
   },
   "outputs": [
    {
     "data": {
      "text/plain": [
       "{'mnli': {'data_paths': ['../../../glue_data/MNLI/train.tsv',\n",
       "   '../../../glue_data/MNLI/dev_matched.tsv',\n",
       "   '../../../glue_data/MNLI/dev_mismatched.tsv',\n",
       "   '../../../glue_data/MNLI/test_matched.tsv',\n",
       "   '../../../glue_data/MNLI/test_mismatched.tsv'],\n",
       "  'data_opts': {'header': True, 'is_train': True, 'multi_snli': False}},\n",
       " 'mrpc': {'data_paths': ['../../../glue_data/MRPC/train.tsv',\n",
       "   '../../../glue_data/MRPC/dev.tsv',\n",
       "   '../../../glue_data/MRPC/test.tsv'],\n",
       "  'data_opts': {'header': True, 'is_train': True, 'multi_snli': False}},\n",
       " 'sst': {'data_paths': ['../../../glue_data/SST-2/train.tsv',\n",
       "   '../../../glue_data/SST-2/dev.tsv',\n",
       "   '../../../glue_data/SST-2/test.tsv'],\n",
       "  'data_opts': {'header': True, 'is_train': True, 'multi_snli': False}},\n",
       " 'qqp': {'data_paths': ['../../../glue_data/QQP/train.tsv',\n",
       "   '../../../glue_data/QQP/dev.tsv',\n",
       "   '../../../glue_data/QQP/test.tsv'],\n",
       "  'data_opts': {'header': True, 'is_train': True, 'multi_snli': False}}}"
      ]
     },
     "execution_count": 13,
     "metadata": {},
     "output_type": "execute_result"
    }
   ],
   "source": [
    "task_defs.data_paths_map"
   ]
  },
  {
   "cell_type": "code",
   "execution_count": 14,
   "metadata": {
    "scrolled": true
   },
   "outputs": [
    {
     "name": "stdout",
     "output_type": "stream",
     "text": [
      "11/03/2020 07:51:40 - mtdnn.data_builder_mtdnn - INFO - Sucessfully loaded and built 40000 samples for mnli at ./canonical_data/mnli_train.tsv\n",
      "11/03/2020 07:51:40 - mtdnn.data_builder_mtdnn - INFO - Sucessfully loaded and built 5000 samples for mnli at ./canonical_data/mnli_dev_matched.tsv\n",
      "11/03/2020 07:51:40 - mtdnn.data_builder_mtdnn - INFO - Sucessfully loaded and built 5000 samples for mnli at ./canonical_data/mnli_dev_mismatched.tsv\n",
      "11/03/2020 07:51:40 - mtdnn.data_builder_mtdnn - INFO - Sucessfully loaded and built 9796 samples for mnli at ./canonical_data/mnli_test_matched.tsv\n",
      "11/03/2020 07:51:41 - mtdnn.data_builder_mtdnn - INFO - Sucessfully loaded and built 9847 samples for mnli at ./canonical_data/mnli_test_mismatched.tsv\n",
      "11/03/2020 07:51:41 - mtdnn.data_builder_mtdnn - INFO - Sucessfully loaded and built 3668 samples for mrpc at ./canonical_data/mrpc_train.tsv\n",
      "11/03/2020 07:51:41 - mtdnn.data_builder_mtdnn - INFO - Sucessfully loaded and built 408 samples for mrpc at ./canonical_data/mrpc_dev.tsv\n",
      "11/03/2020 07:51:41 - mtdnn.data_builder_mtdnn - INFO - Sucessfully loaded and built 1725 samples for mrpc at ./canonical_data/mrpc_test.tsv\n",
      "11/03/2020 07:51:41 - mtdnn.data_builder_mtdnn - INFO - Sucessfully loaded and built 8000 samples for sst at ./canonical_data/sst_train.tsv\n",
      "11/03/2020 07:51:41 - mtdnn.data_builder_mtdnn - INFO - Sucessfully loaded and built 2000 samples for sst at ./canonical_data/sst_dev.tsv\n",
      "11/03/2020 07:51:41 - mtdnn.data_builder_mtdnn - INFO - Sucessfully loaded and built 1821 samples for sst at ./canonical_data/sst_test.tsv\n",
      "11/03/2020 07:51:41 - mtdnn.data_builder_mtdnn - INFO - Sucessfully loaded and built 40000 samples for qqp at ./canonical_data/qqp_train.tsv\n",
      "11/03/2020 07:51:41 - mtdnn.data_builder_mtdnn - INFO - Sucessfully loaded and built 10000 samples for qqp at ./canonical_data/qqp_dev.tsv\n",
      "11/03/2020 07:51:43 - mtdnn.data_builder_mtdnn - INFO - Sucessfully loaded and built 390965 samples for qqp at ./canonical_data/qqp_test.tsv\n",
      "mnli_train\n",
      "11/03/2020 07:51:43 - mtdnn.data_builder_mtdnn - INFO - Building Data For 'MNLI TRAIN' Task\n"
     ]
    },
    {
     "name": "stderr",
     "output_type": "stream",
     "text": [
      "Building Data For Premise and One Hypothesis: 40000it [00:30, 1315.17it/s]"
     ]
    },
    {
     "name": "stdout",
     "output_type": "stream",
     "text": [
      "11/03/2020 07:52:13 - mtdnn.data_builder_mtdnn - INFO - Saving data to ./canonical_data/bert_base_uncased/mnli_train.json\n"
     ]
    },
    {
     "name": "stderr",
     "output_type": "stream",
     "text": [
      "\n",
      "Saving Data For PremiseAndOneHypothesis: 100%|██████████| 40000/40000 [00:01<00:00, 29401.70it/s]"
     ]
    },
    {
     "name": "stdout",
     "output_type": "stream",
     "text": [
      "mnli_dev_matched\n",
      "11/03/2020 07:52:15 - mtdnn.data_builder_mtdnn - INFO - Building Data For 'MNLI DEV MATCHED' Task\n"
     ]
    },
    {
     "name": "stderr",
     "output_type": "stream",
     "text": [
      "\n",
      "Building Data For Premise and One Hypothesis: 5000it [00:03, 1369.43it/s]"
     ]
    },
    {
     "name": "stdout",
     "output_type": "stream",
     "text": [
      "11/03/2020 07:52:18 - mtdnn.data_builder_mtdnn - INFO - Saving data to ./canonical_data/bert_base_uncased/mnli_dev_matched.json\n"
     ]
    },
    {
     "name": "stderr",
     "output_type": "stream",
     "text": [
      "\n",
      "Saving Data For PremiseAndOneHypothesis: 100%|██████████| 5000/5000 [00:00<00:00, 42764.72it/s]"
     ]
    },
    {
     "name": "stdout",
     "output_type": "stream",
     "text": [
      "mnli_dev_mismatched\n",
      "11/03/2020 07:52:18 - mtdnn.data_builder_mtdnn - INFO - Building Data For 'MNLI DEV MISMATCHED' Task\n"
     ]
    },
    {
     "name": "stderr",
     "output_type": "stream",
     "text": [
      "\n",
      "Building Data For Premise and One Hypothesis: 5000it [00:03, 1301.78it/s]"
     ]
    },
    {
     "name": "stdout",
     "output_type": "stream",
     "text": [
      "11/03/2020 07:52:22 - mtdnn.data_builder_mtdnn - INFO - Saving data to ./canonical_data/bert_base_uncased/mnli_dev_mismatched.json\n"
     ]
    },
    {
     "name": "stderr",
     "output_type": "stream",
     "text": [
      "\n",
      "Saving Data For PremiseAndOneHypothesis: 100%|██████████| 5000/5000 [00:00<00:00, 41449.62it/s]"
     ]
    },
    {
     "name": "stdout",
     "output_type": "stream",
     "text": [
      "mnli_test_matched\n",
      "11/03/2020 07:52:22 - mtdnn.data_builder_mtdnn - INFO - Building Data For 'MNLI TEST MATCHED' Task\n"
     ]
    },
    {
     "name": "stderr",
     "output_type": "stream",
     "text": [
      "\n",
      "Building Data For Premise and One Hypothesis: 9796it [00:07, 1353.82it/s]"
     ]
    },
    {
     "name": "stdout",
     "output_type": "stream",
     "text": [
      "11/03/2020 07:52:30 - mtdnn.data_builder_mtdnn - INFO - Saving data to ./canonical_data/bert_base_uncased/mnli_test_matched.json\n"
     ]
    },
    {
     "name": "stderr",
     "output_type": "stream",
     "text": [
      "\n",
      "Saving Data For PremiseAndOneHypothesis: 100%|██████████| 9796/9796 [00:00<00:00, 41906.81it/s]"
     ]
    },
    {
     "name": "stdout",
     "output_type": "stream",
     "text": [
      "mnli_test_mismatched\n",
      "11/03/2020 07:52:30 - mtdnn.data_builder_mtdnn - INFO - Building Data For 'MNLI TEST MISMATCHED' Task\n"
     ]
    },
    {
     "name": "stderr",
     "output_type": "stream",
     "text": [
      "\n",
      "Building Data For Premise and One Hypothesis: 9847it [00:07, 1314.13it/s]"
     ]
    },
    {
     "name": "stdout",
     "output_type": "stream",
     "text": [
      "11/03/2020 07:52:38 - mtdnn.data_builder_mtdnn - INFO - Saving data to ./canonical_data/bert_base_uncased/mnli_test_mismatched.json\n"
     ]
    },
    {
     "name": "stderr",
     "output_type": "stream",
     "text": [
      "\n",
      "Saving Data For PremiseAndOneHypothesis: 100%|██████████| 9847/9847 [00:00<00:00, 41522.50it/s]"
     ]
    },
    {
     "name": "stdout",
     "output_type": "stream",
     "text": [
      "mrpc_train\n",
      "11/03/2020 07:52:38 - mtdnn.data_builder_mtdnn - INFO - Building Data For 'MRPC TRAIN' Task\n"
     ]
    },
    {
     "name": "stderr",
     "output_type": "stream",
     "text": [
      "\n",
      "Building Data For Premise and One Hypothesis: 3668it [00:03, 1057.78it/s]"
     ]
    },
    {
     "name": "stdout",
     "output_type": "stream",
     "text": [
      "11/03/2020 07:52:41 - mtdnn.data_builder_mtdnn - INFO - Saving data to ./canonical_data/bert_base_uncased/mrpc_train.json\n"
     ]
    },
    {
     "name": "stderr",
     "output_type": "stream",
     "text": [
      "\n",
      "Saving Data For PremiseAndOneHypothesis: 100%|██████████| 3668/3668 [00:00<00:00, 35641.05it/s]"
     ]
    },
    {
     "name": "stdout",
     "output_type": "stream",
     "text": [
      "mrpc_dev\n",
      "11/03/2020 07:52:42 - mtdnn.data_builder_mtdnn - INFO - Building Data For 'MRPC DEV' Task\n"
     ]
    },
    {
     "name": "stderr",
     "output_type": "stream",
     "text": [
      "\n",
      "Building Data For Premise and One Hypothesis: 408it [00:00, 1030.71it/s]"
     ]
    },
    {
     "name": "stdout",
     "output_type": "stream",
     "text": [
      "11/03/2020 07:52:42 - mtdnn.data_builder_mtdnn - INFO - Saving data to ./canonical_data/bert_base_uncased/mrpc_dev.json\n"
     ]
    },
    {
     "name": "stderr",
     "output_type": "stream",
     "text": [
      "\n",
      "Saving Data For PremiseAndOneHypothesis: 100%|██████████| 408/408 [00:00<00:00, 41470.40it/s]"
     ]
    },
    {
     "name": "stdout",
     "output_type": "stream",
     "text": [
      "mrpc_test\n",
      "11/03/2020 07:52:42 - mtdnn.data_builder_mtdnn - INFO - Building Data For 'MRPC TEST' Task\n"
     ]
    },
    {
     "name": "stderr",
     "output_type": "stream",
     "text": [
      "\n",
      "Building Data For Premise and One Hypothesis: 1725it [00:01, 1078.41it/s]"
     ]
    },
    {
     "name": "stdout",
     "output_type": "stream",
     "text": [
      "11/03/2020 07:52:44 - mtdnn.data_builder_mtdnn - INFO - Saving data to ./canonical_data/bert_base_uncased/mrpc_test.json\n"
     ]
    },
    {
     "name": "stderr",
     "output_type": "stream",
     "text": [
      "\n",
      "Saving Data For PremiseAndOneHypothesis: 100%|██████████| 1725/1725 [00:00<00:00, 30781.95it/s]"
     ]
    },
    {
     "name": "stdout",
     "output_type": "stream",
     "text": [
      "sst_train\n",
      "11/03/2020 07:52:44 - mtdnn.data_builder_mtdnn - INFO - Building Data For 'SST TRAIN' Task\n"
     ]
    },
    {
     "name": "stderr",
     "output_type": "stream",
     "text": [
      "\n",
      "Building Data For Premise Only: 8000it [00:02, 3366.43it/s]"
     ]
    },
    {
     "name": "stdout",
     "output_type": "stream",
     "text": [
      "11/03/2020 07:52:46 - mtdnn.data_builder_mtdnn - INFO - Saving data to ./canonical_data/bert_base_uncased/sst_train.json\n"
     ]
    },
    {
     "name": "stderr",
     "output_type": "stream",
     "text": [
      "\n",
      "Saving Data For PremiseOnly: 100%|██████████| 8000/8000 [00:00<00:00, 68050.27it/s]"
     ]
    },
    {
     "name": "stdout",
     "output_type": "stream",
     "text": [
      "sst_dev\n",
      "11/03/2020 07:52:46 - mtdnn.data_builder_mtdnn - INFO - Building Data For 'SST DEV' Task\n"
     ]
    },
    {
     "name": "stderr",
     "output_type": "stream",
     "text": [
      "\n",
      "Building Data For Premise Only: 2000it [00:00, 2605.07it/s]"
     ]
    },
    {
     "name": "stdout",
     "output_type": "stream",
     "text": [
      "11/03/2020 07:52:47 - mtdnn.data_builder_mtdnn - INFO - Saving data to ./canonical_data/bert_base_uncased/sst_dev.json\n"
     ]
    },
    {
     "name": "stderr",
     "output_type": "stream",
     "text": [
      "\n",
      "Saving Data For PremiseOnly: 100%|██████████| 2000/2000 [00:00<00:00, 61749.96it/s]"
     ]
    },
    {
     "name": "stdout",
     "output_type": "stream",
     "text": [
      "sst_test\n",
      "11/03/2020 07:52:47 - mtdnn.data_builder_mtdnn - INFO - Building Data For 'SST TEST' Task\n"
     ]
    },
    {
     "name": "stderr",
     "output_type": "stream",
     "text": [
      "\n",
      "Building Data For Premise Only: 1821it [00:00, 2067.97it/s]"
     ]
    },
    {
     "name": "stdout",
     "output_type": "stream",
     "text": [
      "11/03/2020 07:52:48 - mtdnn.data_builder_mtdnn - INFO - Saving data to ./canonical_data/bert_base_uncased/sst_test.json\n"
     ]
    },
    {
     "name": "stderr",
     "output_type": "stream",
     "text": [
      "\n",
      "Saving Data For PremiseOnly: 100%|██████████| 1821/1821 [00:00<00:00, 52272.00it/s]"
     ]
    },
    {
     "name": "stdout",
     "output_type": "stream",
     "text": [
      "qqp_train\n",
      "11/03/2020 07:52:48 - mtdnn.data_builder_mtdnn - INFO - Building Data For 'QQP TRAIN' Task\n"
     ]
    },
    {
     "name": "stderr",
     "output_type": "stream",
     "text": [
      "\n",
      "Building Data For Premise and One Hypothesis: 40000it [00:22, 1751.41it/s]"
     ]
    },
    {
     "name": "stdout",
     "output_type": "stream",
     "text": [
      "11/03/2020 07:53:11 - mtdnn.data_builder_mtdnn - INFO - Saving data to ./canonical_data/bert_base_uncased/qqp_train.json\n"
     ]
    },
    {
     "name": "stderr",
     "output_type": "stream",
     "text": [
      "\n",
      "Saving Data For PremiseAndOneHypothesis: 100%|██████████| 40000/40000 [00:00<00:00, 48708.73it/s]"
     ]
    },
    {
     "name": "stdout",
     "output_type": "stream",
     "text": [
      "qqp_dev\n",
      "11/03/2020 07:53:12 - mtdnn.data_builder_mtdnn - INFO - Building Data For 'QQP DEV' Task\n"
     ]
    },
    {
     "name": "stderr",
     "output_type": "stream",
     "text": [
      "\n",
      "Building Data For Premise and One Hypothesis: 10000it [00:05, 1763.57it/s]"
     ]
    },
    {
     "name": "stdout",
     "output_type": "stream",
     "text": [
      "11/03/2020 07:53:17 - mtdnn.data_builder_mtdnn - INFO - Saving data to ./canonical_data/bert_base_uncased/qqp_dev.json\n"
     ]
    },
    {
     "name": "stderr",
     "output_type": "stream",
     "text": [
      "\n",
      "Saving Data For PremiseAndOneHypothesis: 100%|██████████| 10000/10000 [00:00<00:00, 49334.07it/s]"
     ]
    },
    {
     "name": "stdout",
     "output_type": "stream",
     "text": [
      "qqp_test\n",
      "11/03/2020 07:53:18 - mtdnn.data_builder_mtdnn - INFO - Building Data For 'QQP TEST' Task\n"
     ]
    },
    {
     "name": "stderr",
     "output_type": "stream",
     "text": [
      "\n",
      "Building Data For Premise and One Hypothesis: 390965it [04:40, 1392.72it/s]"
     ]
    },
    {
     "name": "stdout",
     "output_type": "stream",
     "text": [
      "11/03/2020 07:58:00 - mtdnn.data_builder_mtdnn - INFO - Saving data to ./canonical_data/bert_base_uncased/qqp_test.json\n"
     ]
    },
    {
     "name": "stderr",
     "output_type": "stream",
     "text": [
      "\n",
      "Saving Data For PremiseAndOneHypothesis: 100%|██████████| 390965/390965 [00:09<00:00, 39116.24it/s]\n"
     ]
    }
   ],
   "source": [
    "## Load and build data\n",
    "data_builder = MTDNNDataBuilder(\n",
    "    tokenizer=tokenizer,\n",
    "    task_defs=task_defs,\n",
    "    data_dir='.', #DATA_SOURCE_DIR,\n",
    "    canonical_data_suffix=\"canonical_data\",\n",
    "    dump_rows=True,\n",
    ")\n",
    "\n",
    "## Build data to MTDNN Format\n",
    "## Iterable of each specific task and processed data\n",
    "vectorized_data = data_builder.vectorize()"
   ]
  },
  {
   "cell_type": "markdown",
   "metadata": {},
   "source": [
    "### Create the Data Processing Object  \n",
    "\n",
    "Create a data preprocessing object, `MTDNNDataProcess`. This creates the training, test and development PyTorch dataloaders needed for training and testing. We also need to retrieve the necessary training options required to initialize the model correctly, for all tasks.  \n",
    "\n",
    "Define a data process that handles creating the training, test and development PyTorch dataloaders"
   ]
  },
  {
   "cell_type": "code",
   "execution_count": 15,
   "metadata": {},
   "outputs": [
    {
     "name": "stdout",
     "output_type": "stream",
     "text": [
      "11/03/2020 07:58:22 - mtdnn.process_mtdnn - INFO - Starting to process the training data sets\n",
      "11/03/2020 07:58:22 - mtdnn.process_mtdnn - INFO - Loading mnli_train as task 0\n",
      "11/03/2020 07:58:22 - mtdnn.dataset_mtdnn - INFO - Loaded 39908 samples out of 40000\n",
      "11/03/2020 07:58:22 - mtdnn.process_mtdnn - INFO - Loading mrpc_train as task 1\n",
      "11/03/2020 07:58:22 - mtdnn.dataset_mtdnn - INFO - Loaded 3668 samples out of 3668\n",
      "11/03/2020 07:58:22 - mtdnn.process_mtdnn - INFO - Loading sst_train as task 2\n",
      "11/03/2020 07:58:22 - mtdnn.dataset_mtdnn - INFO - Loaded 8000 samples out of 8000\n",
      "11/03/2020 07:58:22 - mtdnn.process_mtdnn - INFO - Loading qqp_train as task 3\n",
      "11/03/2020 07:58:22 - mtdnn.dataset_mtdnn - INFO - Loaded 39986 samples out of 40000\n",
      "11/03/2020 07:58:22 - mtdnn.process_mtdnn - INFO - Starting to process the testing data sets\n",
      "11/03/2020 07:58:22 - mtdnn.process_mtdnn - INFO - Loading mnli_dev_matched as task 0\n",
      "11/03/2020 07:58:22 - mtdnn.dataset_mtdnn - INFO - Loaded 5000 samples out of 5000\n",
      "11/03/2020 07:58:22 - mtdnn.process_mtdnn - INFO - Loading mnli_dev_mismatched as task 0\n",
      "11/03/2020 07:58:22 - mtdnn.dataset_mtdnn - INFO - Loaded 5000 samples out of 5000\n",
      "11/03/2020 07:58:22 - mtdnn.process_mtdnn - INFO - Loading mnli_test_matched as task 0\n",
      "11/03/2020 07:58:22 - mtdnn.dataset_mtdnn - INFO - Loaded 9796 samples out of 9796\n",
      "11/03/2020 07:58:22 - mtdnn.process_mtdnn - INFO - Loading mnli_test_mismatched as task 0\n",
      "11/03/2020 07:58:22 - mtdnn.dataset_mtdnn - INFO - Loaded 9847 samples out of 9847\n",
      "11/03/2020 07:58:22 - mtdnn.process_mtdnn - INFO - Loading mrpc_dev as task 1\n",
      "11/03/2020 07:58:22 - mtdnn.dataset_mtdnn - INFO - Loaded 408 samples out of 408\n",
      "11/03/2020 07:58:22 - mtdnn.process_mtdnn - INFO - Loading mrpc_test as task 1\n",
      "11/03/2020 07:58:22 - mtdnn.dataset_mtdnn - INFO - Loaded 1725 samples out of 1725\n",
      "11/03/2020 07:58:22 - mtdnn.process_mtdnn - INFO - Loading sst_dev as task 2\n",
      "11/03/2020 07:58:23 - mtdnn.dataset_mtdnn - INFO - Loaded 2000 samples out of 2000\n",
      "11/03/2020 07:58:23 - mtdnn.process_mtdnn - INFO - Loading sst_test as task 2\n",
      "11/03/2020 07:58:23 - mtdnn.dataset_mtdnn - INFO - Loaded 1821 samples out of 1821\n",
      "11/03/2020 07:58:23 - mtdnn.process_mtdnn - INFO - Loading qqp_dev as task 3\n",
      "11/03/2020 07:58:23 - mtdnn.dataset_mtdnn - INFO - Loaded 10000 samples out of 10000\n",
      "11/03/2020 07:58:23 - mtdnn.process_mtdnn - INFO - Loading qqp_test as task 3\n",
      "11/03/2020 07:58:23 - mtdnn.dataset_mtdnn - INFO - Loaded 390965 samples out of 390965\n"
     ]
    }
   ],
   "source": [
    "# Make the Data Preprocess step and update the config with training data updates\n",
    "data_processor = MTDNNDataProcess(\n",
    "    config=config, task_defs=task_defs, vectorized_data=vectorized_data\n",
    ")"
   ]
  },
  {
   "cell_type": "markdown",
   "metadata": {},
   "source": [
    "### Instantiate the MTDNN Model\n",
    "\n",
    "Now we can go ahead and create an `MTDNNModel` model"
   ]
  },
  {
   "cell_type": "code",
   "execution_count": 16,
   "metadata": {
    "scrolled": true
   },
   "outputs": [
    {
     "name": "stderr",
     "output_type": "stream",
     "text": [
      "\u001b[34m\u001b[1mwandb\u001b[0m: Currently logged in as: \u001b[33mfeifang24\u001b[0m (use `wandb login --relogin` to force relogin)\n"
     ]
    },
    {
     "data": {
      "text/html": [
       "\n",
       "                Tracking run with wandb version 0.10.8<br/>\n",
       "                Syncing run <strong style=\"color:#cdcd00\">copper-forest-20</strong> to <a href=\"https://wandb.ai\" target=\"_blank\">Weights & Biases</a> <a href=\"https://docs.wandb.com/integrations/jupyter.html\" target=\"_blank\">(Documentation)</a>.<br/>\n",
       "                Project page: <a href=\"https://wandb.ai/feifang24/mtl-uncertainty\" target=\"_blank\">https://wandb.ai/feifang24/mtl-uncertainty</a><br/>\n",
       "                Run page: <a href=\"https://wandb.ai/feifang24/mtl-uncertainty/runs/6istgkio\" target=\"_blank\">https://wandb.ai/feifang24/mtl-uncertainty/runs/6istgkio</a><br/>\n",
       "                Run data is saved locally in <code>wandb/run-20201103_195827-6istgkio</code><br/><br/>\n",
       "            "
      ],
      "text/plain": [
       "<IPython.core.display.HTML object>"
      ]
     },
     "metadata": {},
     "output_type": "display_data"
    },
    {
     "name": "stdout",
     "output_type": "stream",
     "text": [
      "idx: 0, number of task labels: 3\n",
      "idx: 1, number of task labels: 2\n",
      "idx: 2, number of task labels: 2\n",
      "idx: 3, number of task labels: 2\n"
     ]
    }
   ],
   "source": [
    "model = MTDNNModel(\n",
    "    config,\n",
    "    task_defs,\n",
    "    data_processor=data_processor,\n",
    "    pretrained_model_name=\"bert-base-uncased\",\n",
    "    output_dir=OUTPUT_DIR,\n",
    ")"
   ]
  },
  {
   "cell_type": "code",
   "execution_count": 17,
   "metadata": {
    "scrolled": true
   },
   "outputs": [
    {
     "name": "stdout",
     "output_type": "stream",
     "text": [
      "0 mnli_matched\n",
      "1 mnli_mismatched\n",
      "2 mrpc\n",
      "3 sst\n",
      "4 qqp\n"
     ]
    }
   ],
   "source": [
    "for idx, dataset in enumerate(model.test_datasets_list):\n",
    "    print(idx, dataset)"
   ]
  },
  {
   "cell_type": "code",
   "execution_count": 18,
   "metadata": {},
   "outputs": [
    {
     "name": "stdout",
     "output_type": "stream",
     "text": [
      "0 mnli\n",
      "1 mrpc\n",
      "2 sst\n",
      "3 qqp\n"
     ]
    }
   ],
   "source": [
    "for idx, task in enumerate(model.tasks):\n",
    "    print(idx, task)"
   ]
  },
  {
   "cell_type": "markdown",
   "metadata": {},
   "source": [
    "## Model Finetuning, Prediction and Evaluation\n",
    "\n",
    "### Fit and finetune model on five epochs and predict using the training and test  \n",
    "\n",
    "At this point the MT-DNN model allows us to fit to the model and create predictions. The fit takes an optional `epochs` parameter that overwrites the epochs set in the `MTDNNConfig` object. "
   ]
  },
  {
   "cell_type": "code",
   "execution_count": 19,
   "metadata": {
    "scrolled": true
   },
   "outputs": [
    {
     "name": "stdout",
     "output_type": "stream",
     "text": [
      "11/03/2020 07:58:40 - mtdnn.modeling_mtdnn - INFO - Total number of params: 109489161\n",
      "11/03/2020 07:58:40 - mtdnn.modeling_mtdnn - INFO - At epoch 1\n",
      "11/03/2020 07:58:40 - mtdnn.modeling_mtdnn - INFO - Amount of data to go over: 5725\n",
      "11/03/2020 07:58:41 - mtdnn.modeling_mtdnn - INFO - Task - [ 3] Updates - [     1] Training Loss - [0.70013] Time Remaining - [0:36:40]\n"
     ]
    },
    {
     "name": "stderr",
     "output_type": "stream",
     "text": [
      "/home/feifang/mtl-epistemic-uncertainty/microsoft-mt-dnn/mtdnn/common/bert_optim.py:144: UserWarning: This overload of add_ is deprecated:\n",
      "\tadd_(Number alpha, Tensor other)\n",
      "Consider using one of the following signatures instead:\n",
      "\tadd_(Tensor other, *, Number alpha) (Triggered internally at  /pytorch/torch/csrc/utils/python_arg_parser.cpp:766.)\n",
      "  exp_avg.mul_(beta1).add_(1 - beta1, grad)\n"
     ]
    },
    {
     "name": "stdout",
     "output_type": "stream",
     "text": [
      "11/03/2020 08:00:55 - mtdnn.modeling_mtdnn - INFO - Task - [ 0] Updates - [   500] Training Loss - [0.89386] Time Remaining - [0:23:30]\n",
      "11/03/2020 08:03:19 - mtdnn.modeling_mtdnn - INFO - Task - [ 0] Updates - [  1000] Training Loss - [0.84969] Time Remaining - [0:21:57]\n",
      "11/03/2020 08:05:39 - mtdnn.modeling_mtdnn - INFO - Task - [ 3] Updates - [  1500] Training Loss - [0.81297] Time Remaining - [0:19:38]\n",
      "11/03/2020 08:07:56 - mtdnn.modeling_mtdnn - INFO - Task - [ 0] Updates - [  2000] Training Loss - [0.77324] Time Remaining - [0:17:14]\n",
      "11/03/2020 08:10:18 - mtdnn.modeling_mtdnn - INFO - Task - [ 3] Updates - [  2500] Training Loss - [0.73841] Time Remaining - [0:14:59]\n",
      "11/03/2020 08:12:39 - mtdnn.modeling_mtdnn - INFO - Task - [ 0] Updates - [  3000] Training Loss - [0.71030] Time Remaining - [0:12:41]\n",
      "11/03/2020 08:14:55 - mtdnn.modeling_mtdnn - INFO - Task - [ 3] Updates - [  3500] Training Loss - [0.68737] Time Remaining - [0:10:19]\n",
      "11/03/2020 08:17:13 - mtdnn.modeling_mtdnn - INFO - Task - [ 3] Updates - [  4000] Training Loss - [0.66701] Time Remaining - [0:07:59]\n",
      "11/03/2020 08:19:29 - mtdnn.modeling_mtdnn - INFO - Task - [ 0] Updates - [  4500] Training Loss - [0.65021] Time Remaining - [0:05:39]\n",
      "11/03/2020 08:21:44 - mtdnn.modeling_mtdnn - INFO - Task - [ 0] Updates - [  5000] Training Loss - [0.63601] Time Remaining - [0:03:20]\n",
      "11/03/2020 08:23:58 - mtdnn.modeling_mtdnn - INFO - Task - [ 0] Updates - [  5500] Training Loss - [0.62234] Time Remaining - [0:01:02]\n",
      "11/03/2020 08:25:02 - mtdnn.modeling_mtdnn - INFO - ===== End of EPOCH 1 =====\n",
      "11/03/2020 08:25:02 - mtdnn.modeling_mtdnn - INFO - Train loss (epoch avg): 0.6158525239452383\n",
      "11/03/2020 08:25:02 - mtdnn.modeling_mtdnn - INFO - Evaluating on dev ds 0: MNLI_MATCHED\n",
      "11/03/2020 08:25:02 - mtdnn.modeling_mtdnn - INFO - predicting 0\n",
      "11/03/2020 08:25:06 - mtdnn.modeling_mtdnn - INFO - predicting 100\n",
      "11/03/2020 08:25:09 - mtdnn.modeling_mtdnn - INFO - predicting 200\n",
      "11/03/2020 08:25:13 - mtdnn.modeling_mtdnn - INFO - predicting 300\n",
      "11/03/2020 08:25:17 - mtdnn.modeling_mtdnn - INFO - predicting 400\n",
      "11/03/2020 08:25:21 - mtdnn.modeling_mtdnn - INFO - predicting 500\n",
      "11/03/2020 08:25:25 - mtdnn.modeling_mtdnn - INFO - predicting 600\n",
      "11/03/2020 08:25:26 - mtdnn.modeling_mtdnn - INFO - Task mnli_matched -- Dev loss: 0.676\n",
      "11/03/2020 08:25:26 - mtdnn.modeling_mtdnn - INFO - Task mnli_matched -- Dev ACC: 72.400\n",
      "11/03/2020 08:25:26 - mtdnn.modeling_mtdnn - INFO - Evaluating on dev ds 1: MNLI_MISMATCHED\n",
      "11/03/2020 08:25:26 - mtdnn.modeling_mtdnn - INFO - predicting 0\n",
      "11/03/2020 08:25:30 - mtdnn.modeling_mtdnn - INFO - predicting 100\n",
      "11/03/2020 08:25:34 - mtdnn.modeling_mtdnn - INFO - predicting 200\n",
      "11/03/2020 08:25:37 - mtdnn.modeling_mtdnn - INFO - predicting 300\n",
      "11/03/2020 08:25:41 - mtdnn.modeling_mtdnn - INFO - predicting 400\n",
      "11/03/2020 08:25:45 - mtdnn.modeling_mtdnn - INFO - predicting 500\n",
      "11/03/2020 08:25:49 - mtdnn.modeling_mtdnn - INFO - predicting 600\n",
      "11/03/2020 08:25:50 - mtdnn.modeling_mtdnn - INFO - Task mnli_mismatched -- Dev loss: 0.651\n",
      "11/03/2020 08:25:50 - mtdnn.modeling_mtdnn - INFO - Task mnli_mismatched -- Dev ACC: 74.100\n",
      "11/03/2020 08:25:50 - mtdnn.modeling_mtdnn - INFO - Evaluating on dev ds 2: MRPC\n",
      "11/03/2020 08:25:50 - mtdnn.modeling_mtdnn - INFO - predicting 0\n",
      "11/03/2020 08:25:52 - mtdnn.modeling_mtdnn - INFO - Task mrpc -- Dev loss: 0.481\n",
      "11/03/2020 08:25:52 - mtdnn.modeling_mtdnn - INFO - Task mrpc -- Dev ACC: 77.696\n",
      "11/03/2020 08:25:52 - mtdnn.modeling_mtdnn - INFO - Task mrpc -- Dev F1: 83.894\n",
      "11/03/2020 08:25:52 - mtdnn.modeling_mtdnn - INFO - Evaluating on dev ds 3: SST\n",
      "11/03/2020 08:25:52 - mtdnn.modeling_mtdnn - INFO - predicting 0\n",
      "11/03/2020 08:25:54 - mtdnn.modeling_mtdnn - INFO - predicting 100\n",
      "11/03/2020 08:25:56 - mtdnn.modeling_mtdnn - INFO - predicting 200\n",
      "11/03/2020 08:25:57 - mtdnn.modeling_mtdnn - INFO - Task sst -- Dev loss: 0.266\n",
      "11/03/2020 08:25:57 - mtdnn.modeling_mtdnn - INFO - Task sst -- Dev ACC: 89.650\n",
      "11/03/2020 08:25:57 - mtdnn.modeling_mtdnn - INFO - Evaluating on dev ds 4: QQP\n",
      "11/03/2020 08:25:57 - mtdnn.modeling_mtdnn - INFO - predicting 0\n",
      "11/03/2020 08:26:00 - mtdnn.modeling_mtdnn - INFO - predicting 100\n",
      "11/03/2020 08:26:03 - mtdnn.modeling_mtdnn - INFO - predicting 200\n",
      "11/03/2020 08:26:06 - mtdnn.modeling_mtdnn - INFO - predicting 300\n",
      "11/03/2020 08:26:08 - mtdnn.modeling_mtdnn - INFO - predicting 400\n",
      "11/03/2020 08:26:11 - mtdnn.modeling_mtdnn - INFO - predicting 500\n",
      "11/03/2020 08:26:14 - mtdnn.modeling_mtdnn - INFO - predicting 600\n",
      "11/03/2020 08:26:17 - mtdnn.modeling_mtdnn - INFO - predicting 700\n",
      "11/03/2020 08:26:20 - mtdnn.modeling_mtdnn - INFO - predicting 800\n",
      "11/03/2020 08:26:23 - mtdnn.modeling_mtdnn - INFO - predicting 900\n",
      "11/03/2020 08:26:26 - mtdnn.modeling_mtdnn - INFO - predicting 1000\n",
      "11/03/2020 08:26:29 - mtdnn.modeling_mtdnn - INFO - predicting 1100\n",
      "11/03/2020 08:26:31 - mtdnn.modeling_mtdnn - INFO - predicting 1200\n",
      "11/03/2020 08:26:33 - mtdnn.modeling_mtdnn - INFO - Task qqp -- Dev loss: 0.340\n",
      "11/03/2020 08:26:33 - mtdnn.modeling_mtdnn - INFO - Task qqp -- Dev ACC: 84.810\n",
      "11/03/2020 08:26:33 - mtdnn.modeling_mtdnn - INFO - Task qqp -- Dev F1: 78.645\n",
      "11/03/2020 08:26:33 - mtdnn.modeling_mtdnn - INFO - Dev loss: 0.48002524718825773\n",
      "11/03/2020 08:26:33 - mtdnn.modeling_mtdnn - INFO - Saving mt-dnn model to gs://cs330/checkpoint/11031951/model_1.pt\n",
      "11/03/2020 08:26:46 - mtdnn.modeling_mtdnn - INFO - model saved to gs://cs330/checkpoint/11031951/model_1.pt\n",
      "11/03/2020 08:26:46 - mtdnn.modeling_mtdnn - INFO - At epoch 2\n",
      "11/03/2020 08:26:46 - mtdnn.modeling_mtdnn - INFO - Amount of data to go over: 5725\n",
      "11/03/2020 08:28:02 - mtdnn.modeling_mtdnn - INFO - Task - [ 0] Updates - [  6000] Training Loss - [0.61078] Time Remaining - [0:24:53]\n",
      "11/03/2020 08:30:19 - mtdnn.modeling_mtdnn - INFO - Task - [ 3] Updates - [  6500] Training Loss - [0.59966] Time Remaining - [0:22:36]\n",
      "11/03/2020 08:34:03 - mtdnn.modeling_mtdnn - INFO - Task - [ 3] Updates - [  7000] Training Loss - [0.59094] Time Remaining - [0:25:23]\n",
      "11/03/2020 08:37:43 - mtdnn.modeling_mtdnn - INFO - Task - [ 0] Updates - [  7500] Training Loss - [0.58089] Time Remaining - [0:24:20]\n",
      "11/03/2020 08:40:03 - mtdnn.modeling_mtdnn - INFO - Task - [ 0] Updates - [  8000] Training Loss - [0.57132] Time Remaining - [0:20:07]\n",
      "11/03/2020 08:42:18 - mtdnn.modeling_mtdnn - INFO - Task - [ 3] Updates - [  8500] Training Loss - [0.56119] Time Remaining - [0:16:30]\n",
      "11/03/2020 08:44:34 - mtdnn.modeling_mtdnn - INFO - Task - [ 0] Updates - [  9000] Training Loss - [0.55121] Time Remaining - [0:13:18]\n",
      "11/03/2020 08:46:50 - mtdnn.modeling_mtdnn - INFO - Task - [ 0] Updates - [  9500] Training Loss - [0.54199] Time Remaining - [0:10:21]\n",
      "11/03/2020 08:49:05 - mtdnn.modeling_mtdnn - INFO - Task - [ 3] Updates - [ 10000] Training Loss - [0.53285] Time Remaining - [0:07:34]\n",
      "11/03/2020 08:51:20 - mtdnn.modeling_mtdnn - INFO - Task - [ 3] Updates - [ 10500] Training Loss - [0.52430] Time Remaining - [0:04:53]\n",
      "11/03/2020 08:53:36 - mtdnn.modeling_mtdnn - INFO - Task - [ 0] Updates - [ 11000] Training Loss - [0.51688] Time Remaining - [0:02:17]\n",
      "11/03/2020 08:55:37 - mtdnn.modeling_mtdnn - INFO - ===== End of EPOCH 2 =====\n",
      "11/03/2020 08:55:37 - mtdnn.modeling_mtdnn - INFO - Train loss (epoch avg): 0.5096637371874445\n",
      "11/03/2020 08:55:37 - mtdnn.modeling_mtdnn - INFO - Evaluating on dev ds 0: MNLI_MATCHED\n",
      "11/03/2020 08:55:37 - mtdnn.modeling_mtdnn - INFO - predicting 0\n",
      "11/03/2020 08:55:41 - mtdnn.modeling_mtdnn - INFO - predicting 100\n",
      "11/03/2020 08:55:44 - mtdnn.modeling_mtdnn - INFO - predicting 200\n",
      "11/03/2020 08:55:48 - mtdnn.modeling_mtdnn - INFO - predicting 300\n",
      "11/03/2020 08:55:52 - mtdnn.modeling_mtdnn - INFO - predicting 400\n",
      "11/03/2020 08:55:56 - mtdnn.modeling_mtdnn - INFO - predicting 500\n",
      "11/03/2020 08:55:59 - mtdnn.modeling_mtdnn - INFO - predicting 600\n",
      "11/03/2020 08:56:01 - mtdnn.modeling_mtdnn - INFO - Task mnli_matched -- Dev loss: 0.611\n",
      "11/03/2020 08:56:01 - mtdnn.modeling_mtdnn - INFO - Task mnli_matched -- Dev ACC: 77.420\n",
      "11/03/2020 08:56:01 - mtdnn.modeling_mtdnn - INFO - Evaluating on dev ds 1: MNLI_MISMATCHED\n",
      "11/03/2020 08:56:01 - mtdnn.modeling_mtdnn - INFO - predicting 0\n",
      "11/03/2020 08:56:04 - mtdnn.modeling_mtdnn - INFO - predicting 100\n"
     ]
    },
    {
     "name": "stdout",
     "output_type": "stream",
     "text": [
      "11/03/2020 08:56:08 - mtdnn.modeling_mtdnn - INFO - predicting 200\n",
      "11/03/2020 08:56:12 - mtdnn.modeling_mtdnn - INFO - predicting 300\n",
      "11/03/2020 08:56:16 - mtdnn.modeling_mtdnn - INFO - predicting 400\n",
      "11/03/2020 08:56:19 - mtdnn.modeling_mtdnn - INFO - predicting 500\n",
      "11/03/2020 08:56:23 - mtdnn.modeling_mtdnn - INFO - predicting 600\n",
      "11/03/2020 08:56:24 - mtdnn.modeling_mtdnn - INFO - Task mnli_mismatched -- Dev loss: 0.603\n",
      "11/03/2020 08:56:24 - mtdnn.modeling_mtdnn - INFO - Task mnli_mismatched -- Dev ACC: 77.840\n",
      "11/03/2020 08:56:24 - mtdnn.modeling_mtdnn - INFO - Evaluating on dev ds 2: MRPC\n",
      "11/03/2020 08:56:24 - mtdnn.modeling_mtdnn - INFO - predicting 0\n",
      "11/03/2020 08:56:27 - mtdnn.modeling_mtdnn - INFO - Task mrpc -- Dev loss: 0.466\n",
      "11/03/2020 08:56:27 - mtdnn.modeling_mtdnn - INFO - Task mrpc -- Dev ACC: 76.961\n",
      "11/03/2020 08:56:27 - mtdnn.modeling_mtdnn - INFO - Task mrpc -- Dev F1: 83.392\n",
      "11/03/2020 08:56:27 - mtdnn.modeling_mtdnn - INFO - Evaluating on dev ds 3: SST\n",
      "11/03/2020 08:56:27 - mtdnn.modeling_mtdnn - INFO - predicting 0\n",
      "11/03/2020 08:56:29 - mtdnn.modeling_mtdnn - INFO - predicting 100\n",
      "11/03/2020 08:56:31 - mtdnn.modeling_mtdnn - INFO - predicting 200\n",
      "11/03/2020 08:56:32 - mtdnn.modeling_mtdnn - INFO - Task sst -- Dev loss: 0.325\n",
      "11/03/2020 08:56:32 - mtdnn.modeling_mtdnn - INFO - Task sst -- Dev ACC: 90.250\n",
      "11/03/2020 08:56:32 - mtdnn.modeling_mtdnn - INFO - Evaluating on dev ds 4: QQP\n",
      "11/03/2020 08:56:32 - mtdnn.modeling_mtdnn - INFO - predicting 0\n",
      "11/03/2020 08:56:35 - mtdnn.modeling_mtdnn - INFO - predicting 100\n",
      "11/03/2020 08:56:38 - mtdnn.modeling_mtdnn - INFO - predicting 200\n",
      "11/03/2020 08:56:40 - mtdnn.modeling_mtdnn - INFO - predicting 300\n",
      "11/03/2020 08:56:43 - mtdnn.modeling_mtdnn - INFO - predicting 400\n",
      "11/03/2020 08:56:46 - mtdnn.modeling_mtdnn - INFO - predicting 500\n",
      "11/03/2020 08:56:49 - mtdnn.modeling_mtdnn - INFO - predicting 600\n",
      "11/03/2020 08:56:52 - mtdnn.modeling_mtdnn - INFO - predicting 700\n",
      "11/03/2020 08:56:55 - mtdnn.modeling_mtdnn - INFO - predicting 800\n",
      "11/03/2020 08:56:58 - mtdnn.modeling_mtdnn - INFO - predicting 900\n",
      "11/03/2020 08:57:00 - mtdnn.modeling_mtdnn - INFO - predicting 1000\n",
      "11/03/2020 08:57:03 - mtdnn.modeling_mtdnn - INFO - predicting 1100\n",
      "11/03/2020 08:57:06 - mtdnn.modeling_mtdnn - INFO - predicting 1200\n",
      "11/03/2020 08:57:08 - mtdnn.modeling_mtdnn - INFO - Task qqp -- Dev loss: 0.344\n",
      "11/03/2020 08:57:08 - mtdnn.modeling_mtdnn - INFO - Task qqp -- Dev ACC: 85.820\n",
      "11/03/2020 08:57:08 - mtdnn.modeling_mtdnn - INFO - Task qqp -- Dev F1: 81.352\n",
      "11/03/2020 08:57:08 - mtdnn.modeling_mtdnn - INFO - Dev loss: 0.46186243339851685\n",
      "11/03/2020 08:57:08 - mtdnn.modeling_mtdnn - INFO - Saving mt-dnn model to gs://cs330/checkpoint/11031951/model_2.pt\n",
      "11/03/2020 08:57:26 - mtdnn.modeling_mtdnn - INFO - model saved to gs://cs330/checkpoint/11031951/model_2.pt\n",
      "11/03/2020 08:57:27 - mtdnn.modeling_mtdnn - INFO - At epoch 3\n",
      "11/03/2020 08:57:27 - mtdnn.modeling_mtdnn - INFO - Amount of data to go over: 5725\n",
      "11/03/2020 08:57:40 - mtdnn.modeling_mtdnn - INFO - Task - [ 3] Updates - [ 11500] Training Loss - [0.50922] Time Remaining - [0:26:14]\n",
      "11/03/2020 08:59:57 - mtdnn.modeling_mtdnn - INFO - Task - [ 0] Updates - [ 12000] Training Loss - [0.50312] Time Remaining - [0:23:38]\n",
      "11/03/2020 09:02:13 - mtdnn.modeling_mtdnn - INFO - Task - [ 0] Updates - [ 12500] Training Loss - [0.49658] Time Remaining - [0:21:15]\n",
      "11/03/2020 09:04:27 - mtdnn.modeling_mtdnn - INFO - Task - [ 0] Updates - [ 13000] Training Loss - [0.49032] Time Remaining - [0:18:52]\n",
      "11/03/2020 09:06:43 - mtdnn.modeling_mtdnn - INFO - Task - [ 0] Updates - [ 13500] Training Loss - [0.48398] Time Remaining - [0:16:38]\n",
      "11/03/2020 09:08:56 - mtdnn.modeling_mtdnn - INFO - Task - [ 3] Updates - [ 14000] Training Loss - [0.47699] Time Remaining - [0:14:18]\n",
      "11/03/2020 09:11:11 - mtdnn.modeling_mtdnn - INFO - Task - [ 0] Updates - [ 14500] Training Loss - [0.47046] Time Remaining - [0:12:02]\n",
      "11/03/2020 09:13:27 - mtdnn.modeling_mtdnn - INFO - Task - [ 0] Updates - [ 15000] Training Loss - [0.46423] Time Remaining - [0:09:48]\n",
      "11/03/2020 09:15:44 - mtdnn.modeling_mtdnn - INFO - Task - [ 3] Updates - [ 15500] Training Loss - [0.45792] Time Remaining - [0:07:33]\n",
      "11/03/2020 09:17:59 - mtdnn.modeling_mtdnn - INFO - Task - [ 3] Updates - [ 16000] Training Loss - [0.45183] Time Remaining - [0:05:18]\n",
      "11/03/2020 09:20:13 - mtdnn.modeling_mtdnn - INFO - Task - [ 0] Updates - [ 16500] Training Loss - [0.44609] Time Remaining - [0:03:02]\n",
      "11/03/2020 09:22:26 - mtdnn.modeling_mtdnn - INFO - Task - [ 3] Updates - [ 17000] Training Loss - [0.44064] Time Remaining - [0:00:47]\n",
      "11/03/2020 09:23:14 - mtdnn.modeling_mtdnn - INFO - ===== End of EPOCH 3 =====\n",
      "11/03/2020 09:23:14 - mtdnn.modeling_mtdnn - INFO - Train loss (epoch avg): 0.4387067959105971\n",
      "11/03/2020 09:23:14 - mtdnn.modeling_mtdnn - INFO - Evaluating on dev ds 0: MNLI_MATCHED\n",
      "11/03/2020 09:23:14 - mtdnn.modeling_mtdnn - INFO - predicting 0\n",
      "11/03/2020 09:23:17 - mtdnn.modeling_mtdnn - INFO - predicting 100\n",
      "11/03/2020 09:23:21 - mtdnn.modeling_mtdnn - INFO - predicting 200\n",
      "11/03/2020 09:23:25 - mtdnn.modeling_mtdnn - INFO - predicting 300\n",
      "11/03/2020 09:23:28 - mtdnn.modeling_mtdnn - INFO - predicting 400\n",
      "11/03/2020 09:23:32 - mtdnn.modeling_mtdnn - INFO - predicting 500\n",
      "11/03/2020 09:23:36 - mtdnn.modeling_mtdnn - INFO - predicting 600\n",
      "11/03/2020 09:23:37 - mtdnn.modeling_mtdnn - INFO - Task mnli_matched -- Dev loss: 0.668\n",
      "11/03/2020 09:23:37 - mtdnn.modeling_mtdnn - INFO - Task mnli_matched -- Dev ACC: 78.240\n",
      "11/03/2020 09:23:37 - mtdnn.modeling_mtdnn - INFO - Evaluating on dev ds 1: MNLI_MISMATCHED\n",
      "11/03/2020 09:23:37 - mtdnn.modeling_mtdnn - INFO - predicting 0\n",
      "11/03/2020 09:23:41 - mtdnn.modeling_mtdnn - INFO - predicting 100\n",
      "11/03/2020 09:23:45 - mtdnn.modeling_mtdnn - INFO - predicting 200\n",
      "11/03/2020 09:23:49 - mtdnn.modeling_mtdnn - INFO - predicting 300\n",
      "11/03/2020 09:23:52 - mtdnn.modeling_mtdnn - INFO - predicting 400\n",
      "11/03/2020 09:23:56 - mtdnn.modeling_mtdnn - INFO - predicting 500\n",
      "11/03/2020 09:24:00 - mtdnn.modeling_mtdnn - INFO - predicting 600\n",
      "11/03/2020 09:24:01 - mtdnn.modeling_mtdnn - INFO - Task mnli_mismatched -- Dev loss: 0.667\n",
      "11/03/2020 09:24:01 - mtdnn.modeling_mtdnn - INFO - Task mnli_mismatched -- Dev ACC: 78.480\n",
      "11/03/2020 09:24:01 - mtdnn.modeling_mtdnn - INFO - Evaluating on dev ds 2: MRPC\n",
      "11/03/2020 09:24:01 - mtdnn.modeling_mtdnn - INFO - predicting 0\n",
      "11/03/2020 09:24:03 - mtdnn.modeling_mtdnn - INFO - Task mrpc -- Dev loss: 0.462\n",
      "11/03/2020 09:24:03 - mtdnn.modeling_mtdnn - INFO - Task mrpc -- Dev ACC: 79.902\n",
      "11/03/2020 09:24:03 - mtdnn.modeling_mtdnn - INFO - Task mrpc -- Dev F1: 85.664\n",
      "11/03/2020 09:24:03 - mtdnn.modeling_mtdnn - INFO - Evaluating on dev ds 3: SST\n",
      "11/03/2020 09:24:03 - mtdnn.modeling_mtdnn - INFO - predicting 0\n",
      "11/03/2020 09:24:05 - mtdnn.modeling_mtdnn - INFO - predicting 100\n",
      "11/03/2020 09:24:07 - mtdnn.modeling_mtdnn - INFO - predicting 200\n",
      "11/03/2020 09:24:09 - mtdnn.modeling_mtdnn - INFO - Task sst -- Dev loss: 0.404\n",
      "11/03/2020 09:24:09 - mtdnn.modeling_mtdnn - INFO - Task sst -- Dev ACC: 90.300\n",
      "11/03/2020 09:24:09 - mtdnn.modeling_mtdnn - INFO - Evaluating on dev ds 4: QQP\n",
      "11/03/2020 09:24:09 - mtdnn.modeling_mtdnn - INFO - predicting 0\n",
      "11/03/2020 09:24:11 - mtdnn.modeling_mtdnn - INFO - predicting 100\n",
      "11/03/2020 09:24:14 - mtdnn.modeling_mtdnn - INFO - predicting 200\n",
      "11/03/2020 09:24:17 - mtdnn.modeling_mtdnn - INFO - predicting 300\n",
      "11/03/2020 09:24:20 - mtdnn.modeling_mtdnn - INFO - predicting 400\n",
      "11/03/2020 09:24:23 - mtdnn.modeling_mtdnn - INFO - predicting 500\n",
      "11/03/2020 09:24:25 - mtdnn.modeling_mtdnn - INFO - predicting 600\n",
      "11/03/2020 09:24:28 - mtdnn.modeling_mtdnn - INFO - predicting 700\n",
      "11/03/2020 09:24:31 - mtdnn.modeling_mtdnn - INFO - predicting 800\n",
      "11/03/2020 09:24:34 - mtdnn.modeling_mtdnn - INFO - predicting 900\n",
      "11/03/2020 09:24:37 - mtdnn.modeling_mtdnn - INFO - predicting 1000\n",
      "11/03/2020 09:24:40 - mtdnn.modeling_mtdnn - INFO - predicting 1100\n",
      "11/03/2020 09:24:43 - mtdnn.modeling_mtdnn - INFO - predicting 1200\n",
      "11/03/2020 09:24:44 - mtdnn.modeling_mtdnn - INFO - Task qqp -- Dev loss: 0.421\n",
      "11/03/2020 09:24:44 - mtdnn.modeling_mtdnn - INFO - Task qqp -- Dev ACC: 86.470\n"
     ]
    },
    {
     "name": "stdout",
     "output_type": "stream",
     "text": [
      "11/03/2020 09:24:44 - mtdnn.modeling_mtdnn - INFO - Task qqp -- Dev F1: 81.509\n",
      "11/03/2020 09:24:44 - mtdnn.modeling_mtdnn - INFO - Dev loss: 0.530181315788358\n",
      "11/03/2020 09:24:44 - mtdnn.modeling_mtdnn - INFO - Saving mt-dnn model to gs://cs330/checkpoint/11031951/model_3.pt\n",
      "11/03/2020 09:25:03 - mtdnn.modeling_mtdnn - INFO - model saved to gs://cs330/checkpoint/11031951/model_3.pt\n",
      "11/03/2020 09:25:03 - mtdnn.modeling_mtdnn - INFO - At epoch 4\n",
      "11/03/2020 09:25:03 - mtdnn.modeling_mtdnn - INFO - Amount of data to go over: 5725\n",
      "11/03/2020 09:26:32 - mtdnn.modeling_mtdnn - INFO - Task - [ 2] Updates - [ 17500] Training Loss - [0.43598] Time Remaining - [0:24:40]\n",
      "11/03/2020 09:28:46 - mtdnn.modeling_mtdnn - INFO - Task - [ 3] Updates - [ 18000] Training Loss - [0.43111] Time Remaining - [0:22:09]\n",
      "11/03/2020 09:31:02 - mtdnn.modeling_mtdnn - INFO - Task - [ 3] Updates - [ 18500] Training Loss - [0.42675] Time Remaining - [0:19:55]\n",
      "11/03/2020 09:33:17 - mtdnn.modeling_mtdnn - INFO - Task - [ 2] Updates - [ 19000] Training Loss - [0.42198] Time Remaining - [0:17:35]\n",
      "11/03/2020 09:35:31 - mtdnn.modeling_mtdnn - INFO - Task - [ 0] Updates - [ 19500] Training Loss - [0.41698] Time Remaining - [0:15:19]\n",
      "11/03/2020 09:37:45 - mtdnn.modeling_mtdnn - INFO - Task - [ 0] Updates - [ 20000] Training Loss - [0.41212] Time Remaining - [0:13:03]\n",
      "11/03/2020 09:40:01 - mtdnn.modeling_mtdnn - INFO - Task - [ 0] Updates - [ 20500] Training Loss - [0.40704] Time Remaining - [0:10:48]\n",
      "11/03/2020 09:42:20 - mtdnn.modeling_mtdnn - INFO - Task - [ 3] Updates - [ 21000] Training Loss - [0.40228] Time Remaining - [0:08:35]\n",
      "11/03/2020 09:44:33 - mtdnn.modeling_mtdnn - INFO - Task - [ 0] Updates - [ 21500] Training Loss - [0.39773] Time Remaining - [0:06:18]\n",
      "11/03/2020 09:46:47 - mtdnn.modeling_mtdnn - INFO - Task - [ 3] Updates - [ 22000] Training Loss - [0.39315] Time Remaining - [0:04:03]\n",
      "11/03/2020 09:49:04 - mtdnn.modeling_mtdnn - INFO - Task - [ 0] Updates - [ 22500] Training Loss - [0.38918] Time Remaining - [0:01:48]\n",
      "11/03/2020 09:50:52 - mtdnn.modeling_mtdnn - INFO - ===== End of EPOCH 4 =====\n",
      "11/03/2020 09:50:52 - mtdnn.modeling_mtdnn - INFO - Train loss (epoch avg): 0.38572962104647573\n",
      "11/03/2020 09:50:52 - mtdnn.modeling_mtdnn - INFO - Evaluating on dev ds 0: MNLI_MATCHED\n",
      "11/03/2020 09:50:52 - mtdnn.modeling_mtdnn - INFO - predicting 0\n",
      "11/03/2020 09:50:56 - mtdnn.modeling_mtdnn - INFO - predicting 100\n",
      "11/03/2020 09:50:59 - mtdnn.modeling_mtdnn - INFO - predicting 200\n",
      "11/03/2020 09:51:03 - mtdnn.modeling_mtdnn - INFO - predicting 300\n",
      "11/03/2020 09:51:07 - mtdnn.modeling_mtdnn - INFO - predicting 400\n",
      "11/03/2020 09:51:11 - mtdnn.modeling_mtdnn - INFO - predicting 500\n",
      "11/03/2020 09:51:14 - mtdnn.modeling_mtdnn - INFO - predicting 600\n",
      "11/03/2020 09:51:15 - mtdnn.modeling_mtdnn - INFO - Task mnli_matched -- Dev loss: 0.747\n",
      "11/03/2020 09:51:15 - mtdnn.modeling_mtdnn - INFO - Task mnli_matched -- Dev ACC: 78.380\n",
      "11/03/2020 09:51:15 - mtdnn.modeling_mtdnn - INFO - Evaluating on dev ds 1: MNLI_MISMATCHED\n",
      "11/03/2020 09:51:15 - mtdnn.modeling_mtdnn - INFO - predicting 0\n",
      "11/03/2020 09:51:19 - mtdnn.modeling_mtdnn - INFO - predicting 100\n",
      "11/03/2020 09:51:23 - mtdnn.modeling_mtdnn - INFO - predicting 200\n",
      "11/03/2020 09:51:27 - mtdnn.modeling_mtdnn - INFO - predicting 300\n",
      "11/03/2020 09:51:30 - mtdnn.modeling_mtdnn - INFO - predicting 400\n",
      "11/03/2020 09:51:34 - mtdnn.modeling_mtdnn - INFO - predicting 500\n",
      "11/03/2020 09:51:38 - mtdnn.modeling_mtdnn - INFO - predicting 600\n",
      "11/03/2020 09:51:39 - mtdnn.modeling_mtdnn - INFO - Task mnli_mismatched -- Dev loss: 0.757\n",
      "11/03/2020 09:51:39 - mtdnn.modeling_mtdnn - INFO - Task mnli_mismatched -- Dev ACC: 78.080\n",
      "11/03/2020 09:51:39 - mtdnn.modeling_mtdnn - INFO - Evaluating on dev ds 2: MRPC\n",
      "11/03/2020 09:51:39 - mtdnn.modeling_mtdnn - INFO - predicting 0\n",
      "11/03/2020 09:51:41 - mtdnn.modeling_mtdnn - INFO - Task mrpc -- Dev loss: 0.514\n",
      "11/03/2020 09:51:41 - mtdnn.modeling_mtdnn - INFO - Task mrpc -- Dev ACC: 78.676\n",
      "11/03/2020 09:51:41 - mtdnn.modeling_mtdnn - INFO - Task mrpc -- Dev F1: 84.492\n",
      "11/03/2020 09:51:41 - mtdnn.modeling_mtdnn - INFO - Evaluating on dev ds 3: SST\n",
      "11/03/2020 09:51:41 - mtdnn.modeling_mtdnn - INFO - predicting 0\n",
      "11/03/2020 09:51:44 - mtdnn.modeling_mtdnn - INFO - predicting 100\n",
      "11/03/2020 09:51:45 - mtdnn.modeling_mtdnn - INFO - predicting 200\n",
      "11/03/2020 09:51:47 - mtdnn.modeling_mtdnn - INFO - Task sst -- Dev loss: 0.428\n",
      "11/03/2020 09:51:47 - mtdnn.modeling_mtdnn - INFO - Task sst -- Dev ACC: 90.150\n",
      "11/03/2020 09:51:47 - mtdnn.modeling_mtdnn - INFO - Evaluating on dev ds 4: QQP\n",
      "11/03/2020 09:51:47 - mtdnn.modeling_mtdnn - INFO - predicting 0\n",
      "11/03/2020 09:51:49 - mtdnn.modeling_mtdnn - INFO - predicting 100\n",
      "11/03/2020 09:51:52 - mtdnn.modeling_mtdnn - INFO - predicting 200\n",
      "11/03/2020 09:51:55 - mtdnn.modeling_mtdnn - INFO - predicting 300\n",
      "11/03/2020 09:51:58 - mtdnn.modeling_mtdnn - INFO - predicting 400\n",
      "11/03/2020 09:52:01 - mtdnn.modeling_mtdnn - INFO - predicting 500\n",
      "11/03/2020 09:52:03 - mtdnn.modeling_mtdnn - INFO - predicting 600\n",
      "11/03/2020 09:52:06 - mtdnn.modeling_mtdnn - INFO - predicting 700\n",
      "11/03/2020 09:52:09 - mtdnn.modeling_mtdnn - INFO - predicting 800\n",
      "11/03/2020 09:52:12 - mtdnn.modeling_mtdnn - INFO - predicting 900\n",
      "11/03/2020 09:52:15 - mtdnn.modeling_mtdnn - INFO - predicting 1000\n",
      "11/03/2020 09:52:18 - mtdnn.modeling_mtdnn - INFO - predicting 1100\n",
      "11/03/2020 09:52:21 - mtdnn.modeling_mtdnn - INFO - predicting 1200\n",
      "11/03/2020 09:52:22 - mtdnn.modeling_mtdnn - INFO - Task qqp -- Dev loss: 0.502\n",
      "11/03/2020 09:52:22 - mtdnn.modeling_mtdnn - INFO - Task qqp -- Dev ACC: 86.730\n",
      "11/03/2020 09:52:22 - mtdnn.modeling_mtdnn - INFO - Task qqp -- Dev F1: 81.849\n",
      "11/03/2020 09:52:22 - mtdnn.modeling_mtdnn - INFO - Dev loss: 0.6071523745647204\n",
      "11/03/2020 09:52:22 - mtdnn.modeling_mtdnn - INFO - Saving mt-dnn model to gs://cs330/checkpoint/11031951/model_4.pt\n",
      "11/03/2020 09:52:39 - mtdnn.modeling_mtdnn - INFO - model saved to gs://cs330/checkpoint/11031951/model_4.pt\n",
      "11/03/2020 09:52:39 - mtdnn.modeling_mtdnn - INFO - At epoch 5\n",
      "11/03/2020 09:52:39 - mtdnn.modeling_mtdnn - INFO - Amount of data to go over: 5725\n",
      "11/03/2020 09:53:06 - mtdnn.modeling_mtdnn - INFO - Task - [ 0] Updates - [ 23000] Training Loss - [0.38493] Time Remaining - [0:25:11]\n",
      "11/03/2020 09:55:21 - mtdnn.modeling_mtdnn - INFO - Task - [ 0] Updates - [ 23500] Training Loss - [0.38155] Time Remaining - [0:23:07]\n",
      "11/03/2020 09:57:38 - mtdnn.modeling_mtdnn - INFO - Task - [ 3] Updates - [ 24000] Training Loss - [0.37792] Time Remaining - [0:20:58]\n",
      "11/03/2020 09:59:54 - mtdnn.modeling_mtdnn - INFO - Task - [ 3] Updates - [ 24500] Training Loss - [0.37488] Time Remaining - [0:18:40]\n",
      "11/03/2020 10:02:08 - mtdnn.modeling_mtdnn - INFO - Task - [ 2] Updates - [ 25000] Training Loss - [0.37110] Time Remaining - [0:16:21]\n",
      "11/03/2020 10:04:22 - mtdnn.modeling_mtdnn - INFO - Task - [ 0] Updates - [ 25500] Training Loss - [0.36729] Time Remaining - [0:14:04]\n",
      "11/03/2020 10:06:37 - mtdnn.modeling_mtdnn - INFO - Task - [ 3] Updates - [ 26000] Training Loss - [0.36366] Time Remaining - [0:11:49]\n",
      "11/03/2020 10:08:55 - mtdnn.modeling_mtdnn - INFO - Task - [ 0] Updates - [ 26500] Training Loss - [0.36018] Time Remaining - [0:09:35]\n",
      "11/03/2020 10:11:09 - mtdnn.modeling_mtdnn - INFO - Task - [ 0] Updates - [ 27000] Training Loss - [0.35637] Time Remaining - [0:07:19]\n",
      "11/03/2020 10:13:22 - mtdnn.modeling_mtdnn - INFO - Task - [ 0] Updates - [ 27500] Training Loss - [0.35274] Time Remaining - [0:05:04]\n",
      "11/03/2020 10:15:35 - mtdnn.modeling_mtdnn - INFO - Task - [ 2] Updates - [ 28000] Training Loss - [0.34955] Time Remaining - [0:02:48]\n",
      "11/03/2020 10:17:50 - mtdnn.modeling_mtdnn - INFO - Task - [ 0] Updates - [ 28500] Training Loss - [0.34653] Time Remaining - [0:00:33]\n",
      "11/03/2020 10:18:25 - mtdnn.modeling_mtdnn - INFO - ===== End of EPOCH 5 =====\n",
      "11/03/2020 10:18:25 - mtdnn.modeling_mtdnn - INFO - Train loss (epoch avg): 0.34570211617073293\n",
      "11/03/2020 10:18:25 - mtdnn.modeling_mtdnn - INFO - Evaluating on dev ds 0: MNLI_MATCHED\n",
      "11/03/2020 10:18:25 - mtdnn.modeling_mtdnn - INFO - predicting 0\n",
      "11/03/2020 10:18:29 - mtdnn.modeling_mtdnn - INFO - predicting 100\n",
      "11/03/2020 10:18:32 - mtdnn.modeling_mtdnn - INFO - predicting 200\n"
     ]
    },
    {
     "name": "stdout",
     "output_type": "stream",
     "text": [
      "11/03/2020 10:18:36 - mtdnn.modeling_mtdnn - INFO - predicting 300\n",
      "11/03/2020 10:18:40 - mtdnn.modeling_mtdnn - INFO - predicting 400\n",
      "11/03/2020 10:18:44 - mtdnn.modeling_mtdnn - INFO - predicting 500\n",
      "11/03/2020 10:18:47 - mtdnn.modeling_mtdnn - INFO - predicting 600\n",
      "11/03/2020 10:18:49 - mtdnn.modeling_mtdnn - INFO - Task mnli_matched -- Dev loss: 0.782\n",
      "11/03/2020 10:18:49 - mtdnn.modeling_mtdnn - INFO - Task mnli_matched -- Dev ACC: 78.700\n",
      "11/03/2020 10:18:49 - mtdnn.modeling_mtdnn - INFO - Evaluating on dev ds 1: MNLI_MISMATCHED\n",
      "11/03/2020 10:18:49 - mtdnn.modeling_mtdnn - INFO - predicting 0\n",
      "11/03/2020 10:18:52 - mtdnn.modeling_mtdnn - INFO - predicting 100\n",
      "11/03/2020 10:18:56 - mtdnn.modeling_mtdnn - INFO - predicting 200\n",
      "11/03/2020 10:19:00 - mtdnn.modeling_mtdnn - INFO - predicting 300\n",
      "11/03/2020 10:19:04 - mtdnn.modeling_mtdnn - INFO - predicting 400\n",
      "11/03/2020 10:19:07 - mtdnn.modeling_mtdnn - INFO - predicting 500\n",
      "11/03/2020 10:19:11 - mtdnn.modeling_mtdnn - INFO - predicting 600\n",
      "11/03/2020 10:19:12 - mtdnn.modeling_mtdnn - INFO - Task mnli_mismatched -- Dev loss: 0.781\n",
      "11/03/2020 10:19:12 - mtdnn.modeling_mtdnn - INFO - Task mnli_mismatched -- Dev ACC: 78.380\n",
      "11/03/2020 10:19:12 - mtdnn.modeling_mtdnn - INFO - Evaluating on dev ds 2: MRPC\n",
      "11/03/2020 10:19:12 - mtdnn.modeling_mtdnn - INFO - predicting 0\n",
      "11/03/2020 10:19:15 - mtdnn.modeling_mtdnn - INFO - Task mrpc -- Dev loss: 0.579\n",
      "11/03/2020 10:19:15 - mtdnn.modeling_mtdnn - INFO - Task mrpc -- Dev ACC: 78.431\n",
      "11/03/2020 10:19:15 - mtdnn.modeling_mtdnn - INFO - Task mrpc -- Dev F1: 84.229\n",
      "11/03/2020 10:19:15 - mtdnn.modeling_mtdnn - INFO - Evaluating on dev ds 3: SST\n",
      "11/03/2020 10:19:15 - mtdnn.modeling_mtdnn - INFO - predicting 0\n",
      "11/03/2020 10:19:17 - mtdnn.modeling_mtdnn - INFO - predicting 100\n",
      "11/03/2020 10:19:19 - mtdnn.modeling_mtdnn - INFO - predicting 200\n",
      "11/03/2020 10:19:20 - mtdnn.modeling_mtdnn - INFO - Task sst -- Dev loss: 0.465\n",
      "11/03/2020 10:19:20 - mtdnn.modeling_mtdnn - INFO - Task sst -- Dev ACC: 89.950\n",
      "11/03/2020 10:19:20 - mtdnn.modeling_mtdnn - INFO - Evaluating on dev ds 4: QQP\n",
      "11/03/2020 10:19:20 - mtdnn.modeling_mtdnn - INFO - predicting 0\n",
      "11/03/2020 10:19:23 - mtdnn.modeling_mtdnn - INFO - predicting 100\n",
      "11/03/2020 10:19:26 - mtdnn.modeling_mtdnn - INFO - predicting 200\n",
      "11/03/2020 10:19:28 - mtdnn.modeling_mtdnn - INFO - predicting 300\n",
      "11/03/2020 10:19:31 - mtdnn.modeling_mtdnn - INFO - predicting 400\n",
      "11/03/2020 10:19:34 - mtdnn.modeling_mtdnn - INFO - predicting 500\n",
      "11/03/2020 10:19:37 - mtdnn.modeling_mtdnn - INFO - predicting 600\n",
      "11/03/2020 10:19:40 - mtdnn.modeling_mtdnn - INFO - predicting 700\n",
      "11/03/2020 10:19:43 - mtdnn.modeling_mtdnn - INFO - predicting 800\n",
      "11/03/2020 10:19:46 - mtdnn.modeling_mtdnn - INFO - predicting 900\n",
      "11/03/2020 10:19:49 - mtdnn.modeling_mtdnn - INFO - predicting 1000\n",
      "11/03/2020 10:19:52 - mtdnn.modeling_mtdnn - INFO - predicting 1100\n",
      "11/03/2020 10:19:55 - mtdnn.modeling_mtdnn - INFO - predicting 1200\n",
      "11/03/2020 10:19:57 - mtdnn.modeling_mtdnn - INFO - Task qqp -- Dev loss: 0.524\n",
      "11/03/2020 10:19:57 - mtdnn.modeling_mtdnn - INFO - Task qqp -- Dev ACC: 86.800\n",
      "11/03/2020 10:19:57 - mtdnn.modeling_mtdnn - INFO - Task qqp -- Dev F1: 82.191\n",
      "11/03/2020 10:19:57 - mtdnn.modeling_mtdnn - INFO - Dev loss: 0.6345252582315181\n",
      "11/03/2020 10:19:57 - mtdnn.modeling_mtdnn - INFO - Saving mt-dnn model to gs://cs330/checkpoint/11031951/model_5.pt\n",
      "11/03/2020 10:20:15 - mtdnn.modeling_mtdnn - INFO - model saved to gs://cs330/checkpoint/11031951/model_5.pt\n"
     ]
    }
   ],
   "source": [
    "model.fit(epochs=NUM_EPOCHS)"
   ]
  },
  {
   "cell_type": "markdown",
   "metadata": {},
   "source": [
    "### Evaluation and Prediction\n",
    "Perform inference using the last/best checkpointed model. The epochs are 1-indexed.\n",
    "\n",
    "With 5 epochs, the *last* model would be `model_5.pt`.\n",
    "\n",
    "Identify *best* checkpoint from wandb logs."
   ]
  },
  {
   "cell_type": "code",
   "execution_count": 20,
   "metadata": {},
   "outputs": [],
   "source": [
    "BEST_CHECKPOINT_EPOCH = 3 # set to None if want to default to last"
   ]
  },
  {
   "cell_type": "code",
   "execution_count": 21,
   "metadata": {},
   "outputs": [],
   "source": [
    "EVAL_CHECKPOINT = NUM_EPOCHS if BEST_CHECKPOINT_EPOCH is None else BEST_CHECKPOINT_EPOCH"
   ]
  },
  {
   "cell_type": "code",
   "execution_count": 23,
   "metadata": {
    "scrolled": true
   },
   "outputs": [
    {
     "name": "stdout",
     "output_type": "stream",
     "text": [
      "11/03/2020 10:26:27 - mtdnn.modeling_mtdnn - INFO - Running predictions using: gs://cs330/checkpoint/11031951/model_3.pt. This may take 3 minutes.\n",
      "11/03/2020 10:29:35 - mtdnn.modeling_mtdnn - INFO - Checkpoint loaded.\n",
      "11/03/2020 10:29:35 - mtdnn.modeling_mtdnn - INFO - predicting 0\n",
      "11/03/2020 10:29:39 - mtdnn.modeling_mtdnn - INFO - predicting 100\n",
      "11/03/2020 10:29:43 - mtdnn.modeling_mtdnn - INFO - predicting 200\n",
      "11/03/2020 10:29:46 - mtdnn.modeling_mtdnn - INFO - predicting 300\n",
      "11/03/2020 10:29:50 - mtdnn.modeling_mtdnn - INFO - predicting 400\n",
      "11/03/2020 10:29:54 - mtdnn.modeling_mtdnn - INFO - predicting 500\n",
      "11/03/2020 10:29:57 - mtdnn.modeling_mtdnn - INFO - predicting 600\n",
      "11/03/2020 10:30:01 - mtdnn.modeling_mtdnn - INFO - predicting 700\n",
      "11/03/2020 10:30:05 - mtdnn.modeling_mtdnn - INFO - predicting 800\n",
      "11/03/2020 10:30:09 - mtdnn.modeling_mtdnn - INFO - predicting 900\n",
      "11/03/2020 10:30:13 - mtdnn.modeling_mtdnn - INFO - predicting 1000\n",
      "11/03/2020 10:30:17 - mtdnn.modeling_mtdnn - INFO - predicting 1100\n",
      "11/03/2020 10:30:21 - mtdnn.modeling_mtdnn - INFO - predicting 1200\n",
      "11/03/2020 10:30:22 - mtdnn.modeling_mtdnn - INFO - [new test scores saved for mnli_matched.]\n",
      "11/03/2020 10:30:22 - mtdnn.modeling_mtdnn - INFO - predicting 0\n",
      "11/03/2020 10:30:26 - mtdnn.modeling_mtdnn - INFO - predicting 100\n",
      "11/03/2020 10:30:30 - mtdnn.modeling_mtdnn - INFO - predicting 200\n",
      "11/03/2020 10:30:34 - mtdnn.modeling_mtdnn - INFO - predicting 300\n",
      "11/03/2020 10:30:37 - mtdnn.modeling_mtdnn - INFO - predicting 400\n",
      "11/03/2020 10:30:41 - mtdnn.modeling_mtdnn - INFO - predicting 500\n",
      "11/03/2020 10:30:45 - mtdnn.modeling_mtdnn - INFO - predicting 600\n",
      "11/03/2020 10:30:49 - mtdnn.modeling_mtdnn - INFO - predicting 700\n",
      "11/03/2020 10:30:52 - mtdnn.modeling_mtdnn - INFO - predicting 800\n",
      "11/03/2020 10:30:56 - mtdnn.modeling_mtdnn - INFO - predicting 900\n",
      "11/03/2020 10:31:00 - mtdnn.modeling_mtdnn - INFO - predicting 1000\n",
      "11/03/2020 10:31:04 - mtdnn.modeling_mtdnn - INFO - predicting 1100\n",
      "11/03/2020 10:31:08 - mtdnn.modeling_mtdnn - INFO - predicting 1200\n",
      "11/03/2020 10:31:10 - mtdnn.modeling_mtdnn - INFO - [new test scores saved for mnli_mismatched.]\n",
      "11/03/2020 10:31:10 - mtdnn.modeling_mtdnn - INFO - predicting 0\n",
      "11/03/2020 10:31:14 - mtdnn.modeling_mtdnn - INFO - predicting 100\n",
      "11/03/2020 10:31:17 - mtdnn.modeling_mtdnn - INFO - predicting 200\n",
      "11/03/2020 10:31:18 - mtdnn.modeling_mtdnn - INFO - [new test scores saved for mrpc.]\n",
      "11/03/2020 10:31:18 - mtdnn.modeling_mtdnn - INFO - predicting 0\n",
      "11/03/2020 10:31:21 - mtdnn.modeling_mtdnn - INFO - predicting 100\n",
      "11/03/2020 10:31:23 - mtdnn.modeling_mtdnn - INFO - predicting 200\n",
      "11/03/2020 10:31:24 - mtdnn.modeling_mtdnn - INFO - [new test scores saved for sst.]\n",
      "11/03/2020 10:31:24 - mtdnn.modeling_mtdnn - INFO - predicting 0\n",
      "11/03/2020 10:31:27 - mtdnn.modeling_mtdnn - INFO - predicting 100\n",
      "11/03/2020 10:31:30 - mtdnn.modeling_mtdnn - INFO - predicting 200\n",
      "11/03/2020 10:31:34 - mtdnn.modeling_mtdnn - INFO - predicting 300\n",
      "11/03/2020 10:31:37 - mtdnn.modeling_mtdnn - INFO - predicting 400\n",
      "11/03/2020 10:31:40 - mtdnn.modeling_mtdnn - INFO - predicting 500\n",
      "11/03/2020 10:31:43 - mtdnn.modeling_mtdnn - INFO - predicting 600\n",
      "11/03/2020 10:31:46 - mtdnn.modeling_mtdnn - INFO - predicting 700\n",
      "11/03/2020 10:31:49 - mtdnn.modeling_mtdnn - INFO - predicting 800\n",
      "11/03/2020 10:31:52 - mtdnn.modeling_mtdnn - INFO - predicting 900\n",
      "11/03/2020 10:31:55 - mtdnn.modeling_mtdnn - INFO - predicting 1000\n",
      "11/03/2020 10:31:58 - mtdnn.modeling_mtdnn - INFO - predicting 1100\n",
      "11/03/2020 10:32:01 - mtdnn.modeling_mtdnn - INFO - predicting 1200\n",
      "11/03/2020 10:32:04 - mtdnn.modeling_mtdnn - INFO - predicting 1300\n",
      "11/03/2020 10:32:07 - mtdnn.modeling_mtdnn - INFO - predicting 1400\n",
      "11/03/2020 10:32:10 - mtdnn.modeling_mtdnn - INFO - predicting 1500\n",
      "11/03/2020 10:32:13 - mtdnn.modeling_mtdnn - INFO - predicting 1600\n",
      "11/03/2020 10:32:17 - mtdnn.modeling_mtdnn - INFO - predicting 1700\n",
      "11/03/2020 10:32:20 - mtdnn.modeling_mtdnn - INFO - predicting 1800\n",
      "11/03/2020 10:32:23 - mtdnn.modeling_mtdnn - INFO - predicting 1900\n",
      "11/03/2020 10:32:26 - mtdnn.modeling_mtdnn - INFO - predicting 2000\n",
      "11/03/2020 10:32:29 - mtdnn.modeling_mtdnn - INFO - predicting 2100\n",
      "11/03/2020 10:32:32 - mtdnn.modeling_mtdnn - INFO - predicting 2200\n",
      "11/03/2020 10:32:35 - mtdnn.modeling_mtdnn - INFO - predicting 2300\n",
      "11/03/2020 10:32:38 - mtdnn.modeling_mtdnn - INFO - predicting 2400\n",
      "11/03/2020 10:32:41 - mtdnn.modeling_mtdnn - INFO - predicting 2500\n",
      "11/03/2020 10:32:44 - mtdnn.modeling_mtdnn - INFO - predicting 2600\n",
      "11/03/2020 10:32:47 - mtdnn.modeling_mtdnn - INFO - predicting 2700\n",
      "11/03/2020 10:32:49 - mtdnn.modeling_mtdnn - INFO - predicting 2800\n",
      "11/03/2020 10:32:53 - mtdnn.modeling_mtdnn - INFO - predicting 2900\n",
      "11/03/2020 10:32:56 - mtdnn.modeling_mtdnn - INFO - predicting 3000\n",
      "11/03/2020 10:32:59 - mtdnn.modeling_mtdnn - INFO - predicting 3100\n",
      "11/03/2020 10:33:02 - mtdnn.modeling_mtdnn - INFO - predicting 3200\n",
      "11/03/2020 10:33:05 - mtdnn.modeling_mtdnn - INFO - predicting 3300\n",
      "11/03/2020 10:33:08 - mtdnn.modeling_mtdnn - INFO - predicting 3400\n",
      "11/03/2020 10:33:11 - mtdnn.modeling_mtdnn - INFO - predicting 3500\n",
      "11/03/2020 10:33:14 - mtdnn.modeling_mtdnn - INFO - predicting 3600\n",
      "11/03/2020 10:33:17 - mtdnn.modeling_mtdnn - INFO - predicting 3700\n",
      "11/03/2020 10:33:20 - mtdnn.modeling_mtdnn - INFO - predicting 3800\n",
      "11/03/2020 10:33:23 - mtdnn.modeling_mtdnn - INFO - predicting 3900\n",
      "11/03/2020 10:33:26 - mtdnn.modeling_mtdnn - INFO - predicting 4000\n",
      "11/03/2020 10:33:29 - mtdnn.modeling_mtdnn - INFO - predicting 4100\n",
      "11/03/2020 10:33:32 - mtdnn.modeling_mtdnn - INFO - predicting 4200\n",
      "11/03/2020 10:33:34 - mtdnn.modeling_mtdnn - INFO - predicting 4300\n",
      "11/03/2020 10:33:37 - mtdnn.modeling_mtdnn - INFO - predicting 4400\n",
      "11/03/2020 10:33:41 - mtdnn.modeling_mtdnn - INFO - predicting 4500\n",
      "11/03/2020 10:33:44 - mtdnn.modeling_mtdnn - INFO - predicting 4600\n",
      "11/03/2020 10:33:47 - mtdnn.modeling_mtdnn - INFO - predicting 4700\n",
      "11/03/2020 10:33:50 - mtdnn.modeling_mtdnn - INFO - predicting 4800\n",
      "11/03/2020 10:33:53 - mtdnn.modeling_mtdnn - INFO - predicting 4900\n",
      "11/03/2020 10:33:55 - mtdnn.modeling_mtdnn - INFO - predicting 5000\n",
      "11/03/2020 10:33:58 - mtdnn.modeling_mtdnn - INFO - predicting 5100\n",
      "11/03/2020 10:34:01 - mtdnn.modeling_mtdnn - INFO - predicting 5200\n",
      "11/03/2020 10:34:04 - mtdnn.modeling_mtdnn - INFO - predicting 5300\n",
      "11/03/2020 10:34:07 - mtdnn.modeling_mtdnn - INFO - predicting 5400\n",
      "11/03/2020 10:34:10 - mtdnn.modeling_mtdnn - INFO - predicting 5500\n",
      "11/03/2020 10:34:13 - mtdnn.modeling_mtdnn - INFO - predicting 5600\n",
      "11/03/2020 10:34:16 - mtdnn.modeling_mtdnn - INFO - predicting 5700\n",
      "11/03/2020 10:34:19 - mtdnn.modeling_mtdnn - INFO - predicting 5800\n",
      "11/03/2020 10:34:22 - mtdnn.modeling_mtdnn - INFO - predicting 5900\n",
      "11/03/2020 10:34:25 - mtdnn.modeling_mtdnn - INFO - predicting 6000\n",
      "11/03/2020 10:34:28 - mtdnn.modeling_mtdnn - INFO - predicting 6100\n",
      "11/03/2020 10:34:31 - mtdnn.modeling_mtdnn - INFO - predicting 6200\n",
      "11/03/2020 10:34:34 - mtdnn.modeling_mtdnn - INFO - predicting 6300\n",
      "11/03/2020 10:34:37 - mtdnn.modeling_mtdnn - INFO - predicting 6400\n",
      "11/03/2020 10:34:40 - mtdnn.modeling_mtdnn - INFO - predicting 6500\n",
      "11/03/2020 10:34:43 - mtdnn.modeling_mtdnn - INFO - predicting 6600\n",
      "11/03/2020 10:34:46 - mtdnn.modeling_mtdnn - INFO - predicting 6700\n",
      "11/03/2020 10:34:49 - mtdnn.modeling_mtdnn - INFO - predicting 6800\n",
      "11/03/2020 10:34:52 - mtdnn.modeling_mtdnn - INFO - predicting 6900\n",
      "11/03/2020 10:34:55 - mtdnn.modeling_mtdnn - INFO - predicting 7000\n",
      "11/03/2020 10:34:58 - mtdnn.modeling_mtdnn - INFO - predicting 7100\n",
      "11/03/2020 10:35:01 - mtdnn.modeling_mtdnn - INFO - predicting 7200\n",
      "11/03/2020 10:35:04 - mtdnn.modeling_mtdnn - INFO - predicting 7300\n",
      "11/03/2020 10:35:07 - mtdnn.modeling_mtdnn - INFO - predicting 7400\n",
      "11/03/2020 10:35:10 - mtdnn.modeling_mtdnn - INFO - predicting 7500\n",
      "11/03/2020 10:35:13 - mtdnn.modeling_mtdnn - INFO - predicting 7600\n",
      "11/03/2020 10:35:16 - mtdnn.modeling_mtdnn - INFO - predicting 7700\n",
      "11/03/2020 10:35:19 - mtdnn.modeling_mtdnn - INFO - predicting 7800\n",
      "11/03/2020 10:35:22 - mtdnn.modeling_mtdnn - INFO - predicting 7900\n",
      "11/03/2020 10:35:25 - mtdnn.modeling_mtdnn - INFO - predicting 8000\n"
     ]
    },
    {
     "name": "stdout",
     "output_type": "stream",
     "text": [
      "11/03/2020 10:35:28 - mtdnn.modeling_mtdnn - INFO - predicting 8100\n",
      "11/03/2020 10:35:31 - mtdnn.modeling_mtdnn - INFO - predicting 8200\n",
      "11/03/2020 10:35:34 - mtdnn.modeling_mtdnn - INFO - predicting 8300\n",
      "11/03/2020 10:35:37 - mtdnn.modeling_mtdnn - INFO - predicting 8400\n",
      "11/03/2020 10:35:40 - mtdnn.modeling_mtdnn - INFO - predicting 8500\n",
      "11/03/2020 10:35:43 - mtdnn.modeling_mtdnn - INFO - predicting 8600\n",
      "11/03/2020 10:35:46 - mtdnn.modeling_mtdnn - INFO - predicting 8700\n",
      "11/03/2020 10:35:49 - mtdnn.modeling_mtdnn - INFO - predicting 8800\n",
      "11/03/2020 10:35:51 - mtdnn.modeling_mtdnn - INFO - predicting 8900\n",
      "11/03/2020 10:35:54 - mtdnn.modeling_mtdnn - INFO - predicting 9000\n",
      "11/03/2020 10:35:57 - mtdnn.modeling_mtdnn - INFO - predicting 9100\n",
      "11/03/2020 10:36:00 - mtdnn.modeling_mtdnn - INFO - predicting 9200\n",
      "11/03/2020 10:36:03 - mtdnn.modeling_mtdnn - INFO - predicting 9300\n",
      "11/03/2020 10:36:06 - mtdnn.modeling_mtdnn - INFO - predicting 9400\n",
      "11/03/2020 10:36:08 - mtdnn.modeling_mtdnn - INFO - predicting 9500\n",
      "11/03/2020 10:36:11 - mtdnn.modeling_mtdnn - INFO - predicting 9600\n",
      "11/03/2020 10:36:14 - mtdnn.modeling_mtdnn - INFO - predicting 9700\n",
      "11/03/2020 10:36:17 - mtdnn.modeling_mtdnn - INFO - predicting 9800\n",
      "11/03/2020 10:36:19 - mtdnn.modeling_mtdnn - INFO - predicting 9900\n",
      "11/03/2020 10:36:22 - mtdnn.modeling_mtdnn - INFO - predicting 10000\n",
      "11/03/2020 10:36:25 - mtdnn.modeling_mtdnn - INFO - predicting 10100\n",
      "11/03/2020 10:36:28 - mtdnn.modeling_mtdnn - INFO - predicting 10200\n",
      "11/03/2020 10:36:31 - mtdnn.modeling_mtdnn - INFO - predicting 10300\n",
      "11/03/2020 10:36:34 - mtdnn.modeling_mtdnn - INFO - predicting 10400\n",
      "11/03/2020 10:36:36 - mtdnn.modeling_mtdnn - INFO - predicting 10500\n",
      "11/03/2020 10:36:39 - mtdnn.modeling_mtdnn - INFO - predicting 10600\n",
      "11/03/2020 10:36:42 - mtdnn.modeling_mtdnn - INFO - predicting 10700\n",
      "11/03/2020 10:36:45 - mtdnn.modeling_mtdnn - INFO - predicting 10800\n",
      "11/03/2020 10:36:47 - mtdnn.modeling_mtdnn - INFO - predicting 10900\n",
      "11/03/2020 10:36:50 - mtdnn.modeling_mtdnn - INFO - predicting 11000\n",
      "11/03/2020 10:36:53 - mtdnn.modeling_mtdnn - INFO - predicting 11100\n",
      "11/03/2020 10:36:56 - mtdnn.modeling_mtdnn - INFO - predicting 11200\n",
      "11/03/2020 10:36:59 - mtdnn.modeling_mtdnn - INFO - predicting 11300\n",
      "11/03/2020 10:37:02 - mtdnn.modeling_mtdnn - INFO - predicting 11400\n",
      "11/03/2020 10:37:05 - mtdnn.modeling_mtdnn - INFO - predicting 11500\n",
      "11/03/2020 10:37:08 - mtdnn.modeling_mtdnn - INFO - predicting 11600\n",
      "11/03/2020 10:37:10 - mtdnn.modeling_mtdnn - INFO - predicting 11700\n",
      "11/03/2020 10:37:13 - mtdnn.modeling_mtdnn - INFO - predicting 11800\n",
      "11/03/2020 10:37:16 - mtdnn.modeling_mtdnn - INFO - predicting 11900\n",
      "11/03/2020 10:37:19 - mtdnn.modeling_mtdnn - INFO - predicting 12000\n",
      "11/03/2020 10:37:22 - mtdnn.modeling_mtdnn - INFO - predicting 12100\n",
      "11/03/2020 10:37:25 - mtdnn.modeling_mtdnn - INFO - predicting 12200\n",
      "11/03/2020 10:37:28 - mtdnn.modeling_mtdnn - INFO - predicting 12300\n",
      "11/03/2020 10:37:30 - mtdnn.modeling_mtdnn - INFO - predicting 12400\n",
      "11/03/2020 10:37:33 - mtdnn.modeling_mtdnn - INFO - predicting 12500\n",
      "11/03/2020 10:37:36 - mtdnn.modeling_mtdnn - INFO - predicting 12600\n",
      "11/03/2020 10:37:39 - mtdnn.modeling_mtdnn - INFO - predicting 12700\n",
      "11/03/2020 10:37:42 - mtdnn.modeling_mtdnn - INFO - predicting 12800\n",
      "11/03/2020 10:37:45 - mtdnn.modeling_mtdnn - INFO - predicting 12900\n",
      "11/03/2020 10:37:47 - mtdnn.modeling_mtdnn - INFO - predicting 13000\n",
      "11/03/2020 10:37:50 - mtdnn.modeling_mtdnn - INFO - predicting 13100\n",
      "11/03/2020 10:37:53 - mtdnn.modeling_mtdnn - INFO - predicting 13200\n",
      "11/03/2020 10:37:56 - mtdnn.modeling_mtdnn - INFO - predicting 13300\n",
      "11/03/2020 10:37:59 - mtdnn.modeling_mtdnn - INFO - predicting 13400\n",
      "11/03/2020 10:38:02 - mtdnn.modeling_mtdnn - INFO - predicting 13500\n",
      "11/03/2020 10:38:04 - mtdnn.modeling_mtdnn - INFO - predicting 13600\n",
      "11/03/2020 10:38:07 - mtdnn.modeling_mtdnn - INFO - predicting 13700\n",
      "11/03/2020 10:38:10 - mtdnn.modeling_mtdnn - INFO - predicting 13800\n",
      "11/03/2020 10:38:13 - mtdnn.modeling_mtdnn - INFO - predicting 13900\n",
      "11/03/2020 10:38:16 - mtdnn.modeling_mtdnn - INFO - predicting 14000\n",
      "11/03/2020 10:38:19 - mtdnn.modeling_mtdnn - INFO - predicting 14100\n",
      "11/03/2020 10:38:22 - mtdnn.modeling_mtdnn - INFO - predicting 14200\n",
      "11/03/2020 10:38:25 - mtdnn.modeling_mtdnn - INFO - predicting 14300\n",
      "11/03/2020 10:38:29 - mtdnn.modeling_mtdnn - INFO - predicting 14400\n",
      "11/03/2020 10:38:32 - mtdnn.modeling_mtdnn - INFO - predicting 14500\n",
      "11/03/2020 10:38:35 - mtdnn.modeling_mtdnn - INFO - predicting 14600\n",
      "11/03/2020 10:38:38 - mtdnn.modeling_mtdnn - INFO - predicting 14700\n",
      "11/03/2020 10:38:41 - mtdnn.modeling_mtdnn - INFO - predicting 14800\n",
      "11/03/2020 10:38:44 - mtdnn.modeling_mtdnn - INFO - predicting 14900\n",
      "11/03/2020 10:38:47 - mtdnn.modeling_mtdnn - INFO - predicting 15000\n",
      "11/03/2020 10:38:50 - mtdnn.modeling_mtdnn - INFO - predicting 15100\n",
      "11/03/2020 10:38:53 - mtdnn.modeling_mtdnn - INFO - predicting 15200\n",
      "11/03/2020 10:38:56 - mtdnn.modeling_mtdnn - INFO - predicting 15300\n",
      "11/03/2020 10:38:59 - mtdnn.modeling_mtdnn - INFO - predicting 15400\n",
      "11/03/2020 10:39:02 - mtdnn.modeling_mtdnn - INFO - predicting 15500\n",
      "11/03/2020 10:39:05 - mtdnn.modeling_mtdnn - INFO - predicting 15600\n",
      "11/03/2020 10:39:08 - mtdnn.modeling_mtdnn - INFO - predicting 15700\n",
      "11/03/2020 10:39:11 - mtdnn.modeling_mtdnn - INFO - predicting 15800\n",
      "11/03/2020 10:39:14 - mtdnn.modeling_mtdnn - INFO - predicting 15900\n",
      "11/03/2020 10:39:17 - mtdnn.modeling_mtdnn - INFO - predicting 16000\n",
      "11/03/2020 10:39:20 - mtdnn.modeling_mtdnn - INFO - predicting 16100\n",
      "11/03/2020 10:39:23 - mtdnn.modeling_mtdnn - INFO - predicting 16200\n",
      "11/03/2020 10:39:26 - mtdnn.modeling_mtdnn - INFO - predicting 16300\n",
      "11/03/2020 10:39:29 - mtdnn.modeling_mtdnn - INFO - predicting 16400\n",
      "11/03/2020 10:39:32 - mtdnn.modeling_mtdnn - INFO - predicting 16500\n",
      "11/03/2020 10:39:35 - mtdnn.modeling_mtdnn - INFO - predicting 16600\n",
      "11/03/2020 10:39:38 - mtdnn.modeling_mtdnn - INFO - predicting 16700\n",
      "11/03/2020 10:39:41 - mtdnn.modeling_mtdnn - INFO - predicting 16800\n",
      "11/03/2020 10:39:44 - mtdnn.modeling_mtdnn - INFO - predicting 16900\n",
      "11/03/2020 10:39:47 - mtdnn.modeling_mtdnn - INFO - predicting 17000\n",
      "11/03/2020 10:39:50 - mtdnn.modeling_mtdnn - INFO - predicting 17100\n",
      "11/03/2020 10:39:53 - mtdnn.modeling_mtdnn - INFO - predicting 17200\n",
      "11/03/2020 10:39:56 - mtdnn.modeling_mtdnn - INFO - predicting 17300\n",
      "11/03/2020 10:39:59 - mtdnn.modeling_mtdnn - INFO - predicting 17400\n",
      "11/03/2020 10:40:02 - mtdnn.modeling_mtdnn - INFO - predicting 17500\n",
      "11/03/2020 10:40:05 - mtdnn.modeling_mtdnn - INFO - predicting 17600\n",
      "11/03/2020 10:40:08 - mtdnn.modeling_mtdnn - INFO - predicting 17700\n",
      "11/03/2020 10:40:11 - mtdnn.modeling_mtdnn - INFO - predicting 17800\n",
      "11/03/2020 10:40:14 - mtdnn.modeling_mtdnn - INFO - predicting 17900\n",
      "11/03/2020 10:40:17 - mtdnn.modeling_mtdnn - INFO - predicting 18000\n",
      "11/03/2020 10:40:20 - mtdnn.modeling_mtdnn - INFO - predicting 18100\n",
      "11/03/2020 10:40:23 - mtdnn.modeling_mtdnn - INFO - predicting 18200\n",
      "11/03/2020 10:40:26 - mtdnn.modeling_mtdnn - INFO - predicting 18300\n",
      "11/03/2020 10:40:29 - mtdnn.modeling_mtdnn - INFO - predicting 18400\n",
      "11/03/2020 10:40:32 - mtdnn.modeling_mtdnn - INFO - predicting 18500\n",
      "11/03/2020 10:40:35 - mtdnn.modeling_mtdnn - INFO - predicting 18600\n",
      "11/03/2020 10:40:38 - mtdnn.modeling_mtdnn - INFO - predicting 18700\n",
      "11/03/2020 10:40:41 - mtdnn.modeling_mtdnn - INFO - predicting 18800\n",
      "11/03/2020 10:40:44 - mtdnn.modeling_mtdnn - INFO - predicting 18900\n",
      "11/03/2020 10:40:47 - mtdnn.modeling_mtdnn - INFO - predicting 19000\n",
      "11/03/2020 10:40:50 - mtdnn.modeling_mtdnn - INFO - predicting 19100\n",
      "11/03/2020 10:40:53 - mtdnn.modeling_mtdnn - INFO - predicting 19200\n",
      "11/03/2020 10:40:56 - mtdnn.modeling_mtdnn - INFO - predicting 19300\n",
      "11/03/2020 10:40:59 - mtdnn.modeling_mtdnn - INFO - predicting 19400\n",
      "11/03/2020 10:41:02 - mtdnn.modeling_mtdnn - INFO - predicting 19500\n",
      "11/03/2020 10:41:05 - mtdnn.modeling_mtdnn - INFO - predicting 19600\n",
      "11/03/2020 10:41:08 - mtdnn.modeling_mtdnn - INFO - predicting 19700\n",
      "11/03/2020 10:41:11 - mtdnn.modeling_mtdnn - INFO - predicting 19800\n",
      "11/03/2020 10:41:14 - mtdnn.modeling_mtdnn - INFO - predicting 19900\n",
      "11/03/2020 10:41:17 - mtdnn.modeling_mtdnn - INFO - predicting 20000\n"
     ]
    },
    {
     "name": "stdout",
     "output_type": "stream",
     "text": [
      "11/03/2020 10:41:20 - mtdnn.modeling_mtdnn - INFO - predicting 20100\n",
      "11/03/2020 10:41:23 - mtdnn.modeling_mtdnn - INFO - predicting 20200\n",
      "11/03/2020 10:41:26 - mtdnn.modeling_mtdnn - INFO - predicting 20300\n",
      "11/03/2020 10:41:29 - mtdnn.modeling_mtdnn - INFO - predicting 20400\n",
      "11/03/2020 10:41:32 - mtdnn.modeling_mtdnn - INFO - predicting 20500\n",
      "11/03/2020 10:41:36 - mtdnn.modeling_mtdnn - INFO - predicting 20600\n",
      "11/03/2020 10:41:39 - mtdnn.modeling_mtdnn - INFO - predicting 20700\n",
      "11/03/2020 10:41:41 - mtdnn.modeling_mtdnn - INFO - predicting 20800\n",
      "11/03/2020 10:41:44 - mtdnn.modeling_mtdnn - INFO - predicting 20900\n",
      "11/03/2020 10:41:47 - mtdnn.modeling_mtdnn - INFO - predicting 21000\n",
      "11/03/2020 10:41:50 - mtdnn.modeling_mtdnn - INFO - predicting 21100\n",
      "11/03/2020 10:41:53 - mtdnn.modeling_mtdnn - INFO - predicting 21200\n",
      "11/03/2020 10:41:56 - mtdnn.modeling_mtdnn - INFO - predicting 21300\n",
      "11/03/2020 10:41:59 - mtdnn.modeling_mtdnn - INFO - predicting 21400\n",
      "11/03/2020 10:42:02 - mtdnn.modeling_mtdnn - INFO - predicting 21500\n",
      "11/03/2020 10:42:05 - mtdnn.modeling_mtdnn - INFO - predicting 21600\n",
      "11/03/2020 10:42:08 - mtdnn.modeling_mtdnn - INFO - predicting 21700\n",
      "11/03/2020 10:42:11 - mtdnn.modeling_mtdnn - INFO - predicting 21800\n",
      "11/03/2020 10:42:14 - mtdnn.modeling_mtdnn - INFO - predicting 21900\n",
      "11/03/2020 10:42:17 - mtdnn.modeling_mtdnn - INFO - predicting 22000\n",
      "11/03/2020 10:42:20 - mtdnn.modeling_mtdnn - INFO - predicting 22100\n",
      "11/03/2020 10:42:23 - mtdnn.modeling_mtdnn - INFO - predicting 22200\n",
      "11/03/2020 10:42:26 - mtdnn.modeling_mtdnn - INFO - predicting 22300\n",
      "11/03/2020 10:42:29 - mtdnn.modeling_mtdnn - INFO - predicting 22400\n",
      "11/03/2020 10:42:32 - mtdnn.modeling_mtdnn - INFO - predicting 22500\n",
      "11/03/2020 10:42:35 - mtdnn.modeling_mtdnn - INFO - predicting 22600\n",
      "11/03/2020 10:42:38 - mtdnn.modeling_mtdnn - INFO - predicting 22700\n",
      "11/03/2020 10:42:41 - mtdnn.modeling_mtdnn - INFO - predicting 22800\n",
      "11/03/2020 10:42:44 - mtdnn.modeling_mtdnn - INFO - predicting 22900\n",
      "11/03/2020 10:42:47 - mtdnn.modeling_mtdnn - INFO - predicting 23000\n",
      "11/03/2020 10:42:50 - mtdnn.modeling_mtdnn - INFO - predicting 23100\n",
      "11/03/2020 10:42:53 - mtdnn.modeling_mtdnn - INFO - predicting 23200\n",
      "11/03/2020 10:42:56 - mtdnn.modeling_mtdnn - INFO - predicting 23300\n",
      "11/03/2020 10:42:59 - mtdnn.modeling_mtdnn - INFO - predicting 23400\n",
      "11/03/2020 10:43:02 - mtdnn.modeling_mtdnn - INFO - predicting 23500\n",
      "11/03/2020 10:43:05 - mtdnn.modeling_mtdnn - INFO - predicting 23600\n",
      "11/03/2020 10:43:08 - mtdnn.modeling_mtdnn - INFO - predicting 23700\n",
      "11/03/2020 10:43:11 - mtdnn.modeling_mtdnn - INFO - predicting 23800\n",
      "11/03/2020 10:43:15 - mtdnn.modeling_mtdnn - INFO - predicting 23900\n",
      "11/03/2020 10:43:17 - mtdnn.modeling_mtdnn - INFO - predicting 24000\n",
      "11/03/2020 10:43:20 - mtdnn.modeling_mtdnn - INFO - predicting 24100\n",
      "11/03/2020 10:43:23 - mtdnn.modeling_mtdnn - INFO - predicting 24200\n",
      "11/03/2020 10:43:26 - mtdnn.modeling_mtdnn - INFO - predicting 24300\n",
      "11/03/2020 10:43:30 - mtdnn.modeling_mtdnn - INFO - predicting 24400\n",
      "11/03/2020 10:43:32 - mtdnn.modeling_mtdnn - INFO - predicting 24500\n",
      "11/03/2020 10:43:36 - mtdnn.modeling_mtdnn - INFO - predicting 24600\n",
      "11/03/2020 10:43:38 - mtdnn.modeling_mtdnn - INFO - predicting 24700\n",
      "11/03/2020 10:43:42 - mtdnn.modeling_mtdnn - INFO - predicting 24800\n",
      "11/03/2020 10:43:45 - mtdnn.modeling_mtdnn - INFO - predicting 24900\n",
      "11/03/2020 10:43:48 - mtdnn.modeling_mtdnn - INFO - predicting 25000\n",
      "11/03/2020 10:43:51 - mtdnn.modeling_mtdnn - INFO - predicting 25100\n",
      "11/03/2020 10:43:54 - mtdnn.modeling_mtdnn - INFO - predicting 25200\n",
      "11/03/2020 10:43:57 - mtdnn.modeling_mtdnn - INFO - predicting 25300\n",
      "11/03/2020 10:44:00 - mtdnn.modeling_mtdnn - INFO - predicting 25400\n",
      "11/03/2020 10:44:03 - mtdnn.modeling_mtdnn - INFO - predicting 25500\n",
      "11/03/2020 10:44:06 - mtdnn.modeling_mtdnn - INFO - predicting 25600\n",
      "11/03/2020 10:44:09 - mtdnn.modeling_mtdnn - INFO - predicting 25700\n",
      "11/03/2020 10:44:12 - mtdnn.modeling_mtdnn - INFO - predicting 25800\n",
      "11/03/2020 10:44:15 - mtdnn.modeling_mtdnn - INFO - predicting 25900\n",
      "11/03/2020 10:44:18 - mtdnn.modeling_mtdnn - INFO - predicting 26000\n",
      "11/03/2020 10:44:21 - mtdnn.modeling_mtdnn - INFO - predicting 26100\n",
      "11/03/2020 10:44:24 - mtdnn.modeling_mtdnn - INFO - predicting 26200\n",
      "11/03/2020 10:44:27 - mtdnn.modeling_mtdnn - INFO - predicting 26300\n",
      "11/03/2020 10:44:30 - mtdnn.modeling_mtdnn - INFO - predicting 26400\n",
      "11/03/2020 10:44:33 - mtdnn.modeling_mtdnn - INFO - predicting 26500\n",
      "11/03/2020 10:44:36 - mtdnn.modeling_mtdnn - INFO - predicting 26600\n",
      "11/03/2020 10:44:39 - mtdnn.modeling_mtdnn - INFO - predicting 26700\n",
      "11/03/2020 10:44:42 - mtdnn.modeling_mtdnn - INFO - predicting 26800\n",
      "11/03/2020 10:44:45 - mtdnn.modeling_mtdnn - INFO - predicting 26900\n",
      "11/03/2020 10:44:48 - mtdnn.modeling_mtdnn - INFO - predicting 27000\n",
      "11/03/2020 10:44:51 - mtdnn.modeling_mtdnn - INFO - predicting 27100\n",
      "11/03/2020 10:44:54 - mtdnn.modeling_mtdnn - INFO - predicting 27200\n",
      "11/03/2020 10:44:56 - mtdnn.modeling_mtdnn - INFO - predicting 27300\n",
      "11/03/2020 10:44:59 - mtdnn.modeling_mtdnn - INFO - predicting 27400\n",
      "11/03/2020 10:45:02 - mtdnn.modeling_mtdnn - INFO - predicting 27500\n",
      "11/03/2020 10:45:05 - mtdnn.modeling_mtdnn - INFO - predicting 27600\n",
      "11/03/2020 10:45:08 - mtdnn.modeling_mtdnn - INFO - predicting 27700\n",
      "11/03/2020 10:45:11 - mtdnn.modeling_mtdnn - INFO - predicting 27800\n",
      "11/03/2020 10:45:15 - mtdnn.modeling_mtdnn - INFO - predicting 27900\n",
      "11/03/2020 10:45:17 - mtdnn.modeling_mtdnn - INFO - predicting 28000\n",
      "11/03/2020 10:45:21 - mtdnn.modeling_mtdnn - INFO - predicting 28100\n",
      "11/03/2020 10:45:24 - mtdnn.modeling_mtdnn - INFO - predicting 28200\n",
      "11/03/2020 10:45:27 - mtdnn.modeling_mtdnn - INFO - predicting 28300\n",
      "11/03/2020 10:45:30 - mtdnn.modeling_mtdnn - INFO - predicting 28400\n",
      "11/03/2020 10:45:32 - mtdnn.modeling_mtdnn - INFO - predicting 28500\n",
      "11/03/2020 10:45:35 - mtdnn.modeling_mtdnn - INFO - predicting 28600\n",
      "11/03/2020 10:45:38 - mtdnn.modeling_mtdnn - INFO - predicting 28700\n",
      "11/03/2020 10:45:41 - mtdnn.modeling_mtdnn - INFO - predicting 28800\n",
      "11/03/2020 10:45:44 - mtdnn.modeling_mtdnn - INFO - predicting 28900\n",
      "11/03/2020 10:45:47 - mtdnn.modeling_mtdnn - INFO - predicting 29000\n",
      "11/03/2020 10:45:50 - mtdnn.modeling_mtdnn - INFO - predicting 29100\n",
      "11/03/2020 10:45:53 - mtdnn.modeling_mtdnn - INFO - predicting 29200\n",
      "11/03/2020 10:45:56 - mtdnn.modeling_mtdnn - INFO - predicting 29300\n",
      "11/03/2020 10:45:59 - mtdnn.modeling_mtdnn - INFO - predicting 29400\n",
      "11/03/2020 10:46:02 - mtdnn.modeling_mtdnn - INFO - predicting 29500\n",
      "11/03/2020 10:46:05 - mtdnn.modeling_mtdnn - INFO - predicting 29600\n",
      "11/03/2020 10:46:08 - mtdnn.modeling_mtdnn - INFO - predicting 29700\n",
      "11/03/2020 10:46:11 - mtdnn.modeling_mtdnn - INFO - predicting 29800\n",
      "11/03/2020 10:46:14 - mtdnn.modeling_mtdnn - INFO - predicting 29900\n",
      "11/03/2020 10:46:17 - mtdnn.modeling_mtdnn - INFO - predicting 30000\n",
      "11/03/2020 10:46:20 - mtdnn.modeling_mtdnn - INFO - predicting 30100\n",
      "11/03/2020 10:46:23 - mtdnn.modeling_mtdnn - INFO - predicting 30200\n",
      "11/03/2020 10:46:26 - mtdnn.modeling_mtdnn - INFO - predicting 30300\n",
      "11/03/2020 10:46:29 - mtdnn.modeling_mtdnn - INFO - predicting 30400\n",
      "11/03/2020 10:46:32 - mtdnn.modeling_mtdnn - INFO - predicting 30500\n",
      "11/03/2020 10:46:35 - mtdnn.modeling_mtdnn - INFO - predicting 30600\n",
      "11/03/2020 10:46:38 - mtdnn.modeling_mtdnn - INFO - predicting 30700\n",
      "11/03/2020 10:46:41 - mtdnn.modeling_mtdnn - INFO - predicting 30800\n",
      "11/03/2020 10:46:44 - mtdnn.modeling_mtdnn - INFO - predicting 30900\n",
      "11/03/2020 10:46:47 - mtdnn.modeling_mtdnn - INFO - predicting 31000\n",
      "11/03/2020 10:46:50 - mtdnn.modeling_mtdnn - INFO - predicting 31100\n",
      "11/03/2020 10:46:53 - mtdnn.modeling_mtdnn - INFO - predicting 31200\n",
      "11/03/2020 10:46:56 - mtdnn.modeling_mtdnn - INFO - predicting 31300\n",
      "11/03/2020 10:46:59 - mtdnn.modeling_mtdnn - INFO - predicting 31400\n",
      "11/03/2020 10:47:01 - mtdnn.modeling_mtdnn - INFO - predicting 31500\n",
      "11/03/2020 10:47:04 - mtdnn.modeling_mtdnn - INFO - predicting 31600\n",
      "11/03/2020 10:47:07 - mtdnn.modeling_mtdnn - INFO - predicting 31700\n",
      "11/03/2020 10:47:10 - mtdnn.modeling_mtdnn - INFO - predicting 31800\n",
      "11/03/2020 10:47:13 - mtdnn.modeling_mtdnn - INFO - predicting 31900\n"
     ]
    },
    {
     "name": "stdout",
     "output_type": "stream",
     "text": [
      "11/03/2020 10:47:16 - mtdnn.modeling_mtdnn - INFO - predicting 32000\n",
      "11/03/2020 10:47:19 - mtdnn.modeling_mtdnn - INFO - predicting 32100\n",
      "11/03/2020 10:47:22 - mtdnn.modeling_mtdnn - INFO - predicting 32200\n",
      "11/03/2020 10:47:25 - mtdnn.modeling_mtdnn - INFO - predicting 32300\n",
      "11/03/2020 10:47:28 - mtdnn.modeling_mtdnn - INFO - predicting 32400\n",
      "11/03/2020 10:47:31 - mtdnn.modeling_mtdnn - INFO - predicting 32500\n",
      "11/03/2020 10:47:34 - mtdnn.modeling_mtdnn - INFO - predicting 32600\n",
      "11/03/2020 10:47:37 - mtdnn.modeling_mtdnn - INFO - predicting 32700\n",
      "11/03/2020 10:47:40 - mtdnn.modeling_mtdnn - INFO - predicting 32800\n",
      "11/03/2020 10:47:43 - mtdnn.modeling_mtdnn - INFO - predicting 32900\n",
      "11/03/2020 10:47:46 - mtdnn.modeling_mtdnn - INFO - predicting 33000\n",
      "11/03/2020 10:47:49 - mtdnn.modeling_mtdnn - INFO - predicting 33100\n",
      "11/03/2020 10:47:52 - mtdnn.modeling_mtdnn - INFO - predicting 33200\n",
      "11/03/2020 10:47:55 - mtdnn.modeling_mtdnn - INFO - predicting 33300\n",
      "11/03/2020 10:47:58 - mtdnn.modeling_mtdnn - INFO - predicting 33400\n",
      "11/03/2020 10:48:01 - mtdnn.modeling_mtdnn - INFO - predicting 33500\n",
      "11/03/2020 10:48:04 - mtdnn.modeling_mtdnn - INFO - predicting 33600\n",
      "11/03/2020 10:48:07 - mtdnn.modeling_mtdnn - INFO - predicting 33700\n",
      "11/03/2020 10:48:10 - mtdnn.modeling_mtdnn - INFO - predicting 33800\n",
      "11/03/2020 10:48:13 - mtdnn.modeling_mtdnn - INFO - predicting 33900\n",
      "11/03/2020 10:48:16 - mtdnn.modeling_mtdnn - INFO - predicting 34000\n",
      "11/03/2020 10:48:19 - mtdnn.modeling_mtdnn - INFO - predicting 34100\n",
      "11/03/2020 10:48:21 - mtdnn.modeling_mtdnn - INFO - predicting 34200\n",
      "11/03/2020 10:48:24 - mtdnn.modeling_mtdnn - INFO - predicting 34300\n",
      "11/03/2020 10:48:27 - mtdnn.modeling_mtdnn - INFO - predicting 34400\n",
      "11/03/2020 10:48:30 - mtdnn.modeling_mtdnn - INFO - predicting 34500\n",
      "11/03/2020 10:48:33 - mtdnn.modeling_mtdnn - INFO - predicting 34600\n",
      "11/03/2020 10:48:36 - mtdnn.modeling_mtdnn - INFO - predicting 34700\n",
      "11/03/2020 10:48:39 - mtdnn.modeling_mtdnn - INFO - predicting 34800\n",
      "11/03/2020 10:48:42 - mtdnn.modeling_mtdnn - INFO - predicting 34900\n",
      "11/03/2020 10:48:45 - mtdnn.modeling_mtdnn - INFO - predicting 35000\n",
      "11/03/2020 10:48:47 - mtdnn.modeling_mtdnn - INFO - predicting 35100\n",
      "11/03/2020 10:48:50 - mtdnn.modeling_mtdnn - INFO - predicting 35200\n",
      "11/03/2020 10:48:53 - mtdnn.modeling_mtdnn - INFO - predicting 35300\n",
      "11/03/2020 10:48:56 - mtdnn.modeling_mtdnn - INFO - predicting 35400\n",
      "11/03/2020 10:48:59 - mtdnn.modeling_mtdnn - INFO - predicting 35500\n",
      "11/03/2020 10:49:02 - mtdnn.modeling_mtdnn - INFO - predicting 35600\n",
      "11/03/2020 10:49:05 - mtdnn.modeling_mtdnn - INFO - predicting 35700\n",
      "11/03/2020 10:49:08 - mtdnn.modeling_mtdnn - INFO - predicting 35800\n",
      "11/03/2020 10:49:10 - mtdnn.modeling_mtdnn - INFO - predicting 35900\n",
      "11/03/2020 10:49:13 - mtdnn.modeling_mtdnn - INFO - predicting 36000\n",
      "11/03/2020 10:49:16 - mtdnn.modeling_mtdnn - INFO - predicting 36100\n",
      "11/03/2020 10:49:19 - mtdnn.modeling_mtdnn - INFO - predicting 36200\n",
      "11/03/2020 10:49:22 - mtdnn.modeling_mtdnn - INFO - predicting 36300\n",
      "11/03/2020 10:49:25 - mtdnn.modeling_mtdnn - INFO - predicting 36400\n",
      "11/03/2020 10:49:28 - mtdnn.modeling_mtdnn - INFO - predicting 36500\n",
      "11/03/2020 10:49:31 - mtdnn.modeling_mtdnn - INFO - predicting 36600\n",
      "11/03/2020 10:49:33 - mtdnn.modeling_mtdnn - INFO - predicting 36700\n",
      "11/03/2020 10:49:36 - mtdnn.modeling_mtdnn - INFO - predicting 36800\n",
      "11/03/2020 10:49:39 - mtdnn.modeling_mtdnn - INFO - predicting 36900\n",
      "11/03/2020 10:49:42 - mtdnn.modeling_mtdnn - INFO - predicting 37000\n",
      "11/03/2020 10:49:45 - mtdnn.modeling_mtdnn - INFO - predicting 37100\n",
      "11/03/2020 10:49:48 - mtdnn.modeling_mtdnn - INFO - predicting 37200\n",
      "11/03/2020 10:49:50 - mtdnn.modeling_mtdnn - INFO - predicting 37300\n",
      "11/03/2020 10:49:53 - mtdnn.modeling_mtdnn - INFO - predicting 37400\n",
      "11/03/2020 10:49:56 - mtdnn.modeling_mtdnn - INFO - predicting 37500\n",
      "11/03/2020 10:49:59 - mtdnn.modeling_mtdnn - INFO - predicting 37600\n",
      "11/03/2020 10:50:02 - mtdnn.modeling_mtdnn - INFO - predicting 37700\n",
      "11/03/2020 10:50:05 - mtdnn.modeling_mtdnn - INFO - predicting 37800\n",
      "11/03/2020 10:50:08 - mtdnn.modeling_mtdnn - INFO - predicting 37900\n",
      "11/03/2020 10:50:11 - mtdnn.modeling_mtdnn - INFO - predicting 38000\n",
      "11/03/2020 10:50:14 - mtdnn.modeling_mtdnn - INFO - predicting 38100\n",
      "11/03/2020 10:50:17 - mtdnn.modeling_mtdnn - INFO - predicting 38200\n",
      "11/03/2020 10:50:20 - mtdnn.modeling_mtdnn - INFO - predicting 38300\n",
      "11/03/2020 10:50:23 - mtdnn.modeling_mtdnn - INFO - predicting 38400\n",
      "11/03/2020 10:50:25 - mtdnn.modeling_mtdnn - INFO - predicting 38500\n",
      "11/03/2020 10:50:28 - mtdnn.modeling_mtdnn - INFO - predicting 38600\n",
      "11/03/2020 10:50:31 - mtdnn.modeling_mtdnn - INFO - predicting 38700\n",
      "11/03/2020 10:50:34 - mtdnn.modeling_mtdnn - INFO - predicting 38800\n",
      "11/03/2020 10:50:37 - mtdnn.modeling_mtdnn - INFO - predicting 38900\n",
      "11/03/2020 10:50:40 - mtdnn.modeling_mtdnn - INFO - predicting 39000\n",
      "11/03/2020 10:50:43 - mtdnn.modeling_mtdnn - INFO - predicting 39100\n",
      "11/03/2020 10:50:45 - mtdnn.modeling_mtdnn - INFO - predicting 39200\n",
      "11/03/2020 10:50:48 - mtdnn.modeling_mtdnn - INFO - predicting 39300\n",
      "11/03/2020 10:50:51 - mtdnn.modeling_mtdnn - INFO - predicting 39400\n",
      "11/03/2020 10:50:54 - mtdnn.modeling_mtdnn - INFO - predicting 39500\n",
      "11/03/2020 10:50:57 - mtdnn.modeling_mtdnn - INFO - predicting 39600\n",
      "11/03/2020 10:51:00 - mtdnn.modeling_mtdnn - INFO - predicting 39700\n",
      "11/03/2020 10:51:03 - mtdnn.modeling_mtdnn - INFO - predicting 39800\n",
      "11/03/2020 10:51:06 - mtdnn.modeling_mtdnn - INFO - predicting 39900\n",
      "11/03/2020 10:51:08 - mtdnn.modeling_mtdnn - INFO - predicting 40000\n",
      "11/03/2020 10:51:11 - mtdnn.modeling_mtdnn - INFO - predicting 40100\n",
      "11/03/2020 10:51:14 - mtdnn.modeling_mtdnn - INFO - predicting 40200\n",
      "11/03/2020 10:51:17 - mtdnn.modeling_mtdnn - INFO - predicting 40300\n",
      "11/03/2020 10:51:20 - mtdnn.modeling_mtdnn - INFO - predicting 40400\n",
      "11/03/2020 10:51:23 - mtdnn.modeling_mtdnn - INFO - predicting 40500\n",
      "11/03/2020 10:51:25 - mtdnn.modeling_mtdnn - INFO - predicting 40600\n",
      "11/03/2020 10:51:28 - mtdnn.modeling_mtdnn - INFO - predicting 40700\n",
      "11/03/2020 10:51:31 - mtdnn.modeling_mtdnn - INFO - predicting 40800\n",
      "11/03/2020 10:51:34 - mtdnn.modeling_mtdnn - INFO - predicting 40900\n",
      "11/03/2020 10:51:37 - mtdnn.modeling_mtdnn - INFO - predicting 41000\n",
      "11/03/2020 10:51:40 - mtdnn.modeling_mtdnn - INFO - predicting 41100\n",
      "11/03/2020 10:51:42 - mtdnn.modeling_mtdnn - INFO - predicting 41200\n",
      "11/03/2020 10:51:45 - mtdnn.modeling_mtdnn - INFO - predicting 41300\n",
      "11/03/2020 10:51:48 - mtdnn.modeling_mtdnn - INFO - predicting 41400\n",
      "11/03/2020 10:51:51 - mtdnn.modeling_mtdnn - INFO - predicting 41500\n",
      "11/03/2020 10:51:54 - mtdnn.modeling_mtdnn - INFO - predicting 41600\n",
      "11/03/2020 10:51:56 - mtdnn.modeling_mtdnn - INFO - predicting 41700\n",
      "11/03/2020 10:51:59 - mtdnn.modeling_mtdnn - INFO - predicting 41800\n",
      "11/03/2020 10:52:02 - mtdnn.modeling_mtdnn - INFO - predicting 41900\n",
      "11/03/2020 10:52:05 - mtdnn.modeling_mtdnn - INFO - predicting 42000\n",
      "11/03/2020 10:52:08 - mtdnn.modeling_mtdnn - INFO - predicting 42100\n",
      "11/03/2020 10:52:11 - mtdnn.modeling_mtdnn - INFO - predicting 42200\n",
      "11/03/2020 10:52:14 - mtdnn.modeling_mtdnn - INFO - predicting 42300\n",
      "11/03/2020 10:52:17 - mtdnn.modeling_mtdnn - INFO - predicting 42400\n",
      "11/03/2020 10:52:20 - mtdnn.modeling_mtdnn - INFO - predicting 42500\n",
      "11/03/2020 10:52:22 - mtdnn.modeling_mtdnn - INFO - predicting 42600\n",
      "11/03/2020 10:52:25 - mtdnn.modeling_mtdnn - INFO - predicting 42700\n",
      "11/03/2020 10:52:28 - mtdnn.modeling_mtdnn - INFO - predicting 42800\n",
      "11/03/2020 10:52:31 - mtdnn.modeling_mtdnn - INFO - predicting 42900\n",
      "11/03/2020 10:52:34 - mtdnn.modeling_mtdnn - INFO - predicting 43000\n",
      "11/03/2020 10:52:37 - mtdnn.modeling_mtdnn - INFO - predicting 43100\n",
      "11/03/2020 10:52:40 - mtdnn.modeling_mtdnn - INFO - predicting 43200\n",
      "11/03/2020 10:52:42 - mtdnn.modeling_mtdnn - INFO - predicting 43300\n",
      "11/03/2020 10:52:45 - mtdnn.modeling_mtdnn - INFO - predicting 43400\n",
      "11/03/2020 10:52:48 - mtdnn.modeling_mtdnn - INFO - predicting 43500\n",
      "11/03/2020 10:52:51 - mtdnn.modeling_mtdnn - INFO - predicting 43600\n",
      "11/03/2020 10:52:54 - mtdnn.modeling_mtdnn - INFO - predicting 43700\n",
      "11/03/2020 10:52:57 - mtdnn.modeling_mtdnn - INFO - predicting 43800\n"
     ]
    },
    {
     "name": "stdout",
     "output_type": "stream",
     "text": [
      "11/03/2020 10:53:00 - mtdnn.modeling_mtdnn - INFO - predicting 43900\n",
      "11/03/2020 10:53:03 - mtdnn.modeling_mtdnn - INFO - predicting 44000\n",
      "11/03/2020 10:53:05 - mtdnn.modeling_mtdnn - INFO - predicting 44100\n",
      "11/03/2020 10:53:08 - mtdnn.modeling_mtdnn - INFO - predicting 44200\n",
      "11/03/2020 10:53:11 - mtdnn.modeling_mtdnn - INFO - predicting 44300\n",
      "11/03/2020 10:53:14 - mtdnn.modeling_mtdnn - INFO - predicting 44400\n",
      "11/03/2020 10:53:17 - mtdnn.modeling_mtdnn - INFO - predicting 44500\n",
      "11/03/2020 10:53:20 - mtdnn.modeling_mtdnn - INFO - predicting 44600\n",
      "11/03/2020 10:53:23 - mtdnn.modeling_mtdnn - INFO - predicting 44700\n",
      "11/03/2020 10:53:26 - mtdnn.modeling_mtdnn - INFO - predicting 44800\n",
      "11/03/2020 10:53:29 - mtdnn.modeling_mtdnn - INFO - predicting 44900\n",
      "11/03/2020 10:53:31 - mtdnn.modeling_mtdnn - INFO - predicting 45000\n",
      "11/03/2020 10:53:34 - mtdnn.modeling_mtdnn - INFO - predicting 45100\n",
      "11/03/2020 10:53:37 - mtdnn.modeling_mtdnn - INFO - predicting 45200\n",
      "11/03/2020 10:53:40 - mtdnn.modeling_mtdnn - INFO - predicting 45300\n",
      "11/03/2020 10:53:43 - mtdnn.modeling_mtdnn - INFO - predicting 45400\n",
      "11/03/2020 10:53:46 - mtdnn.modeling_mtdnn - INFO - predicting 45500\n",
      "11/03/2020 10:53:49 - mtdnn.modeling_mtdnn - INFO - predicting 45600\n",
      "11/03/2020 10:53:52 - mtdnn.modeling_mtdnn - INFO - predicting 45700\n",
      "11/03/2020 10:53:55 - mtdnn.modeling_mtdnn - INFO - predicting 45800\n",
      "11/03/2020 10:53:57 - mtdnn.modeling_mtdnn - INFO - predicting 45900\n",
      "11/03/2020 10:54:00 - mtdnn.modeling_mtdnn - INFO - predicting 46000\n",
      "11/03/2020 10:54:03 - mtdnn.modeling_mtdnn - INFO - predicting 46100\n",
      "11/03/2020 10:54:06 - mtdnn.modeling_mtdnn - INFO - predicting 46200\n",
      "11/03/2020 10:54:09 - mtdnn.modeling_mtdnn - INFO - predicting 46300\n",
      "11/03/2020 10:54:12 - mtdnn.modeling_mtdnn - INFO - predicting 46400\n",
      "11/03/2020 10:54:15 - mtdnn.modeling_mtdnn - INFO - predicting 46500\n",
      "11/03/2020 10:54:17 - mtdnn.modeling_mtdnn - INFO - predicting 46600\n",
      "11/03/2020 10:54:20 - mtdnn.modeling_mtdnn - INFO - predicting 46700\n",
      "11/03/2020 10:54:23 - mtdnn.modeling_mtdnn - INFO - predicting 46800\n",
      "11/03/2020 10:54:26 - mtdnn.modeling_mtdnn - INFO - predicting 46900\n",
      "11/03/2020 10:54:29 - mtdnn.modeling_mtdnn - INFO - predicting 47000\n",
      "11/03/2020 10:54:31 - mtdnn.modeling_mtdnn - INFO - predicting 47100\n",
      "11/03/2020 10:54:34 - mtdnn.modeling_mtdnn - INFO - predicting 47200\n",
      "11/03/2020 10:54:37 - mtdnn.modeling_mtdnn - INFO - predicting 47300\n",
      "11/03/2020 10:54:40 - mtdnn.modeling_mtdnn - INFO - predicting 47400\n",
      "11/03/2020 10:54:43 - mtdnn.modeling_mtdnn - INFO - predicting 47500\n",
      "11/03/2020 10:54:46 - mtdnn.modeling_mtdnn - INFO - predicting 47600\n",
      "11/03/2020 10:54:49 - mtdnn.modeling_mtdnn - INFO - predicting 47700\n",
      "11/03/2020 10:54:51 - mtdnn.modeling_mtdnn - INFO - predicting 47800\n",
      "11/03/2020 10:54:54 - mtdnn.modeling_mtdnn - INFO - predicting 47900\n",
      "11/03/2020 10:54:57 - mtdnn.modeling_mtdnn - INFO - predicting 48000\n",
      "11/03/2020 10:55:00 - mtdnn.modeling_mtdnn - INFO - predicting 48100\n",
      "11/03/2020 10:55:03 - mtdnn.modeling_mtdnn - INFO - predicting 48200\n",
      "11/03/2020 10:55:06 - mtdnn.modeling_mtdnn - INFO - predicting 48300\n",
      "11/03/2020 10:55:09 - mtdnn.modeling_mtdnn - INFO - predicting 48400\n",
      "11/03/2020 10:55:12 - mtdnn.modeling_mtdnn - INFO - predicting 48500\n",
      "11/03/2020 10:55:15 - mtdnn.modeling_mtdnn - INFO - predicting 48600\n",
      "11/03/2020 10:55:17 - mtdnn.modeling_mtdnn - INFO - predicting 48700\n",
      "11/03/2020 10:55:20 - mtdnn.modeling_mtdnn - INFO - predicting 48800\n",
      "11/03/2020 10:55:26 - mtdnn.modeling_mtdnn - INFO - [new test scores saved for qqp.]\n"
     ]
    }
   ],
   "source": [
    "# can replace OUTPUT_DIR with arbitrary model_dir as long as it's the same type of network\n",
    "model.predict(trained_model_chckpt=f\"{OUTPUT_DIR}/model_{EVAL_CHECKPOINT}.pt\")"
   ]
  },
  {
   "cell_type": "markdown",
   "metadata": {},
   "source": [
    "### Results"
   ]
  },
  {
   "cell_type": "code",
   "execution_count": 31,
   "metadata": {},
   "outputs": [],
   "source": [
    "results = {}\n",
    "dev_result_files = list(filter(lambda x: x.endswith('.json') and 'dev' in x and str(EVAL_CHECKPOINT) in x, gfile.listdir(OUTPUT_DIR))) "
   ]
  },
  {
   "cell_type": "code",
   "execution_count": 33,
   "metadata": {},
   "outputs": [
    {
     "data": {
      "text/html": [
       "<div>\n",
       "<style scoped>\n",
       "    .dataframe tbody tr th:only-of-type {\n",
       "        vertical-align: middle;\n",
       "    }\n",
       "\n",
       "    .dataframe tbody tr th {\n",
       "        vertical-align: top;\n",
       "    }\n",
       "\n",
       "    .dataframe thead th {\n",
       "        text-align: right;\n",
       "    }\n",
       "</style>\n",
       "<table border=\"1\" class=\"dataframe\">\n",
       "  <thead>\n",
       "    <tr style=\"text-align: right;\">\n",
       "      <th></th>\n",
       "      <th>Mnli Matched Dev</th>\n",
       "      <th>Mnli Mismatched Dev</th>\n",
       "      <th>Mrpc Dev Scores</th>\n",
       "      <th>Qqp Dev Scores</th>\n",
       "      <th>Sst Dev Scores</th>\n",
       "    </tr>\n",
       "  </thead>\n",
       "  <tbody>\n",
       "    <tr>\n",
       "      <th>ACCURACY</th>\n",
       "      <td>78.240</td>\n",
       "      <td>78.480</td>\n",
       "      <td>79.902</td>\n",
       "      <td>86.470</td>\n",
       "      <td>90.300</td>\n",
       "    </tr>\n",
       "  </tbody>\n",
       "</table>\n",
       "</div>"
      ],
      "text/plain": [
       "         Mnli Matched Dev Mnli Mismatched Dev Mrpc Dev Scores Qqp Dev Scores  \\\n",
       "ACCURACY           78.240              78.480          79.902         86.470   \n",
       "\n",
       "         Sst Dev Scores  \n",
       "ACCURACY         90.300  "
      ]
     },
     "execution_count": 33,
     "metadata": {},
     "output_type": "execute_result"
    }
   ],
   "source": [
    "for d in dev_result_files:\n",
    "    name =  ' '.join(list(map(str.capitalize, d.split('_')))[:3]) \n",
    "    file_name = os.path.join(OUTPUT_DIR, d)\n",
    "    with gfile.GFile(file_name, 'r') as f: \n",
    "        res = json.load(f) \n",
    "        results.update(\n",
    "            {name: {\n",
    "                'ACCURACY': f\"{res['metrics']['ACC']:.3f}\"\n",
    "                }\n",
    "            }) \n",
    "df_results = pd.DataFrame(results)   \n",
    "df_results"
   ]
  },
  {
   "cell_type": "code",
   "execution_count": null,
   "metadata": {},
   "outputs": [],
   "source": []
  }
 ],
 "metadata": {
  "kernelspec": {
   "display_name": "Python 3",
   "language": "python",
   "name": "python3"
  },
  "language_info": {
   "codemirror_mode": {
    "name": "ipython",
    "version": 3
   },
   "file_extension": ".py",
   "mimetype": "text/x-python",
   "name": "python",
   "nbconvert_exporter": "python",
   "pygments_lexer": "ipython3",
   "version": "3.6.12"
  }
 },
 "nbformat": 4,
 "nbformat_minor": 4
}
