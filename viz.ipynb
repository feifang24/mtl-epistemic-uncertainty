{
 "cells": [
  {
   "cell_type": "code",
   "execution_count": 65,
   "metadata": {},
   "outputs": [
    {
     "data": {
      "text/html": [
       "<style>.container { width:100% !important; }</style>"
      ],
      "text/plain": [
       "<IPython.core.display.HTML object>"
      ]
     },
     "metadata": {},
     "output_type": "display_data"
    }
   ],
   "source": [
    "from IPython.core.display import display, HTML\n",
    "display(HTML(\"<style>.container { width:100% !important; }</style>\"))"
   ]
  },
  {
   "cell_type": "code",
   "execution_count": 1,
   "metadata": {},
   "outputs": [],
   "source": [
    "import wandb\n",
    "import pandas as pd\n",
    "import plotly.graph_objects as go\n",
    "api = wandb.Api()"
   ]
  },
  {
   "cell_type": "code",
   "execution_count": 147,
   "metadata": {},
   "outputs": [],
   "source": [
    "PROJECT = 'feifang24/mtl-uncertainty-final'\n",
    "TASKS = {'SST-2':'sst', 'MRPC':'mrpc','RTE':'rte'}\n",
    "SPLITS = ['train', 'dev', 'test']\n",
    "AGG_METRICS = '{split}_loss'\n",
    "METRIC_FORMATS = {\n",
    "                'loss': '{split}_loss_by_task/{task}', \n",
    "                'uncertainty': '{split}_uncertainty_by_task/{task}',\n",
    "                'acc': '{task}/{split}_ACC', # {dev, test} \n",
    "                'auc': '{task}/{split}_AUC', \n",
    "                'f1': '{task}/{split}_F1',\n",
    "                'task_weight': 'task_weight/{task}'\n",
    "               }"
   ]
  },
  {
   "cell_type": "code",
   "execution_count": 3,
   "metadata": {},
   "outputs": [],
   "source": [
    "from collections import defaultdict\n",
    "config_run_ids = defaultdict(list)\n",
    "for run in api.runs(path=PROJECT):\n",
    "    config_run_ids[run.name[:-2]].append(run.id)"
   ]
  },
  {
   "cell_type": "code",
   "execution_count": 82,
   "metadata": {
    "scrolled": false
   },
   "outputs": [],
   "source": [
    "config_metrics_df = {}\n",
    "for config_name, run_ids in config_run_ids.items():\n",
    "    runs = [api.run(f'{PROJECT}/{run_id}') for run_id in run_ids]\n",
    "    avg_run = pd.concat([run.history() for run in runs])\n",
    "    avg_run.index = [i * 200 for i in avg_run.index]\n",
    "    #avg_run = pd.concat([avg_run[avg_run.index < 200], avg_run[avg_run.index % 200 == 0]])\n",
    "    avg_run = avg_run.groupby(level=0).mean()\n",
    "    config_metrics_df[config_name] = avg_run"
   ]
  },
  {
   "cell_type": "code",
   "execution_count": 83,
   "metadata": {},
   "outputs": [
    {
     "data": {
      "text/plain": [
       "['sampling-smoothed-r=0.375',\n",
       " 'sampling-smoothed-r=0.125',\n",
       " 'sampling-smoothed-r=0.25',\n",
       " 'sampling-raw',\n",
       " 'sampling-smoothed-r=0.5',\n",
       " 'baseline-uniform',\n",
       " 'baseline-data-dist']"
      ]
     },
     "execution_count": 83,
     "metadata": {},
     "output_type": "execute_result"
    }
   ],
   "source": [
    "list(config_run_ids.keys())"
   ]
  },
  {
   "cell_type": "code",
   "execution_count": 19,
   "metadata": {
    "scrolled": true
   },
   "outputs": [
    {
     "data": {
      "text/plain": [
       "Index(['train_loss_by_task/rte', 'dev_loss', 'mrpc/test_F1', 'sst/test_AUC',\n",
       "       'test_uncertainty_by_task/mrpc', '_step', 'mrpc/dev_F1',\n",
       "       'dev_uncertainty_by_task/sst', 'train_loss', 'sst/test_ACC',\n",
       "       'task_weight/sst', '_runtime', 'test_uncertainty_by_task/rte',\n",
       "       'test_loss_by_task/rte', 'test_loss_by_task/mrpc', 'mrpc/dev_ACC',\n",
       "       'sst/dev_F1', 'dev_loss_by_task/mrpc', 'mrpc/dev_AUC', 'rte/dev_AUC',\n",
       "       'mrpc/test_ACC', 'task_weight/mrpc', 'dev_loss_by_task/sst',\n",
       "       'sst/test_F1', 'rte/test_F1', 'sst/dev_ACC', 'rte/dev_ACC',\n",
       "       'dev_uncertainty_by_task/rte', 'task_weight/rte', 'rte/test_ACC',\n",
       "       'train_loss_by_task/sst', 'rte/test_AUC', 'train_loss_by_task/mrpc',\n",
       "       'dev_loss_by_task/rte', 'test_loss', 'test_uncertainty_by_task/sst',\n",
       "       'test_loss_by_task/sst', 'sst/dev_AUC', 'rte/dev_F1', '_timestamp',\n",
       "       'mrpc/test_AUC', 'dev_uncertainty_by_task/mrpc'],\n",
       "      dtype='object')"
      ]
     },
     "execution_count": 19,
     "metadata": {},
     "output_type": "execute_result"
    }
   ],
   "source": [
    "config_metrics_df['sampling-smoothed-r=0.125'].columns"
   ]
  },
  {
   "cell_type": "code",
   "execution_count": 214,
   "metadata": {},
   "outputs": [],
   "source": [
    "import plotly.express as px\n",
    "def plot_metric_over_time(split, metric, configs, plot_minima=False, plot_maxima=False):\n",
    "    fig = go.Figure()\n",
    "    metric_format = METRIC_FORMATS[metric]\n",
    "    colors = px.colors.qualitative.Plotly\n",
    "    dashes = ['dash', 'dot', 'dashdot']\n",
    "    minima_x = {config: [] for config in configs}\n",
    "    minima_y = {config: [] for config in configs}\n",
    "    maxima_x = {config: [] for config in configs}\n",
    "    maxima_y = {config: [] for config in configs}\n",
    "    for j, config in enumerate(configs):\n",
    "        for i, task in enumerate(TASKS.values()):\n",
    "            m = config_metrics_df[config][metric_format.format(split=split, task=task)]\n",
    "            fig.add_trace(go.Scatter(x=config_metrics_df[config].index, y=m,\n",
    "                                mode='lines',\n",
    "                                line=dict(color=colors[j], dash=dashes[i]),\n",
    "                                name=f'{config}/{task}'))\n",
    "            minima_x[config].append(m.idxmin())\n",
    "            minima_y[config].append(m.min())\n",
    "            maxima_x[config].append(m.idxmax())\n",
    "            maxima_y[config].append(m.max())\n",
    "        if metric == 'loss':\n",
    "            m = config_metrics_df[config][AGG_METRICS.format(split=split)]\n",
    "            fig.add_trace(go.Scatter(x=config_metrics_df[config].index, y=m,\n",
    "                                mode='lines',\n",
    "                                line=dict(color=colors[j]),# dash=dashes[i]),\n",
    "                                name=f'{config}/aggregate'))\n",
    "            minima_x[config].append(m.idxmin())\n",
    "            minima_y[config].append(m.min())\n",
    "    if plot_minima:\n",
    "        for i, config in enumerate(configs):\n",
    "            fig.add_trace(go.Scatter(x=minima_x[config], y=minima_y[config], \n",
    "                                     mode='markers', \n",
    "                                     marker=dict(color=colors[i]),\n",
    "                                     name=f'{config} minimum'))\n",
    "    if plot_maxima:\n",
    "        for i, config in enumerate(configs):\n",
    "            fig.add_trace(go.Scatter(x=maxima_x[config], y=maxima_y[config], \n",
    "                                     mode='markers', \n",
    "                                     marker=dict(color=colors[i]),\n",
    "                                     name=f'{config} maximum'))\n",
    "    fig.update_layout(\n",
    "        yaxis_title=f'{split} {metric}'.title(),\n",
    "        xaxis_title=\"Iteration\",\n",
    "        legend_title=\"Method/Task\",\n",
    "        font=dict(size=14)\n",
    "    )\n",
    "    fig.show()"
   ]
  },
  {
   "cell_type": "code",
   "execution_count": 209,
   "metadata": {
    "scrolled": true
   },
   "outputs": [
    {
     "data": {
      "application/vnd.plotly.v1+json": {
       "config": {
        "plotlyServerURL": "https://plot.ly"
       },
       "data": [
        {
         "line": {
          "color": "#636EFA",
          "dash": "dash"
         },
         "mode": "lines",
         "name": "sampling-smoothed-r=0.5/sst",
         "type": "scatter",
         "x": [
          0,
          200,
          400,
          600,
          800,
          1000,
          1200,
          1400,
          1600,
          1800,
          2000,
          2200,
          2400
         ],
         "y": [
          0.7042644162178039,
          0.3626221915880839,
          0.28486873976389565,
          0.28559011467297873,
          0.2832157456080118,
          0.2714623085657756,
          0.27127600979804994,
          0.275497590859731,
          0.3036944132645925,
          0.3318792916138967,
          0.28723838432629906,
          0.2980251626968384,
          0.31121754066149393
         ]
        },
        {
         "line": {
          "color": "#636EFA",
          "dash": "dot"
         },
         "mode": "lines",
         "name": "sampling-smoothed-r=0.5/mrpc",
         "type": "scatter",
         "x": [
          0,
          200,
          400,
          600,
          800,
          1000,
          1200,
          1400,
          1600,
          1800,
          2000,
          2200,
          2400
         ],
         "y": [
          0.7914901597827089,
          0.6034184515086655,
          0.5171032684301239,
          0.4854103954009761,
          0.439868555739035,
          0.42842945592855314,
          0.45271292426227744,
          0.45295073861390156,
          0.4806417854003657,
          0.4835446644452663,
          0.4741913890526965,
          0.4709935445411533,
          0.5015209589908326
         ]
        },
        {
         "line": {
          "color": "#636EFA",
          "dash": "dashdot"
         },
         "mode": "lines",
         "name": "sampling-smoothed-r=0.5/rte",
         "type": "scatter",
         "x": [
          0,
          200,
          400,
          600,
          800,
          1000,
          1200,
          1400,
          1600,
          1800,
          2000,
          2200,
          2400
         ],
         "y": [
          0.7068585718887439,
          0.6851960918753619,
          0.6437489157137664,
          0.6443684057912965,
          0.6430778569645352,
          0.6744997268137723,
          0.712660220798087,
          0.7512664506976732,
          0.8033173694702738,
          0.8358739280470328,
          0.8960612542963258,
          0.9097178106146734,
          0.9438736372523838
         ]
        },
        {
         "line": {
          "color": "#636EFA"
         },
         "mode": "lines",
         "name": "sampling-smoothed-r=0.5/aggregate",
         "type": "scatter",
         "x": [
          0,
          200,
          400,
          600,
          800,
          1000,
          1200,
          1400,
          1600,
          1800,
          2000,
          2200,
          2400
         ],
         "y": [
          0.717790530353296,
          0.43239688254444975,
          0.35707537771396475,
          0.3528589234977472,
          0.3440340352011035,
          0.3367681668222809,
          0.3442448262426904,
          0.35139665553893135,
          0.38196954878775324,
          0.40676080866708014,
          0.37826369656180486,
          0.38721974936517034,
          0.40520296440868314
         ]
        },
        {
         "marker": {
          "color": "#636EFA"
         },
         "mode": "markers",
         "name": "sampling-smoothed-r=0.5 minimum",
         "type": "scatter",
         "x": [
          1200,
          1000,
          800,
          1000
         ],
         "y": [
          0.27127600979804994,
          0.42842945592855314,
          0.6430778569645352,
          0.3367681668222809
         ]
        }
       ],
       "layout": {
        "font": {
         "size": 14
        },
        "legend": {
         "title": {
          "text": "Method/Task"
         }
        },
        "template": {
         "data": {
          "bar": [
           {
            "error_x": {
             "color": "#2a3f5f"
            },
            "error_y": {
             "color": "#2a3f5f"
            },
            "marker": {
             "line": {
              "color": "#E5ECF6",
              "width": 0.5
             }
            },
            "type": "bar"
           }
          ],
          "barpolar": [
           {
            "marker": {
             "line": {
              "color": "#E5ECF6",
              "width": 0.5
             }
            },
            "type": "barpolar"
           }
          ],
          "carpet": [
           {
            "aaxis": {
             "endlinecolor": "#2a3f5f",
             "gridcolor": "white",
             "linecolor": "white",
             "minorgridcolor": "white",
             "startlinecolor": "#2a3f5f"
            },
            "baxis": {
             "endlinecolor": "#2a3f5f",
             "gridcolor": "white",
             "linecolor": "white",
             "minorgridcolor": "white",
             "startlinecolor": "#2a3f5f"
            },
            "type": "carpet"
           }
          ],
          "choropleth": [
           {
            "colorbar": {
             "outlinewidth": 0,
             "ticks": ""
            },
            "type": "choropleth"
           }
          ],
          "contour": [
           {
            "colorbar": {
             "outlinewidth": 0,
             "ticks": ""
            },
            "colorscale": [
             [
              0,
              "#0d0887"
             ],
             [
              0.1111111111111111,
              "#46039f"
             ],
             [
              0.2222222222222222,
              "#7201a8"
             ],
             [
              0.3333333333333333,
              "#9c179e"
             ],
             [
              0.4444444444444444,
              "#bd3786"
             ],
             [
              0.5555555555555556,
              "#d8576b"
             ],
             [
              0.6666666666666666,
              "#ed7953"
             ],
             [
              0.7777777777777778,
              "#fb9f3a"
             ],
             [
              0.8888888888888888,
              "#fdca26"
             ],
             [
              1,
              "#f0f921"
             ]
            ],
            "type": "contour"
           }
          ],
          "contourcarpet": [
           {
            "colorbar": {
             "outlinewidth": 0,
             "ticks": ""
            },
            "type": "contourcarpet"
           }
          ],
          "heatmap": [
           {
            "colorbar": {
             "outlinewidth": 0,
             "ticks": ""
            },
            "colorscale": [
             [
              0,
              "#0d0887"
             ],
             [
              0.1111111111111111,
              "#46039f"
             ],
             [
              0.2222222222222222,
              "#7201a8"
             ],
             [
              0.3333333333333333,
              "#9c179e"
             ],
             [
              0.4444444444444444,
              "#bd3786"
             ],
             [
              0.5555555555555556,
              "#d8576b"
             ],
             [
              0.6666666666666666,
              "#ed7953"
             ],
             [
              0.7777777777777778,
              "#fb9f3a"
             ],
             [
              0.8888888888888888,
              "#fdca26"
             ],
             [
              1,
              "#f0f921"
             ]
            ],
            "type": "heatmap"
           }
          ],
          "heatmapgl": [
           {
            "colorbar": {
             "outlinewidth": 0,
             "ticks": ""
            },
            "colorscale": [
             [
              0,
              "#0d0887"
             ],
             [
              0.1111111111111111,
              "#46039f"
             ],
             [
              0.2222222222222222,
              "#7201a8"
             ],
             [
              0.3333333333333333,
              "#9c179e"
             ],
             [
              0.4444444444444444,
              "#bd3786"
             ],
             [
              0.5555555555555556,
              "#d8576b"
             ],
             [
              0.6666666666666666,
              "#ed7953"
             ],
             [
              0.7777777777777778,
              "#fb9f3a"
             ],
             [
              0.8888888888888888,
              "#fdca26"
             ],
             [
              1,
              "#f0f921"
             ]
            ],
            "type": "heatmapgl"
           }
          ],
          "histogram": [
           {
            "marker": {
             "colorbar": {
              "outlinewidth": 0,
              "ticks": ""
             }
            },
            "type": "histogram"
           }
          ],
          "histogram2d": [
           {
            "colorbar": {
             "outlinewidth": 0,
             "ticks": ""
            },
            "colorscale": [
             [
              0,
              "#0d0887"
             ],
             [
              0.1111111111111111,
              "#46039f"
             ],
             [
              0.2222222222222222,
              "#7201a8"
             ],
             [
              0.3333333333333333,
              "#9c179e"
             ],
             [
              0.4444444444444444,
              "#bd3786"
             ],
             [
              0.5555555555555556,
              "#d8576b"
             ],
             [
              0.6666666666666666,
              "#ed7953"
             ],
             [
              0.7777777777777778,
              "#fb9f3a"
             ],
             [
              0.8888888888888888,
              "#fdca26"
             ],
             [
              1,
              "#f0f921"
             ]
            ],
            "type": "histogram2d"
           }
          ],
          "histogram2dcontour": [
           {
            "colorbar": {
             "outlinewidth": 0,
             "ticks": ""
            },
            "colorscale": [
             [
              0,
              "#0d0887"
             ],
             [
              0.1111111111111111,
              "#46039f"
             ],
             [
              0.2222222222222222,
              "#7201a8"
             ],
             [
              0.3333333333333333,
              "#9c179e"
             ],
             [
              0.4444444444444444,
              "#bd3786"
             ],
             [
              0.5555555555555556,
              "#d8576b"
             ],
             [
              0.6666666666666666,
              "#ed7953"
             ],
             [
              0.7777777777777778,
              "#fb9f3a"
             ],
             [
              0.8888888888888888,
              "#fdca26"
             ],
             [
              1,
              "#f0f921"
             ]
            ],
            "type": "histogram2dcontour"
           }
          ],
          "mesh3d": [
           {
            "colorbar": {
             "outlinewidth": 0,
             "ticks": ""
            },
            "type": "mesh3d"
           }
          ],
          "parcoords": [
           {
            "line": {
             "colorbar": {
              "outlinewidth": 0,
              "ticks": ""
             }
            },
            "type": "parcoords"
           }
          ],
          "pie": [
           {
            "automargin": true,
            "type": "pie"
           }
          ],
          "scatter": [
           {
            "marker": {
             "colorbar": {
              "outlinewidth": 0,
              "ticks": ""
             }
            },
            "type": "scatter"
           }
          ],
          "scatter3d": [
           {
            "line": {
             "colorbar": {
              "outlinewidth": 0,
              "ticks": ""
             }
            },
            "marker": {
             "colorbar": {
              "outlinewidth": 0,
              "ticks": ""
             }
            },
            "type": "scatter3d"
           }
          ],
          "scattercarpet": [
           {
            "marker": {
             "colorbar": {
              "outlinewidth": 0,
              "ticks": ""
             }
            },
            "type": "scattercarpet"
           }
          ],
          "scattergeo": [
           {
            "marker": {
             "colorbar": {
              "outlinewidth": 0,
              "ticks": ""
             }
            },
            "type": "scattergeo"
           }
          ],
          "scattergl": [
           {
            "marker": {
             "colorbar": {
              "outlinewidth": 0,
              "ticks": ""
             }
            },
            "type": "scattergl"
           }
          ],
          "scattermapbox": [
           {
            "marker": {
             "colorbar": {
              "outlinewidth": 0,
              "ticks": ""
             }
            },
            "type": "scattermapbox"
           }
          ],
          "scatterpolar": [
           {
            "marker": {
             "colorbar": {
              "outlinewidth": 0,
              "ticks": ""
             }
            },
            "type": "scatterpolar"
           }
          ],
          "scatterpolargl": [
           {
            "marker": {
             "colorbar": {
              "outlinewidth": 0,
              "ticks": ""
             }
            },
            "type": "scatterpolargl"
           }
          ],
          "scatterternary": [
           {
            "marker": {
             "colorbar": {
              "outlinewidth": 0,
              "ticks": ""
             }
            },
            "type": "scatterternary"
           }
          ],
          "surface": [
           {
            "colorbar": {
             "outlinewidth": 0,
             "ticks": ""
            },
            "colorscale": [
             [
              0,
              "#0d0887"
             ],
             [
              0.1111111111111111,
              "#46039f"
             ],
             [
              0.2222222222222222,
              "#7201a8"
             ],
             [
              0.3333333333333333,
              "#9c179e"
             ],
             [
              0.4444444444444444,
              "#bd3786"
             ],
             [
              0.5555555555555556,
              "#d8576b"
             ],
             [
              0.6666666666666666,
              "#ed7953"
             ],
             [
              0.7777777777777778,
              "#fb9f3a"
             ],
             [
              0.8888888888888888,
              "#fdca26"
             ],
             [
              1,
              "#f0f921"
             ]
            ],
            "type": "surface"
           }
          ],
          "table": [
           {
            "cells": {
             "fill": {
              "color": "#EBF0F8"
             },
             "line": {
              "color": "white"
             }
            },
            "header": {
             "fill": {
              "color": "#C8D4E3"
             },
             "line": {
              "color": "white"
             }
            },
            "type": "table"
           }
          ]
         },
         "layout": {
          "annotationdefaults": {
           "arrowcolor": "#2a3f5f",
           "arrowhead": 0,
           "arrowwidth": 1
          },
          "coloraxis": {
           "colorbar": {
            "outlinewidth": 0,
            "ticks": ""
           }
          },
          "colorscale": {
           "diverging": [
            [
             0,
             "#8e0152"
            ],
            [
             0.1,
             "#c51b7d"
            ],
            [
             0.2,
             "#de77ae"
            ],
            [
             0.3,
             "#f1b6da"
            ],
            [
             0.4,
             "#fde0ef"
            ],
            [
             0.5,
             "#f7f7f7"
            ],
            [
             0.6,
             "#e6f5d0"
            ],
            [
             0.7,
             "#b8e186"
            ],
            [
             0.8,
             "#7fbc41"
            ],
            [
             0.9,
             "#4d9221"
            ],
            [
             1,
             "#276419"
            ]
           ],
           "sequential": [
            [
             0,
             "#0d0887"
            ],
            [
             0.1111111111111111,
             "#46039f"
            ],
            [
             0.2222222222222222,
             "#7201a8"
            ],
            [
             0.3333333333333333,
             "#9c179e"
            ],
            [
             0.4444444444444444,
             "#bd3786"
            ],
            [
             0.5555555555555556,
             "#d8576b"
            ],
            [
             0.6666666666666666,
             "#ed7953"
            ],
            [
             0.7777777777777778,
             "#fb9f3a"
            ],
            [
             0.8888888888888888,
             "#fdca26"
            ],
            [
             1,
             "#f0f921"
            ]
           ],
           "sequentialminus": [
            [
             0,
             "#0d0887"
            ],
            [
             0.1111111111111111,
             "#46039f"
            ],
            [
             0.2222222222222222,
             "#7201a8"
            ],
            [
             0.3333333333333333,
             "#9c179e"
            ],
            [
             0.4444444444444444,
             "#bd3786"
            ],
            [
             0.5555555555555556,
             "#d8576b"
            ],
            [
             0.6666666666666666,
             "#ed7953"
            ],
            [
             0.7777777777777778,
             "#fb9f3a"
            ],
            [
             0.8888888888888888,
             "#fdca26"
            ],
            [
             1,
             "#f0f921"
            ]
           ]
          },
          "colorway": [
           "#636efa",
           "#EF553B",
           "#00cc96",
           "#ab63fa",
           "#FFA15A",
           "#19d3f3",
           "#FF6692",
           "#B6E880",
           "#FF97FF",
           "#FECB52"
          ],
          "font": {
           "color": "#2a3f5f"
          },
          "geo": {
           "bgcolor": "white",
           "lakecolor": "white",
           "landcolor": "#E5ECF6",
           "showlakes": true,
           "showland": true,
           "subunitcolor": "white"
          },
          "hoverlabel": {
           "align": "left"
          },
          "hovermode": "closest",
          "mapbox": {
           "style": "light"
          },
          "paper_bgcolor": "white",
          "plot_bgcolor": "#E5ECF6",
          "polar": {
           "angularaxis": {
            "gridcolor": "white",
            "linecolor": "white",
            "ticks": ""
           },
           "bgcolor": "#E5ECF6",
           "radialaxis": {
            "gridcolor": "white",
            "linecolor": "white",
            "ticks": ""
           }
          },
          "scene": {
           "xaxis": {
            "backgroundcolor": "#E5ECF6",
            "gridcolor": "white",
            "gridwidth": 2,
            "linecolor": "white",
            "showbackground": true,
            "ticks": "",
            "zerolinecolor": "white"
           },
           "yaxis": {
            "backgroundcolor": "#E5ECF6",
            "gridcolor": "white",
            "gridwidth": 2,
            "linecolor": "white",
            "showbackground": true,
            "ticks": "",
            "zerolinecolor": "white"
           },
           "zaxis": {
            "backgroundcolor": "#E5ECF6",
            "gridcolor": "white",
            "gridwidth": 2,
            "linecolor": "white",
            "showbackground": true,
            "ticks": "",
            "zerolinecolor": "white"
           }
          },
          "shapedefaults": {
           "line": {
            "color": "#2a3f5f"
           }
          },
          "ternary": {
           "aaxis": {
            "gridcolor": "white",
            "linecolor": "white",
            "ticks": ""
           },
           "baxis": {
            "gridcolor": "white",
            "linecolor": "white",
            "ticks": ""
           },
           "bgcolor": "#E5ECF6",
           "caxis": {
            "gridcolor": "white",
            "linecolor": "white",
            "ticks": ""
           }
          },
          "title": {
           "x": 0.05
          },
          "xaxis": {
           "automargin": true,
           "gridcolor": "white",
           "linecolor": "white",
           "ticks": "",
           "title": {
            "standoff": 15
           },
           "zerolinecolor": "white",
           "zerolinewidth": 2
          },
          "yaxis": {
           "automargin": true,
           "gridcolor": "white",
           "linecolor": "white",
           "ticks": "",
           "title": {
            "standoff": 15
           },
           "zerolinecolor": "white",
           "zerolinewidth": 2
          }
         }
        },
        "xaxis": {
         "title": {
          "text": "Iteration"
         }
        },
        "yaxis": {
         "title": {
          "text": "Dev Loss"
         }
        }
       }
      },
      "text/html": [
       "<div>                            <div id=\"4b86a5c2-110b-45ba-80dc-d1cf2c47679e\" class=\"plotly-graph-div\" style=\"height:525px; width:100%;\"></div>            <script type=\"text/javascript\">                require([\"plotly\"], function(Plotly) {                    window.PLOTLYENV=window.PLOTLYENV || {};                                    if (document.getElementById(\"4b86a5c2-110b-45ba-80dc-d1cf2c47679e\")) {                    Plotly.newPlot(                        \"4b86a5c2-110b-45ba-80dc-d1cf2c47679e\",                        [{\"line\": {\"color\": \"#636EFA\", \"dash\": \"dash\"}, \"mode\": \"lines\", \"name\": \"sampling-smoothed-r=0.5/sst\", \"type\": \"scatter\", \"x\": [0, 200, 400, 600, 800, 1000, 1200, 1400, 1600, 1800, 2000, 2200, 2400], \"y\": [0.7042644162178039, 0.3626221915880839, 0.28486873976389565, 0.28559011467297873, 0.2832157456080118, 0.2714623085657756, 0.27127600979804994, 0.275497590859731, 0.3036944132645925, 0.3318792916138967, 0.28723838432629906, 0.2980251626968384, 0.31121754066149393]}, {\"line\": {\"color\": \"#636EFA\", \"dash\": \"dot\"}, \"mode\": \"lines\", \"name\": \"sampling-smoothed-r=0.5/mrpc\", \"type\": \"scatter\", \"x\": [0, 200, 400, 600, 800, 1000, 1200, 1400, 1600, 1800, 2000, 2200, 2400], \"y\": [0.7914901597827089, 0.6034184515086655, 0.5171032684301239, 0.4854103954009761, 0.439868555739035, 0.42842945592855314, 0.45271292426227744, 0.45295073861390156, 0.4806417854003657, 0.4835446644452663, 0.4741913890526965, 0.4709935445411533, 0.5015209589908326]}, {\"line\": {\"color\": \"#636EFA\", \"dash\": \"dashdot\"}, \"mode\": \"lines\", \"name\": \"sampling-smoothed-r=0.5/rte\", \"type\": \"scatter\", \"x\": [0, 200, 400, 600, 800, 1000, 1200, 1400, 1600, 1800, 2000, 2200, 2400], \"y\": [0.7068585718887439, 0.6851960918753619, 0.6437489157137664, 0.6443684057912965, 0.6430778569645352, 0.6744997268137723, 0.712660220798087, 0.7512664506976732, 0.8033173694702738, 0.8358739280470328, 0.8960612542963258, 0.9097178106146734, 0.9438736372523838]}, {\"line\": {\"color\": \"#636EFA\"}, \"mode\": \"lines\", \"name\": \"sampling-smoothed-r=0.5/aggregate\", \"type\": \"scatter\", \"x\": [0, 200, 400, 600, 800, 1000, 1200, 1400, 1600, 1800, 2000, 2200, 2400], \"y\": [0.717790530353296, 0.43239688254444975, 0.35707537771396475, 0.3528589234977472, 0.3440340352011035, 0.3367681668222809, 0.3442448262426904, 0.35139665553893135, 0.38196954878775324, 0.40676080866708014, 0.37826369656180486, 0.38721974936517034, 0.40520296440868314]}, {\"marker\": {\"color\": \"#636EFA\"}, \"mode\": \"markers\", \"name\": \"sampling-smoothed-r=0.5 minimum\", \"type\": \"scatter\", \"x\": [1200, 1000, 800, 1000], \"y\": [0.27127600979804994, 0.42842945592855314, 0.6430778569645352, 0.3367681668222809]}],                        {\"font\": {\"size\": 14}, \"legend\": {\"title\": {\"text\": \"Method/Task\"}}, \"template\": {\"data\": {\"bar\": [{\"error_x\": {\"color\": \"#2a3f5f\"}, \"error_y\": {\"color\": \"#2a3f5f\"}, \"marker\": {\"line\": {\"color\": \"#E5ECF6\", \"width\": 0.5}}, \"type\": \"bar\"}], \"barpolar\": [{\"marker\": {\"line\": {\"color\": \"#E5ECF6\", \"width\": 0.5}}, \"type\": \"barpolar\"}], \"carpet\": [{\"aaxis\": {\"endlinecolor\": \"#2a3f5f\", \"gridcolor\": \"white\", \"linecolor\": \"white\", \"minorgridcolor\": \"white\", \"startlinecolor\": \"#2a3f5f\"}, \"baxis\": {\"endlinecolor\": \"#2a3f5f\", \"gridcolor\": \"white\", \"linecolor\": \"white\", \"minorgridcolor\": \"white\", \"startlinecolor\": \"#2a3f5f\"}, \"type\": \"carpet\"}], \"choropleth\": [{\"colorbar\": {\"outlinewidth\": 0, \"ticks\": \"\"}, \"type\": \"choropleth\"}], \"contour\": [{\"colorbar\": {\"outlinewidth\": 0, \"ticks\": \"\"}, \"colorscale\": [[0.0, \"#0d0887\"], [0.1111111111111111, \"#46039f\"], [0.2222222222222222, \"#7201a8\"], [0.3333333333333333, \"#9c179e\"], [0.4444444444444444, \"#bd3786\"], [0.5555555555555556, \"#d8576b\"], [0.6666666666666666, \"#ed7953\"], [0.7777777777777778, \"#fb9f3a\"], [0.8888888888888888, \"#fdca26\"], [1.0, \"#f0f921\"]], \"type\": \"contour\"}], \"contourcarpet\": [{\"colorbar\": {\"outlinewidth\": 0, \"ticks\": \"\"}, \"type\": \"contourcarpet\"}], \"heatmap\": [{\"colorbar\": {\"outlinewidth\": 0, \"ticks\": \"\"}, \"colorscale\": [[0.0, \"#0d0887\"], [0.1111111111111111, \"#46039f\"], [0.2222222222222222, \"#7201a8\"], [0.3333333333333333, \"#9c179e\"], [0.4444444444444444, \"#bd3786\"], [0.5555555555555556, \"#d8576b\"], [0.6666666666666666, \"#ed7953\"], [0.7777777777777778, \"#fb9f3a\"], [0.8888888888888888, \"#fdca26\"], [1.0, \"#f0f921\"]], \"type\": \"heatmap\"}], \"heatmapgl\": [{\"colorbar\": {\"outlinewidth\": 0, \"ticks\": \"\"}, \"colorscale\": [[0.0, \"#0d0887\"], [0.1111111111111111, \"#46039f\"], [0.2222222222222222, \"#7201a8\"], [0.3333333333333333, \"#9c179e\"], [0.4444444444444444, \"#bd3786\"], [0.5555555555555556, \"#d8576b\"], [0.6666666666666666, \"#ed7953\"], [0.7777777777777778, \"#fb9f3a\"], [0.8888888888888888, \"#fdca26\"], [1.0, \"#f0f921\"]], \"type\": \"heatmapgl\"}], \"histogram\": [{\"marker\": {\"colorbar\": {\"outlinewidth\": 0, \"ticks\": \"\"}}, \"type\": \"histogram\"}], \"histogram2d\": [{\"colorbar\": {\"outlinewidth\": 0, \"ticks\": \"\"}, \"colorscale\": [[0.0, \"#0d0887\"], [0.1111111111111111, \"#46039f\"], [0.2222222222222222, \"#7201a8\"], [0.3333333333333333, \"#9c179e\"], [0.4444444444444444, \"#bd3786\"], [0.5555555555555556, \"#d8576b\"], [0.6666666666666666, \"#ed7953\"], [0.7777777777777778, \"#fb9f3a\"], [0.8888888888888888, \"#fdca26\"], [1.0, \"#f0f921\"]], \"type\": \"histogram2d\"}], \"histogram2dcontour\": [{\"colorbar\": {\"outlinewidth\": 0, \"ticks\": \"\"}, \"colorscale\": [[0.0, \"#0d0887\"], [0.1111111111111111, \"#46039f\"], [0.2222222222222222, \"#7201a8\"], [0.3333333333333333, \"#9c179e\"], [0.4444444444444444, \"#bd3786\"], [0.5555555555555556, \"#d8576b\"], [0.6666666666666666, \"#ed7953\"], [0.7777777777777778, \"#fb9f3a\"], [0.8888888888888888, \"#fdca26\"], [1.0, \"#f0f921\"]], \"type\": \"histogram2dcontour\"}], \"mesh3d\": [{\"colorbar\": {\"outlinewidth\": 0, \"ticks\": \"\"}, \"type\": \"mesh3d\"}], \"parcoords\": [{\"line\": {\"colorbar\": {\"outlinewidth\": 0, \"ticks\": \"\"}}, \"type\": \"parcoords\"}], \"pie\": [{\"automargin\": true, \"type\": \"pie\"}], \"scatter\": [{\"marker\": {\"colorbar\": {\"outlinewidth\": 0, \"ticks\": \"\"}}, \"type\": \"scatter\"}], \"scatter3d\": [{\"line\": {\"colorbar\": {\"outlinewidth\": 0, \"ticks\": \"\"}}, \"marker\": {\"colorbar\": {\"outlinewidth\": 0, \"ticks\": \"\"}}, \"type\": \"scatter3d\"}], \"scattercarpet\": [{\"marker\": {\"colorbar\": {\"outlinewidth\": 0, \"ticks\": \"\"}}, \"type\": \"scattercarpet\"}], \"scattergeo\": [{\"marker\": {\"colorbar\": {\"outlinewidth\": 0, \"ticks\": \"\"}}, \"type\": \"scattergeo\"}], \"scattergl\": [{\"marker\": {\"colorbar\": {\"outlinewidth\": 0, \"ticks\": \"\"}}, \"type\": \"scattergl\"}], \"scattermapbox\": [{\"marker\": {\"colorbar\": {\"outlinewidth\": 0, \"ticks\": \"\"}}, \"type\": \"scattermapbox\"}], \"scatterpolar\": [{\"marker\": {\"colorbar\": {\"outlinewidth\": 0, \"ticks\": \"\"}}, \"type\": \"scatterpolar\"}], \"scatterpolargl\": [{\"marker\": {\"colorbar\": {\"outlinewidth\": 0, \"ticks\": \"\"}}, \"type\": \"scatterpolargl\"}], \"scatterternary\": [{\"marker\": {\"colorbar\": {\"outlinewidth\": 0, \"ticks\": \"\"}}, \"type\": \"scatterternary\"}], \"surface\": [{\"colorbar\": {\"outlinewidth\": 0, \"ticks\": \"\"}, \"colorscale\": [[0.0, \"#0d0887\"], [0.1111111111111111, \"#46039f\"], [0.2222222222222222, \"#7201a8\"], [0.3333333333333333, \"#9c179e\"], [0.4444444444444444, \"#bd3786\"], [0.5555555555555556, \"#d8576b\"], [0.6666666666666666, \"#ed7953\"], [0.7777777777777778, \"#fb9f3a\"], [0.8888888888888888, \"#fdca26\"], [1.0, \"#f0f921\"]], \"type\": \"surface\"}], \"table\": [{\"cells\": {\"fill\": {\"color\": \"#EBF0F8\"}, \"line\": {\"color\": \"white\"}}, \"header\": {\"fill\": {\"color\": \"#C8D4E3\"}, \"line\": {\"color\": \"white\"}}, \"type\": \"table\"}]}, \"layout\": {\"annotationdefaults\": {\"arrowcolor\": \"#2a3f5f\", \"arrowhead\": 0, \"arrowwidth\": 1}, \"coloraxis\": {\"colorbar\": {\"outlinewidth\": 0, \"ticks\": \"\"}}, \"colorscale\": {\"diverging\": [[0, \"#8e0152\"], [0.1, \"#c51b7d\"], [0.2, \"#de77ae\"], [0.3, \"#f1b6da\"], [0.4, \"#fde0ef\"], [0.5, \"#f7f7f7\"], [0.6, \"#e6f5d0\"], [0.7, \"#b8e186\"], [0.8, \"#7fbc41\"], [0.9, \"#4d9221\"], [1, \"#276419\"]], \"sequential\": [[0.0, \"#0d0887\"], [0.1111111111111111, \"#46039f\"], [0.2222222222222222, \"#7201a8\"], [0.3333333333333333, \"#9c179e\"], [0.4444444444444444, \"#bd3786\"], [0.5555555555555556, \"#d8576b\"], [0.6666666666666666, \"#ed7953\"], [0.7777777777777778, \"#fb9f3a\"], [0.8888888888888888, \"#fdca26\"], [1.0, \"#f0f921\"]], \"sequentialminus\": [[0.0, \"#0d0887\"], [0.1111111111111111, \"#46039f\"], [0.2222222222222222, \"#7201a8\"], [0.3333333333333333, \"#9c179e\"], [0.4444444444444444, \"#bd3786\"], [0.5555555555555556, \"#d8576b\"], [0.6666666666666666, \"#ed7953\"], [0.7777777777777778, \"#fb9f3a\"], [0.8888888888888888, \"#fdca26\"], [1.0, \"#f0f921\"]]}, \"colorway\": [\"#636efa\", \"#EF553B\", \"#00cc96\", \"#ab63fa\", \"#FFA15A\", \"#19d3f3\", \"#FF6692\", \"#B6E880\", \"#FF97FF\", \"#FECB52\"], \"font\": {\"color\": \"#2a3f5f\"}, \"geo\": {\"bgcolor\": \"white\", \"lakecolor\": \"white\", \"landcolor\": \"#E5ECF6\", \"showlakes\": true, \"showland\": true, \"subunitcolor\": \"white\"}, \"hoverlabel\": {\"align\": \"left\"}, \"hovermode\": \"closest\", \"mapbox\": {\"style\": \"light\"}, \"paper_bgcolor\": \"white\", \"plot_bgcolor\": \"#E5ECF6\", \"polar\": {\"angularaxis\": {\"gridcolor\": \"white\", \"linecolor\": \"white\", \"ticks\": \"\"}, \"bgcolor\": \"#E5ECF6\", \"radialaxis\": {\"gridcolor\": \"white\", \"linecolor\": \"white\", \"ticks\": \"\"}}, \"scene\": {\"xaxis\": {\"backgroundcolor\": \"#E5ECF6\", \"gridcolor\": \"white\", \"gridwidth\": 2, \"linecolor\": \"white\", \"showbackground\": true, \"ticks\": \"\", \"zerolinecolor\": \"white\"}, \"yaxis\": {\"backgroundcolor\": \"#E5ECF6\", \"gridcolor\": \"white\", \"gridwidth\": 2, \"linecolor\": \"white\", \"showbackground\": true, \"ticks\": \"\", \"zerolinecolor\": \"white\"}, \"zaxis\": {\"backgroundcolor\": \"#E5ECF6\", \"gridcolor\": \"white\", \"gridwidth\": 2, \"linecolor\": \"white\", \"showbackground\": true, \"ticks\": \"\", \"zerolinecolor\": \"white\"}}, \"shapedefaults\": {\"line\": {\"color\": \"#2a3f5f\"}}, \"ternary\": {\"aaxis\": {\"gridcolor\": \"white\", \"linecolor\": \"white\", \"ticks\": \"\"}, \"baxis\": {\"gridcolor\": \"white\", \"linecolor\": \"white\", \"ticks\": \"\"}, \"bgcolor\": \"#E5ECF6\", \"caxis\": {\"gridcolor\": \"white\", \"linecolor\": \"white\", \"ticks\": \"\"}}, \"title\": {\"x\": 0.05}, \"xaxis\": {\"automargin\": true, \"gridcolor\": \"white\", \"linecolor\": \"white\", \"ticks\": \"\", \"title\": {\"standoff\": 15}, \"zerolinecolor\": \"white\", \"zerolinewidth\": 2}, \"yaxis\": {\"automargin\": true, \"gridcolor\": \"white\", \"linecolor\": \"white\", \"ticks\": \"\", \"title\": {\"standoff\": 15}, \"zerolinecolor\": \"white\", \"zerolinewidth\": 2}}}, \"xaxis\": {\"title\": {\"text\": \"Iteration\"}}, \"yaxis\": {\"title\": {\"text\": \"Dev Loss\"}}},                        {\"responsive\": true}                    ).then(function(){\n",
       "                            \n",
       "var gd = document.getElementById('4b86a5c2-110b-45ba-80dc-d1cf2c47679e');\n",
       "var x = new MutationObserver(function (mutations, observer) {{\n",
       "        var display = window.getComputedStyle(gd).display;\n",
       "        if (!display || display === 'none') {{\n",
       "            console.log([gd, 'removed!']);\n",
       "            Plotly.purge(gd);\n",
       "            observer.disconnect();\n",
       "        }}\n",
       "}});\n",
       "\n",
       "// Listen for the removal of the full notebook cells\n",
       "var notebookContainer = gd.closest('#notebook-container');\n",
       "if (notebookContainer) {{\n",
       "    x.observe(notebookContainer, {childList: true});\n",
       "}}\n",
       "\n",
       "// Listen for the clearing of the current output cell\n",
       "var outputEl = gd.closest('.output');\n",
       "if (outputEl) {{\n",
       "    x.observe(outputEl, {childList: true});\n",
       "}}\n",
       "\n",
       "                        })                };                });            </script>        </div>"
      ]
     },
     "metadata": {},
     "output_type": "display_data"
    }
   ],
   "source": [
    "plot_metric_over_time('dev', 'loss', \n",
    "                      [\n",
    "                       'sampling-smoothed-r=0.5',\n",
    "#                        'sampling-smoothed-r=0.375',\n",
    "#                        'sampling-smoothed-r=0.25',\n",
    "#                        'sampling-smoothed-r=0.125',\n",
    "#                        'sampling-raw'\n",
    "                      ],\n",
    "                      plot_minima=True)"
   ]
  },
  {
   "cell_type": "code",
   "execution_count": 332,
   "metadata": {
    "scrolled": false
   },
   "outputs": [
    {
     "data": {
      "application/vnd.plotly.v1+json": {
       "config": {
        "plotlyServerURL": "https://plot.ly"
       },
       "data": [
        {
         "line": {
          "color": "#636EFA",
          "dash": "dash"
         },
         "mode": "lines",
         "name": "sampling-smoothed-r=0.5/sst",
         "type": "scatter",
         "x": [
          0,
          200,
          400,
          600,
          800,
          1000,
          1200,
          1400,
          1600,
          1800,
          2000,
          2200,
          2400
         ],
         "y": [
          0.7042644162178039,
          0.3626221915880839,
          0.28486873976389565,
          0.28559011467297873,
          0.2832157456080118,
          0.2714623085657756,
          0.27127600979804994,
          0.275497590859731,
          0.3036944132645925,
          0.3318792916138967,
          0.28723838432629906,
          0.2980251626968384,
          0.31121754066149393
         ]
        },
        {
         "line": {
          "color": "#636EFA",
          "dash": "dot"
         },
         "mode": "lines",
         "name": "sampling-smoothed-r=0.5/mrpc",
         "type": "scatter",
         "x": [
          0,
          200,
          400,
          600,
          800,
          1000,
          1200,
          1400,
          1600,
          1800,
          2000,
          2200,
          2400
         ],
         "y": [
          0.7914901597827089,
          0.6034184515086655,
          0.5171032684301239,
          0.4854103954009761,
          0.439868555739035,
          0.42842945592855314,
          0.45271292426227744,
          0.45295073861390156,
          0.4806417854003657,
          0.4835446644452663,
          0.4741913890526965,
          0.4709935445411533,
          0.5015209589908326
         ]
        },
        {
         "line": {
          "color": "#636EFA",
          "dash": "dashdot"
         },
         "mode": "lines",
         "name": "sampling-smoothed-r=0.5/rte",
         "type": "scatter",
         "x": [
          0,
          200,
          400,
          600,
          800,
          1000,
          1200,
          1400,
          1600,
          1800,
          2000,
          2200,
          2400
         ],
         "y": [
          0.7068585718887439,
          0.6851960918753619,
          0.6437489157137664,
          0.6443684057912965,
          0.6430778569645352,
          0.6744997268137723,
          0.712660220798087,
          0.7512664506976732,
          0.8033173694702738,
          0.8358739280470328,
          0.8960612542963258,
          0.9097178106146734,
          0.9438736372523838
         ]
        },
        {
         "line": {
          "color": "#636EFA"
         },
         "mode": "lines",
         "name": "sampling-smoothed-r=0.5/aggregate",
         "type": "scatter",
         "x": [
          0,
          200,
          400,
          600,
          800,
          1000,
          1200,
          1400,
          1600,
          1800,
          2000,
          2200,
          2400
         ],
         "y": [
          0.717790530353296,
          0.43239688254444975,
          0.35707537771396475,
          0.3528589234977472,
          0.3440340352011035,
          0.3367681668222809,
          0.3442448262426904,
          0.35139665553893135,
          0.38196954878775324,
          0.40676080866708014,
          0.37826369656180486,
          0.38721974936517034,
          0.40520296440868314
         ]
        },
        {
         "line": {
          "color": "#EF553B",
          "dash": "dash"
         },
         "mode": "lines",
         "name": "sampling-smoothed-r=0.375/sst",
         "type": "scatter",
         "x": [
          0,
          200,
          400,
          600,
          800,
          1000,
          1200,
          1400,
          1600,
          1800,
          2000,
          2200,
          2400
         ],
         "y": [
          0.7481390821139017,
          0.3332618304093679,
          0.3049238646030426,
          0.29766753562291465,
          0.28017170691490173,
          0.2835285228888194,
          0.2713456658522288,
          0.27838601295153304,
          0.2853232421080271,
          0.2848087147076925,
          0.2920748856862386,
          0.3261716570854187,
          0.2948681139945984
         ]
        },
        {
         "line": {
          "color": "#EF553B",
          "dash": "dot"
         },
         "mode": "lines",
         "name": "sampling-smoothed-r=0.375/mrpc",
         "type": "scatter",
         "x": [
          0,
          200,
          400,
          600,
          800,
          1000,
          1200,
          1400,
          1600,
          1800,
          2000,
          2200,
          2400
         ],
         "y": [
          0.8269662405151168,
          0.6036076058749279,
          0.5086777506310955,
          0.5088727108014175,
          0.45188190773421644,
          0.42283104993159476,
          0.4318695446245031,
          0.4490700738102782,
          0.46805846106772336,
          0.4652356704076131,
          0.4902609874999601,
          0.4882058583053888,
          0.5101255256366106
         ]
        },
        {
         "line": {
          "color": "#EF553B",
          "dash": "dashdot"
         },
         "mode": "lines",
         "name": "sampling-smoothed-r=0.375/rte",
         "type": "scatter",
         "x": [
          0,
          200,
          400,
          600,
          800,
          1000,
          1200,
          1400,
          1600,
          1800,
          2000,
          2200,
          2400
         ],
         "y": [
          0.6969200577136975,
          0.6933486075792912,
          0.6899480980951429,
          0.6607875927634862,
          0.6281290788581405,
          0.6804088961674971,
          0.6836834993339392,
          0.7311943075507159,
          0.7909303137645628,
          0.8543754076036278,
          0.8854558902662157,
          0.8984592991750597,
          0.9325906498996531
         ]
        },
        {
         "line": {
          "color": "#EF553B"
         },
         "mode": "lines",
         "name": "sampling-smoothed-r=0.375/aggregate",
         "type": "scatter",
         "x": [
          0,
          200,
          400,
          600,
          800,
          1000,
          1200,
          1400,
          1600,
          1800,
          2000,
          2200,
          2400
         ],
         "y": [
          0.7548548160532608,
          0.41138590898196375,
          0.37548954043883437,
          0.3671134548642063,
          0.34205471607682963,
          0.34551600949774913,
          0.3381485662173704,
          0.35089502418094526,
          0.3650935554883401,
          0.3708052143965322,
          0.38321985096346367,
          0.40965203835013136,
          0.39316783227318863
         ]
        },
        {
         "line": {
          "color": "#00CC96",
          "dash": "dash"
         },
         "mode": "lines",
         "name": "sampling-smoothed-r=0.125/sst",
         "type": "scatter",
         "x": [
          0,
          200,
          400,
          600,
          800,
          1000,
          1200,
          1400,
          1600,
          1800,
          2000,
          2200,
          2400
         ],
         "y": [
          0.7708145623207092,
          0.3220229566891988,
          0.3052795201142629,
          0.29683947944641115,
          0.296834725300471,
          0.2719489687283834,
          0.2746526721318563,
          0.282421466588974,
          0.2935865504741669,
          0.3098460352420807,
          0.3166723244984945,
          0.2909172248840332,
          0.3046687526702881
         ]
        },
        {
         "line": {
          "color": "#00CC96",
          "dash": "dot"
         },
         "mode": "lines",
         "name": "sampling-smoothed-r=0.125/mrpc",
         "type": "scatter",
         "x": [
          0,
          200,
          400,
          600,
          800,
          1000,
          1200,
          1400,
          1600,
          1800,
          2000,
          2200,
          2400
         ],
         "y": [
          0.7406764205764321,
          0.5959601741211088,
          0.4959632711472854,
          0.488316644250957,
          0.4840686360215829,
          0.4554074667637644,
          0.4610978890867794,
          0.46052029280880696,
          0.4835836610762901,
          0.4839262981819951,
          0.4948987454370735,
          0.5159099795459922,
          0.5134666301066579
         ]
        },
        {
         "line": {
          "color": "#00CC96",
          "dash": "dashdot"
         },
         "mode": "lines",
         "name": "sampling-smoothed-r=0.125/rte",
         "type": "scatter",
         "x": [
          0,
          200,
          400,
          600,
          800,
          1000,
          1200,
          1400,
          1600,
          1800,
          2000,
          2200,
          2400
         ],
         "y": [
          0.7145234527795211,
          0.6957207998791755,
          0.67387481732069,
          0.6829173181943847,
          0.6665276491987532,
          0.7075088759839246,
          0.7308126826217208,
          0.8028521513305424,
          0.7984184121740038,
          0.8780116113487648,
          0.9203598811718576,
          0.9041123799079859,
          0.9461300236303449
         ]
        },
        {
         "line": {
          "color": "#00CC96"
         },
         "mode": "lines",
         "name": "sampling-smoothed-r=0.125/aggregate",
         "type": "scatter",
         "x": [
          0,
          200,
          400,
          600,
          800,
          1000,
          1200,
          1400,
          1600,
          1800,
          2000,
          2200,
          2400
         ],
         "y": [
          0.7604447008955851,
          0.4020926248831827,
          0.3721689658856664,
          0.36564729119555245,
          0.36331262491676736,
          0.34462616753649256,
          0.34990222929013176,
          0.36301132876720227,
          0.3743810418880347,
          0.394733682889223,
          0.4058430195002785,
          0.38817464168309807,
          0.4023710048234232
         ]
        },
        {
         "line": {
          "color": "#AB63FA",
          "dash": "dash"
         },
         "mode": "lines",
         "name": "sampling-raw/sst",
         "type": "scatter",
         "x": [
          0,
          200,
          400,
          600,
          800,
          1000,
          1200,
          1400,
          1600,
          1800,
          2000,
          2200,
          2400
         ],
         "y": [
          0.7322626477877298,
          0.3642666401863099,
          0.2904091308116913,
          0.2983312123616536,
          0.27746466406186426,
          0.3026227445602417,
          0.27280253775914515,
          0.2889628318945567,
          0.2873687079747518,
          0.297387496471405,
          0.31714715965588886,
          0.31053086137771607,
          0.3084409124851227
         ]
        },
        {
         "line": {
          "color": "#AB63FA",
          "dash": "dot"
         },
         "mode": "lines",
         "name": "sampling-raw/mrpc",
         "type": "scatter",
         "x": [
          0,
          200,
          400,
          600,
          800,
          1000,
          1200,
          1400,
          1600,
          1800,
          2000,
          2200,
          2400
         ],
         "y": [
          0.7702550669900733,
          0.5988445052134446,
          0.5250130486644172,
          0.49271696143680144,
          0.44655096219256035,
          0.4346908950338177,
          0.4176412146855024,
          0.4536956879827711,
          0.42672139484118793,
          0.4437002559113347,
          0.4601239293229346,
          0.4749661497041291,
          0.46558601715985465
         ]
        },
        {
         "line": {
          "color": "#AB63FA",
          "dash": "dashdot"
         },
         "mode": "lines",
         "name": "sampling-raw/rte",
         "type": "scatter",
         "x": [
          0,
          200,
          400,
          600,
          800,
          1000,
          1200,
          1400,
          1600,
          1800,
          2000,
          2200,
          2400
         ],
         "y": [
          0.8563862201096355,
          0.6969044922630568,
          0.664769610920966,
          0.6554728923500449,
          0.6520043453156661,
          0.6690685062304786,
          0.6782734231384481,
          0.7641245280774895,
          0.75954702741282,
          0.823247420039154,
          0.8403475909417377,
          0.8927326892021198,
          0.9018645956032518
         ]
        },
        {
         "line": {
          "color": "#AB63FA"
         },
         "mode": "lines",
         "name": "sampling-raw/aggregate",
         "type": "scatter",
         "x": [
          0,
          200,
          400,
          600,
          800,
          1000,
          1200,
          1400,
          1600,
          1800,
          2000,
          2200,
          2400
         ],
         "y": [
          0.7508017733448842,
          0.4341309531908751,
          0.36456780852930376,
          0.3646056122496775,
          0.3416823099871151,
          0.36038088003498253,
          0.33651496121318436,
          0.362865824975958,
          0.35710682735120963,
          0.37370379481573807,
          0.39268286794912616,
          0.3953957280381899,
          0.39335154558791485
         ]
        },
        {
         "marker": {
          "color": "#636EFA"
         },
         "mode": "markers",
         "name": "sampling-smoothed-r=0.5 minimum",
         "type": "scatter",
         "x": [
          1200,
          1000,
          800,
          1000
         ],
         "y": [
          0.27127600979804994,
          0.42842945592855314,
          0.6430778569645352,
          0.3367681668222809
         ]
        },
        {
         "marker": {
          "color": "#EF553B"
         },
         "mode": "markers",
         "name": "sampling-smoothed-r=0.375 minimum",
         "type": "scatter",
         "x": [
          1200,
          1000,
          800,
          1200
         ],
         "y": [
          0.2713456658522288,
          0.42283104993159476,
          0.6281290788581405,
          0.3381485662173704
         ]
        },
        {
         "marker": {
          "color": "#00CC96"
         },
         "mode": "markers",
         "name": "sampling-smoothed-r=0.125 minimum",
         "type": "scatter",
         "x": [
          1000,
          1000,
          800,
          1000
         ],
         "y": [
          0.2719489687283834,
          0.4554074667637644,
          0.6665276491987532,
          0.34462616753649256
         ]
        },
        {
         "marker": {
          "color": "#AB63FA"
         },
         "mode": "markers",
         "name": "sampling-raw minimum",
         "type": "scatter",
         "x": [
          1200,
          1200,
          800,
          1200
         ],
         "y": [
          0.27280253775914515,
          0.4176412146855024,
          0.6520043453156661,
          0.33651496121318436
         ]
        }
       ],
       "layout": {
        "font": {
         "size": 14
        },
        "legend": {
         "title": {
          "text": "Method/Task"
         }
        },
        "template": {
         "data": {
          "bar": [
           {
            "error_x": {
             "color": "#2a3f5f"
            },
            "error_y": {
             "color": "#2a3f5f"
            },
            "marker": {
             "line": {
              "color": "#E5ECF6",
              "width": 0.5
             }
            },
            "type": "bar"
           }
          ],
          "barpolar": [
           {
            "marker": {
             "line": {
              "color": "#E5ECF6",
              "width": 0.5
             }
            },
            "type": "barpolar"
           }
          ],
          "carpet": [
           {
            "aaxis": {
             "endlinecolor": "#2a3f5f",
             "gridcolor": "white",
             "linecolor": "white",
             "minorgridcolor": "white",
             "startlinecolor": "#2a3f5f"
            },
            "baxis": {
             "endlinecolor": "#2a3f5f",
             "gridcolor": "white",
             "linecolor": "white",
             "minorgridcolor": "white",
             "startlinecolor": "#2a3f5f"
            },
            "type": "carpet"
           }
          ],
          "choropleth": [
           {
            "colorbar": {
             "outlinewidth": 0,
             "ticks": ""
            },
            "type": "choropleth"
           }
          ],
          "contour": [
           {
            "colorbar": {
             "outlinewidth": 0,
             "ticks": ""
            },
            "colorscale": [
             [
              0,
              "#0d0887"
             ],
             [
              0.1111111111111111,
              "#46039f"
             ],
             [
              0.2222222222222222,
              "#7201a8"
             ],
             [
              0.3333333333333333,
              "#9c179e"
             ],
             [
              0.4444444444444444,
              "#bd3786"
             ],
             [
              0.5555555555555556,
              "#d8576b"
             ],
             [
              0.6666666666666666,
              "#ed7953"
             ],
             [
              0.7777777777777778,
              "#fb9f3a"
             ],
             [
              0.8888888888888888,
              "#fdca26"
             ],
             [
              1,
              "#f0f921"
             ]
            ],
            "type": "contour"
           }
          ],
          "contourcarpet": [
           {
            "colorbar": {
             "outlinewidth": 0,
             "ticks": ""
            },
            "type": "contourcarpet"
           }
          ],
          "heatmap": [
           {
            "colorbar": {
             "outlinewidth": 0,
             "ticks": ""
            },
            "colorscale": [
             [
              0,
              "#0d0887"
             ],
             [
              0.1111111111111111,
              "#46039f"
             ],
             [
              0.2222222222222222,
              "#7201a8"
             ],
             [
              0.3333333333333333,
              "#9c179e"
             ],
             [
              0.4444444444444444,
              "#bd3786"
             ],
             [
              0.5555555555555556,
              "#d8576b"
             ],
             [
              0.6666666666666666,
              "#ed7953"
             ],
             [
              0.7777777777777778,
              "#fb9f3a"
             ],
             [
              0.8888888888888888,
              "#fdca26"
             ],
             [
              1,
              "#f0f921"
             ]
            ],
            "type": "heatmap"
           }
          ],
          "heatmapgl": [
           {
            "colorbar": {
             "outlinewidth": 0,
             "ticks": ""
            },
            "colorscale": [
             [
              0,
              "#0d0887"
             ],
             [
              0.1111111111111111,
              "#46039f"
             ],
             [
              0.2222222222222222,
              "#7201a8"
             ],
             [
              0.3333333333333333,
              "#9c179e"
             ],
             [
              0.4444444444444444,
              "#bd3786"
             ],
             [
              0.5555555555555556,
              "#d8576b"
             ],
             [
              0.6666666666666666,
              "#ed7953"
             ],
             [
              0.7777777777777778,
              "#fb9f3a"
             ],
             [
              0.8888888888888888,
              "#fdca26"
             ],
             [
              1,
              "#f0f921"
             ]
            ],
            "type": "heatmapgl"
           }
          ],
          "histogram": [
           {
            "marker": {
             "colorbar": {
              "outlinewidth": 0,
              "ticks": ""
             }
            },
            "type": "histogram"
           }
          ],
          "histogram2d": [
           {
            "colorbar": {
             "outlinewidth": 0,
             "ticks": ""
            },
            "colorscale": [
             [
              0,
              "#0d0887"
             ],
             [
              0.1111111111111111,
              "#46039f"
             ],
             [
              0.2222222222222222,
              "#7201a8"
             ],
             [
              0.3333333333333333,
              "#9c179e"
             ],
             [
              0.4444444444444444,
              "#bd3786"
             ],
             [
              0.5555555555555556,
              "#d8576b"
             ],
             [
              0.6666666666666666,
              "#ed7953"
             ],
             [
              0.7777777777777778,
              "#fb9f3a"
             ],
             [
              0.8888888888888888,
              "#fdca26"
             ],
             [
              1,
              "#f0f921"
             ]
            ],
            "type": "histogram2d"
           }
          ],
          "histogram2dcontour": [
           {
            "colorbar": {
             "outlinewidth": 0,
             "ticks": ""
            },
            "colorscale": [
             [
              0,
              "#0d0887"
             ],
             [
              0.1111111111111111,
              "#46039f"
             ],
             [
              0.2222222222222222,
              "#7201a8"
             ],
             [
              0.3333333333333333,
              "#9c179e"
             ],
             [
              0.4444444444444444,
              "#bd3786"
             ],
             [
              0.5555555555555556,
              "#d8576b"
             ],
             [
              0.6666666666666666,
              "#ed7953"
             ],
             [
              0.7777777777777778,
              "#fb9f3a"
             ],
             [
              0.8888888888888888,
              "#fdca26"
             ],
             [
              1,
              "#f0f921"
             ]
            ],
            "type": "histogram2dcontour"
           }
          ],
          "mesh3d": [
           {
            "colorbar": {
             "outlinewidth": 0,
             "ticks": ""
            },
            "type": "mesh3d"
           }
          ],
          "parcoords": [
           {
            "line": {
             "colorbar": {
              "outlinewidth": 0,
              "ticks": ""
             }
            },
            "type": "parcoords"
           }
          ],
          "pie": [
           {
            "automargin": true,
            "type": "pie"
           }
          ],
          "scatter": [
           {
            "marker": {
             "colorbar": {
              "outlinewidth": 0,
              "ticks": ""
             }
            },
            "type": "scatter"
           }
          ],
          "scatter3d": [
           {
            "line": {
             "colorbar": {
              "outlinewidth": 0,
              "ticks": ""
             }
            },
            "marker": {
             "colorbar": {
              "outlinewidth": 0,
              "ticks": ""
             }
            },
            "type": "scatter3d"
           }
          ],
          "scattercarpet": [
           {
            "marker": {
             "colorbar": {
              "outlinewidth": 0,
              "ticks": ""
             }
            },
            "type": "scattercarpet"
           }
          ],
          "scattergeo": [
           {
            "marker": {
             "colorbar": {
              "outlinewidth": 0,
              "ticks": ""
             }
            },
            "type": "scattergeo"
           }
          ],
          "scattergl": [
           {
            "marker": {
             "colorbar": {
              "outlinewidth": 0,
              "ticks": ""
             }
            },
            "type": "scattergl"
           }
          ],
          "scattermapbox": [
           {
            "marker": {
             "colorbar": {
              "outlinewidth": 0,
              "ticks": ""
             }
            },
            "type": "scattermapbox"
           }
          ],
          "scatterpolar": [
           {
            "marker": {
             "colorbar": {
              "outlinewidth": 0,
              "ticks": ""
             }
            },
            "type": "scatterpolar"
           }
          ],
          "scatterpolargl": [
           {
            "marker": {
             "colorbar": {
              "outlinewidth": 0,
              "ticks": ""
             }
            },
            "type": "scatterpolargl"
           }
          ],
          "scatterternary": [
           {
            "marker": {
             "colorbar": {
              "outlinewidth": 0,
              "ticks": ""
             }
            },
            "type": "scatterternary"
           }
          ],
          "surface": [
           {
            "colorbar": {
             "outlinewidth": 0,
             "ticks": ""
            },
            "colorscale": [
             [
              0,
              "#0d0887"
             ],
             [
              0.1111111111111111,
              "#46039f"
             ],
             [
              0.2222222222222222,
              "#7201a8"
             ],
             [
              0.3333333333333333,
              "#9c179e"
             ],
             [
              0.4444444444444444,
              "#bd3786"
             ],
             [
              0.5555555555555556,
              "#d8576b"
             ],
             [
              0.6666666666666666,
              "#ed7953"
             ],
             [
              0.7777777777777778,
              "#fb9f3a"
             ],
             [
              0.8888888888888888,
              "#fdca26"
             ],
             [
              1,
              "#f0f921"
             ]
            ],
            "type": "surface"
           }
          ],
          "table": [
           {
            "cells": {
             "fill": {
              "color": "#EBF0F8"
             },
             "line": {
              "color": "white"
             }
            },
            "header": {
             "fill": {
              "color": "#C8D4E3"
             },
             "line": {
              "color": "white"
             }
            },
            "type": "table"
           }
          ]
         },
         "layout": {
          "annotationdefaults": {
           "arrowcolor": "#2a3f5f",
           "arrowhead": 0,
           "arrowwidth": 1
          },
          "coloraxis": {
           "colorbar": {
            "outlinewidth": 0,
            "ticks": ""
           }
          },
          "colorscale": {
           "diverging": [
            [
             0,
             "#8e0152"
            ],
            [
             0.1,
             "#c51b7d"
            ],
            [
             0.2,
             "#de77ae"
            ],
            [
             0.3,
             "#f1b6da"
            ],
            [
             0.4,
             "#fde0ef"
            ],
            [
             0.5,
             "#f7f7f7"
            ],
            [
             0.6,
             "#e6f5d0"
            ],
            [
             0.7,
             "#b8e186"
            ],
            [
             0.8,
             "#7fbc41"
            ],
            [
             0.9,
             "#4d9221"
            ],
            [
             1,
             "#276419"
            ]
           ],
           "sequential": [
            [
             0,
             "#0d0887"
            ],
            [
             0.1111111111111111,
             "#46039f"
            ],
            [
             0.2222222222222222,
             "#7201a8"
            ],
            [
             0.3333333333333333,
             "#9c179e"
            ],
            [
             0.4444444444444444,
             "#bd3786"
            ],
            [
             0.5555555555555556,
             "#d8576b"
            ],
            [
             0.6666666666666666,
             "#ed7953"
            ],
            [
             0.7777777777777778,
             "#fb9f3a"
            ],
            [
             0.8888888888888888,
             "#fdca26"
            ],
            [
             1,
             "#f0f921"
            ]
           ],
           "sequentialminus": [
            [
             0,
             "#0d0887"
            ],
            [
             0.1111111111111111,
             "#46039f"
            ],
            [
             0.2222222222222222,
             "#7201a8"
            ],
            [
             0.3333333333333333,
             "#9c179e"
            ],
            [
             0.4444444444444444,
             "#bd3786"
            ],
            [
             0.5555555555555556,
             "#d8576b"
            ],
            [
             0.6666666666666666,
             "#ed7953"
            ],
            [
             0.7777777777777778,
             "#fb9f3a"
            ],
            [
             0.8888888888888888,
             "#fdca26"
            ],
            [
             1,
             "#f0f921"
            ]
           ]
          },
          "colorway": [
           "#636efa",
           "#EF553B",
           "#00cc96",
           "#ab63fa",
           "#FFA15A",
           "#19d3f3",
           "#FF6692",
           "#B6E880",
           "#FF97FF",
           "#FECB52"
          ],
          "font": {
           "color": "#2a3f5f"
          },
          "geo": {
           "bgcolor": "white",
           "lakecolor": "white",
           "landcolor": "#E5ECF6",
           "showlakes": true,
           "showland": true,
           "subunitcolor": "white"
          },
          "hoverlabel": {
           "align": "left"
          },
          "hovermode": "closest",
          "mapbox": {
           "style": "light"
          },
          "paper_bgcolor": "white",
          "plot_bgcolor": "#E5ECF6",
          "polar": {
           "angularaxis": {
            "gridcolor": "white",
            "linecolor": "white",
            "ticks": ""
           },
           "bgcolor": "#E5ECF6",
           "radialaxis": {
            "gridcolor": "white",
            "linecolor": "white",
            "ticks": ""
           }
          },
          "scene": {
           "xaxis": {
            "backgroundcolor": "#E5ECF6",
            "gridcolor": "white",
            "gridwidth": 2,
            "linecolor": "white",
            "showbackground": true,
            "ticks": "",
            "zerolinecolor": "white"
           },
           "yaxis": {
            "backgroundcolor": "#E5ECF6",
            "gridcolor": "white",
            "gridwidth": 2,
            "linecolor": "white",
            "showbackground": true,
            "ticks": "",
            "zerolinecolor": "white"
           },
           "zaxis": {
            "backgroundcolor": "#E5ECF6",
            "gridcolor": "white",
            "gridwidth": 2,
            "linecolor": "white",
            "showbackground": true,
            "ticks": "",
            "zerolinecolor": "white"
           }
          },
          "shapedefaults": {
           "line": {
            "color": "#2a3f5f"
           }
          },
          "ternary": {
           "aaxis": {
            "gridcolor": "white",
            "linecolor": "white",
            "ticks": ""
           },
           "baxis": {
            "gridcolor": "white",
            "linecolor": "white",
            "ticks": ""
           },
           "bgcolor": "#E5ECF6",
           "caxis": {
            "gridcolor": "white",
            "linecolor": "white",
            "ticks": ""
           }
          },
          "title": {
           "x": 0.05
          },
          "xaxis": {
           "automargin": true,
           "gridcolor": "white",
           "linecolor": "white",
           "ticks": "",
           "title": {
            "standoff": 15
           },
           "zerolinecolor": "white",
           "zerolinewidth": 2
          },
          "yaxis": {
           "automargin": true,
           "gridcolor": "white",
           "linecolor": "white",
           "ticks": "",
           "title": {
            "standoff": 15
           },
           "zerolinecolor": "white",
           "zerolinewidth": 2
          }
         }
        },
        "xaxis": {
         "title": {
          "text": "Iteration"
         }
        },
        "yaxis": {
         "title": {
          "text": "Dev Loss"
         }
        }
       }
      },
      "text/html": [
       "<div>                            <div id=\"8c1183ed-70f7-48c3-a302-0cb9f2e2aa89\" class=\"plotly-graph-div\" style=\"height:525px; width:100%;\"></div>            <script type=\"text/javascript\">                require([\"plotly\"], function(Plotly) {                    window.PLOTLYENV=window.PLOTLYENV || {};                                    if (document.getElementById(\"8c1183ed-70f7-48c3-a302-0cb9f2e2aa89\")) {                    Plotly.newPlot(                        \"8c1183ed-70f7-48c3-a302-0cb9f2e2aa89\",                        [{\"line\": {\"color\": \"#636EFA\", \"dash\": \"dash\"}, \"mode\": \"lines\", \"name\": \"sampling-smoothed-r=0.5/sst\", \"type\": \"scatter\", \"x\": [0, 200, 400, 600, 800, 1000, 1200, 1400, 1600, 1800, 2000, 2200, 2400], \"y\": [0.7042644162178039, 0.3626221915880839, 0.28486873976389565, 0.28559011467297873, 0.2832157456080118, 0.2714623085657756, 0.27127600979804994, 0.275497590859731, 0.3036944132645925, 0.3318792916138967, 0.28723838432629906, 0.2980251626968384, 0.31121754066149393]}, {\"line\": {\"color\": \"#636EFA\", \"dash\": \"dot\"}, \"mode\": \"lines\", \"name\": \"sampling-smoothed-r=0.5/mrpc\", \"type\": \"scatter\", \"x\": [0, 200, 400, 600, 800, 1000, 1200, 1400, 1600, 1800, 2000, 2200, 2400], \"y\": [0.7914901597827089, 0.6034184515086655, 0.5171032684301239, 0.4854103954009761, 0.439868555739035, 0.42842945592855314, 0.45271292426227744, 0.45295073861390156, 0.4806417854003657, 0.4835446644452663, 0.4741913890526965, 0.4709935445411533, 0.5015209589908326]}, {\"line\": {\"color\": \"#636EFA\", \"dash\": \"dashdot\"}, \"mode\": \"lines\", \"name\": \"sampling-smoothed-r=0.5/rte\", \"type\": \"scatter\", \"x\": [0, 200, 400, 600, 800, 1000, 1200, 1400, 1600, 1800, 2000, 2200, 2400], \"y\": [0.7068585718887439, 0.6851960918753619, 0.6437489157137664, 0.6443684057912965, 0.6430778569645352, 0.6744997268137723, 0.712660220798087, 0.7512664506976732, 0.8033173694702738, 0.8358739280470328, 0.8960612542963258, 0.9097178106146734, 0.9438736372523838]}, {\"line\": {\"color\": \"#636EFA\"}, \"mode\": \"lines\", \"name\": \"sampling-smoothed-r=0.5/aggregate\", \"type\": \"scatter\", \"x\": [0, 200, 400, 600, 800, 1000, 1200, 1400, 1600, 1800, 2000, 2200, 2400], \"y\": [0.717790530353296, 0.43239688254444975, 0.35707537771396475, 0.3528589234977472, 0.3440340352011035, 0.3367681668222809, 0.3442448262426904, 0.35139665553893135, 0.38196954878775324, 0.40676080866708014, 0.37826369656180486, 0.38721974936517034, 0.40520296440868314]}, {\"line\": {\"color\": \"#EF553B\", \"dash\": \"dash\"}, \"mode\": \"lines\", \"name\": \"sampling-smoothed-r=0.375/sst\", \"type\": \"scatter\", \"x\": [0, 200, 400, 600, 800, 1000, 1200, 1400, 1600, 1800, 2000, 2200, 2400], \"y\": [0.7481390821139017, 0.3332618304093679, 0.3049238646030426, 0.29766753562291465, 0.28017170691490173, 0.2835285228888194, 0.2713456658522288, 0.27838601295153304, 0.2853232421080271, 0.2848087147076925, 0.2920748856862386, 0.3261716570854187, 0.2948681139945984]}, {\"line\": {\"color\": \"#EF553B\", \"dash\": \"dot\"}, \"mode\": \"lines\", \"name\": \"sampling-smoothed-r=0.375/mrpc\", \"type\": \"scatter\", \"x\": [0, 200, 400, 600, 800, 1000, 1200, 1400, 1600, 1800, 2000, 2200, 2400], \"y\": [0.8269662405151168, 0.6036076058749279, 0.5086777506310955, 0.5088727108014175, 0.45188190773421644, 0.42283104993159476, 0.4318695446245031, 0.4490700738102782, 0.46805846106772336, 0.4652356704076131, 0.4902609874999601, 0.4882058583053888, 0.5101255256366106]}, {\"line\": {\"color\": \"#EF553B\", \"dash\": \"dashdot\"}, \"mode\": \"lines\", \"name\": \"sampling-smoothed-r=0.375/rte\", \"type\": \"scatter\", \"x\": [0, 200, 400, 600, 800, 1000, 1200, 1400, 1600, 1800, 2000, 2200, 2400], \"y\": [0.6969200577136975, 0.6933486075792912, 0.6899480980951429, 0.6607875927634862, 0.6281290788581405, 0.6804088961674971, 0.6836834993339392, 0.7311943075507159, 0.7909303137645628, 0.8543754076036278, 0.8854558902662157, 0.8984592991750597, 0.9325906498996531]}, {\"line\": {\"color\": \"#EF553B\"}, \"mode\": \"lines\", \"name\": \"sampling-smoothed-r=0.375/aggregate\", \"type\": \"scatter\", \"x\": [0, 200, 400, 600, 800, 1000, 1200, 1400, 1600, 1800, 2000, 2200, 2400], \"y\": [0.7548548160532608, 0.41138590898196375, 0.37548954043883437, 0.3671134548642063, 0.34205471607682963, 0.34551600949774913, 0.3381485662173704, 0.35089502418094526, 0.3650935554883401, 0.3708052143965322, 0.38321985096346367, 0.40965203835013136, 0.39316783227318863]}, {\"line\": {\"color\": \"#00CC96\", \"dash\": \"dash\"}, \"mode\": \"lines\", \"name\": \"sampling-smoothed-r=0.125/sst\", \"type\": \"scatter\", \"x\": [0, 200, 400, 600, 800, 1000, 1200, 1400, 1600, 1800, 2000, 2200, 2400], \"y\": [0.7708145623207092, 0.3220229566891988, 0.3052795201142629, 0.29683947944641115, 0.296834725300471, 0.2719489687283834, 0.2746526721318563, 0.282421466588974, 0.2935865504741669, 0.3098460352420807, 0.3166723244984945, 0.2909172248840332, 0.3046687526702881]}, {\"line\": {\"color\": \"#00CC96\", \"dash\": \"dot\"}, \"mode\": \"lines\", \"name\": \"sampling-smoothed-r=0.125/mrpc\", \"type\": \"scatter\", \"x\": [0, 200, 400, 600, 800, 1000, 1200, 1400, 1600, 1800, 2000, 2200, 2400], \"y\": [0.7406764205764321, 0.5959601741211088, 0.4959632711472854, 0.488316644250957, 0.4840686360215829, 0.4554074667637644, 0.4610978890867794, 0.46052029280880696, 0.4835836610762901, 0.4839262981819951, 0.4948987454370735, 0.5159099795459922, 0.5134666301066579]}, {\"line\": {\"color\": \"#00CC96\", \"dash\": \"dashdot\"}, \"mode\": \"lines\", \"name\": \"sampling-smoothed-r=0.125/rte\", \"type\": \"scatter\", \"x\": [0, 200, 400, 600, 800, 1000, 1200, 1400, 1600, 1800, 2000, 2200, 2400], \"y\": [0.7145234527795211, 0.6957207998791755, 0.67387481732069, 0.6829173181943847, 0.6665276491987532, 0.7075088759839246, 0.7308126826217208, 0.8028521513305424, 0.7984184121740038, 0.8780116113487648, 0.9203598811718576, 0.9041123799079859, 0.9461300236303449]}, {\"line\": {\"color\": \"#00CC96\"}, \"mode\": \"lines\", \"name\": \"sampling-smoothed-r=0.125/aggregate\", \"type\": \"scatter\", \"x\": [0, 200, 400, 600, 800, 1000, 1200, 1400, 1600, 1800, 2000, 2200, 2400], \"y\": [0.7604447008955851, 0.4020926248831827, 0.3721689658856664, 0.36564729119555245, 0.36331262491676736, 0.34462616753649256, 0.34990222929013176, 0.36301132876720227, 0.3743810418880347, 0.394733682889223, 0.4058430195002785, 0.38817464168309807, 0.4023710048234232]}, {\"line\": {\"color\": \"#AB63FA\", \"dash\": \"dash\"}, \"mode\": \"lines\", \"name\": \"sampling-raw/sst\", \"type\": \"scatter\", \"x\": [0, 200, 400, 600, 800, 1000, 1200, 1400, 1600, 1800, 2000, 2200, 2400], \"y\": [0.7322626477877298, 0.3642666401863099, 0.2904091308116913, 0.2983312123616536, 0.27746466406186426, 0.3026227445602417, 0.27280253775914515, 0.2889628318945567, 0.2873687079747518, 0.297387496471405, 0.31714715965588886, 0.31053086137771607, 0.3084409124851227]}, {\"line\": {\"color\": \"#AB63FA\", \"dash\": \"dot\"}, \"mode\": \"lines\", \"name\": \"sampling-raw/mrpc\", \"type\": \"scatter\", \"x\": [0, 200, 400, 600, 800, 1000, 1200, 1400, 1600, 1800, 2000, 2200, 2400], \"y\": [0.7702550669900733, 0.5988445052134446, 0.5250130486644172, 0.49271696143680144, 0.44655096219256035, 0.4346908950338177, 0.4176412146855024, 0.4536956879827711, 0.42672139484118793, 0.4437002559113347, 0.4601239293229346, 0.4749661497041291, 0.46558601715985465]}, {\"line\": {\"color\": \"#AB63FA\", \"dash\": \"dashdot\"}, \"mode\": \"lines\", \"name\": \"sampling-raw/rte\", \"type\": \"scatter\", \"x\": [0, 200, 400, 600, 800, 1000, 1200, 1400, 1600, 1800, 2000, 2200, 2400], \"y\": [0.8563862201096355, 0.6969044922630568, 0.664769610920966, 0.6554728923500449, 0.6520043453156661, 0.6690685062304786, 0.6782734231384481, 0.7641245280774895, 0.75954702741282, 0.823247420039154, 0.8403475909417377, 0.8927326892021198, 0.9018645956032518]}, {\"line\": {\"color\": \"#AB63FA\"}, \"mode\": \"lines\", \"name\": \"sampling-raw/aggregate\", \"type\": \"scatter\", \"x\": [0, 200, 400, 600, 800, 1000, 1200, 1400, 1600, 1800, 2000, 2200, 2400], \"y\": [0.7508017733448842, 0.4341309531908751, 0.36456780852930376, 0.3646056122496775, 0.3416823099871151, 0.36038088003498253, 0.33651496121318436, 0.362865824975958, 0.35710682735120963, 0.37370379481573807, 0.39268286794912616, 0.3953957280381899, 0.39335154558791485]}, {\"marker\": {\"color\": \"#636EFA\"}, \"mode\": \"markers\", \"name\": \"sampling-smoothed-r=0.5 minimum\", \"type\": \"scatter\", \"x\": [1200, 1000, 800, 1000], \"y\": [0.27127600979804994, 0.42842945592855314, 0.6430778569645352, 0.3367681668222809]}, {\"marker\": {\"color\": \"#EF553B\"}, \"mode\": \"markers\", \"name\": \"sampling-smoothed-r=0.375 minimum\", \"type\": \"scatter\", \"x\": [1200, 1000, 800, 1200], \"y\": [0.2713456658522288, 0.42283104993159476, 0.6281290788581405, 0.3381485662173704]}, {\"marker\": {\"color\": \"#00CC96\"}, \"mode\": \"markers\", \"name\": \"sampling-smoothed-r=0.125 minimum\", \"type\": \"scatter\", \"x\": [1000, 1000, 800, 1000], \"y\": [0.2719489687283834, 0.4554074667637644, 0.6665276491987532, 0.34462616753649256]}, {\"marker\": {\"color\": \"#AB63FA\"}, \"mode\": \"markers\", \"name\": \"sampling-raw minimum\", \"type\": \"scatter\", \"x\": [1200, 1200, 800, 1200], \"y\": [0.27280253775914515, 0.4176412146855024, 0.6520043453156661, 0.33651496121318436]}],                        {\"font\": {\"size\": 14}, \"legend\": {\"title\": {\"text\": \"Method/Task\"}}, \"template\": {\"data\": {\"bar\": [{\"error_x\": {\"color\": \"#2a3f5f\"}, \"error_y\": {\"color\": \"#2a3f5f\"}, \"marker\": {\"line\": {\"color\": \"#E5ECF6\", \"width\": 0.5}}, \"type\": \"bar\"}], \"barpolar\": [{\"marker\": {\"line\": {\"color\": \"#E5ECF6\", \"width\": 0.5}}, \"type\": \"barpolar\"}], \"carpet\": [{\"aaxis\": {\"endlinecolor\": \"#2a3f5f\", \"gridcolor\": \"white\", \"linecolor\": \"white\", \"minorgridcolor\": \"white\", \"startlinecolor\": \"#2a3f5f\"}, \"baxis\": {\"endlinecolor\": \"#2a3f5f\", \"gridcolor\": \"white\", \"linecolor\": \"white\", \"minorgridcolor\": \"white\", \"startlinecolor\": \"#2a3f5f\"}, \"type\": \"carpet\"}], \"choropleth\": [{\"colorbar\": {\"outlinewidth\": 0, \"ticks\": \"\"}, \"type\": \"choropleth\"}], \"contour\": [{\"colorbar\": {\"outlinewidth\": 0, \"ticks\": \"\"}, \"colorscale\": [[0.0, \"#0d0887\"], [0.1111111111111111, \"#46039f\"], [0.2222222222222222, \"#7201a8\"], [0.3333333333333333, \"#9c179e\"], [0.4444444444444444, \"#bd3786\"], [0.5555555555555556, \"#d8576b\"], [0.6666666666666666, \"#ed7953\"], [0.7777777777777778, \"#fb9f3a\"], [0.8888888888888888, \"#fdca26\"], [1.0, \"#f0f921\"]], \"type\": \"contour\"}], \"contourcarpet\": [{\"colorbar\": {\"outlinewidth\": 0, \"ticks\": \"\"}, \"type\": \"contourcarpet\"}], \"heatmap\": [{\"colorbar\": {\"outlinewidth\": 0, \"ticks\": \"\"}, \"colorscale\": [[0.0, \"#0d0887\"], [0.1111111111111111, \"#46039f\"], [0.2222222222222222, \"#7201a8\"], [0.3333333333333333, \"#9c179e\"], [0.4444444444444444, \"#bd3786\"], [0.5555555555555556, \"#d8576b\"], [0.6666666666666666, \"#ed7953\"], [0.7777777777777778, \"#fb9f3a\"], [0.8888888888888888, \"#fdca26\"], [1.0, \"#f0f921\"]], \"type\": \"heatmap\"}], \"heatmapgl\": [{\"colorbar\": {\"outlinewidth\": 0, \"ticks\": \"\"}, \"colorscale\": [[0.0, \"#0d0887\"], [0.1111111111111111, \"#46039f\"], [0.2222222222222222, \"#7201a8\"], [0.3333333333333333, \"#9c179e\"], [0.4444444444444444, \"#bd3786\"], [0.5555555555555556, \"#d8576b\"], [0.6666666666666666, \"#ed7953\"], [0.7777777777777778, \"#fb9f3a\"], [0.8888888888888888, \"#fdca26\"], [1.0, \"#f0f921\"]], \"type\": \"heatmapgl\"}], \"histogram\": [{\"marker\": {\"colorbar\": {\"outlinewidth\": 0, \"ticks\": \"\"}}, \"type\": \"histogram\"}], \"histogram2d\": [{\"colorbar\": {\"outlinewidth\": 0, \"ticks\": \"\"}, \"colorscale\": [[0.0, \"#0d0887\"], [0.1111111111111111, \"#46039f\"], [0.2222222222222222, \"#7201a8\"], [0.3333333333333333, \"#9c179e\"], [0.4444444444444444, \"#bd3786\"], [0.5555555555555556, \"#d8576b\"], [0.6666666666666666, \"#ed7953\"], [0.7777777777777778, \"#fb9f3a\"], [0.8888888888888888, \"#fdca26\"], [1.0, \"#f0f921\"]], \"type\": \"histogram2d\"}], \"histogram2dcontour\": [{\"colorbar\": {\"outlinewidth\": 0, \"ticks\": \"\"}, \"colorscale\": [[0.0, \"#0d0887\"], [0.1111111111111111, \"#46039f\"], [0.2222222222222222, \"#7201a8\"], [0.3333333333333333, \"#9c179e\"], [0.4444444444444444, \"#bd3786\"], [0.5555555555555556, \"#d8576b\"], [0.6666666666666666, \"#ed7953\"], [0.7777777777777778, \"#fb9f3a\"], [0.8888888888888888, \"#fdca26\"], [1.0, \"#f0f921\"]], \"type\": \"histogram2dcontour\"}], \"mesh3d\": [{\"colorbar\": {\"outlinewidth\": 0, \"ticks\": \"\"}, \"type\": \"mesh3d\"}], \"parcoords\": [{\"line\": {\"colorbar\": {\"outlinewidth\": 0, \"ticks\": \"\"}}, \"type\": \"parcoords\"}], \"pie\": [{\"automargin\": true, \"type\": \"pie\"}], \"scatter\": [{\"marker\": {\"colorbar\": {\"outlinewidth\": 0, \"ticks\": \"\"}}, \"type\": \"scatter\"}], \"scatter3d\": [{\"line\": {\"colorbar\": {\"outlinewidth\": 0, \"ticks\": \"\"}}, \"marker\": {\"colorbar\": {\"outlinewidth\": 0, \"ticks\": \"\"}}, \"type\": \"scatter3d\"}], \"scattercarpet\": [{\"marker\": {\"colorbar\": {\"outlinewidth\": 0, \"ticks\": \"\"}}, \"type\": \"scattercarpet\"}], \"scattergeo\": [{\"marker\": {\"colorbar\": {\"outlinewidth\": 0, \"ticks\": \"\"}}, \"type\": \"scattergeo\"}], \"scattergl\": [{\"marker\": {\"colorbar\": {\"outlinewidth\": 0, \"ticks\": \"\"}}, \"type\": \"scattergl\"}], \"scattermapbox\": [{\"marker\": {\"colorbar\": {\"outlinewidth\": 0, \"ticks\": \"\"}}, \"type\": \"scattermapbox\"}], \"scatterpolar\": [{\"marker\": {\"colorbar\": {\"outlinewidth\": 0, \"ticks\": \"\"}}, \"type\": \"scatterpolar\"}], \"scatterpolargl\": [{\"marker\": {\"colorbar\": {\"outlinewidth\": 0, \"ticks\": \"\"}}, \"type\": \"scatterpolargl\"}], \"scatterternary\": [{\"marker\": {\"colorbar\": {\"outlinewidth\": 0, \"ticks\": \"\"}}, \"type\": \"scatterternary\"}], \"surface\": [{\"colorbar\": {\"outlinewidth\": 0, \"ticks\": \"\"}, \"colorscale\": [[0.0, \"#0d0887\"], [0.1111111111111111, \"#46039f\"], [0.2222222222222222, \"#7201a8\"], [0.3333333333333333, \"#9c179e\"], [0.4444444444444444, \"#bd3786\"], [0.5555555555555556, \"#d8576b\"], [0.6666666666666666, \"#ed7953\"], [0.7777777777777778, \"#fb9f3a\"], [0.8888888888888888, \"#fdca26\"], [1.0, \"#f0f921\"]], \"type\": \"surface\"}], \"table\": [{\"cells\": {\"fill\": {\"color\": \"#EBF0F8\"}, \"line\": {\"color\": \"white\"}}, \"header\": {\"fill\": {\"color\": \"#C8D4E3\"}, \"line\": {\"color\": \"white\"}}, \"type\": \"table\"}]}, \"layout\": {\"annotationdefaults\": {\"arrowcolor\": \"#2a3f5f\", \"arrowhead\": 0, \"arrowwidth\": 1}, \"coloraxis\": {\"colorbar\": {\"outlinewidth\": 0, \"ticks\": \"\"}}, \"colorscale\": {\"diverging\": [[0, \"#8e0152\"], [0.1, \"#c51b7d\"], [0.2, \"#de77ae\"], [0.3, \"#f1b6da\"], [0.4, \"#fde0ef\"], [0.5, \"#f7f7f7\"], [0.6, \"#e6f5d0\"], [0.7, \"#b8e186\"], [0.8, \"#7fbc41\"], [0.9, \"#4d9221\"], [1, \"#276419\"]], \"sequential\": [[0.0, \"#0d0887\"], [0.1111111111111111, \"#46039f\"], [0.2222222222222222, \"#7201a8\"], [0.3333333333333333, \"#9c179e\"], [0.4444444444444444, \"#bd3786\"], [0.5555555555555556, \"#d8576b\"], [0.6666666666666666, \"#ed7953\"], [0.7777777777777778, \"#fb9f3a\"], [0.8888888888888888, \"#fdca26\"], [1.0, \"#f0f921\"]], \"sequentialminus\": [[0.0, \"#0d0887\"], [0.1111111111111111, \"#46039f\"], [0.2222222222222222, \"#7201a8\"], [0.3333333333333333, \"#9c179e\"], [0.4444444444444444, \"#bd3786\"], [0.5555555555555556, \"#d8576b\"], [0.6666666666666666, \"#ed7953\"], [0.7777777777777778, \"#fb9f3a\"], [0.8888888888888888, \"#fdca26\"], [1.0, \"#f0f921\"]]}, \"colorway\": [\"#636efa\", \"#EF553B\", \"#00cc96\", \"#ab63fa\", \"#FFA15A\", \"#19d3f3\", \"#FF6692\", \"#B6E880\", \"#FF97FF\", \"#FECB52\"], \"font\": {\"color\": \"#2a3f5f\"}, \"geo\": {\"bgcolor\": \"white\", \"lakecolor\": \"white\", \"landcolor\": \"#E5ECF6\", \"showlakes\": true, \"showland\": true, \"subunitcolor\": \"white\"}, \"hoverlabel\": {\"align\": \"left\"}, \"hovermode\": \"closest\", \"mapbox\": {\"style\": \"light\"}, \"paper_bgcolor\": \"white\", \"plot_bgcolor\": \"#E5ECF6\", \"polar\": {\"angularaxis\": {\"gridcolor\": \"white\", \"linecolor\": \"white\", \"ticks\": \"\"}, \"bgcolor\": \"#E5ECF6\", \"radialaxis\": {\"gridcolor\": \"white\", \"linecolor\": \"white\", \"ticks\": \"\"}}, \"scene\": {\"xaxis\": {\"backgroundcolor\": \"#E5ECF6\", \"gridcolor\": \"white\", \"gridwidth\": 2, \"linecolor\": \"white\", \"showbackground\": true, \"ticks\": \"\", \"zerolinecolor\": \"white\"}, \"yaxis\": {\"backgroundcolor\": \"#E5ECF6\", \"gridcolor\": \"white\", \"gridwidth\": 2, \"linecolor\": \"white\", \"showbackground\": true, \"ticks\": \"\", \"zerolinecolor\": \"white\"}, \"zaxis\": {\"backgroundcolor\": \"#E5ECF6\", \"gridcolor\": \"white\", \"gridwidth\": 2, \"linecolor\": \"white\", \"showbackground\": true, \"ticks\": \"\", \"zerolinecolor\": \"white\"}}, \"shapedefaults\": {\"line\": {\"color\": \"#2a3f5f\"}}, \"ternary\": {\"aaxis\": {\"gridcolor\": \"white\", \"linecolor\": \"white\", \"ticks\": \"\"}, \"baxis\": {\"gridcolor\": \"white\", \"linecolor\": \"white\", \"ticks\": \"\"}, \"bgcolor\": \"#E5ECF6\", \"caxis\": {\"gridcolor\": \"white\", \"linecolor\": \"white\", \"ticks\": \"\"}}, \"title\": {\"x\": 0.05}, \"xaxis\": {\"automargin\": true, \"gridcolor\": \"white\", \"linecolor\": \"white\", \"ticks\": \"\", \"title\": {\"standoff\": 15}, \"zerolinecolor\": \"white\", \"zerolinewidth\": 2}, \"yaxis\": {\"automargin\": true, \"gridcolor\": \"white\", \"linecolor\": \"white\", \"ticks\": \"\", \"title\": {\"standoff\": 15}, \"zerolinecolor\": \"white\", \"zerolinewidth\": 2}}}, \"xaxis\": {\"title\": {\"text\": \"Iteration\"}}, \"yaxis\": {\"title\": {\"text\": \"Dev Loss\"}}},                        {\"responsive\": true}                    ).then(function(){\n",
       "                            \n",
       "var gd = document.getElementById('8c1183ed-70f7-48c3-a302-0cb9f2e2aa89');\n",
       "var x = new MutationObserver(function (mutations, observer) {{\n",
       "        var display = window.getComputedStyle(gd).display;\n",
       "        if (!display || display === 'none') {{\n",
       "            console.log([gd, 'removed!']);\n",
       "            Plotly.purge(gd);\n",
       "            observer.disconnect();\n",
       "        }}\n",
       "}});\n",
       "\n",
       "// Listen for the removal of the full notebook cells\n",
       "var notebookContainer = gd.closest('#notebook-container');\n",
       "if (notebookContainer) {{\n",
       "    x.observe(notebookContainer, {childList: true});\n",
       "}}\n",
       "\n",
       "// Listen for the clearing of the current output cell\n",
       "var outputEl = gd.closest('.output');\n",
       "if (outputEl) {{\n",
       "    x.observe(outputEl, {childList: true});\n",
       "}}\n",
       "\n",
       "                        })                };                });            </script>        </div>"
      ]
     },
     "metadata": {},
     "output_type": "display_data"
    }
   ],
   "source": [
    "plot_metric_over_time('dev', 'loss', \n",
    "                      [\n",
    "                       'sampling-smoothed-r=0.5',\n",
    "                       'sampling-smoothed-r=0.375',\n",
    "                       #'sampling-smoothed-r=0.25',\n",
    "                       'sampling-smoothed-r=0.125',\n",
    "                       'sampling-raw'\n",
    "                      ],\n",
    "                      plot_minima=True)"
   ]
  },
  {
   "cell_type": "code",
   "execution_count": 268,
   "metadata": {},
   "outputs": [
    {
     "data": {
      "application/vnd.plotly.v1+json": {
       "config": {
        "plotlyServerURL": "https://plot.ly"
       },
       "data": [
        {
         "line": {
          "color": "#636EFA",
          "dash": "dash"
         },
         "mode": "lines",
         "name": "sampling-smoothed-r=0.5/sst",
         "type": "scatter",
         "x": [
          0,
          200,
          400,
          600,
          800,
          1000,
          1200,
          1400,
          1600,
          1800,
          2000,
          2200,
          2400
         ],
         "y": [
          3.038962801937545,
          2.2989702005099146,
          2.5781984119835557,
          2.409726614894685,
          2.494491863879817,
          2.5618685641005126,
          2.5828692628540444,
          2.4159103573136687,
          2.417348740913585,
          2.46021178028384,
          2.460867237588485,
          2.4448607377743414,
          2.386077120809493
         ]
        },
        {
         "line": {
          "color": "#636EFA",
          "dash": "dot"
         },
         "mode": "lines",
         "name": "sampling-smoothed-r=0.5/mrpc",
         "type": "scatter",
         "x": [
          0,
          200,
          400,
          600,
          800,
          1000,
          1200,
          1400,
          1600,
          1800,
          2000,
          2200,
          2400
         ],
         "y": [
          2.9756322525148597,
          2.828041016877125,
          2.5766948205435827,
          2.6084831031987243,
          2.5179286746614484,
          2.464949854841299,
          2.4366859423054414,
          2.4682162697518115,
          2.466876350269143,
          2.586457849766532,
          2.681184092795155,
          2.5519061058179386,
          2.6287524004206975
         ]
        },
        {
         "line": {
          "color": "#636EFA",
          "dash": "dashdot"
         },
         "mode": "lines",
         "name": "sampling-smoothed-r=0.5/rte",
         "type": "scatter",
         "x": [
          0,
          200,
          400,
          600,
          800,
          1000,
          1200,
          1400,
          1600,
          1800,
          2000,
          2200,
          2400
         ],
         "y": [
          2.9969415273554,
          3.107245747230761,
          3.0226985999647638,
          2.9465504618330627,
          2.56577894997252,
          2.3189053761724536,
          2.219997764147356,
          2.0312184080837614,
          1.8805298179985976,
          1.8485336679940145,
          1.828467870816877,
          1.8546412271325305,
          1.810503128812039
         ]
        }
       ],
       "layout": {
        "font": {
         "size": 14
        },
        "legend": {
         "title": {
          "text": "Method/Task"
         }
        },
        "template": {
         "data": {
          "bar": [
           {
            "error_x": {
             "color": "#2a3f5f"
            },
            "error_y": {
             "color": "#2a3f5f"
            },
            "marker": {
             "line": {
              "color": "#E5ECF6",
              "width": 0.5
             }
            },
            "type": "bar"
           }
          ],
          "barpolar": [
           {
            "marker": {
             "line": {
              "color": "#E5ECF6",
              "width": 0.5
             }
            },
            "type": "barpolar"
           }
          ],
          "carpet": [
           {
            "aaxis": {
             "endlinecolor": "#2a3f5f",
             "gridcolor": "white",
             "linecolor": "white",
             "minorgridcolor": "white",
             "startlinecolor": "#2a3f5f"
            },
            "baxis": {
             "endlinecolor": "#2a3f5f",
             "gridcolor": "white",
             "linecolor": "white",
             "minorgridcolor": "white",
             "startlinecolor": "#2a3f5f"
            },
            "type": "carpet"
           }
          ],
          "choropleth": [
           {
            "colorbar": {
             "outlinewidth": 0,
             "ticks": ""
            },
            "type": "choropleth"
           }
          ],
          "contour": [
           {
            "colorbar": {
             "outlinewidth": 0,
             "ticks": ""
            },
            "colorscale": [
             [
              0,
              "#0d0887"
             ],
             [
              0.1111111111111111,
              "#46039f"
             ],
             [
              0.2222222222222222,
              "#7201a8"
             ],
             [
              0.3333333333333333,
              "#9c179e"
             ],
             [
              0.4444444444444444,
              "#bd3786"
             ],
             [
              0.5555555555555556,
              "#d8576b"
             ],
             [
              0.6666666666666666,
              "#ed7953"
             ],
             [
              0.7777777777777778,
              "#fb9f3a"
             ],
             [
              0.8888888888888888,
              "#fdca26"
             ],
             [
              1,
              "#f0f921"
             ]
            ],
            "type": "contour"
           }
          ],
          "contourcarpet": [
           {
            "colorbar": {
             "outlinewidth": 0,
             "ticks": ""
            },
            "type": "contourcarpet"
           }
          ],
          "heatmap": [
           {
            "colorbar": {
             "outlinewidth": 0,
             "ticks": ""
            },
            "colorscale": [
             [
              0,
              "#0d0887"
             ],
             [
              0.1111111111111111,
              "#46039f"
             ],
             [
              0.2222222222222222,
              "#7201a8"
             ],
             [
              0.3333333333333333,
              "#9c179e"
             ],
             [
              0.4444444444444444,
              "#bd3786"
             ],
             [
              0.5555555555555556,
              "#d8576b"
             ],
             [
              0.6666666666666666,
              "#ed7953"
             ],
             [
              0.7777777777777778,
              "#fb9f3a"
             ],
             [
              0.8888888888888888,
              "#fdca26"
             ],
             [
              1,
              "#f0f921"
             ]
            ],
            "type": "heatmap"
           }
          ],
          "heatmapgl": [
           {
            "colorbar": {
             "outlinewidth": 0,
             "ticks": ""
            },
            "colorscale": [
             [
              0,
              "#0d0887"
             ],
             [
              0.1111111111111111,
              "#46039f"
             ],
             [
              0.2222222222222222,
              "#7201a8"
             ],
             [
              0.3333333333333333,
              "#9c179e"
             ],
             [
              0.4444444444444444,
              "#bd3786"
             ],
             [
              0.5555555555555556,
              "#d8576b"
             ],
             [
              0.6666666666666666,
              "#ed7953"
             ],
             [
              0.7777777777777778,
              "#fb9f3a"
             ],
             [
              0.8888888888888888,
              "#fdca26"
             ],
             [
              1,
              "#f0f921"
             ]
            ],
            "type": "heatmapgl"
           }
          ],
          "histogram": [
           {
            "marker": {
             "colorbar": {
              "outlinewidth": 0,
              "ticks": ""
             }
            },
            "type": "histogram"
           }
          ],
          "histogram2d": [
           {
            "colorbar": {
             "outlinewidth": 0,
             "ticks": ""
            },
            "colorscale": [
             [
              0,
              "#0d0887"
             ],
             [
              0.1111111111111111,
              "#46039f"
             ],
             [
              0.2222222222222222,
              "#7201a8"
             ],
             [
              0.3333333333333333,
              "#9c179e"
             ],
             [
              0.4444444444444444,
              "#bd3786"
             ],
             [
              0.5555555555555556,
              "#d8576b"
             ],
             [
              0.6666666666666666,
              "#ed7953"
             ],
             [
              0.7777777777777778,
              "#fb9f3a"
             ],
             [
              0.8888888888888888,
              "#fdca26"
             ],
             [
              1,
              "#f0f921"
             ]
            ],
            "type": "histogram2d"
           }
          ],
          "histogram2dcontour": [
           {
            "colorbar": {
             "outlinewidth": 0,
             "ticks": ""
            },
            "colorscale": [
             [
              0,
              "#0d0887"
             ],
             [
              0.1111111111111111,
              "#46039f"
             ],
             [
              0.2222222222222222,
              "#7201a8"
             ],
             [
              0.3333333333333333,
              "#9c179e"
             ],
             [
              0.4444444444444444,
              "#bd3786"
             ],
             [
              0.5555555555555556,
              "#d8576b"
             ],
             [
              0.6666666666666666,
              "#ed7953"
             ],
             [
              0.7777777777777778,
              "#fb9f3a"
             ],
             [
              0.8888888888888888,
              "#fdca26"
             ],
             [
              1,
              "#f0f921"
             ]
            ],
            "type": "histogram2dcontour"
           }
          ],
          "mesh3d": [
           {
            "colorbar": {
             "outlinewidth": 0,
             "ticks": ""
            },
            "type": "mesh3d"
           }
          ],
          "parcoords": [
           {
            "line": {
             "colorbar": {
              "outlinewidth": 0,
              "ticks": ""
             }
            },
            "type": "parcoords"
           }
          ],
          "pie": [
           {
            "automargin": true,
            "type": "pie"
           }
          ],
          "scatter": [
           {
            "marker": {
             "colorbar": {
              "outlinewidth": 0,
              "ticks": ""
             }
            },
            "type": "scatter"
           }
          ],
          "scatter3d": [
           {
            "line": {
             "colorbar": {
              "outlinewidth": 0,
              "ticks": ""
             }
            },
            "marker": {
             "colorbar": {
              "outlinewidth": 0,
              "ticks": ""
             }
            },
            "type": "scatter3d"
           }
          ],
          "scattercarpet": [
           {
            "marker": {
             "colorbar": {
              "outlinewidth": 0,
              "ticks": ""
             }
            },
            "type": "scattercarpet"
           }
          ],
          "scattergeo": [
           {
            "marker": {
             "colorbar": {
              "outlinewidth": 0,
              "ticks": ""
             }
            },
            "type": "scattergeo"
           }
          ],
          "scattergl": [
           {
            "marker": {
             "colorbar": {
              "outlinewidth": 0,
              "ticks": ""
             }
            },
            "type": "scattergl"
           }
          ],
          "scattermapbox": [
           {
            "marker": {
             "colorbar": {
              "outlinewidth": 0,
              "ticks": ""
             }
            },
            "type": "scattermapbox"
           }
          ],
          "scatterpolar": [
           {
            "marker": {
             "colorbar": {
              "outlinewidth": 0,
              "ticks": ""
             }
            },
            "type": "scatterpolar"
           }
          ],
          "scatterpolargl": [
           {
            "marker": {
             "colorbar": {
              "outlinewidth": 0,
              "ticks": ""
             }
            },
            "type": "scatterpolargl"
           }
          ],
          "scatterternary": [
           {
            "marker": {
             "colorbar": {
              "outlinewidth": 0,
              "ticks": ""
             }
            },
            "type": "scatterternary"
           }
          ],
          "surface": [
           {
            "colorbar": {
             "outlinewidth": 0,
             "ticks": ""
            },
            "colorscale": [
             [
              0,
              "#0d0887"
             ],
             [
              0.1111111111111111,
              "#46039f"
             ],
             [
              0.2222222222222222,
              "#7201a8"
             ],
             [
              0.3333333333333333,
              "#9c179e"
             ],
             [
              0.4444444444444444,
              "#bd3786"
             ],
             [
              0.5555555555555556,
              "#d8576b"
             ],
             [
              0.6666666666666666,
              "#ed7953"
             ],
             [
              0.7777777777777778,
              "#fb9f3a"
             ],
             [
              0.8888888888888888,
              "#fdca26"
             ],
             [
              1,
              "#f0f921"
             ]
            ],
            "type": "surface"
           }
          ],
          "table": [
           {
            "cells": {
             "fill": {
              "color": "#EBF0F8"
             },
             "line": {
              "color": "white"
             }
            },
            "header": {
             "fill": {
              "color": "#C8D4E3"
             },
             "line": {
              "color": "white"
             }
            },
            "type": "table"
           }
          ]
         },
         "layout": {
          "annotationdefaults": {
           "arrowcolor": "#2a3f5f",
           "arrowhead": 0,
           "arrowwidth": 1
          },
          "coloraxis": {
           "colorbar": {
            "outlinewidth": 0,
            "ticks": ""
           }
          },
          "colorscale": {
           "diverging": [
            [
             0,
             "#8e0152"
            ],
            [
             0.1,
             "#c51b7d"
            ],
            [
             0.2,
             "#de77ae"
            ],
            [
             0.3,
             "#f1b6da"
            ],
            [
             0.4,
             "#fde0ef"
            ],
            [
             0.5,
             "#f7f7f7"
            ],
            [
             0.6,
             "#e6f5d0"
            ],
            [
             0.7,
             "#b8e186"
            ],
            [
             0.8,
             "#7fbc41"
            ],
            [
             0.9,
             "#4d9221"
            ],
            [
             1,
             "#276419"
            ]
           ],
           "sequential": [
            [
             0,
             "#0d0887"
            ],
            [
             0.1111111111111111,
             "#46039f"
            ],
            [
             0.2222222222222222,
             "#7201a8"
            ],
            [
             0.3333333333333333,
             "#9c179e"
            ],
            [
             0.4444444444444444,
             "#bd3786"
            ],
            [
             0.5555555555555556,
             "#d8576b"
            ],
            [
             0.6666666666666666,
             "#ed7953"
            ],
            [
             0.7777777777777778,
             "#fb9f3a"
            ],
            [
             0.8888888888888888,
             "#fdca26"
            ],
            [
             1,
             "#f0f921"
            ]
           ],
           "sequentialminus": [
            [
             0,
             "#0d0887"
            ],
            [
             0.1111111111111111,
             "#46039f"
            ],
            [
             0.2222222222222222,
             "#7201a8"
            ],
            [
             0.3333333333333333,
             "#9c179e"
            ],
            [
             0.4444444444444444,
             "#bd3786"
            ],
            [
             0.5555555555555556,
             "#d8576b"
            ],
            [
             0.6666666666666666,
             "#ed7953"
            ],
            [
             0.7777777777777778,
             "#fb9f3a"
            ],
            [
             0.8888888888888888,
             "#fdca26"
            ],
            [
             1,
             "#f0f921"
            ]
           ]
          },
          "colorway": [
           "#636efa",
           "#EF553B",
           "#00cc96",
           "#ab63fa",
           "#FFA15A",
           "#19d3f3",
           "#FF6692",
           "#B6E880",
           "#FF97FF",
           "#FECB52"
          ],
          "font": {
           "color": "#2a3f5f"
          },
          "geo": {
           "bgcolor": "white",
           "lakecolor": "white",
           "landcolor": "#E5ECF6",
           "showlakes": true,
           "showland": true,
           "subunitcolor": "white"
          },
          "hoverlabel": {
           "align": "left"
          },
          "hovermode": "closest",
          "mapbox": {
           "style": "light"
          },
          "paper_bgcolor": "white",
          "plot_bgcolor": "#E5ECF6",
          "polar": {
           "angularaxis": {
            "gridcolor": "white",
            "linecolor": "white",
            "ticks": ""
           },
           "bgcolor": "#E5ECF6",
           "radialaxis": {
            "gridcolor": "white",
            "linecolor": "white",
            "ticks": ""
           }
          },
          "scene": {
           "xaxis": {
            "backgroundcolor": "#E5ECF6",
            "gridcolor": "white",
            "gridwidth": 2,
            "linecolor": "white",
            "showbackground": true,
            "ticks": "",
            "zerolinecolor": "white"
           },
           "yaxis": {
            "backgroundcolor": "#E5ECF6",
            "gridcolor": "white",
            "gridwidth": 2,
            "linecolor": "white",
            "showbackground": true,
            "ticks": "",
            "zerolinecolor": "white"
           },
           "zaxis": {
            "backgroundcolor": "#E5ECF6",
            "gridcolor": "white",
            "gridwidth": 2,
            "linecolor": "white",
            "showbackground": true,
            "ticks": "",
            "zerolinecolor": "white"
           }
          },
          "shapedefaults": {
           "line": {
            "color": "#2a3f5f"
           }
          },
          "ternary": {
           "aaxis": {
            "gridcolor": "white",
            "linecolor": "white",
            "ticks": ""
           },
           "baxis": {
            "gridcolor": "white",
            "linecolor": "white",
            "ticks": ""
           },
           "bgcolor": "#E5ECF6",
           "caxis": {
            "gridcolor": "white",
            "linecolor": "white",
            "ticks": ""
           }
          },
          "title": {
           "x": 0.05
          },
          "xaxis": {
           "automargin": true,
           "gridcolor": "white",
           "linecolor": "white",
           "ticks": "",
           "title": {
            "standoff": 15
           },
           "zerolinecolor": "white",
           "zerolinewidth": 2
          },
          "yaxis": {
           "automargin": true,
           "gridcolor": "white",
           "linecolor": "white",
           "ticks": "",
           "title": {
            "standoff": 15
           },
           "zerolinecolor": "white",
           "zerolinewidth": 2
          }
         }
        },
        "xaxis": {
         "title": {
          "text": "Iteration"
         }
        },
        "yaxis": {
         "title": {
          "text": "Dev Uncertainty"
         }
        }
       }
      },
      "text/html": [
       "<div>                            <div id=\"d2b40f25-0f43-487d-b66e-cc16676e798f\" class=\"plotly-graph-div\" style=\"height:525px; width:100%;\"></div>            <script type=\"text/javascript\">                require([\"plotly\"], function(Plotly) {                    window.PLOTLYENV=window.PLOTLYENV || {};                                    if (document.getElementById(\"d2b40f25-0f43-487d-b66e-cc16676e798f\")) {                    Plotly.newPlot(                        \"d2b40f25-0f43-487d-b66e-cc16676e798f\",                        [{\"line\": {\"color\": \"#636EFA\", \"dash\": \"dash\"}, \"mode\": \"lines\", \"name\": \"sampling-smoothed-r=0.5/sst\", \"type\": \"scatter\", \"x\": [0, 200, 400, 600, 800, 1000, 1200, 1400, 1600, 1800, 2000, 2200, 2400], \"y\": [3.038962801937545, 2.2989702005099146, 2.5781984119835557, 2.409726614894685, 2.494491863879817, 2.5618685641005126, 2.5828692628540444, 2.4159103573136687, 2.417348740913585, 2.46021178028384, 2.460867237588485, 2.4448607377743414, 2.386077120809493]}, {\"line\": {\"color\": \"#636EFA\", \"dash\": \"dot\"}, \"mode\": \"lines\", \"name\": \"sampling-smoothed-r=0.5/mrpc\", \"type\": \"scatter\", \"x\": [0, 200, 400, 600, 800, 1000, 1200, 1400, 1600, 1800, 2000, 2200, 2400], \"y\": [2.9756322525148597, 2.828041016877125, 2.5766948205435827, 2.6084831031987243, 2.5179286746614484, 2.464949854841299, 2.4366859423054414, 2.4682162697518115, 2.466876350269143, 2.586457849766532, 2.681184092795155, 2.5519061058179386, 2.6287524004206975]}, {\"line\": {\"color\": \"#636EFA\", \"dash\": \"dashdot\"}, \"mode\": \"lines\", \"name\": \"sampling-smoothed-r=0.5/rte\", \"type\": \"scatter\", \"x\": [0, 200, 400, 600, 800, 1000, 1200, 1400, 1600, 1800, 2000, 2200, 2400], \"y\": [2.9969415273554, 3.107245747230761, 3.0226985999647638, 2.9465504618330627, 2.56577894997252, 2.3189053761724536, 2.219997764147356, 2.0312184080837614, 1.8805298179985976, 1.8485336679940145, 1.828467870816877, 1.8546412271325305, 1.810503128812039]}],                        {\"font\": {\"size\": 14}, \"legend\": {\"title\": {\"text\": \"Method/Task\"}}, \"template\": {\"data\": {\"bar\": [{\"error_x\": {\"color\": \"#2a3f5f\"}, \"error_y\": {\"color\": \"#2a3f5f\"}, \"marker\": {\"line\": {\"color\": \"#E5ECF6\", \"width\": 0.5}}, \"type\": \"bar\"}], \"barpolar\": [{\"marker\": {\"line\": {\"color\": \"#E5ECF6\", \"width\": 0.5}}, \"type\": \"barpolar\"}], \"carpet\": [{\"aaxis\": {\"endlinecolor\": \"#2a3f5f\", \"gridcolor\": \"white\", \"linecolor\": \"white\", \"minorgridcolor\": \"white\", \"startlinecolor\": \"#2a3f5f\"}, \"baxis\": {\"endlinecolor\": \"#2a3f5f\", \"gridcolor\": \"white\", \"linecolor\": \"white\", \"minorgridcolor\": \"white\", \"startlinecolor\": \"#2a3f5f\"}, \"type\": \"carpet\"}], \"choropleth\": [{\"colorbar\": {\"outlinewidth\": 0, \"ticks\": \"\"}, \"type\": \"choropleth\"}], \"contour\": [{\"colorbar\": {\"outlinewidth\": 0, \"ticks\": \"\"}, \"colorscale\": [[0.0, \"#0d0887\"], [0.1111111111111111, \"#46039f\"], [0.2222222222222222, \"#7201a8\"], [0.3333333333333333, \"#9c179e\"], [0.4444444444444444, \"#bd3786\"], [0.5555555555555556, \"#d8576b\"], [0.6666666666666666, \"#ed7953\"], [0.7777777777777778, \"#fb9f3a\"], [0.8888888888888888, \"#fdca26\"], [1.0, \"#f0f921\"]], \"type\": \"contour\"}], \"contourcarpet\": [{\"colorbar\": {\"outlinewidth\": 0, \"ticks\": \"\"}, \"type\": \"contourcarpet\"}], \"heatmap\": [{\"colorbar\": {\"outlinewidth\": 0, \"ticks\": \"\"}, \"colorscale\": [[0.0, \"#0d0887\"], [0.1111111111111111, \"#46039f\"], [0.2222222222222222, \"#7201a8\"], [0.3333333333333333, \"#9c179e\"], [0.4444444444444444, \"#bd3786\"], [0.5555555555555556, \"#d8576b\"], [0.6666666666666666, \"#ed7953\"], [0.7777777777777778, \"#fb9f3a\"], [0.8888888888888888, \"#fdca26\"], [1.0, \"#f0f921\"]], \"type\": \"heatmap\"}], \"heatmapgl\": [{\"colorbar\": {\"outlinewidth\": 0, \"ticks\": \"\"}, \"colorscale\": [[0.0, \"#0d0887\"], [0.1111111111111111, \"#46039f\"], [0.2222222222222222, \"#7201a8\"], [0.3333333333333333, \"#9c179e\"], [0.4444444444444444, \"#bd3786\"], [0.5555555555555556, \"#d8576b\"], [0.6666666666666666, \"#ed7953\"], [0.7777777777777778, \"#fb9f3a\"], [0.8888888888888888, \"#fdca26\"], [1.0, \"#f0f921\"]], \"type\": \"heatmapgl\"}], \"histogram\": [{\"marker\": {\"colorbar\": {\"outlinewidth\": 0, \"ticks\": \"\"}}, \"type\": \"histogram\"}], \"histogram2d\": [{\"colorbar\": {\"outlinewidth\": 0, \"ticks\": \"\"}, \"colorscale\": [[0.0, \"#0d0887\"], [0.1111111111111111, \"#46039f\"], [0.2222222222222222, \"#7201a8\"], [0.3333333333333333, \"#9c179e\"], [0.4444444444444444, \"#bd3786\"], [0.5555555555555556, \"#d8576b\"], [0.6666666666666666, \"#ed7953\"], [0.7777777777777778, \"#fb9f3a\"], [0.8888888888888888, \"#fdca26\"], [1.0, \"#f0f921\"]], \"type\": \"histogram2d\"}], \"histogram2dcontour\": [{\"colorbar\": {\"outlinewidth\": 0, \"ticks\": \"\"}, \"colorscale\": [[0.0, \"#0d0887\"], [0.1111111111111111, \"#46039f\"], [0.2222222222222222, \"#7201a8\"], [0.3333333333333333, \"#9c179e\"], [0.4444444444444444, \"#bd3786\"], [0.5555555555555556, \"#d8576b\"], [0.6666666666666666, \"#ed7953\"], [0.7777777777777778, \"#fb9f3a\"], [0.8888888888888888, \"#fdca26\"], [1.0, \"#f0f921\"]], \"type\": \"histogram2dcontour\"}], \"mesh3d\": [{\"colorbar\": {\"outlinewidth\": 0, \"ticks\": \"\"}, \"type\": \"mesh3d\"}], \"parcoords\": [{\"line\": {\"colorbar\": {\"outlinewidth\": 0, \"ticks\": \"\"}}, \"type\": \"parcoords\"}], \"pie\": [{\"automargin\": true, \"type\": \"pie\"}], \"scatter\": [{\"marker\": {\"colorbar\": {\"outlinewidth\": 0, \"ticks\": \"\"}}, \"type\": \"scatter\"}], \"scatter3d\": [{\"line\": {\"colorbar\": {\"outlinewidth\": 0, \"ticks\": \"\"}}, \"marker\": {\"colorbar\": {\"outlinewidth\": 0, \"ticks\": \"\"}}, \"type\": \"scatter3d\"}], \"scattercarpet\": [{\"marker\": {\"colorbar\": {\"outlinewidth\": 0, \"ticks\": \"\"}}, \"type\": \"scattercarpet\"}], \"scattergeo\": [{\"marker\": {\"colorbar\": {\"outlinewidth\": 0, \"ticks\": \"\"}}, \"type\": \"scattergeo\"}], \"scattergl\": [{\"marker\": {\"colorbar\": {\"outlinewidth\": 0, \"ticks\": \"\"}}, \"type\": \"scattergl\"}], \"scattermapbox\": [{\"marker\": {\"colorbar\": {\"outlinewidth\": 0, \"ticks\": \"\"}}, \"type\": \"scattermapbox\"}], \"scatterpolar\": [{\"marker\": {\"colorbar\": {\"outlinewidth\": 0, \"ticks\": \"\"}}, \"type\": \"scatterpolar\"}], \"scatterpolargl\": [{\"marker\": {\"colorbar\": {\"outlinewidth\": 0, \"ticks\": \"\"}}, \"type\": \"scatterpolargl\"}], \"scatterternary\": [{\"marker\": {\"colorbar\": {\"outlinewidth\": 0, \"ticks\": \"\"}}, \"type\": \"scatterternary\"}], \"surface\": [{\"colorbar\": {\"outlinewidth\": 0, \"ticks\": \"\"}, \"colorscale\": [[0.0, \"#0d0887\"], [0.1111111111111111, \"#46039f\"], [0.2222222222222222, \"#7201a8\"], [0.3333333333333333, \"#9c179e\"], [0.4444444444444444, \"#bd3786\"], [0.5555555555555556, \"#d8576b\"], [0.6666666666666666, \"#ed7953\"], [0.7777777777777778, \"#fb9f3a\"], [0.8888888888888888, \"#fdca26\"], [1.0, \"#f0f921\"]], \"type\": \"surface\"}], \"table\": [{\"cells\": {\"fill\": {\"color\": \"#EBF0F8\"}, \"line\": {\"color\": \"white\"}}, \"header\": {\"fill\": {\"color\": \"#C8D4E3\"}, \"line\": {\"color\": \"white\"}}, \"type\": \"table\"}]}, \"layout\": {\"annotationdefaults\": {\"arrowcolor\": \"#2a3f5f\", \"arrowhead\": 0, \"arrowwidth\": 1}, \"coloraxis\": {\"colorbar\": {\"outlinewidth\": 0, \"ticks\": \"\"}}, \"colorscale\": {\"diverging\": [[0, \"#8e0152\"], [0.1, \"#c51b7d\"], [0.2, \"#de77ae\"], [0.3, \"#f1b6da\"], [0.4, \"#fde0ef\"], [0.5, \"#f7f7f7\"], [0.6, \"#e6f5d0\"], [0.7, \"#b8e186\"], [0.8, \"#7fbc41\"], [0.9, \"#4d9221\"], [1, \"#276419\"]], \"sequential\": [[0.0, \"#0d0887\"], [0.1111111111111111, \"#46039f\"], [0.2222222222222222, \"#7201a8\"], [0.3333333333333333, \"#9c179e\"], [0.4444444444444444, \"#bd3786\"], [0.5555555555555556, \"#d8576b\"], [0.6666666666666666, \"#ed7953\"], [0.7777777777777778, \"#fb9f3a\"], [0.8888888888888888, \"#fdca26\"], [1.0, \"#f0f921\"]], \"sequentialminus\": [[0.0, \"#0d0887\"], [0.1111111111111111, \"#46039f\"], [0.2222222222222222, \"#7201a8\"], [0.3333333333333333, \"#9c179e\"], [0.4444444444444444, \"#bd3786\"], [0.5555555555555556, \"#d8576b\"], [0.6666666666666666, \"#ed7953\"], [0.7777777777777778, \"#fb9f3a\"], [0.8888888888888888, \"#fdca26\"], [1.0, \"#f0f921\"]]}, \"colorway\": [\"#636efa\", \"#EF553B\", \"#00cc96\", \"#ab63fa\", \"#FFA15A\", \"#19d3f3\", \"#FF6692\", \"#B6E880\", \"#FF97FF\", \"#FECB52\"], \"font\": {\"color\": \"#2a3f5f\"}, \"geo\": {\"bgcolor\": \"white\", \"lakecolor\": \"white\", \"landcolor\": \"#E5ECF6\", \"showlakes\": true, \"showland\": true, \"subunitcolor\": \"white\"}, \"hoverlabel\": {\"align\": \"left\"}, \"hovermode\": \"closest\", \"mapbox\": {\"style\": \"light\"}, \"paper_bgcolor\": \"white\", \"plot_bgcolor\": \"#E5ECF6\", \"polar\": {\"angularaxis\": {\"gridcolor\": \"white\", \"linecolor\": \"white\", \"ticks\": \"\"}, \"bgcolor\": \"#E5ECF6\", \"radialaxis\": {\"gridcolor\": \"white\", \"linecolor\": \"white\", \"ticks\": \"\"}}, \"scene\": {\"xaxis\": {\"backgroundcolor\": \"#E5ECF6\", \"gridcolor\": \"white\", \"gridwidth\": 2, \"linecolor\": \"white\", \"showbackground\": true, \"ticks\": \"\", \"zerolinecolor\": \"white\"}, \"yaxis\": {\"backgroundcolor\": \"#E5ECF6\", \"gridcolor\": \"white\", \"gridwidth\": 2, \"linecolor\": \"white\", \"showbackground\": true, \"ticks\": \"\", \"zerolinecolor\": \"white\"}, \"zaxis\": {\"backgroundcolor\": \"#E5ECF6\", \"gridcolor\": \"white\", \"gridwidth\": 2, \"linecolor\": \"white\", \"showbackground\": true, \"ticks\": \"\", \"zerolinecolor\": \"white\"}}, \"shapedefaults\": {\"line\": {\"color\": \"#2a3f5f\"}}, \"ternary\": {\"aaxis\": {\"gridcolor\": \"white\", \"linecolor\": \"white\", \"ticks\": \"\"}, \"baxis\": {\"gridcolor\": \"white\", \"linecolor\": \"white\", \"ticks\": \"\"}, \"bgcolor\": \"#E5ECF6\", \"caxis\": {\"gridcolor\": \"white\", \"linecolor\": \"white\", \"ticks\": \"\"}}, \"title\": {\"x\": 0.05}, \"xaxis\": {\"automargin\": true, \"gridcolor\": \"white\", \"linecolor\": \"white\", \"ticks\": \"\", \"title\": {\"standoff\": 15}, \"zerolinecolor\": \"white\", \"zerolinewidth\": 2}, \"yaxis\": {\"automargin\": true, \"gridcolor\": \"white\", \"linecolor\": \"white\", \"ticks\": \"\", \"title\": {\"standoff\": 15}, \"zerolinecolor\": \"white\", \"zerolinewidth\": 2}}}, \"xaxis\": {\"title\": {\"text\": \"Iteration\"}}, \"yaxis\": {\"title\": {\"text\": \"Dev Uncertainty\"}}},                        {\"responsive\": true}                    ).then(function(){\n",
       "                            \n",
       "var gd = document.getElementById('d2b40f25-0f43-487d-b66e-cc16676e798f');\n",
       "var x = new MutationObserver(function (mutations, observer) {{\n",
       "        var display = window.getComputedStyle(gd).display;\n",
       "        if (!display || display === 'none') {{\n",
       "            console.log([gd, 'removed!']);\n",
       "            Plotly.purge(gd);\n",
       "            observer.disconnect();\n",
       "        }}\n",
       "}});\n",
       "\n",
       "// Listen for the removal of the full notebook cells\n",
       "var notebookContainer = gd.closest('#notebook-container');\n",
       "if (notebookContainer) {{\n",
       "    x.observe(notebookContainer, {childList: true});\n",
       "}}\n",
       "\n",
       "// Listen for the clearing of the current output cell\n",
       "var outputEl = gd.closest('.output');\n",
       "if (outputEl) {{\n",
       "    x.observe(outputEl, {childList: true});\n",
       "}}\n",
       "\n",
       "                        })                };                });            </script>        </div>"
      ]
     },
     "metadata": {},
     "output_type": "display_data"
    }
   ],
   "source": [
    "plot_metric_over_time('dev', 'uncertainty', \n",
    "                     [\n",
    "#                       'sampling-smoothed-r=0.375',\n",
    "                       'sampling-smoothed-r=0.5',\n",
    "#                        'baseline-uniform',\n",
    "#                        'baseline-data-dist'\n",
    "                     ],\n",
    "                      plot_minima=False)"
   ]
  },
  {
   "cell_type": "code",
   "execution_count": 24,
   "metadata": {
    "scrolled": true
   },
   "outputs": [
    {
     "data": {
      "application/vnd.plotly.v1+json": {
       "config": {
        "plotlyServerURL": "https://plot.ly"
       },
       "data": [
        {
         "line": {
          "color": "#636EFA",
          "dash": "dash"
         },
         "mode": "lines",
         "name": "sampling-smoothed-r=0.375/sst",
         "type": "scatter",
         "x": [
          10,
          200,
          400,
          600,
          800,
          1000,
          1200,
          1400,
          1600
         ],
         "y": [
          0.770466884450307,
          0.5827329251961663,
          0.49667938790252886,
          0.4373768482008417,
          0.3924732705086176,
          0.36392109045899446,
          0.3366977919825412,
          0.3144236007315893,
          0.29538048519094656
         ]
        },
        {
         "line": {
          "color": "#636EFA",
          "dash": "dot"
         },
         "mode": "lines",
         "name": "sampling-smoothed-r=0.375/rte",
         "type": "scatter",
         "x": [
          10,
          200,
          400,
          600,
          800,
          1000,
          1200,
          1400,
          1600
         ],
         "y": [
          0.2557584544022878,
          0.7092923673110373,
          0.6808210598266006,
          0.6353561412723671,
          0.5834779073964899,
          0.5291510984262664,
          0.49222067747966686,
          0.4577148284854928,
          0.4293382992624624
         ]
        },
        {
         "line": {
          "color": "#636EFA",
          "dash": "dashdot"
         },
         "mode": "lines",
         "name": "sampling-smoothed-r=0.375/mrpc",
         "type": "scatter",
         "x": [
          10,
          200,
          400,
          600,
          800,
          1000,
          1200,
          1400,
          1600
         ],
         "y": [
          0.7757968124416138,
          0.7217265755058905,
          0.6323451121371453,
          0.5754332729705872,
          0.5334450587568792,
          0.4902104291087572,
          0.45395073148537685,
          0.42123810103073994,
          0.3946719806544487
         ]
        },
        {
         "line": {
          "color": "#636EFA"
         },
         "mode": "lines",
         "name": "sampling-smoothed-r=0.375/aggregate",
         "type": "scatter",
         "x": [
          10,
          200,
          400,
          600,
          800,
          1000,
          1200,
          1400,
          1600
         ],
         "y": [
          0.7706871430079142,
          0.6420188953479132,
          0.5879086743338452,
          0.5401005047512414,
          0.49691972889713903,
          0.45735299885998987,
          0.42389781702275986,
          0.3938545462138638,
          0.369236442473219
         ]
        },
        {
         "line": {
          "color": "#EF553B",
          "dash": "dash"
         },
         "mode": "lines",
         "name": "sampling-smoothed-r=0.125/sst",
         "type": "scatter",
         "x": [
          10,
          200,
          400,
          600,
          800,
          1000,
          1200,
          1400,
          1600
         ],
         "y": [
          0.7247987911105156,
          0.5547337074152795,
          0.47732613362963977,
          0.42346385332170255,
          0.38160352532798925,
          0.3461229477800709,
          0.3247869008007513,
          0.3060050768904648,
          0.2899101549988058
         ]
        },
        {
         "line": {
          "color": "#EF553B",
          "dash": "dot"
         },
         "mode": "lines",
         "name": "sampling-smoothed-r=0.125/rte",
         "type": "scatter",
         "x": [
          10,
          200,
          400,
          600,
          800,
          1000,
          1200,
          1400,
          1600
         ],
         "y": [
          0.7220538208882014,
          0.7133456909940357,
          0.6757692220219997,
          0.624958033131618,
          0.5711807630604737,
          0.5270389619593109,
          0.48992354900553936,
          0.4528516209176881,
          0.4270496981325535
         ]
        },
        {
         "line": {
          "color": "#EF553B",
          "dash": "dashdot"
         },
         "mode": "lines",
         "name": "sampling-smoothed-r=0.125/mrpc",
         "type": "scatter",
         "x": [
          10,
          200,
          400,
          600,
          800,
          1000,
          1200,
          1400,
          1600
         ],
         "y": [
          0.5455200738377042,
          0.6817032373414266,
          0.6198004236113309,
          0.5730963874160927,
          0.5343524139672703,
          0.5007247681141093,
          0.464935850533381,
          0.43357802383606187,
          0.4044580171825752
         ]
        },
        {
         "line": {
          "color": "#EF553B"
         },
         "mode": "lines",
         "name": "sampling-smoothed-r=0.125/aggregate",
         "type": "scatter",
         "x": [
          10,
          200,
          400,
          600,
          800,
          1000,
          1200,
          1400,
          1600
         ],
         "y": [
          0.7505537430445353,
          0.6151742622987807,
          0.5759148048428687,
          0.5319572174377133,
          0.48993438266745404,
          0.4513667967883746,
          0.4218493566191564,
          0.3929744432953102,
          0.3698969752476704
         ]
        },
        {
         "line": {
          "color": "#00CC96",
          "dash": "dash"
         },
         "mode": "lines",
         "name": "sampling-smoothed-r=0.5/sst",
         "type": "scatter",
         "x": [
          10,
          200,
          400,
          600,
          800,
          1000,
          1200,
          1400,
          1600
         ],
         "y": [
          0.6845914291010963,
          0.5533143994675981,
          0.47174235089794586,
          0.42121191343275627,
          0.3836095500009688,
          0.3483348895619906,
          0.3213621927193661,
          0.30039309522481156,
          0.2836468705628828
         ]
        },
        {
         "line": {
          "color": "#00CC96",
          "dash": "dot"
         },
         "mode": "lines",
         "name": "sampling-smoothed-r=0.5/rte",
         "type": "scatter",
         "x": [
          10,
          200,
          400,
          600,
          800,
          1000,
          1200,
          1400,
          1600
         ],
         "y": [
          0.48111934794319994,
          0.714128208893282,
          0.6831583684781922,
          0.6296744043221307,
          0.5701185033629983,
          0.5139127513106169,
          0.46764543768456973,
          0.42741025002726013,
          0.40250573891996977
         ]
        },
        {
         "line": {
          "color": "#00CC96",
          "dash": "dashdot"
         },
         "mode": "lines",
         "name": "sampling-smoothed-r=0.5/mrpc",
         "type": "scatter",
         "x": [
          10,
          200,
          400,
          600,
          800,
          1000,
          1200,
          1400,
          1600
         ],
         "y": [
          0.8043679495652517,
          0.7012532879471528,
          0.6281430414764627,
          0.570077253627043,
          0.5266679310248447,
          0.48812340548413724,
          0.455526466840346,
          0.4257824025878838,
          0.39735746077539025
         ]
        },
        {
         "line": {
          "color": "#00CC96"
         },
         "mode": "lines",
         "name": "sampling-smoothed-r=0.5/aggregate",
         "type": "scatter",
         "x": [
          10,
          200,
          400,
          600,
          800,
          1000,
          1200,
          1400,
          1600
         ],
         "y": [
          0.7315764784812927,
          0.6242526852176274,
          0.5796432114304388,
          0.534085731816082,
          0.49125497592930084,
          0.4482607578865789,
          0.41291893227630405,
          0.3826338140988774,
          0.3590323524034025
         ]
        },
        {
         "line": {
          "color": "#AB63FA",
          "dash": "dash"
         },
         "mode": "lines",
         "name": "sampling-smoothed-r=0.25/sst",
         "type": "scatter",
         "x": [
          10,
          200,
          400,
          600,
          800,
          1000,
          1200,
          1400,
          1600
         ],
         "y": [
          0.7067455738782883,
          0.5439587459162705,
          0.46697507827246704,
          0.4205860504162901,
          0.37752114680103754,
          0.34385660580087224,
          0.32212587018821204,
          0.30264478454103494,
          0.28527915795377584
         ]
        },
        {
         "line": {
          "color": "#AB63FA",
          "dash": "dot"
         },
         "mode": "lines",
         "name": "sampling-smoothed-r=0.25/rte",
         "type": "scatter",
         "x": [
          10,
          200,
          400,
          600,
          800,
          1000,
          1200,
          1400,
          1600
         ],
         "y": [
          0.7439187367757162,
          0.7460530156560966,
          0.6998565808856315,
          0.645194776537219,
          0.6020169239284331,
          0.5600204304852118,
          0.5181445308716169,
          0.4873877060048666,
          0.4550284518481343
         ]
        },
        {
         "line": {
          "color": "#AB63FA",
          "dash": "dashdot"
         },
         "mode": "lines",
         "name": "sampling-smoothed-r=0.25/mrpc",
         "type": "scatter",
         "x": [
          10,
          200,
          400,
          600,
          800,
          1000,
          1200,
          1400,
          1600
         ],
         "y": [
          0.62929368019104,
          0.6383319289565696,
          0.5941723544793877,
          0.5501555977240228,
          0.507594197221013,
          0.47313290986705847,
          0.4395553539628187,
          0.4033107622259106,
          0.3788411041094884
         ]
        },
        {
         "line": {
          "color": "#AB63FA"
         },
         "mode": "lines",
         "name": "sampling-smoothed-r=0.25/aggregate",
         "type": "scatter",
         "x": [
          10,
          200,
          400,
          600,
          800,
          1000,
          1200,
          1400,
          1600
         ],
         "y": [
          0.7056302706400553,
          0.5997091734747783,
          0.5671636839117118,
          0.5324705276445685,
          0.48977402881712234,
          0.45256068376313974,
          0.42193889889229474,
          0.3929894114551331,
          0.36893174522558625
         ]
        }
       ],
       "layout": {
        "font": {
         "size": 14
        },
        "legend": {
         "title": {
          "text": "Method/Task"
         }
        },
        "template": {
         "data": {
          "bar": [
           {
            "error_x": {
             "color": "#2a3f5f"
            },
            "error_y": {
             "color": "#2a3f5f"
            },
            "marker": {
             "line": {
              "color": "#E5ECF6",
              "width": 0.5
             }
            },
            "type": "bar"
           }
          ],
          "barpolar": [
           {
            "marker": {
             "line": {
              "color": "#E5ECF6",
              "width": 0.5
             }
            },
            "type": "barpolar"
           }
          ],
          "carpet": [
           {
            "aaxis": {
             "endlinecolor": "#2a3f5f",
             "gridcolor": "white",
             "linecolor": "white",
             "minorgridcolor": "white",
             "startlinecolor": "#2a3f5f"
            },
            "baxis": {
             "endlinecolor": "#2a3f5f",
             "gridcolor": "white",
             "linecolor": "white",
             "minorgridcolor": "white",
             "startlinecolor": "#2a3f5f"
            },
            "type": "carpet"
           }
          ],
          "choropleth": [
           {
            "colorbar": {
             "outlinewidth": 0,
             "ticks": ""
            },
            "type": "choropleth"
           }
          ],
          "contour": [
           {
            "colorbar": {
             "outlinewidth": 0,
             "ticks": ""
            },
            "colorscale": [
             [
              0,
              "#0d0887"
             ],
             [
              0.1111111111111111,
              "#46039f"
             ],
             [
              0.2222222222222222,
              "#7201a8"
             ],
             [
              0.3333333333333333,
              "#9c179e"
             ],
             [
              0.4444444444444444,
              "#bd3786"
             ],
             [
              0.5555555555555556,
              "#d8576b"
             ],
             [
              0.6666666666666666,
              "#ed7953"
             ],
             [
              0.7777777777777778,
              "#fb9f3a"
             ],
             [
              0.8888888888888888,
              "#fdca26"
             ],
             [
              1,
              "#f0f921"
             ]
            ],
            "type": "contour"
           }
          ],
          "contourcarpet": [
           {
            "colorbar": {
             "outlinewidth": 0,
             "ticks": ""
            },
            "type": "contourcarpet"
           }
          ],
          "heatmap": [
           {
            "colorbar": {
             "outlinewidth": 0,
             "ticks": ""
            },
            "colorscale": [
             [
              0,
              "#0d0887"
             ],
             [
              0.1111111111111111,
              "#46039f"
             ],
             [
              0.2222222222222222,
              "#7201a8"
             ],
             [
              0.3333333333333333,
              "#9c179e"
             ],
             [
              0.4444444444444444,
              "#bd3786"
             ],
             [
              0.5555555555555556,
              "#d8576b"
             ],
             [
              0.6666666666666666,
              "#ed7953"
             ],
             [
              0.7777777777777778,
              "#fb9f3a"
             ],
             [
              0.8888888888888888,
              "#fdca26"
             ],
             [
              1,
              "#f0f921"
             ]
            ],
            "type": "heatmap"
           }
          ],
          "heatmapgl": [
           {
            "colorbar": {
             "outlinewidth": 0,
             "ticks": ""
            },
            "colorscale": [
             [
              0,
              "#0d0887"
             ],
             [
              0.1111111111111111,
              "#46039f"
             ],
             [
              0.2222222222222222,
              "#7201a8"
             ],
             [
              0.3333333333333333,
              "#9c179e"
             ],
             [
              0.4444444444444444,
              "#bd3786"
             ],
             [
              0.5555555555555556,
              "#d8576b"
             ],
             [
              0.6666666666666666,
              "#ed7953"
             ],
             [
              0.7777777777777778,
              "#fb9f3a"
             ],
             [
              0.8888888888888888,
              "#fdca26"
             ],
             [
              1,
              "#f0f921"
             ]
            ],
            "type": "heatmapgl"
           }
          ],
          "histogram": [
           {
            "marker": {
             "colorbar": {
              "outlinewidth": 0,
              "ticks": ""
             }
            },
            "type": "histogram"
           }
          ],
          "histogram2d": [
           {
            "colorbar": {
             "outlinewidth": 0,
             "ticks": ""
            },
            "colorscale": [
             [
              0,
              "#0d0887"
             ],
             [
              0.1111111111111111,
              "#46039f"
             ],
             [
              0.2222222222222222,
              "#7201a8"
             ],
             [
              0.3333333333333333,
              "#9c179e"
             ],
             [
              0.4444444444444444,
              "#bd3786"
             ],
             [
              0.5555555555555556,
              "#d8576b"
             ],
             [
              0.6666666666666666,
              "#ed7953"
             ],
             [
              0.7777777777777778,
              "#fb9f3a"
             ],
             [
              0.8888888888888888,
              "#fdca26"
             ],
             [
              1,
              "#f0f921"
             ]
            ],
            "type": "histogram2d"
           }
          ],
          "histogram2dcontour": [
           {
            "colorbar": {
             "outlinewidth": 0,
             "ticks": ""
            },
            "colorscale": [
             [
              0,
              "#0d0887"
             ],
             [
              0.1111111111111111,
              "#46039f"
             ],
             [
              0.2222222222222222,
              "#7201a8"
             ],
             [
              0.3333333333333333,
              "#9c179e"
             ],
             [
              0.4444444444444444,
              "#bd3786"
             ],
             [
              0.5555555555555556,
              "#d8576b"
             ],
             [
              0.6666666666666666,
              "#ed7953"
             ],
             [
              0.7777777777777778,
              "#fb9f3a"
             ],
             [
              0.8888888888888888,
              "#fdca26"
             ],
             [
              1,
              "#f0f921"
             ]
            ],
            "type": "histogram2dcontour"
           }
          ],
          "mesh3d": [
           {
            "colorbar": {
             "outlinewidth": 0,
             "ticks": ""
            },
            "type": "mesh3d"
           }
          ],
          "parcoords": [
           {
            "line": {
             "colorbar": {
              "outlinewidth": 0,
              "ticks": ""
             }
            },
            "type": "parcoords"
           }
          ],
          "pie": [
           {
            "automargin": true,
            "type": "pie"
           }
          ],
          "scatter": [
           {
            "marker": {
             "colorbar": {
              "outlinewidth": 0,
              "ticks": ""
             }
            },
            "type": "scatter"
           }
          ],
          "scatter3d": [
           {
            "line": {
             "colorbar": {
              "outlinewidth": 0,
              "ticks": ""
             }
            },
            "marker": {
             "colorbar": {
              "outlinewidth": 0,
              "ticks": ""
             }
            },
            "type": "scatter3d"
           }
          ],
          "scattercarpet": [
           {
            "marker": {
             "colorbar": {
              "outlinewidth": 0,
              "ticks": ""
             }
            },
            "type": "scattercarpet"
           }
          ],
          "scattergeo": [
           {
            "marker": {
             "colorbar": {
              "outlinewidth": 0,
              "ticks": ""
             }
            },
            "type": "scattergeo"
           }
          ],
          "scattergl": [
           {
            "marker": {
             "colorbar": {
              "outlinewidth": 0,
              "ticks": ""
             }
            },
            "type": "scattergl"
           }
          ],
          "scattermapbox": [
           {
            "marker": {
             "colorbar": {
              "outlinewidth": 0,
              "ticks": ""
             }
            },
            "type": "scattermapbox"
           }
          ],
          "scatterpolar": [
           {
            "marker": {
             "colorbar": {
              "outlinewidth": 0,
              "ticks": ""
             }
            },
            "type": "scatterpolar"
           }
          ],
          "scatterpolargl": [
           {
            "marker": {
             "colorbar": {
              "outlinewidth": 0,
              "ticks": ""
             }
            },
            "type": "scatterpolargl"
           }
          ],
          "scatterternary": [
           {
            "marker": {
             "colorbar": {
              "outlinewidth": 0,
              "ticks": ""
             }
            },
            "type": "scatterternary"
           }
          ],
          "surface": [
           {
            "colorbar": {
             "outlinewidth": 0,
             "ticks": ""
            },
            "colorscale": [
             [
              0,
              "#0d0887"
             ],
             [
              0.1111111111111111,
              "#46039f"
             ],
             [
              0.2222222222222222,
              "#7201a8"
             ],
             [
              0.3333333333333333,
              "#9c179e"
             ],
             [
              0.4444444444444444,
              "#bd3786"
             ],
             [
              0.5555555555555556,
              "#d8576b"
             ],
             [
              0.6666666666666666,
              "#ed7953"
             ],
             [
              0.7777777777777778,
              "#fb9f3a"
             ],
             [
              0.8888888888888888,
              "#fdca26"
             ],
             [
              1,
              "#f0f921"
             ]
            ],
            "type": "surface"
           }
          ],
          "table": [
           {
            "cells": {
             "fill": {
              "color": "#EBF0F8"
             },
             "line": {
              "color": "white"
             }
            },
            "header": {
             "fill": {
              "color": "#C8D4E3"
             },
             "line": {
              "color": "white"
             }
            },
            "type": "table"
           }
          ]
         },
         "layout": {
          "annotationdefaults": {
           "arrowcolor": "#2a3f5f",
           "arrowhead": 0,
           "arrowwidth": 1
          },
          "coloraxis": {
           "colorbar": {
            "outlinewidth": 0,
            "ticks": ""
           }
          },
          "colorscale": {
           "diverging": [
            [
             0,
             "#8e0152"
            ],
            [
             0.1,
             "#c51b7d"
            ],
            [
             0.2,
             "#de77ae"
            ],
            [
             0.3,
             "#f1b6da"
            ],
            [
             0.4,
             "#fde0ef"
            ],
            [
             0.5,
             "#f7f7f7"
            ],
            [
             0.6,
             "#e6f5d0"
            ],
            [
             0.7,
             "#b8e186"
            ],
            [
             0.8,
             "#7fbc41"
            ],
            [
             0.9,
             "#4d9221"
            ],
            [
             1,
             "#276419"
            ]
           ],
           "sequential": [
            [
             0,
             "#0d0887"
            ],
            [
             0.1111111111111111,
             "#46039f"
            ],
            [
             0.2222222222222222,
             "#7201a8"
            ],
            [
             0.3333333333333333,
             "#9c179e"
            ],
            [
             0.4444444444444444,
             "#bd3786"
            ],
            [
             0.5555555555555556,
             "#d8576b"
            ],
            [
             0.6666666666666666,
             "#ed7953"
            ],
            [
             0.7777777777777778,
             "#fb9f3a"
            ],
            [
             0.8888888888888888,
             "#fdca26"
            ],
            [
             1,
             "#f0f921"
            ]
           ],
           "sequentialminus": [
            [
             0,
             "#0d0887"
            ],
            [
             0.1111111111111111,
             "#46039f"
            ],
            [
             0.2222222222222222,
             "#7201a8"
            ],
            [
             0.3333333333333333,
             "#9c179e"
            ],
            [
             0.4444444444444444,
             "#bd3786"
            ],
            [
             0.5555555555555556,
             "#d8576b"
            ],
            [
             0.6666666666666666,
             "#ed7953"
            ],
            [
             0.7777777777777778,
             "#fb9f3a"
            ],
            [
             0.8888888888888888,
             "#fdca26"
            ],
            [
             1,
             "#f0f921"
            ]
           ]
          },
          "colorway": [
           "#636efa",
           "#EF553B",
           "#00cc96",
           "#ab63fa",
           "#FFA15A",
           "#19d3f3",
           "#FF6692",
           "#B6E880",
           "#FF97FF",
           "#FECB52"
          ],
          "font": {
           "color": "#2a3f5f"
          },
          "geo": {
           "bgcolor": "white",
           "lakecolor": "white",
           "landcolor": "#E5ECF6",
           "showlakes": true,
           "showland": true,
           "subunitcolor": "white"
          },
          "hoverlabel": {
           "align": "left"
          },
          "hovermode": "closest",
          "mapbox": {
           "style": "light"
          },
          "paper_bgcolor": "white",
          "plot_bgcolor": "#E5ECF6",
          "polar": {
           "angularaxis": {
            "gridcolor": "white",
            "linecolor": "white",
            "ticks": ""
           },
           "bgcolor": "#E5ECF6",
           "radialaxis": {
            "gridcolor": "white",
            "linecolor": "white",
            "ticks": ""
           }
          },
          "scene": {
           "xaxis": {
            "backgroundcolor": "#E5ECF6",
            "gridcolor": "white",
            "gridwidth": 2,
            "linecolor": "white",
            "showbackground": true,
            "ticks": "",
            "zerolinecolor": "white"
           },
           "yaxis": {
            "backgroundcolor": "#E5ECF6",
            "gridcolor": "white",
            "gridwidth": 2,
            "linecolor": "white",
            "showbackground": true,
            "ticks": "",
            "zerolinecolor": "white"
           },
           "zaxis": {
            "backgroundcolor": "#E5ECF6",
            "gridcolor": "white",
            "gridwidth": 2,
            "linecolor": "white",
            "showbackground": true,
            "ticks": "",
            "zerolinecolor": "white"
           }
          },
          "shapedefaults": {
           "line": {
            "color": "#2a3f5f"
           }
          },
          "ternary": {
           "aaxis": {
            "gridcolor": "white",
            "linecolor": "white",
            "ticks": ""
           },
           "baxis": {
            "gridcolor": "white",
            "linecolor": "white",
            "ticks": ""
           },
           "bgcolor": "#E5ECF6",
           "caxis": {
            "gridcolor": "white",
            "linecolor": "white",
            "ticks": ""
           }
          },
          "title": {
           "x": 0.05
          },
          "xaxis": {
           "automargin": true,
           "gridcolor": "white",
           "linecolor": "white",
           "ticks": "",
           "title": {
            "standoff": 15
           },
           "zerolinecolor": "white",
           "zerolinewidth": 2
          },
          "yaxis": {
           "automargin": true,
           "gridcolor": "white",
           "linecolor": "white",
           "ticks": "",
           "title": {
            "standoff": 15
           },
           "zerolinecolor": "white",
           "zerolinewidth": 2
          }
         }
        },
        "xaxis": {
         "title": {
          "text": "Iteration"
         }
        },
        "yaxis": {
         "title": {
          "text": "Train Loss"
         }
        }
       }
      },
      "text/html": [
       "<div>                            <div id=\"4b603c28-4e1d-4dbd-9b64-f761649298eb\" class=\"plotly-graph-div\" style=\"height:525px; width:100%;\"></div>            <script type=\"text/javascript\">                require([\"plotly\"], function(Plotly) {                    window.PLOTLYENV=window.PLOTLYENV || {};                                    if (document.getElementById(\"4b603c28-4e1d-4dbd-9b64-f761649298eb\")) {                    Plotly.newPlot(                        \"4b603c28-4e1d-4dbd-9b64-f761649298eb\",                        [{\"line\": {\"color\": \"#636EFA\", \"dash\": \"dash\"}, \"mode\": \"lines\", \"name\": \"sampling-smoothed-r=0.375/sst\", \"type\": \"scatter\", \"x\": [10, 200, 400, 600, 800, 1000, 1200, 1400, 1600], \"y\": [0.770466884450307, 0.5827329251961663, 0.49667938790252886, 0.4373768482008417, 0.3924732705086176, 0.36392109045899446, 0.3366977919825412, 0.3144236007315893, 0.29538048519094656]}, {\"line\": {\"color\": \"#636EFA\", \"dash\": \"dot\"}, \"mode\": \"lines\", \"name\": \"sampling-smoothed-r=0.375/rte\", \"type\": \"scatter\", \"x\": [10, 200, 400, 600, 800, 1000, 1200, 1400, 1600], \"y\": [0.2557584544022878, 0.7092923673110373, 0.6808210598266006, 0.6353561412723671, 0.5834779073964899, 0.5291510984262664, 0.49222067747966686, 0.4577148284854928, 0.4293382992624624]}, {\"line\": {\"color\": \"#636EFA\", \"dash\": \"dashdot\"}, \"mode\": \"lines\", \"name\": \"sampling-smoothed-r=0.375/mrpc\", \"type\": \"scatter\", \"x\": [10, 200, 400, 600, 800, 1000, 1200, 1400, 1600], \"y\": [0.7757968124416138, 0.7217265755058905, 0.6323451121371453, 0.5754332729705872, 0.5334450587568792, 0.4902104291087572, 0.45395073148537685, 0.42123810103073994, 0.3946719806544487]}, {\"line\": {\"color\": \"#636EFA\"}, \"mode\": \"lines\", \"name\": \"sampling-smoothed-r=0.375/aggregate\", \"type\": \"scatter\", \"x\": [10, 200, 400, 600, 800, 1000, 1200, 1400, 1600], \"y\": [0.7706871430079142, 0.6420188953479132, 0.5879086743338452, 0.5401005047512414, 0.49691972889713903, 0.45735299885998987, 0.42389781702275986, 0.3938545462138638, 0.369236442473219]}, {\"line\": {\"color\": \"#EF553B\", \"dash\": \"dash\"}, \"mode\": \"lines\", \"name\": \"sampling-smoothed-r=0.125/sst\", \"type\": \"scatter\", \"x\": [10, 200, 400, 600, 800, 1000, 1200, 1400, 1600], \"y\": [0.7247987911105156, 0.5547337074152795, 0.47732613362963977, 0.42346385332170255, 0.38160352532798925, 0.3461229477800709, 0.3247869008007513, 0.3060050768904648, 0.2899101549988058]}, {\"line\": {\"color\": \"#EF553B\", \"dash\": \"dot\"}, \"mode\": \"lines\", \"name\": \"sampling-smoothed-r=0.125/rte\", \"type\": \"scatter\", \"x\": [10, 200, 400, 600, 800, 1000, 1200, 1400, 1600], \"y\": [0.7220538208882014, 0.7133456909940357, 0.6757692220219997, 0.624958033131618, 0.5711807630604737, 0.5270389619593109, 0.48992354900553936, 0.4528516209176881, 0.4270496981325535]}, {\"line\": {\"color\": \"#EF553B\", \"dash\": \"dashdot\"}, \"mode\": \"lines\", \"name\": \"sampling-smoothed-r=0.125/mrpc\", \"type\": \"scatter\", \"x\": [10, 200, 400, 600, 800, 1000, 1200, 1400, 1600], \"y\": [0.5455200738377042, 0.6817032373414266, 0.6198004236113309, 0.5730963874160927, 0.5343524139672703, 0.5007247681141093, 0.464935850533381, 0.43357802383606187, 0.4044580171825752]}, {\"line\": {\"color\": \"#EF553B\"}, \"mode\": \"lines\", \"name\": \"sampling-smoothed-r=0.125/aggregate\", \"type\": \"scatter\", \"x\": [10, 200, 400, 600, 800, 1000, 1200, 1400, 1600], \"y\": [0.7505537430445353, 0.6151742622987807, 0.5759148048428687, 0.5319572174377133, 0.48993438266745404, 0.4513667967883746, 0.4218493566191564, 0.3929744432953102, 0.3698969752476704]}, {\"line\": {\"color\": \"#00CC96\", \"dash\": \"dash\"}, \"mode\": \"lines\", \"name\": \"sampling-smoothed-r=0.5/sst\", \"type\": \"scatter\", \"x\": [10, 200, 400, 600, 800, 1000, 1200, 1400, 1600], \"y\": [0.6845914291010963, 0.5533143994675981, 0.47174235089794586, 0.42121191343275627, 0.3836095500009688, 0.3483348895619906, 0.3213621927193661, 0.30039309522481156, 0.2836468705628828]}, {\"line\": {\"color\": \"#00CC96\", \"dash\": \"dot\"}, \"mode\": \"lines\", \"name\": \"sampling-smoothed-r=0.5/rte\", \"type\": \"scatter\", \"x\": [10, 200, 400, 600, 800, 1000, 1200, 1400, 1600], \"y\": [0.48111934794319994, 0.714128208893282, 0.6831583684781922, 0.6296744043221307, 0.5701185033629983, 0.5139127513106169, 0.46764543768456973, 0.42741025002726013, 0.40250573891996977]}, {\"line\": {\"color\": \"#00CC96\", \"dash\": \"dashdot\"}, \"mode\": \"lines\", \"name\": \"sampling-smoothed-r=0.5/mrpc\", \"type\": \"scatter\", \"x\": [10, 200, 400, 600, 800, 1000, 1200, 1400, 1600], \"y\": [0.8043679495652517, 0.7012532879471528, 0.6281430414764627, 0.570077253627043, 0.5266679310248447, 0.48812340548413724, 0.455526466840346, 0.4257824025878838, 0.39735746077539025]}, {\"line\": {\"color\": \"#00CC96\"}, \"mode\": \"lines\", \"name\": \"sampling-smoothed-r=0.5/aggregate\", \"type\": \"scatter\", \"x\": [10, 200, 400, 600, 800, 1000, 1200, 1400, 1600], \"y\": [0.7315764784812927, 0.6242526852176274, 0.5796432114304388, 0.534085731816082, 0.49125497592930084, 0.4482607578865789, 0.41291893227630405, 0.3826338140988774, 0.3590323524034025]}, {\"line\": {\"color\": \"#AB63FA\", \"dash\": \"dash\"}, \"mode\": \"lines\", \"name\": \"sampling-smoothed-r=0.25/sst\", \"type\": \"scatter\", \"x\": [10, 200, 400, 600, 800, 1000, 1200, 1400, 1600], \"y\": [0.7067455738782883, 0.5439587459162705, 0.46697507827246704, 0.4205860504162901, 0.37752114680103754, 0.34385660580087224, 0.32212587018821204, 0.30264478454103494, 0.28527915795377584]}, {\"line\": {\"color\": \"#AB63FA\", \"dash\": \"dot\"}, \"mode\": \"lines\", \"name\": \"sampling-smoothed-r=0.25/rte\", \"type\": \"scatter\", \"x\": [10, 200, 400, 600, 800, 1000, 1200, 1400, 1600], \"y\": [0.7439187367757162, 0.7460530156560966, 0.6998565808856315, 0.645194776537219, 0.6020169239284331, 0.5600204304852118, 0.5181445308716169, 0.4873877060048666, 0.4550284518481343]}, {\"line\": {\"color\": \"#AB63FA\", \"dash\": \"dashdot\"}, \"mode\": \"lines\", \"name\": \"sampling-smoothed-r=0.25/mrpc\", \"type\": \"scatter\", \"x\": [10, 200, 400, 600, 800, 1000, 1200, 1400, 1600], \"y\": [0.62929368019104, 0.6383319289565696, 0.5941723544793877, 0.5501555977240228, 0.507594197221013, 0.47313290986705847, 0.4395553539628187, 0.4033107622259106, 0.3788411041094884]}, {\"line\": {\"color\": \"#AB63FA\"}, \"mode\": \"lines\", \"name\": \"sampling-smoothed-r=0.25/aggregate\", \"type\": \"scatter\", \"x\": [10, 200, 400, 600, 800, 1000, 1200, 1400, 1600], \"y\": [0.7056302706400553, 0.5997091734747783, 0.5671636839117118, 0.5324705276445685, 0.48977402881712234, 0.45256068376313974, 0.42193889889229474, 0.3929894114551331, 0.36893174522558625]}],                        {\"font\": {\"size\": 14}, \"legend\": {\"title\": {\"text\": \"Method/Task\"}}, \"template\": {\"data\": {\"bar\": [{\"error_x\": {\"color\": \"#2a3f5f\"}, \"error_y\": {\"color\": \"#2a3f5f\"}, \"marker\": {\"line\": {\"color\": \"#E5ECF6\", \"width\": 0.5}}, \"type\": \"bar\"}], \"barpolar\": [{\"marker\": {\"line\": {\"color\": \"#E5ECF6\", \"width\": 0.5}}, \"type\": \"barpolar\"}], \"carpet\": [{\"aaxis\": {\"endlinecolor\": \"#2a3f5f\", \"gridcolor\": \"white\", \"linecolor\": \"white\", \"minorgridcolor\": \"white\", \"startlinecolor\": \"#2a3f5f\"}, \"baxis\": {\"endlinecolor\": \"#2a3f5f\", \"gridcolor\": \"white\", \"linecolor\": \"white\", \"minorgridcolor\": \"white\", \"startlinecolor\": \"#2a3f5f\"}, \"type\": \"carpet\"}], \"choropleth\": [{\"colorbar\": {\"outlinewidth\": 0, \"ticks\": \"\"}, \"type\": \"choropleth\"}], \"contour\": [{\"colorbar\": {\"outlinewidth\": 0, \"ticks\": \"\"}, \"colorscale\": [[0.0, \"#0d0887\"], [0.1111111111111111, \"#46039f\"], [0.2222222222222222, \"#7201a8\"], [0.3333333333333333, \"#9c179e\"], [0.4444444444444444, \"#bd3786\"], [0.5555555555555556, \"#d8576b\"], [0.6666666666666666, \"#ed7953\"], [0.7777777777777778, \"#fb9f3a\"], [0.8888888888888888, \"#fdca26\"], [1.0, \"#f0f921\"]], \"type\": \"contour\"}], \"contourcarpet\": [{\"colorbar\": {\"outlinewidth\": 0, \"ticks\": \"\"}, \"type\": \"contourcarpet\"}], \"heatmap\": [{\"colorbar\": {\"outlinewidth\": 0, \"ticks\": \"\"}, \"colorscale\": [[0.0, \"#0d0887\"], [0.1111111111111111, \"#46039f\"], [0.2222222222222222, \"#7201a8\"], [0.3333333333333333, \"#9c179e\"], [0.4444444444444444, \"#bd3786\"], [0.5555555555555556, \"#d8576b\"], [0.6666666666666666, \"#ed7953\"], [0.7777777777777778, \"#fb9f3a\"], [0.8888888888888888, \"#fdca26\"], [1.0, \"#f0f921\"]], \"type\": \"heatmap\"}], \"heatmapgl\": [{\"colorbar\": {\"outlinewidth\": 0, \"ticks\": \"\"}, \"colorscale\": [[0.0, \"#0d0887\"], [0.1111111111111111, \"#46039f\"], [0.2222222222222222, \"#7201a8\"], [0.3333333333333333, \"#9c179e\"], [0.4444444444444444, \"#bd3786\"], [0.5555555555555556, \"#d8576b\"], [0.6666666666666666, \"#ed7953\"], [0.7777777777777778, \"#fb9f3a\"], [0.8888888888888888, \"#fdca26\"], [1.0, \"#f0f921\"]], \"type\": \"heatmapgl\"}], \"histogram\": [{\"marker\": {\"colorbar\": {\"outlinewidth\": 0, \"ticks\": \"\"}}, \"type\": \"histogram\"}], \"histogram2d\": [{\"colorbar\": {\"outlinewidth\": 0, \"ticks\": \"\"}, \"colorscale\": [[0.0, \"#0d0887\"], [0.1111111111111111, \"#46039f\"], [0.2222222222222222, \"#7201a8\"], [0.3333333333333333, \"#9c179e\"], [0.4444444444444444, \"#bd3786\"], [0.5555555555555556, \"#d8576b\"], [0.6666666666666666, \"#ed7953\"], [0.7777777777777778, \"#fb9f3a\"], [0.8888888888888888, \"#fdca26\"], [1.0, \"#f0f921\"]], \"type\": \"histogram2d\"}], \"histogram2dcontour\": [{\"colorbar\": {\"outlinewidth\": 0, \"ticks\": \"\"}, \"colorscale\": [[0.0, \"#0d0887\"], [0.1111111111111111, \"#46039f\"], [0.2222222222222222, \"#7201a8\"], [0.3333333333333333, \"#9c179e\"], [0.4444444444444444, \"#bd3786\"], [0.5555555555555556, \"#d8576b\"], [0.6666666666666666, \"#ed7953\"], [0.7777777777777778, \"#fb9f3a\"], [0.8888888888888888, \"#fdca26\"], [1.0, \"#f0f921\"]], \"type\": \"histogram2dcontour\"}], \"mesh3d\": [{\"colorbar\": {\"outlinewidth\": 0, \"ticks\": \"\"}, \"type\": \"mesh3d\"}], \"parcoords\": [{\"line\": {\"colorbar\": {\"outlinewidth\": 0, \"ticks\": \"\"}}, \"type\": \"parcoords\"}], \"pie\": [{\"automargin\": true, \"type\": \"pie\"}], \"scatter\": [{\"marker\": {\"colorbar\": {\"outlinewidth\": 0, \"ticks\": \"\"}}, \"type\": \"scatter\"}], \"scatter3d\": [{\"line\": {\"colorbar\": {\"outlinewidth\": 0, \"ticks\": \"\"}}, \"marker\": {\"colorbar\": {\"outlinewidth\": 0, \"ticks\": \"\"}}, \"type\": \"scatter3d\"}], \"scattercarpet\": [{\"marker\": {\"colorbar\": {\"outlinewidth\": 0, \"ticks\": \"\"}}, \"type\": \"scattercarpet\"}], \"scattergeo\": [{\"marker\": {\"colorbar\": {\"outlinewidth\": 0, \"ticks\": \"\"}}, \"type\": \"scattergeo\"}], \"scattergl\": [{\"marker\": {\"colorbar\": {\"outlinewidth\": 0, \"ticks\": \"\"}}, \"type\": \"scattergl\"}], \"scattermapbox\": [{\"marker\": {\"colorbar\": {\"outlinewidth\": 0, \"ticks\": \"\"}}, \"type\": \"scattermapbox\"}], \"scatterpolar\": [{\"marker\": {\"colorbar\": {\"outlinewidth\": 0, \"ticks\": \"\"}}, \"type\": \"scatterpolar\"}], \"scatterpolargl\": [{\"marker\": {\"colorbar\": {\"outlinewidth\": 0, \"ticks\": \"\"}}, \"type\": \"scatterpolargl\"}], \"scatterternary\": [{\"marker\": {\"colorbar\": {\"outlinewidth\": 0, \"ticks\": \"\"}}, \"type\": \"scatterternary\"}], \"surface\": [{\"colorbar\": {\"outlinewidth\": 0, \"ticks\": \"\"}, \"colorscale\": [[0.0, \"#0d0887\"], [0.1111111111111111, \"#46039f\"], [0.2222222222222222, \"#7201a8\"], [0.3333333333333333, \"#9c179e\"], [0.4444444444444444, \"#bd3786\"], [0.5555555555555556, \"#d8576b\"], [0.6666666666666666, \"#ed7953\"], [0.7777777777777778, \"#fb9f3a\"], [0.8888888888888888, \"#fdca26\"], [1.0, \"#f0f921\"]], \"type\": \"surface\"}], \"table\": [{\"cells\": {\"fill\": {\"color\": \"#EBF0F8\"}, \"line\": {\"color\": \"white\"}}, \"header\": {\"fill\": {\"color\": \"#C8D4E3\"}, \"line\": {\"color\": \"white\"}}, \"type\": \"table\"}]}, \"layout\": {\"annotationdefaults\": {\"arrowcolor\": \"#2a3f5f\", \"arrowhead\": 0, \"arrowwidth\": 1}, \"coloraxis\": {\"colorbar\": {\"outlinewidth\": 0, \"ticks\": \"\"}}, \"colorscale\": {\"diverging\": [[0, \"#8e0152\"], [0.1, \"#c51b7d\"], [0.2, \"#de77ae\"], [0.3, \"#f1b6da\"], [0.4, \"#fde0ef\"], [0.5, \"#f7f7f7\"], [0.6, \"#e6f5d0\"], [0.7, \"#b8e186\"], [0.8, \"#7fbc41\"], [0.9, \"#4d9221\"], [1, \"#276419\"]], \"sequential\": [[0.0, \"#0d0887\"], [0.1111111111111111, \"#46039f\"], [0.2222222222222222, \"#7201a8\"], [0.3333333333333333, \"#9c179e\"], [0.4444444444444444, \"#bd3786\"], [0.5555555555555556, \"#d8576b\"], [0.6666666666666666, \"#ed7953\"], [0.7777777777777778, \"#fb9f3a\"], [0.8888888888888888, \"#fdca26\"], [1.0, \"#f0f921\"]], \"sequentialminus\": [[0.0, \"#0d0887\"], [0.1111111111111111, \"#46039f\"], [0.2222222222222222, \"#7201a8\"], [0.3333333333333333, \"#9c179e\"], [0.4444444444444444, \"#bd3786\"], [0.5555555555555556, \"#d8576b\"], [0.6666666666666666, \"#ed7953\"], [0.7777777777777778, \"#fb9f3a\"], [0.8888888888888888, \"#fdca26\"], [1.0, \"#f0f921\"]]}, \"colorway\": [\"#636efa\", \"#EF553B\", \"#00cc96\", \"#ab63fa\", \"#FFA15A\", \"#19d3f3\", \"#FF6692\", \"#B6E880\", \"#FF97FF\", \"#FECB52\"], \"font\": {\"color\": \"#2a3f5f\"}, \"geo\": {\"bgcolor\": \"white\", \"lakecolor\": \"white\", \"landcolor\": \"#E5ECF6\", \"showlakes\": true, \"showland\": true, \"subunitcolor\": \"white\"}, \"hoverlabel\": {\"align\": \"left\"}, \"hovermode\": \"closest\", \"mapbox\": {\"style\": \"light\"}, \"paper_bgcolor\": \"white\", \"plot_bgcolor\": \"#E5ECF6\", \"polar\": {\"angularaxis\": {\"gridcolor\": \"white\", \"linecolor\": \"white\", \"ticks\": \"\"}, \"bgcolor\": \"#E5ECF6\", \"radialaxis\": {\"gridcolor\": \"white\", \"linecolor\": \"white\", \"ticks\": \"\"}}, \"scene\": {\"xaxis\": {\"backgroundcolor\": \"#E5ECF6\", \"gridcolor\": \"white\", \"gridwidth\": 2, \"linecolor\": \"white\", \"showbackground\": true, \"ticks\": \"\", \"zerolinecolor\": \"white\"}, \"yaxis\": {\"backgroundcolor\": \"#E5ECF6\", \"gridcolor\": \"white\", \"gridwidth\": 2, \"linecolor\": \"white\", \"showbackground\": true, \"ticks\": \"\", \"zerolinecolor\": \"white\"}, \"zaxis\": {\"backgroundcolor\": \"#E5ECF6\", \"gridcolor\": \"white\", \"gridwidth\": 2, \"linecolor\": \"white\", \"showbackground\": true, \"ticks\": \"\", \"zerolinecolor\": \"white\"}}, \"shapedefaults\": {\"line\": {\"color\": \"#2a3f5f\"}}, \"ternary\": {\"aaxis\": {\"gridcolor\": \"white\", \"linecolor\": \"white\", \"ticks\": \"\"}, \"baxis\": {\"gridcolor\": \"white\", \"linecolor\": \"white\", \"ticks\": \"\"}, \"bgcolor\": \"#E5ECF6\", \"caxis\": {\"gridcolor\": \"white\", \"linecolor\": \"white\", \"ticks\": \"\"}}, \"title\": {\"x\": 0.05}, \"xaxis\": {\"automargin\": true, \"gridcolor\": \"white\", \"linecolor\": \"white\", \"ticks\": \"\", \"title\": {\"standoff\": 15}, \"zerolinecolor\": \"white\", \"zerolinewidth\": 2}, \"yaxis\": {\"automargin\": true, \"gridcolor\": \"white\", \"linecolor\": \"white\", \"ticks\": \"\", \"title\": {\"standoff\": 15}, \"zerolinecolor\": \"white\", \"zerolinewidth\": 2}}}, \"xaxis\": {\"title\": {\"text\": \"Iteration\"}}, \"yaxis\": {\"title\": {\"text\": \"Train Loss\"}}},                        {\"responsive\": true}                    ).then(function(){\n",
       "                            \n",
       "var gd = document.getElementById('4b603c28-4e1d-4dbd-9b64-f761649298eb');\n",
       "var x = new MutationObserver(function (mutations, observer) {{\n",
       "        var display = window.getComputedStyle(gd).display;\n",
       "        if (!display || display === 'none') {{\n",
       "            console.log([gd, 'removed!']);\n",
       "            Plotly.purge(gd);\n",
       "            observer.disconnect();\n",
       "        }}\n",
       "}});\n",
       "\n",
       "// Listen for the removal of the full notebook cells\n",
       "var notebookContainer = gd.closest('#notebook-container');\n",
       "if (notebookContainer) {{\n",
       "    x.observe(notebookContainer, {childList: true});\n",
       "}}\n",
       "\n",
       "// Listen for the clearing of the current output cell\n",
       "var outputEl = gd.closest('.output');\n",
       "if (outputEl) {{\n",
       "    x.observe(outputEl, {childList: true});\n",
       "}}\n",
       "\n",
       "                        })                };                });            </script>        </div>"
      ]
     },
     "metadata": {},
     "output_type": "display_data"
    }
   ],
   "source": [
    "plot_metric_over_time('train', 'loss', ['sampling-smoothed-r=0.375', 'sampling-smoothed-r=0.125', 'sampling-smoothed-r=0.5', 'sampling-smoothed-r=0.25'], plot_minima=False)"
   ]
  },
  {
   "cell_type": "markdown",
   "metadata": {},
   "source": [
    "## Loss vs task weight "
   ]
  },
  {
   "cell_type": "code",
   "execution_count": 341,
   "metadata": {},
   "outputs": [],
   "source": [
    "# plotly.subplots.make_subplots(rows=1, cols=1, shared_xaxes=False, shared_yaxes=False, \n",
    "#                               start_cell='top-left', print_grid=False, \n",
    "#                               horizontal_spacing=None, vertical_spacing=None, \n",
    "#                               subplot_titles=None, column_widths=None, row_heights=None, \n",
    "#                               specs=None, insets=None, \n",
    "#                               column_titles=None, row_titles=None, x_title=None, y_title=None, figure=None, **kwargs)\n",
    "\n",
    "\n",
    "from plotly.subplots import make_subplots\n",
    "def plot_heatmap(configs, config_titles, zmin=0.17, zmax=0.57):\n",
    "    fig = make_subplots(rows=3, cols=len(configs),shared_xaxes=True, row_heights=[10, 5,5],\n",
    "                        column_titles=config_titles,\n",
    "                       x_title='Number of iterations')\n",
    "    colors = ['cadetblue', 'coral', 'olive', 'purple']\n",
    "    minima_x = {config: [] for config in configs}\n",
    "    minima_y = {config: [] for config in configs}\n",
    "    for idx, config in enumerate(configs):\n",
    "        x = config_metrics_df[config].index\n",
    "        for i, (task_name, task) in enumerate(TASKS.items()):\n",
    "            m = config_metrics_df[config][METRIC_FORMATS['loss'].format(split='dev', task=task)]\n",
    "            fig.add_trace(go.Scatter(x=x,\n",
    "                                     y=m,\n",
    "                                     mode='lines',\n",
    "                                     line=dict(color=colors[i]),\n",
    "                                     name=task_name, showlegend=idx==0), row=1, col=idx+1)\n",
    "            minima_x[config].append(m.idxmin())\n",
    "            minima_y[config].append(m.min())\n",
    "        # loss\n",
    "        m = config_metrics_df[config][AGG_METRICS.format(split='dev')]\n",
    "        fig.add_trace(go.Scatter(x=config_metrics_df[config].index, y=m,\n",
    "                            mode='lines',\n",
    "                            line=dict(color=colors[-1]),# dash=dashes[i]),\n",
    "                            name=f'Aggregate', showlegend=idx==0), row=1, col=idx+1)\n",
    "        minima_x[config].append(m.idxmin())\n",
    "        minima_y[config].append(m.min())\n",
    "        # plot minimum for each curve\n",
    "        fig.add_trace(go.Scatter(x=minima_x[config], y=minima_y[config], \n",
    "                                 mode='markers', \n",
    "                                 marker=dict(color=colors, size=9),\n",
    "                                 name=f'{config} minimum', showlegend=False), row=1, col=idx+1)\n",
    "        # draw vertical line that goes thru min aggregate loss\n",
    "        fig.add_trace(go.Scatter(x=[minima_x[config][-1]] * 2, y=[.2,.9], \n",
    "                                 mode='lines', \n",
    "                                 line=dict(color=colors[-1], dash='dash'),\n",
    "                                 showlegend=False), row=1, col=idx+1)\n",
    "        \n",
    "        # task weight\n",
    "        if 'uniform' in config:\n",
    "            weight = 1 / len(TASKS)\n",
    "            z = [[weight for _ in range(len(x) - 1)] for task in TASKS]\n",
    "        elif 'data-dist' in config:\n",
    "            task_samples = {'SST-2':8000, 'RTE':2490, 'MRPC':3668}\n",
    "            total_samples = sum(task_samples.values())\n",
    "            task_weights = {key: val/total_samples for key, val in task_samples.items()}\n",
    "            z = [[task_weights[task] for _ in range(len(x) - 1)] for task in TASKS.keys()]\n",
    "        else:\n",
    "            z = [[1/len(TASKS)] + config_metrics_df[config][METRIC_FORMATS['task_weight'].format(task=task)].values.tolist()[1:-1] for task_name, task in TASKS.items()]\n",
    "        fig.add_trace(go.Heatmap(\n",
    "                           x=x,\n",
    "                           z=z,\n",
    "                           zmin=zmin,\n",
    "                           zmax=zmax,\n",
    "                           y=list(TASKS.keys()),\n",
    "                           hoverongaps = False,\n",
    "                           colorscale='blues', ygap=1, xgap=1, colorbar=go.heatmap.ColorBar(title='Probability',len=0.5, yanchor='middle')), row=2, col=idx+1)\n",
    "        #fig.update_traces(colorbar_len=0.5, colorbar_yanchor=\"top\", selector=dict(type='heatmap'))\n",
    "        \n",
    "        fig.add_trace(go.Heatmap(\n",
    "                           x=x,\n",
    "                           z=[[1] + config_metrics_df[config][METRIC_FORMATS['uncertainty'].format(task=task, split='dev')].values.tolist()[1:-1] for task_name, task in TASKS.items()],\n",
    "                           zmin=1,\n",
    "                           zmax=3,\n",
    "                           y=list(TASKS.keys()),\n",
    "                           hoverongaps = False,\n",
    "                           colorscale='reds', ygap=1, xgap=1, colorbar=go.heatmap.ColorBar(title='Uncertainty',len=0.5, y=0)), row=3, col=idx+1)\n",
    "        #fig.update_traces(colorbar_len=0.5, colorbar_yanchor=\"top\", selector=dict(type='heatmap'))\n",
    "        \n",
    "#     fig.update_layout(\n",
    "#         xaxis_title=\"Iteration\",\n",
    "#         title=f'dev loss{config}'\n",
    "#     )\n",
    "    fig.update_xaxes(nticks=20)\n",
    "    fig.show()"
   ]
  },
  {
   "cell_type": "code",
   "execution_count": 342,
   "metadata": {
    "scrolled": false
   },
   "outputs": [
    {
     "data": {
      "application/vnd.plotly.v1+json": {
       "config": {
        "plotlyServerURL": "https://plot.ly"
       },
       "data": [
        {
         "line": {
          "color": "cadetblue"
         },
         "mode": "lines",
         "name": "SST-2",
         "showlegend": true,
         "type": "scatter",
         "x": [
          0,
          200,
          400,
          600,
          800,
          1000,
          1200,
          1400,
          1600,
          1800,
          2000,
          2200,
          2400
         ],
         "xaxis": "x",
         "y": [
          0.7031279565493266,
          0.39968244043986,
          0.34507396356264747,
          0.29914427097638446,
          0.2713746514320374,
          0.2907987481753031,
          0.27341954374313354,
          0.2970819168090821,
          0.34754425573349,
          0.29002340300877893,
          0.2866134435335795,
          0.30178449551264447,
          0.3083347722689311
         ],
         "yaxis": "y"
        },
        {
         "line": {
          "color": "coral"
         },
         "mode": "lines",
         "name": "MRPC",
         "showlegend": true,
         "type": "scatter",
         "x": [
          0,
          200,
          400,
          600,
          800,
          1000,
          1200,
          1400,
          1600,
          1800,
          2000,
          2200,
          2400
         ],
         "xaxis": "x",
         "y": [
          0.7541006203570397,
          0.6050847231173048,
          0.49991016878801237,
          0.4929188895069696,
          0.4376709979344038,
          0.4181058743810342,
          0.4259687056338865,
          0.420149980417264,
          0.4201597910301358,
          0.44174904254526876,
          0.4389984218123692,
          0.45374715873618526,
          0.4890082521376267
         ],
         "yaxis": "y"
        },
        {
         "line": {
          "color": "olive"
         },
         "mode": "lines",
         "name": "RTE",
         "showlegend": true,
         "type": "scatter",
         "x": [
          0,
          200,
          400,
          600,
          800,
          1000,
          1200,
          1400,
          1600,
          1800,
          2000,
          2200,
          2400
         ],
         "xaxis": "x",
         "y": [
          0.8744205826722481,
          0.6919826182766237,
          0.6744714816987226,
          0.6676494723932755,
          0.6682564034554117,
          0.672135336243588,
          0.6801760625724055,
          0.734402755032415,
          0.7670578773758837,
          0.8048891592140935,
          0.855415911346242,
          0.8932780891224957,
          0.909717555783221
         ],
         "yaxis": "y"
        },
        {
         "line": {
          "color": "purple"
         },
         "mode": "lines",
         "name": "Aggregate",
         "showlegend": true,
         "type": "scatter",
         "x": [
          0,
          200,
          400,
          600,
          800,
          1000,
          1200,
          1400,
          1600,
          1800,
          2000,
          2200,
          2400
         ],
         "xaxis": "x",
         "y": [
          0.7284907030632883,
          0.46096372971532357,
          0.4024833848508389,
          0.3664943007645889,
          0.33746566221125374,
          0.34936439862194435,
          0.3384362565778229,
          0.36076012891853737,
          0.40172193754210855,
          0.3660319759013104,
          0.36826864183985414,
          0.3857088615452538,
          0.39764044590394293
         ],
         "yaxis": "y"
        },
        {
         "marker": {
          "color": [
           "cadetblue",
           "coral",
           "olive",
           "purple"
          ],
          "size": 9
         },
         "mode": "markers",
         "name": "baseline-uniform minimum",
         "showlegend": false,
         "type": "scatter",
         "x": [
          800,
          1000,
          600,
          800
         ],
         "xaxis": "x",
         "y": [
          0.2713746514320374,
          0.4181058743810342,
          0.6676494723932755,
          0.33746566221125374
         ],
         "yaxis": "y"
        },
        {
         "line": {
          "color": "purple",
          "dash": "dash"
         },
         "mode": "lines",
         "showlegend": false,
         "type": "scatter",
         "x": [
          800,
          800
         ],
         "xaxis": "x",
         "y": [
          0.2,
          0.9
         ],
         "yaxis": "y"
        },
        {
         "colorbar": {
          "len": 0.5,
          "title": {
           "text": "Probability"
          },
          "yanchor": "middle"
         },
         "colorscale": [
          [
           0,
           "rgb(247,251,255)"
          ],
          [
           0.125,
           "rgb(222,235,247)"
          ],
          [
           0.25,
           "rgb(198,219,239)"
          ],
          [
           0.375,
           "rgb(158,202,225)"
          ],
          [
           0.5,
           "rgb(107,174,214)"
          ],
          [
           0.625,
           "rgb(66,146,198)"
          ],
          [
           0.75,
           "rgb(33,113,181)"
          ],
          [
           0.875,
           "rgb(8,81,156)"
          ],
          [
           1,
           "rgb(8,48,107)"
          ]
         ],
         "hoverongaps": false,
         "type": "heatmap",
         "x": [
          0,
          200,
          400,
          600,
          800,
          1000,
          1200,
          1400,
          1600,
          1800,
          2000,
          2200,
          2400
         ],
         "xaxis": "x4",
         "xgap": 1,
         "y": [
          "SST-2",
          "MRPC",
          "RTE"
         ],
         "yaxis": "y4",
         "ygap": 1,
         "z": [
          [
           0.3333333333333333,
           0.3333333333333333,
           0.3333333333333333,
           0.3333333333333333,
           0.3333333333333333,
           0.3333333333333333,
           0.3333333333333333,
           0.3333333333333333,
           0.3333333333333333,
           0.3333333333333333,
           0.3333333333333333,
           0.3333333333333333
          ],
          [
           0.3333333333333333,
           0.3333333333333333,
           0.3333333333333333,
           0.3333333333333333,
           0.3333333333333333,
           0.3333333333333333,
           0.3333333333333333,
           0.3333333333333333,
           0.3333333333333333,
           0.3333333333333333,
           0.3333333333333333,
           0.3333333333333333
          ],
          [
           0.3333333333333333,
           0.3333333333333333,
           0.3333333333333333,
           0.3333333333333333,
           0.3333333333333333,
           0.3333333333333333,
           0.3333333333333333,
           0.3333333333333333,
           0.3333333333333333,
           0.3333333333333333,
           0.3333333333333333,
           0.3333333333333333
          ]
         ],
         "zmax": 0.57,
         "zmin": 0.17
        },
        {
         "colorbar": {
          "len": 0.5,
          "title": {
           "text": "Uncertainty"
          },
          "y": 0
         },
         "colorscale": [
          [
           0,
           "rgb(255,245,240)"
          ],
          [
           0.125,
           "rgb(254,224,210)"
          ],
          [
           0.25,
           "rgb(252,187,161)"
          ],
          [
           0.375,
           "rgb(252,146,114)"
          ],
          [
           0.5,
           "rgb(251,106,74)"
          ],
          [
           0.625,
           "rgb(239,59,44)"
          ],
          [
           0.75,
           "rgb(203,24,29)"
          ],
          [
           0.875,
           "rgb(165,15,21)"
          ],
          [
           1,
           "rgb(103,0,13)"
          ]
         ],
         "hoverongaps": false,
         "type": "heatmap",
         "x": [
          0,
          200,
          400,
          600,
          800,
          1000,
          1200,
          1400,
          1600,
          1800,
          2000,
          2200,
          2400
         ],
         "xaxis": "x7",
         "xgap": 1,
         "y": [
          "SST-2",
          "MRPC",
          "RTE"
         ],
         "yaxis": "y7",
         "ygap": 1,
         "z": [
          [
           1,
           2.324225913630571,
           2.2580450363256146,
           2.243343153147467,
           2.3727501064903684,
           2.3772917397657545,
           2.29601667624849,
           2.3602549419946928,
           2.2333193917164467,
           2.251005590602776,
           2.275858621222859,
           2.3940923284570483
          ],
          [
           1,
           2.8663703514952137,
           2.6230941951788402,
           2.645328555470522,
           2.693205299586468,
           2.508700713494204,
           2.5337262320241876,
           2.4005416342485675,
           2.472559530348964,
           2.5438924397667364,
           2.2630042278039273,
           2.46514548025337
          ],
          [
           1,
           3.0561410179978226,
           2.9445493029245857,
           2.902159310133259,
           2.6141228355941735,
           2.482875286717,
           2.255579634814163,
           2.0486995347953343,
           2.0505460469013292,
           2.056309072071953,
           2.2459297389324386,
           2.023211963250896
          ]
         ],
         "zmax": 3,
         "zmin": 1
        },
        {
         "line": {
          "color": "cadetblue"
         },
         "mode": "lines",
         "name": "SST-2",
         "showlegend": false,
         "type": "scatter",
         "x": [
          0,
          200,
          400,
          600,
          800,
          1000,
          1200,
          1400,
          1600,
          1800,
          2000,
          2200,
          2400
         ],
         "xaxis": "x2",
         "y": [
          0.7154159838358561,
          0.3698923625946045,
          0.2748917320569356,
          0.2636128536860148,
          0.27141850733757017,
          0.29564742930730187,
          0.27692437521616614,
          0.2874917896588643,
          0.3141952645778656,
          0.32383961995442706,
          0.33410895403226215,
          0.3763222194512685,
          0.34378941090901693
         ],
         "yaxis": "y2"
        },
        {
         "line": {
          "color": "coral"
         },
         "mode": "lines",
         "name": "MRPC",
         "showlegend": false,
         "type": "scatter",
         "x": [
          0,
          200,
          400,
          600,
          800,
          1000,
          1200,
          1400,
          1600,
          1800,
          2000,
          2200,
          2400
         ],
         "xaxis": "x2",
         "y": [
          0.7601930686071806,
          0.6049534620023241,
          0.5186429506813,
          0.5104743390301474,
          0.4792606448815539,
          0.42499404171713034,
          0.4184640244720808,
          0.4229019627072453,
          0.4373878314604167,
          0.40176206359676286,
          0.4230467236899083,
          0.44336409155839407,
          0.4116537944943297
         ],
         "yaxis": "y2"
        },
        {
         "line": {
          "color": "olive"
         },
         "mode": "lines",
         "name": "RTE",
         "showlegend": false,
         "type": "scatter",
         "x": [
          0,
          200,
          400,
          600,
          800,
          1000,
          1200,
          1400,
          1600,
          1800,
          2000,
          2200,
          2400
         ],
         "xaxis": "x2",
         "y": [
          0.8846864827013246,
          0.6988496305286022,
          0.679735083222965,
          0.6726946695415293,
          0.6475531634501213,
          0.6432038801879698,
          0.6454604420684963,
          0.6389657293540845,
          0.6518002005590908,
          0.6522370774100944,
          0.6442368037746724,
          0.6642477158187092,
          0.6727029871249544
         ],
         "yaxis": "y2"
        },
        {
         "line": {
          "color": "purple"
         },
         "mode": "lines",
         "name": "Aggregate",
         "showlegend": false,
         "type": "scatter",
         "x": [
          0,
          200,
          400,
          600,
          800,
          1000,
          1200,
          1400,
          1600,
          1800,
          2000,
          2200,
          2400
         ],
         "xaxis": "x2",
         "y": [
          0.7396289898990341,
          0.4394516526497956,
          0.35357551079038,
          0.3432052781258539,
          0.3416915167284083,
          0.3510494405987603,
          0.33633724084495026,
          0.3442183760819717,
          0.36763845743140466,
          0.369454394642891,
          0.37951949671081087,
          0.41612122124602297,
          0.38792831386669446
         ],
         "yaxis": "y2"
        },
        {
         "marker": {
          "color": [
           "cadetblue",
           "coral",
           "olive",
           "purple"
          ],
          "size": 9
         },
         "mode": "markers",
         "name": "baseline-data-dist minimum",
         "showlegend": false,
         "type": "scatter",
         "x": [
          600,
          1800,
          1400,
          1200
         ],
         "xaxis": "x2",
         "y": [
          0.2636128536860148,
          0.40176206359676286,
          0.6389657293540845,
          0.33633724084495026
         ],
         "yaxis": "y2"
        },
        {
         "line": {
          "color": "purple",
          "dash": "dash"
         },
         "mode": "lines",
         "showlegend": false,
         "type": "scatter",
         "x": [
          1200,
          1200
         ],
         "xaxis": "x2",
         "y": [
          0.2,
          0.9
         ],
         "yaxis": "y2"
        },
        {
         "colorbar": {
          "len": 0.5,
          "title": {
           "text": "Probability"
          },
          "yanchor": "middle"
         },
         "colorscale": [
          [
           0,
           "rgb(247,251,255)"
          ],
          [
           0.125,
           "rgb(222,235,247)"
          ],
          [
           0.25,
           "rgb(198,219,239)"
          ],
          [
           0.375,
           "rgb(158,202,225)"
          ],
          [
           0.5,
           "rgb(107,174,214)"
          ],
          [
           0.625,
           "rgb(66,146,198)"
          ],
          [
           0.75,
           "rgb(33,113,181)"
          ],
          [
           0.875,
           "rgb(8,81,156)"
          ],
          [
           1,
           "rgb(8,48,107)"
          ]
         ],
         "hoverongaps": false,
         "type": "heatmap",
         "x": [
          0,
          200,
          400,
          600,
          800,
          1000,
          1200,
          1400,
          1600,
          1800,
          2000,
          2200,
          2400
         ],
         "xaxis": "x5",
         "xgap": 1,
         "y": [
          "SST-2",
          "MRPC",
          "RTE"
         ],
         "yaxis": "y5",
         "ygap": 1,
         "z": [
          [
           0.5650515609549371,
           0.5650515609549371,
           0.5650515609549371,
           0.5650515609549371,
           0.5650515609549371,
           0.5650515609549371,
           0.5650515609549371,
           0.5650515609549371,
           0.5650515609549371,
           0.5650515609549371,
           0.5650515609549371,
           0.5650515609549371
          ],
          [
           0.2590761406978387,
           0.2590761406978387,
           0.2590761406978387,
           0.2590761406978387,
           0.2590761406978387,
           0.2590761406978387,
           0.2590761406978387,
           0.2590761406978387,
           0.2590761406978387,
           0.2590761406978387,
           0.2590761406978387,
           0.2590761406978387
          ],
          [
           0.17587229834722418,
           0.17587229834722418,
           0.17587229834722418,
           0.17587229834722418,
           0.17587229834722418,
           0.17587229834722418,
           0.17587229834722418,
           0.17587229834722418,
           0.17587229834722418,
           0.17587229834722418,
           0.17587229834722418,
           0.17587229834722418
          ]
         ],
         "zmax": 0.57,
         "zmin": 0.17
        },
        {
         "colorbar": {
          "len": 0.5,
          "title": {
           "text": "Uncertainty"
          },
          "y": 0
         },
         "colorscale": [
          [
           0,
           "rgb(255,245,240)"
          ],
          [
           0.125,
           "rgb(254,224,210)"
          ],
          [
           0.25,
           "rgb(252,187,161)"
          ],
          [
           0.375,
           "rgb(252,146,114)"
          ],
          [
           0.5,
           "rgb(251,106,74)"
          ],
          [
           0.625,
           "rgb(239,59,44)"
          ],
          [
           0.75,
           "rgb(203,24,29)"
          ],
          [
           0.875,
           "rgb(165,15,21)"
          ],
          [
           1,
           "rgb(103,0,13)"
          ]
         ],
         "hoverongaps": false,
         "type": "heatmap",
         "x": [
          0,
          200,
          400,
          600,
          800,
          1000,
          1200,
          1400,
          1600,
          1800,
          2000,
          2200,
          2400
         ],
         "xaxis": "x8",
         "xgap": 1,
         "y": [
          "SST-2",
          "MRPC",
          "RTE"
         ],
         "yaxis": "y8",
         "ygap": 1,
         "z": [
          [
           1,
           2.486041747955783,
           2.5478430730526545,
           2.6182955288989,
           2.5770135924181843,
           2.532749473313561,
           2.4990992554381157,
           2.5141917304273176,
           2.36792773939797,
           2.4285438271908766,
           2.4639406655309735,
           2.3625310078023998
          ],
          [
           1,
           2.808217664161654,
           2.6949577253359465,
           2.711887551737108,
           2.5649993485715314,
           2.5809723910506492,
           2.6256816136586756,
           2.7086047799742983,
           2.589728070647363,
           2.632554167813184,
           2.5796701288620785,
           2.4378810769201875
          ],
          [
           1,
           3.0514098046907634,
           2.9220865263975213,
           2.939897415636278,
           2.866427167639637,
           2.667668853983164,
           2.595473300605421,
           2.4306642686072752,
           2.3911643028505343,
           2.320017428021488,
           2.3303760231697663,
           2.210627705738872
          ]
         ],
         "zmax": 3,
         "zmin": 1
        },
        {
         "line": {
          "color": "cadetblue"
         },
         "mode": "lines",
         "name": "SST-2",
         "showlegend": false,
         "type": "scatter",
         "x": [
          0,
          200,
          400,
          600,
          800,
          1000,
          1200,
          1400,
          1600,
          1800,
          2000,
          2200,
          2400
         ],
         "xaxis": "x3",
         "y": [
          0.7042644162178039,
          0.3626221915880839,
          0.28486873976389565,
          0.28559011467297873,
          0.2832157456080118,
          0.2714623085657756,
          0.27127600979804994,
          0.275497590859731,
          0.3036944132645925,
          0.3318792916138967,
          0.28723838432629906,
          0.2980251626968384,
          0.31121754066149393
         ],
         "yaxis": "y3"
        },
        {
         "line": {
          "color": "coral"
         },
         "mode": "lines",
         "name": "MRPC",
         "showlegend": false,
         "type": "scatter",
         "x": [
          0,
          200,
          400,
          600,
          800,
          1000,
          1200,
          1400,
          1600,
          1800,
          2000,
          2200,
          2400
         ],
         "xaxis": "x3",
         "y": [
          0.7914901597827089,
          0.6034184515086655,
          0.5171032684301239,
          0.4854103954009761,
          0.439868555739035,
          0.42842945592855314,
          0.45271292426227744,
          0.45295073861390156,
          0.4806417854003657,
          0.4835446644452663,
          0.4741913890526965,
          0.4709935445411533,
          0.5015209589908326
         ],
         "yaxis": "y3"
        },
        {
         "line": {
          "color": "olive"
         },
         "mode": "lines",
         "name": "RTE",
         "showlegend": false,
         "type": "scatter",
         "x": [
          0,
          200,
          400,
          600,
          800,
          1000,
          1200,
          1400,
          1600,
          1800,
          2000,
          2200,
          2400
         ],
         "xaxis": "x3",
         "y": [
          0.7068585718887439,
          0.6851960918753619,
          0.6437489157137664,
          0.6443684057912965,
          0.6430778569645352,
          0.6744997268137723,
          0.712660220798087,
          0.7512664506976732,
          0.8033173694702738,
          0.8358739280470328,
          0.8960612542963258,
          0.9097178106146734,
          0.9438736372523838
         ],
         "yaxis": "y3"
        },
        {
         "line": {
          "color": "purple"
         },
         "mode": "lines",
         "name": "Aggregate",
         "showlegend": false,
         "type": "scatter",
         "x": [
          0,
          200,
          400,
          600,
          800,
          1000,
          1200,
          1400,
          1600,
          1800,
          2000,
          2200,
          2400
         ],
         "xaxis": "x3",
         "y": [
          0.717790530353296,
          0.43239688254444975,
          0.35707537771396475,
          0.3528589234977472,
          0.3440340352011035,
          0.3367681668222809,
          0.3442448262426904,
          0.35139665553893135,
          0.38196954878775324,
          0.40676080866708014,
          0.37826369656180486,
          0.38721974936517034,
          0.40520296440868314
         ],
         "yaxis": "y3"
        },
        {
         "marker": {
          "color": [
           "cadetblue",
           "coral",
           "olive",
           "purple"
          ],
          "size": 9
         },
         "mode": "markers",
         "name": "sampling-smoothed-r=0.5 minimum",
         "showlegend": false,
         "type": "scatter",
         "x": [
          1200,
          1000,
          800,
          1000
         ],
         "xaxis": "x3",
         "y": [
          0.27127600979804994,
          0.42842945592855314,
          0.6430778569645352,
          0.3367681668222809
         ],
         "yaxis": "y3"
        },
        {
         "line": {
          "color": "purple",
          "dash": "dash"
         },
         "mode": "lines",
         "showlegend": false,
         "type": "scatter",
         "x": [
          1000,
          1000
         ],
         "xaxis": "x3",
         "y": [
          0.2,
          0.9
         ],
         "yaxis": "y3"
        },
        {
         "colorbar": {
          "len": 0.5,
          "title": {
           "text": "Probability"
          },
          "yanchor": "middle"
         },
         "colorscale": [
          [
           0,
           "rgb(247,251,255)"
          ],
          [
           0.125,
           "rgb(222,235,247)"
          ],
          [
           0.25,
           "rgb(198,219,239)"
          ],
          [
           0.375,
           "rgb(158,202,225)"
          ],
          [
           0.5,
           "rgb(107,174,214)"
          ],
          [
           0.625,
           "rgb(66,146,198)"
          ],
          [
           0.75,
           "rgb(33,113,181)"
          ],
          [
           0.875,
           "rgb(8,81,156)"
          ],
          [
           1,
           "rgb(8,48,107)"
          ]
         ],
         "hoverongaps": false,
         "type": "heatmap",
         "x": [
          0,
          200,
          400,
          600,
          800,
          1000,
          1200,
          1400,
          1600,
          1800,
          2000,
          2200,
          2400
         ],
         "xaxis": "x6",
         "xgap": 1,
         "y": [
          "SST-2",
          "MRPC",
          "RTE"
         ],
         "yaxis": "y6",
         "ygap": 1,
         "z": [
          [
           0.3333333333333333,
           0.27302850015613744,
           0.2911810308625855,
           0.2911810308625855,
           0.3109624990986203,
           0.33109748141825207,
           0.33109748141825207,
           0.3410879631690855,
           0.3540135215940421,
           0.3540135215940421,
           0.35276323440085033,
           0.35805877027131067
          ],
          [
           0.3333333333333333,
           0.3450071260908629,
           0.3308154653574977,
           0.3308154653574977,
           0.3289016988908336,
           0.3287608668541605,
           0.3287608668541605,
           0.3397898715193792,
           0.34694698966996174,
           0.34694698966996174,
           0.36744511911255107,
           0.36654539395821295
          ],
          [
           0.3333333333333333,
           0.3819643737529996,
           0.3780035037799168,
           0.3780035037799168,
           0.36013580201054607,
           0.34014165172758737,
           0.34014165172758737,
           0.31912216531153526,
           0.2990394887359962,
           0.2990394887359962,
           0.27979164648659854,
           0.2753958357704765
          ]
         ],
         "zmax": 0.57,
         "zmin": 0.17
        },
        {
         "colorbar": {
          "len": 0.5,
          "title": {
           "text": "Uncertainty"
          },
          "y": 0
         },
         "colorscale": [
          [
           0,
           "rgb(255,245,240)"
          ],
          [
           0.125,
           "rgb(254,224,210)"
          ],
          [
           0.25,
           "rgb(252,187,161)"
          ],
          [
           0.375,
           "rgb(252,146,114)"
          ],
          [
           0.5,
           "rgb(251,106,74)"
          ],
          [
           0.625,
           "rgb(239,59,44)"
          ],
          [
           0.75,
           "rgb(203,24,29)"
          ],
          [
           0.875,
           "rgb(165,15,21)"
          ],
          [
           1,
           "rgb(103,0,13)"
          ]
         ],
         "hoverongaps": false,
         "type": "heatmap",
         "x": [
          0,
          200,
          400,
          600,
          800,
          1000,
          1200,
          1400,
          1600,
          1800,
          2000,
          2200,
          2400
         ],
         "xaxis": "x9",
         "xgap": 1,
         "y": [
          "SST-2",
          "MRPC",
          "RTE"
         ],
         "yaxis": "y9",
         "ygap": 1,
         "z": [
          [
           1,
           2.2989702005099146,
           2.5781984119835557,
           2.409726614894685,
           2.494491863879817,
           2.5618685641005126,
           2.5828692628540444,
           2.4159103573136687,
           2.417348740913585,
           2.46021178028384,
           2.460867237588485,
           2.4448607377743414
          ],
          [
           1,
           2.828041016877125,
           2.5766948205435827,
           2.6084831031987243,
           2.5179286746614484,
           2.464949854841299,
           2.4366859423054414,
           2.4682162697518115,
           2.466876350269143,
           2.586457849766532,
           2.681184092795155,
           2.5519061058179386
          ],
          [
           1,
           3.107245747230761,
           3.0226985999647638,
           2.9465504618330627,
           2.56577894997252,
           2.3189053761724536,
           2.219997764147356,
           2.0312184080837614,
           1.8805298179985976,
           1.8485336679940145,
           1.828467870816877,
           1.8546412271325305
          ]
         ],
         "zmax": 3,
         "zmin": 1
        }
       ],
       "layout": {
        "annotations": [
         {
          "font": {
           "size": 16
          },
          "showarrow": false,
          "text": "(a) Uniform Sampling\n(baseline)",
          "x": 0.14444444444444446,
          "xanchor": "center",
          "xref": "paper",
          "y": 1,
          "yanchor": "bottom",
          "yref": "paper"
         },
         {
          "font": {
           "size": 16
          },
          "showarrow": false,
          "text": "(b) Union Sampling\n(baseline)",
          "x": 0.5,
          "xanchor": "center",
          "xref": "paper",
          "y": 1,
          "yanchor": "bottom",
          "yref": "paper"
         },
         {
          "font": {
           "size": 16
          },
          "showarrow": false,
          "text": "(c) Uncertainty-based\nActive Sampling",
          "x": 0.8555555555555556,
          "xanchor": "center",
          "xref": "paper",
          "y": 1,
          "yanchor": "bottom",
          "yref": "paper"
         },
         {
          "font": {
           "size": 16
          },
          "showarrow": false,
          "text": "Number of iterations",
          "x": 0.5,
          "xanchor": "center",
          "xref": "paper",
          "y": 0,
          "yanchor": "top",
          "yref": "paper",
          "yshift": -30
         }
        ],
        "template": {
         "data": {
          "bar": [
           {
            "error_x": {
             "color": "#2a3f5f"
            },
            "error_y": {
             "color": "#2a3f5f"
            },
            "marker": {
             "line": {
              "color": "#E5ECF6",
              "width": 0.5
             }
            },
            "type": "bar"
           }
          ],
          "barpolar": [
           {
            "marker": {
             "line": {
              "color": "#E5ECF6",
              "width": 0.5
             }
            },
            "type": "barpolar"
           }
          ],
          "carpet": [
           {
            "aaxis": {
             "endlinecolor": "#2a3f5f",
             "gridcolor": "white",
             "linecolor": "white",
             "minorgridcolor": "white",
             "startlinecolor": "#2a3f5f"
            },
            "baxis": {
             "endlinecolor": "#2a3f5f",
             "gridcolor": "white",
             "linecolor": "white",
             "minorgridcolor": "white",
             "startlinecolor": "#2a3f5f"
            },
            "type": "carpet"
           }
          ],
          "choropleth": [
           {
            "colorbar": {
             "outlinewidth": 0,
             "ticks": ""
            },
            "type": "choropleth"
           }
          ],
          "contour": [
           {
            "colorbar": {
             "outlinewidth": 0,
             "ticks": ""
            },
            "colorscale": [
             [
              0,
              "#0d0887"
             ],
             [
              0.1111111111111111,
              "#46039f"
             ],
             [
              0.2222222222222222,
              "#7201a8"
             ],
             [
              0.3333333333333333,
              "#9c179e"
             ],
             [
              0.4444444444444444,
              "#bd3786"
             ],
             [
              0.5555555555555556,
              "#d8576b"
             ],
             [
              0.6666666666666666,
              "#ed7953"
             ],
             [
              0.7777777777777778,
              "#fb9f3a"
             ],
             [
              0.8888888888888888,
              "#fdca26"
             ],
             [
              1,
              "#f0f921"
             ]
            ],
            "type": "contour"
           }
          ],
          "contourcarpet": [
           {
            "colorbar": {
             "outlinewidth": 0,
             "ticks": ""
            },
            "type": "contourcarpet"
           }
          ],
          "heatmap": [
           {
            "colorbar": {
             "outlinewidth": 0,
             "ticks": ""
            },
            "colorscale": [
             [
              0,
              "#0d0887"
             ],
             [
              0.1111111111111111,
              "#46039f"
             ],
             [
              0.2222222222222222,
              "#7201a8"
             ],
             [
              0.3333333333333333,
              "#9c179e"
             ],
             [
              0.4444444444444444,
              "#bd3786"
             ],
             [
              0.5555555555555556,
              "#d8576b"
             ],
             [
              0.6666666666666666,
              "#ed7953"
             ],
             [
              0.7777777777777778,
              "#fb9f3a"
             ],
             [
              0.8888888888888888,
              "#fdca26"
             ],
             [
              1,
              "#f0f921"
             ]
            ],
            "type": "heatmap"
           }
          ],
          "heatmapgl": [
           {
            "colorbar": {
             "outlinewidth": 0,
             "ticks": ""
            },
            "colorscale": [
             [
              0,
              "#0d0887"
             ],
             [
              0.1111111111111111,
              "#46039f"
             ],
             [
              0.2222222222222222,
              "#7201a8"
             ],
             [
              0.3333333333333333,
              "#9c179e"
             ],
             [
              0.4444444444444444,
              "#bd3786"
             ],
             [
              0.5555555555555556,
              "#d8576b"
             ],
             [
              0.6666666666666666,
              "#ed7953"
             ],
             [
              0.7777777777777778,
              "#fb9f3a"
             ],
             [
              0.8888888888888888,
              "#fdca26"
             ],
             [
              1,
              "#f0f921"
             ]
            ],
            "type": "heatmapgl"
           }
          ],
          "histogram": [
           {
            "marker": {
             "colorbar": {
              "outlinewidth": 0,
              "ticks": ""
             }
            },
            "type": "histogram"
           }
          ],
          "histogram2d": [
           {
            "colorbar": {
             "outlinewidth": 0,
             "ticks": ""
            },
            "colorscale": [
             [
              0,
              "#0d0887"
             ],
             [
              0.1111111111111111,
              "#46039f"
             ],
             [
              0.2222222222222222,
              "#7201a8"
             ],
             [
              0.3333333333333333,
              "#9c179e"
             ],
             [
              0.4444444444444444,
              "#bd3786"
             ],
             [
              0.5555555555555556,
              "#d8576b"
             ],
             [
              0.6666666666666666,
              "#ed7953"
             ],
             [
              0.7777777777777778,
              "#fb9f3a"
             ],
             [
              0.8888888888888888,
              "#fdca26"
             ],
             [
              1,
              "#f0f921"
             ]
            ],
            "type": "histogram2d"
           }
          ],
          "histogram2dcontour": [
           {
            "colorbar": {
             "outlinewidth": 0,
             "ticks": ""
            },
            "colorscale": [
             [
              0,
              "#0d0887"
             ],
             [
              0.1111111111111111,
              "#46039f"
             ],
             [
              0.2222222222222222,
              "#7201a8"
             ],
             [
              0.3333333333333333,
              "#9c179e"
             ],
             [
              0.4444444444444444,
              "#bd3786"
             ],
             [
              0.5555555555555556,
              "#d8576b"
             ],
             [
              0.6666666666666666,
              "#ed7953"
             ],
             [
              0.7777777777777778,
              "#fb9f3a"
             ],
             [
              0.8888888888888888,
              "#fdca26"
             ],
             [
              1,
              "#f0f921"
             ]
            ],
            "type": "histogram2dcontour"
           }
          ],
          "mesh3d": [
           {
            "colorbar": {
             "outlinewidth": 0,
             "ticks": ""
            },
            "type": "mesh3d"
           }
          ],
          "parcoords": [
           {
            "line": {
             "colorbar": {
              "outlinewidth": 0,
              "ticks": ""
             }
            },
            "type": "parcoords"
           }
          ],
          "pie": [
           {
            "automargin": true,
            "type": "pie"
           }
          ],
          "scatter": [
           {
            "marker": {
             "colorbar": {
              "outlinewidth": 0,
              "ticks": ""
             }
            },
            "type": "scatter"
           }
          ],
          "scatter3d": [
           {
            "line": {
             "colorbar": {
              "outlinewidth": 0,
              "ticks": ""
             }
            },
            "marker": {
             "colorbar": {
              "outlinewidth": 0,
              "ticks": ""
             }
            },
            "type": "scatter3d"
           }
          ],
          "scattercarpet": [
           {
            "marker": {
             "colorbar": {
              "outlinewidth": 0,
              "ticks": ""
             }
            },
            "type": "scattercarpet"
           }
          ],
          "scattergeo": [
           {
            "marker": {
             "colorbar": {
              "outlinewidth": 0,
              "ticks": ""
             }
            },
            "type": "scattergeo"
           }
          ],
          "scattergl": [
           {
            "marker": {
             "colorbar": {
              "outlinewidth": 0,
              "ticks": ""
             }
            },
            "type": "scattergl"
           }
          ],
          "scattermapbox": [
           {
            "marker": {
             "colorbar": {
              "outlinewidth": 0,
              "ticks": ""
             }
            },
            "type": "scattermapbox"
           }
          ],
          "scatterpolar": [
           {
            "marker": {
             "colorbar": {
              "outlinewidth": 0,
              "ticks": ""
             }
            },
            "type": "scatterpolar"
           }
          ],
          "scatterpolargl": [
           {
            "marker": {
             "colorbar": {
              "outlinewidth": 0,
              "ticks": ""
             }
            },
            "type": "scatterpolargl"
           }
          ],
          "scatterternary": [
           {
            "marker": {
             "colorbar": {
              "outlinewidth": 0,
              "ticks": ""
             }
            },
            "type": "scatterternary"
           }
          ],
          "surface": [
           {
            "colorbar": {
             "outlinewidth": 0,
             "ticks": ""
            },
            "colorscale": [
             [
              0,
              "#0d0887"
             ],
             [
              0.1111111111111111,
              "#46039f"
             ],
             [
              0.2222222222222222,
              "#7201a8"
             ],
             [
              0.3333333333333333,
              "#9c179e"
             ],
             [
              0.4444444444444444,
              "#bd3786"
             ],
             [
              0.5555555555555556,
              "#d8576b"
             ],
             [
              0.6666666666666666,
              "#ed7953"
             ],
             [
              0.7777777777777778,
              "#fb9f3a"
             ],
             [
              0.8888888888888888,
              "#fdca26"
             ],
             [
              1,
              "#f0f921"
             ]
            ],
            "type": "surface"
           }
          ],
          "table": [
           {
            "cells": {
             "fill": {
              "color": "#EBF0F8"
             },
             "line": {
              "color": "white"
             }
            },
            "header": {
             "fill": {
              "color": "#C8D4E3"
             },
             "line": {
              "color": "white"
             }
            },
            "type": "table"
           }
          ]
         },
         "layout": {
          "annotationdefaults": {
           "arrowcolor": "#2a3f5f",
           "arrowhead": 0,
           "arrowwidth": 1
          },
          "coloraxis": {
           "colorbar": {
            "outlinewidth": 0,
            "ticks": ""
           }
          },
          "colorscale": {
           "diverging": [
            [
             0,
             "#8e0152"
            ],
            [
             0.1,
             "#c51b7d"
            ],
            [
             0.2,
             "#de77ae"
            ],
            [
             0.3,
             "#f1b6da"
            ],
            [
             0.4,
             "#fde0ef"
            ],
            [
             0.5,
             "#f7f7f7"
            ],
            [
             0.6,
             "#e6f5d0"
            ],
            [
             0.7,
             "#b8e186"
            ],
            [
             0.8,
             "#7fbc41"
            ],
            [
             0.9,
             "#4d9221"
            ],
            [
             1,
             "#276419"
            ]
           ],
           "sequential": [
            [
             0,
             "#0d0887"
            ],
            [
             0.1111111111111111,
             "#46039f"
            ],
            [
             0.2222222222222222,
             "#7201a8"
            ],
            [
             0.3333333333333333,
             "#9c179e"
            ],
            [
             0.4444444444444444,
             "#bd3786"
            ],
            [
             0.5555555555555556,
             "#d8576b"
            ],
            [
             0.6666666666666666,
             "#ed7953"
            ],
            [
             0.7777777777777778,
             "#fb9f3a"
            ],
            [
             0.8888888888888888,
             "#fdca26"
            ],
            [
             1,
             "#f0f921"
            ]
           ],
           "sequentialminus": [
            [
             0,
             "#0d0887"
            ],
            [
             0.1111111111111111,
             "#46039f"
            ],
            [
             0.2222222222222222,
             "#7201a8"
            ],
            [
             0.3333333333333333,
             "#9c179e"
            ],
            [
             0.4444444444444444,
             "#bd3786"
            ],
            [
             0.5555555555555556,
             "#d8576b"
            ],
            [
             0.6666666666666666,
             "#ed7953"
            ],
            [
             0.7777777777777778,
             "#fb9f3a"
            ],
            [
             0.8888888888888888,
             "#fdca26"
            ],
            [
             1,
             "#f0f921"
            ]
           ]
          },
          "colorway": [
           "#636efa",
           "#EF553B",
           "#00cc96",
           "#ab63fa",
           "#FFA15A",
           "#19d3f3",
           "#FF6692",
           "#B6E880",
           "#FF97FF",
           "#FECB52"
          ],
          "font": {
           "color": "#2a3f5f"
          },
          "geo": {
           "bgcolor": "white",
           "lakecolor": "white",
           "landcolor": "#E5ECF6",
           "showlakes": true,
           "showland": true,
           "subunitcolor": "white"
          },
          "hoverlabel": {
           "align": "left"
          },
          "hovermode": "closest",
          "mapbox": {
           "style": "light"
          },
          "paper_bgcolor": "white",
          "plot_bgcolor": "#E5ECF6",
          "polar": {
           "angularaxis": {
            "gridcolor": "white",
            "linecolor": "white",
            "ticks": ""
           },
           "bgcolor": "#E5ECF6",
           "radialaxis": {
            "gridcolor": "white",
            "linecolor": "white",
            "ticks": ""
           }
          },
          "scene": {
           "xaxis": {
            "backgroundcolor": "#E5ECF6",
            "gridcolor": "white",
            "gridwidth": 2,
            "linecolor": "white",
            "showbackground": true,
            "ticks": "",
            "zerolinecolor": "white"
           },
           "yaxis": {
            "backgroundcolor": "#E5ECF6",
            "gridcolor": "white",
            "gridwidth": 2,
            "linecolor": "white",
            "showbackground": true,
            "ticks": "",
            "zerolinecolor": "white"
           },
           "zaxis": {
            "backgroundcolor": "#E5ECF6",
            "gridcolor": "white",
            "gridwidth": 2,
            "linecolor": "white",
            "showbackground": true,
            "ticks": "",
            "zerolinecolor": "white"
           }
          },
          "shapedefaults": {
           "line": {
            "color": "#2a3f5f"
           }
          },
          "ternary": {
           "aaxis": {
            "gridcolor": "white",
            "linecolor": "white",
            "ticks": ""
           },
           "baxis": {
            "gridcolor": "white",
            "linecolor": "white",
            "ticks": ""
           },
           "bgcolor": "#E5ECF6",
           "caxis": {
            "gridcolor": "white",
            "linecolor": "white",
            "ticks": ""
           }
          },
          "title": {
           "x": 0.05
          },
          "xaxis": {
           "automargin": true,
           "gridcolor": "white",
           "linecolor": "white",
           "ticks": "",
           "title": {
            "standoff": 15
           },
           "zerolinecolor": "white",
           "zerolinewidth": 2
          },
          "yaxis": {
           "automargin": true,
           "gridcolor": "white",
           "linecolor": "white",
           "ticks": "",
           "title": {
            "standoff": 15
           },
           "zerolinecolor": "white",
           "zerolinewidth": 2
          }
         }
        },
        "xaxis": {
         "anchor": "y",
         "domain": [
          0,
          0.2888888888888889
         ],
         "matches": "x7",
         "nticks": 20,
         "showticklabels": false
        },
        "xaxis2": {
         "anchor": "y2",
         "domain": [
          0.35555555555555557,
          0.6444444444444445
         ],
         "matches": "x8",
         "nticks": 20,
         "showticklabels": false
        },
        "xaxis3": {
         "anchor": "y3",
         "domain": [
          0.7111111111111111,
          1
         ],
         "matches": "x9",
         "nticks": 20,
         "showticklabels": false
        },
        "xaxis4": {
         "anchor": "y4",
         "domain": [
          0,
          0.2888888888888889
         ],
         "matches": "x7",
         "nticks": 20,
         "showticklabels": false
        },
        "xaxis5": {
         "anchor": "y5",
         "domain": [
          0.35555555555555557,
          0.6444444444444445
         ],
         "matches": "x8",
         "nticks": 20,
         "showticklabels": false
        },
        "xaxis6": {
         "anchor": "y6",
         "domain": [
          0.7111111111111111,
          1
         ],
         "matches": "x9",
         "nticks": 20,
         "showticklabels": false
        },
        "xaxis7": {
         "anchor": "y7",
         "domain": [
          0,
          0.2888888888888889
         ],
         "nticks": 20
        },
        "xaxis8": {
         "anchor": "y8",
         "domain": [
          0.35555555555555557,
          0.6444444444444445
         ],
         "nticks": 20
        },
        "xaxis9": {
         "anchor": "y9",
         "domain": [
          0.7111111111111111,
          1
         ],
         "nticks": 20
        },
        "yaxis": {
         "anchor": "x",
         "domain": [
          0.6,
          1
         ]
        },
        "yaxis2": {
         "anchor": "x2",
         "domain": [
          0.6,
          1
         ]
        },
        "yaxis3": {
         "anchor": "x3",
         "domain": [
          0.6,
          1
         ]
        },
        "yaxis4": {
         "anchor": "x4",
         "domain": [
          0.3,
          0.5
         ]
        },
        "yaxis5": {
         "anchor": "x5",
         "domain": [
          0.3,
          0.5
         ]
        },
        "yaxis6": {
         "anchor": "x6",
         "domain": [
          0.3,
          0.5
         ]
        },
        "yaxis7": {
         "anchor": "x7",
         "domain": [
          0,
          0.2
         ]
        },
        "yaxis8": {
         "anchor": "x8",
         "domain": [
          0,
          0.2
         ]
        },
        "yaxis9": {
         "anchor": "x9",
         "domain": [
          0,
          0.2
         ]
        }
       }
      },
      "text/html": [
       "<div>                            <div id=\"d05d8015-5f7b-4994-868d-4f68ae4d9935\" class=\"plotly-graph-div\" style=\"height:525px; width:100%;\"></div>            <script type=\"text/javascript\">                require([\"plotly\"], function(Plotly) {                    window.PLOTLYENV=window.PLOTLYENV || {};                                    if (document.getElementById(\"d05d8015-5f7b-4994-868d-4f68ae4d9935\")) {                    Plotly.newPlot(                        \"d05d8015-5f7b-4994-868d-4f68ae4d9935\",                        [{\"line\": {\"color\": \"cadetblue\"}, \"mode\": \"lines\", \"name\": \"SST-2\", \"showlegend\": true, \"type\": \"scatter\", \"x\": [0, 200, 400, 600, 800, 1000, 1200, 1400, 1600, 1800, 2000, 2200, 2400], \"xaxis\": \"x\", \"y\": [0.7031279565493266, 0.39968244043986, 0.34507396356264747, 0.29914427097638446, 0.2713746514320374, 0.2907987481753031, 0.27341954374313354, 0.2970819168090821, 0.34754425573349, 0.29002340300877893, 0.2866134435335795, 0.30178449551264447, 0.3083347722689311], \"yaxis\": \"y\"}, {\"line\": {\"color\": \"coral\"}, \"mode\": \"lines\", \"name\": \"MRPC\", \"showlegend\": true, \"type\": \"scatter\", \"x\": [0, 200, 400, 600, 800, 1000, 1200, 1400, 1600, 1800, 2000, 2200, 2400], \"xaxis\": \"x\", \"y\": [0.7541006203570397, 0.6050847231173048, 0.49991016878801237, 0.4929188895069696, 0.4376709979344038, 0.4181058743810342, 0.4259687056338865, 0.420149980417264, 0.4201597910301358, 0.44174904254526876, 0.4389984218123692, 0.45374715873618526, 0.4890082521376267], \"yaxis\": \"y\"}, {\"line\": {\"color\": \"olive\"}, \"mode\": \"lines\", \"name\": \"RTE\", \"showlegend\": true, \"type\": \"scatter\", \"x\": [0, 200, 400, 600, 800, 1000, 1200, 1400, 1600, 1800, 2000, 2200, 2400], \"xaxis\": \"x\", \"y\": [0.8744205826722481, 0.6919826182766237, 0.6744714816987226, 0.6676494723932755, 0.6682564034554117, 0.672135336243588, 0.6801760625724055, 0.734402755032415, 0.7670578773758837, 0.8048891592140935, 0.855415911346242, 0.8932780891224957, 0.909717555783221], \"yaxis\": \"y\"}, {\"line\": {\"color\": \"purple\"}, \"mode\": \"lines\", \"name\": \"Aggregate\", \"showlegend\": true, \"type\": \"scatter\", \"x\": [0, 200, 400, 600, 800, 1000, 1200, 1400, 1600, 1800, 2000, 2200, 2400], \"xaxis\": \"x\", \"y\": [0.7284907030632883, 0.46096372971532357, 0.4024833848508389, 0.3664943007645889, 0.33746566221125374, 0.34936439862194435, 0.3384362565778229, 0.36076012891853737, 0.40172193754210855, 0.3660319759013104, 0.36826864183985414, 0.3857088615452538, 0.39764044590394293], \"yaxis\": \"y\"}, {\"marker\": {\"color\": [\"cadetblue\", \"coral\", \"olive\", \"purple\"], \"size\": 9}, \"mode\": \"markers\", \"name\": \"baseline-uniform minimum\", \"showlegend\": false, \"type\": \"scatter\", \"x\": [800, 1000, 600, 800], \"xaxis\": \"x\", \"y\": [0.2713746514320374, 0.4181058743810342, 0.6676494723932755, 0.33746566221125374], \"yaxis\": \"y\"}, {\"line\": {\"color\": \"purple\", \"dash\": \"dash\"}, \"mode\": \"lines\", \"showlegend\": false, \"type\": \"scatter\", \"x\": [800, 800], \"xaxis\": \"x\", \"y\": [0.2, 0.9], \"yaxis\": \"y\"}, {\"colorbar\": {\"len\": 0.5, \"title\": {\"text\": \"Probability\"}, \"yanchor\": \"middle\"}, \"colorscale\": [[0.0, \"rgb(247,251,255)\"], [0.125, \"rgb(222,235,247)\"], [0.25, \"rgb(198,219,239)\"], [0.375, \"rgb(158,202,225)\"], [0.5, \"rgb(107,174,214)\"], [0.625, \"rgb(66,146,198)\"], [0.75, \"rgb(33,113,181)\"], [0.875, \"rgb(8,81,156)\"], [1.0, \"rgb(8,48,107)\"]], \"hoverongaps\": false, \"type\": \"heatmap\", \"x\": [0, 200, 400, 600, 800, 1000, 1200, 1400, 1600, 1800, 2000, 2200, 2400], \"xaxis\": \"x4\", \"xgap\": 1, \"y\": [\"SST-2\", \"MRPC\", \"RTE\"], \"yaxis\": \"y4\", \"ygap\": 1, \"z\": [[0.3333333333333333, 0.3333333333333333, 0.3333333333333333, 0.3333333333333333, 0.3333333333333333, 0.3333333333333333, 0.3333333333333333, 0.3333333333333333, 0.3333333333333333, 0.3333333333333333, 0.3333333333333333, 0.3333333333333333], [0.3333333333333333, 0.3333333333333333, 0.3333333333333333, 0.3333333333333333, 0.3333333333333333, 0.3333333333333333, 0.3333333333333333, 0.3333333333333333, 0.3333333333333333, 0.3333333333333333, 0.3333333333333333, 0.3333333333333333], [0.3333333333333333, 0.3333333333333333, 0.3333333333333333, 0.3333333333333333, 0.3333333333333333, 0.3333333333333333, 0.3333333333333333, 0.3333333333333333, 0.3333333333333333, 0.3333333333333333, 0.3333333333333333, 0.3333333333333333]], \"zmax\": 0.57, \"zmin\": 0.17}, {\"colorbar\": {\"len\": 0.5, \"title\": {\"text\": \"Uncertainty\"}, \"y\": 0}, \"colorscale\": [[0.0, \"rgb(255,245,240)\"], [0.125, \"rgb(254,224,210)\"], [0.25, \"rgb(252,187,161)\"], [0.375, \"rgb(252,146,114)\"], [0.5, \"rgb(251,106,74)\"], [0.625, \"rgb(239,59,44)\"], [0.75, \"rgb(203,24,29)\"], [0.875, \"rgb(165,15,21)\"], [1.0, \"rgb(103,0,13)\"]], \"hoverongaps\": false, \"type\": \"heatmap\", \"x\": [0, 200, 400, 600, 800, 1000, 1200, 1400, 1600, 1800, 2000, 2200, 2400], \"xaxis\": \"x7\", \"xgap\": 1, \"y\": [\"SST-2\", \"MRPC\", \"RTE\"], \"yaxis\": \"y7\", \"ygap\": 1, \"z\": [[1, 2.324225913630571, 2.2580450363256146, 2.243343153147467, 2.3727501064903684, 2.3772917397657545, 2.29601667624849, 2.3602549419946928, 2.2333193917164467, 2.251005590602776, 2.275858621222859, 2.3940923284570483], [1, 2.8663703514952137, 2.6230941951788402, 2.645328555470522, 2.693205299586468, 2.508700713494204, 2.5337262320241876, 2.4005416342485675, 2.472559530348964, 2.5438924397667364, 2.2630042278039273, 2.46514548025337], [1, 3.0561410179978226, 2.9445493029245857, 2.902159310133259, 2.6141228355941735, 2.482875286717, 2.255579634814163, 2.0486995347953343, 2.0505460469013292, 2.056309072071953, 2.2459297389324386, 2.023211963250896]], \"zmax\": 3, \"zmin\": 1}, {\"line\": {\"color\": \"cadetblue\"}, \"mode\": \"lines\", \"name\": \"SST-2\", \"showlegend\": false, \"type\": \"scatter\", \"x\": [0, 200, 400, 600, 800, 1000, 1200, 1400, 1600, 1800, 2000, 2200, 2400], \"xaxis\": \"x2\", \"y\": [0.7154159838358561, 0.3698923625946045, 0.2748917320569356, 0.2636128536860148, 0.27141850733757017, 0.29564742930730187, 0.27692437521616614, 0.2874917896588643, 0.3141952645778656, 0.32383961995442706, 0.33410895403226215, 0.3763222194512685, 0.34378941090901693], \"yaxis\": \"y2\"}, {\"line\": {\"color\": \"coral\"}, \"mode\": \"lines\", \"name\": \"MRPC\", \"showlegend\": false, \"type\": \"scatter\", \"x\": [0, 200, 400, 600, 800, 1000, 1200, 1400, 1600, 1800, 2000, 2200, 2400], \"xaxis\": \"x2\", \"y\": [0.7601930686071806, 0.6049534620023241, 0.5186429506813, 0.5104743390301474, 0.4792606448815539, 0.42499404171713034, 0.4184640244720808, 0.4229019627072453, 0.4373878314604167, 0.40176206359676286, 0.4230467236899083, 0.44336409155839407, 0.4116537944943297], \"yaxis\": \"y2\"}, {\"line\": {\"color\": \"olive\"}, \"mode\": \"lines\", \"name\": \"RTE\", \"showlegend\": false, \"type\": \"scatter\", \"x\": [0, 200, 400, 600, 800, 1000, 1200, 1400, 1600, 1800, 2000, 2200, 2400], \"xaxis\": \"x2\", \"y\": [0.8846864827013246, 0.6988496305286022, 0.679735083222965, 0.6726946695415293, 0.6475531634501213, 0.6432038801879698, 0.6454604420684963, 0.6389657293540845, 0.6518002005590908, 0.6522370774100944, 0.6442368037746724, 0.6642477158187092, 0.6727029871249544], \"yaxis\": \"y2\"}, {\"line\": {\"color\": \"purple\"}, \"mode\": \"lines\", \"name\": \"Aggregate\", \"showlegend\": false, \"type\": \"scatter\", \"x\": [0, 200, 400, 600, 800, 1000, 1200, 1400, 1600, 1800, 2000, 2200, 2400], \"xaxis\": \"x2\", \"y\": [0.7396289898990341, 0.4394516526497956, 0.35357551079038, 0.3432052781258539, 0.3416915167284083, 0.3510494405987603, 0.33633724084495026, 0.3442183760819717, 0.36763845743140466, 0.369454394642891, 0.37951949671081087, 0.41612122124602297, 0.38792831386669446], \"yaxis\": \"y2\"}, {\"marker\": {\"color\": [\"cadetblue\", \"coral\", \"olive\", \"purple\"], \"size\": 9}, \"mode\": \"markers\", \"name\": \"baseline-data-dist minimum\", \"showlegend\": false, \"type\": \"scatter\", \"x\": [600, 1800, 1400, 1200], \"xaxis\": \"x2\", \"y\": [0.2636128536860148, 0.40176206359676286, 0.6389657293540845, 0.33633724084495026], \"yaxis\": \"y2\"}, {\"line\": {\"color\": \"purple\", \"dash\": \"dash\"}, \"mode\": \"lines\", \"showlegend\": false, \"type\": \"scatter\", \"x\": [1200, 1200], \"xaxis\": \"x2\", \"y\": [0.2, 0.9], \"yaxis\": \"y2\"}, {\"colorbar\": {\"len\": 0.5, \"title\": {\"text\": \"Probability\"}, \"yanchor\": \"middle\"}, \"colorscale\": [[0.0, \"rgb(247,251,255)\"], [0.125, \"rgb(222,235,247)\"], [0.25, \"rgb(198,219,239)\"], [0.375, \"rgb(158,202,225)\"], [0.5, \"rgb(107,174,214)\"], [0.625, \"rgb(66,146,198)\"], [0.75, \"rgb(33,113,181)\"], [0.875, \"rgb(8,81,156)\"], [1.0, \"rgb(8,48,107)\"]], \"hoverongaps\": false, \"type\": \"heatmap\", \"x\": [0, 200, 400, 600, 800, 1000, 1200, 1400, 1600, 1800, 2000, 2200, 2400], \"xaxis\": \"x5\", \"xgap\": 1, \"y\": [\"SST-2\", \"MRPC\", \"RTE\"], \"yaxis\": \"y5\", \"ygap\": 1, \"z\": [[0.5650515609549371, 0.5650515609549371, 0.5650515609549371, 0.5650515609549371, 0.5650515609549371, 0.5650515609549371, 0.5650515609549371, 0.5650515609549371, 0.5650515609549371, 0.5650515609549371, 0.5650515609549371, 0.5650515609549371], [0.2590761406978387, 0.2590761406978387, 0.2590761406978387, 0.2590761406978387, 0.2590761406978387, 0.2590761406978387, 0.2590761406978387, 0.2590761406978387, 0.2590761406978387, 0.2590761406978387, 0.2590761406978387, 0.2590761406978387], [0.17587229834722418, 0.17587229834722418, 0.17587229834722418, 0.17587229834722418, 0.17587229834722418, 0.17587229834722418, 0.17587229834722418, 0.17587229834722418, 0.17587229834722418, 0.17587229834722418, 0.17587229834722418, 0.17587229834722418]], \"zmax\": 0.57, \"zmin\": 0.17}, {\"colorbar\": {\"len\": 0.5, \"title\": {\"text\": \"Uncertainty\"}, \"y\": 0}, \"colorscale\": [[0.0, \"rgb(255,245,240)\"], [0.125, \"rgb(254,224,210)\"], [0.25, \"rgb(252,187,161)\"], [0.375, \"rgb(252,146,114)\"], [0.5, \"rgb(251,106,74)\"], [0.625, \"rgb(239,59,44)\"], [0.75, \"rgb(203,24,29)\"], [0.875, \"rgb(165,15,21)\"], [1.0, \"rgb(103,0,13)\"]], \"hoverongaps\": false, \"type\": \"heatmap\", \"x\": [0, 200, 400, 600, 800, 1000, 1200, 1400, 1600, 1800, 2000, 2200, 2400], \"xaxis\": \"x8\", \"xgap\": 1, \"y\": [\"SST-2\", \"MRPC\", \"RTE\"], \"yaxis\": \"y8\", \"ygap\": 1, \"z\": [[1, 2.486041747955783, 2.5478430730526545, 2.6182955288989, 2.5770135924181843, 2.532749473313561, 2.4990992554381157, 2.5141917304273176, 2.36792773939797, 2.4285438271908766, 2.4639406655309735, 2.3625310078023998], [1, 2.808217664161654, 2.6949577253359465, 2.711887551737108, 2.5649993485715314, 2.5809723910506492, 2.6256816136586756, 2.7086047799742983, 2.589728070647363, 2.632554167813184, 2.5796701288620785, 2.4378810769201875], [1, 3.0514098046907634, 2.9220865263975213, 2.939897415636278, 2.866427167639637, 2.667668853983164, 2.595473300605421, 2.4306642686072752, 2.3911643028505343, 2.320017428021488, 2.3303760231697663, 2.210627705738872]], \"zmax\": 3, \"zmin\": 1}, {\"line\": {\"color\": \"cadetblue\"}, \"mode\": \"lines\", \"name\": \"SST-2\", \"showlegend\": false, \"type\": \"scatter\", \"x\": [0, 200, 400, 600, 800, 1000, 1200, 1400, 1600, 1800, 2000, 2200, 2400], \"xaxis\": \"x3\", \"y\": [0.7042644162178039, 0.3626221915880839, 0.28486873976389565, 0.28559011467297873, 0.2832157456080118, 0.2714623085657756, 0.27127600979804994, 0.275497590859731, 0.3036944132645925, 0.3318792916138967, 0.28723838432629906, 0.2980251626968384, 0.31121754066149393], \"yaxis\": \"y3\"}, {\"line\": {\"color\": \"coral\"}, \"mode\": \"lines\", \"name\": \"MRPC\", \"showlegend\": false, \"type\": \"scatter\", \"x\": [0, 200, 400, 600, 800, 1000, 1200, 1400, 1600, 1800, 2000, 2200, 2400], \"xaxis\": \"x3\", \"y\": [0.7914901597827089, 0.6034184515086655, 0.5171032684301239, 0.4854103954009761, 0.439868555739035, 0.42842945592855314, 0.45271292426227744, 0.45295073861390156, 0.4806417854003657, 0.4835446644452663, 0.4741913890526965, 0.4709935445411533, 0.5015209589908326], \"yaxis\": \"y3\"}, {\"line\": {\"color\": \"olive\"}, \"mode\": \"lines\", \"name\": \"RTE\", \"showlegend\": false, \"type\": \"scatter\", \"x\": [0, 200, 400, 600, 800, 1000, 1200, 1400, 1600, 1800, 2000, 2200, 2400], \"xaxis\": \"x3\", \"y\": [0.7068585718887439, 0.6851960918753619, 0.6437489157137664, 0.6443684057912965, 0.6430778569645352, 0.6744997268137723, 0.712660220798087, 0.7512664506976732, 0.8033173694702738, 0.8358739280470328, 0.8960612542963258, 0.9097178106146734, 0.9438736372523838], \"yaxis\": \"y3\"}, {\"line\": {\"color\": \"purple\"}, \"mode\": \"lines\", \"name\": \"Aggregate\", \"showlegend\": false, \"type\": \"scatter\", \"x\": [0, 200, 400, 600, 800, 1000, 1200, 1400, 1600, 1800, 2000, 2200, 2400], \"xaxis\": \"x3\", \"y\": [0.717790530353296, 0.43239688254444975, 0.35707537771396475, 0.3528589234977472, 0.3440340352011035, 0.3367681668222809, 0.3442448262426904, 0.35139665553893135, 0.38196954878775324, 0.40676080866708014, 0.37826369656180486, 0.38721974936517034, 0.40520296440868314], \"yaxis\": \"y3\"}, {\"marker\": {\"color\": [\"cadetblue\", \"coral\", \"olive\", \"purple\"], \"size\": 9}, \"mode\": \"markers\", \"name\": \"sampling-smoothed-r=0.5 minimum\", \"showlegend\": false, \"type\": \"scatter\", \"x\": [1200, 1000, 800, 1000], \"xaxis\": \"x3\", \"y\": [0.27127600979804994, 0.42842945592855314, 0.6430778569645352, 0.3367681668222809], \"yaxis\": \"y3\"}, {\"line\": {\"color\": \"purple\", \"dash\": \"dash\"}, \"mode\": \"lines\", \"showlegend\": false, \"type\": \"scatter\", \"x\": [1000, 1000], \"xaxis\": \"x3\", \"y\": [0.2, 0.9], \"yaxis\": \"y3\"}, {\"colorbar\": {\"len\": 0.5, \"title\": {\"text\": \"Probability\"}, \"yanchor\": \"middle\"}, \"colorscale\": [[0.0, \"rgb(247,251,255)\"], [0.125, \"rgb(222,235,247)\"], [0.25, \"rgb(198,219,239)\"], [0.375, \"rgb(158,202,225)\"], [0.5, \"rgb(107,174,214)\"], [0.625, \"rgb(66,146,198)\"], [0.75, \"rgb(33,113,181)\"], [0.875, \"rgb(8,81,156)\"], [1.0, \"rgb(8,48,107)\"]], \"hoverongaps\": false, \"type\": \"heatmap\", \"x\": [0, 200, 400, 600, 800, 1000, 1200, 1400, 1600, 1800, 2000, 2200, 2400], \"xaxis\": \"x6\", \"xgap\": 1, \"y\": [\"SST-2\", \"MRPC\", \"RTE\"], \"yaxis\": \"y6\", \"ygap\": 1, \"z\": [[0.3333333333333333, 0.27302850015613744, 0.2911810308625855, 0.2911810308625855, 0.3109624990986203, 0.33109748141825207, 0.33109748141825207, 0.3410879631690855, 0.3540135215940421, 0.3540135215940421, 0.35276323440085033, 0.35805877027131067], [0.3333333333333333, 0.3450071260908629, 0.3308154653574977, 0.3308154653574977, 0.3289016988908336, 0.3287608668541605, 0.3287608668541605, 0.3397898715193792, 0.34694698966996174, 0.34694698966996174, 0.36744511911255107, 0.36654539395821295], [0.3333333333333333, 0.3819643737529996, 0.3780035037799168, 0.3780035037799168, 0.36013580201054607, 0.34014165172758737, 0.34014165172758737, 0.31912216531153526, 0.2990394887359962, 0.2990394887359962, 0.27979164648659854, 0.2753958357704765]], \"zmax\": 0.57, \"zmin\": 0.17}, {\"colorbar\": {\"len\": 0.5, \"title\": {\"text\": \"Uncertainty\"}, \"y\": 0}, \"colorscale\": [[0.0, \"rgb(255,245,240)\"], [0.125, \"rgb(254,224,210)\"], [0.25, \"rgb(252,187,161)\"], [0.375, \"rgb(252,146,114)\"], [0.5, \"rgb(251,106,74)\"], [0.625, \"rgb(239,59,44)\"], [0.75, \"rgb(203,24,29)\"], [0.875, \"rgb(165,15,21)\"], [1.0, \"rgb(103,0,13)\"]], \"hoverongaps\": false, \"type\": \"heatmap\", \"x\": [0, 200, 400, 600, 800, 1000, 1200, 1400, 1600, 1800, 2000, 2200, 2400], \"xaxis\": \"x9\", \"xgap\": 1, \"y\": [\"SST-2\", \"MRPC\", \"RTE\"], \"yaxis\": \"y9\", \"ygap\": 1, \"z\": [[1, 2.2989702005099146, 2.5781984119835557, 2.409726614894685, 2.494491863879817, 2.5618685641005126, 2.5828692628540444, 2.4159103573136687, 2.417348740913585, 2.46021178028384, 2.460867237588485, 2.4448607377743414], [1, 2.828041016877125, 2.5766948205435827, 2.6084831031987243, 2.5179286746614484, 2.464949854841299, 2.4366859423054414, 2.4682162697518115, 2.466876350269143, 2.586457849766532, 2.681184092795155, 2.5519061058179386], [1, 3.107245747230761, 3.0226985999647638, 2.9465504618330627, 2.56577894997252, 2.3189053761724536, 2.219997764147356, 2.0312184080837614, 1.8805298179985976, 1.8485336679940145, 1.828467870816877, 1.8546412271325305]], \"zmax\": 3, \"zmin\": 1}],                        {\"annotations\": [{\"font\": {\"size\": 16}, \"showarrow\": false, \"text\": \"(a) Uniform Sampling\\n(baseline)\", \"x\": 0.14444444444444446, \"xanchor\": \"center\", \"xref\": \"paper\", \"y\": 1.0, \"yanchor\": \"bottom\", \"yref\": \"paper\"}, {\"font\": {\"size\": 16}, \"showarrow\": false, \"text\": \"(b) Union Sampling\\n(baseline)\", \"x\": 0.5, \"xanchor\": \"center\", \"xref\": \"paper\", \"y\": 1.0, \"yanchor\": \"bottom\", \"yref\": \"paper\"}, {\"font\": {\"size\": 16}, \"showarrow\": false, \"text\": \"(c) Uncertainty-based\\nActive Sampling\", \"x\": 0.8555555555555556, \"xanchor\": \"center\", \"xref\": \"paper\", \"y\": 1.0, \"yanchor\": \"bottom\", \"yref\": \"paper\"}, {\"font\": {\"size\": 16}, \"showarrow\": false, \"text\": \"Number of iterations\", \"x\": 0.5, \"xanchor\": \"center\", \"xref\": \"paper\", \"y\": 0, \"yanchor\": \"top\", \"yref\": \"paper\", \"yshift\": -30}], \"template\": {\"data\": {\"bar\": [{\"error_x\": {\"color\": \"#2a3f5f\"}, \"error_y\": {\"color\": \"#2a3f5f\"}, \"marker\": {\"line\": {\"color\": \"#E5ECF6\", \"width\": 0.5}}, \"type\": \"bar\"}], \"barpolar\": [{\"marker\": {\"line\": {\"color\": \"#E5ECF6\", \"width\": 0.5}}, \"type\": \"barpolar\"}], \"carpet\": [{\"aaxis\": {\"endlinecolor\": \"#2a3f5f\", \"gridcolor\": \"white\", \"linecolor\": \"white\", \"minorgridcolor\": \"white\", \"startlinecolor\": \"#2a3f5f\"}, \"baxis\": {\"endlinecolor\": \"#2a3f5f\", \"gridcolor\": \"white\", \"linecolor\": \"white\", \"minorgridcolor\": \"white\", \"startlinecolor\": \"#2a3f5f\"}, \"type\": \"carpet\"}], \"choropleth\": [{\"colorbar\": {\"outlinewidth\": 0, \"ticks\": \"\"}, \"type\": \"choropleth\"}], \"contour\": [{\"colorbar\": {\"outlinewidth\": 0, \"ticks\": \"\"}, \"colorscale\": [[0.0, \"#0d0887\"], [0.1111111111111111, \"#46039f\"], [0.2222222222222222, \"#7201a8\"], [0.3333333333333333, \"#9c179e\"], [0.4444444444444444, \"#bd3786\"], [0.5555555555555556, \"#d8576b\"], [0.6666666666666666, \"#ed7953\"], [0.7777777777777778, \"#fb9f3a\"], [0.8888888888888888, \"#fdca26\"], [1.0, \"#f0f921\"]], \"type\": \"contour\"}], \"contourcarpet\": [{\"colorbar\": {\"outlinewidth\": 0, \"ticks\": \"\"}, \"type\": \"contourcarpet\"}], \"heatmap\": [{\"colorbar\": {\"outlinewidth\": 0, \"ticks\": \"\"}, \"colorscale\": [[0.0, \"#0d0887\"], [0.1111111111111111, \"#46039f\"], [0.2222222222222222, \"#7201a8\"], [0.3333333333333333, \"#9c179e\"], [0.4444444444444444, \"#bd3786\"], [0.5555555555555556, \"#d8576b\"], [0.6666666666666666, \"#ed7953\"], [0.7777777777777778, \"#fb9f3a\"], [0.8888888888888888, \"#fdca26\"], [1.0, \"#f0f921\"]], \"type\": \"heatmap\"}], \"heatmapgl\": [{\"colorbar\": {\"outlinewidth\": 0, \"ticks\": \"\"}, \"colorscale\": [[0.0, \"#0d0887\"], [0.1111111111111111, \"#46039f\"], [0.2222222222222222, \"#7201a8\"], [0.3333333333333333, \"#9c179e\"], [0.4444444444444444, \"#bd3786\"], [0.5555555555555556, \"#d8576b\"], [0.6666666666666666, \"#ed7953\"], [0.7777777777777778, \"#fb9f3a\"], [0.8888888888888888, \"#fdca26\"], [1.0, \"#f0f921\"]], \"type\": \"heatmapgl\"}], \"histogram\": [{\"marker\": {\"colorbar\": {\"outlinewidth\": 0, \"ticks\": \"\"}}, \"type\": \"histogram\"}], \"histogram2d\": [{\"colorbar\": {\"outlinewidth\": 0, \"ticks\": \"\"}, \"colorscale\": [[0.0, \"#0d0887\"], [0.1111111111111111, \"#46039f\"], [0.2222222222222222, \"#7201a8\"], [0.3333333333333333, \"#9c179e\"], [0.4444444444444444, \"#bd3786\"], [0.5555555555555556, \"#d8576b\"], [0.6666666666666666, \"#ed7953\"], [0.7777777777777778, \"#fb9f3a\"], [0.8888888888888888, \"#fdca26\"], [1.0, \"#f0f921\"]], \"type\": \"histogram2d\"}], \"histogram2dcontour\": [{\"colorbar\": {\"outlinewidth\": 0, \"ticks\": \"\"}, \"colorscale\": [[0.0, \"#0d0887\"], [0.1111111111111111, \"#46039f\"], [0.2222222222222222, \"#7201a8\"], [0.3333333333333333, \"#9c179e\"], [0.4444444444444444, \"#bd3786\"], [0.5555555555555556, \"#d8576b\"], [0.6666666666666666, \"#ed7953\"], [0.7777777777777778, \"#fb9f3a\"], [0.8888888888888888, \"#fdca26\"], [1.0, \"#f0f921\"]], \"type\": \"histogram2dcontour\"}], \"mesh3d\": [{\"colorbar\": {\"outlinewidth\": 0, \"ticks\": \"\"}, \"type\": \"mesh3d\"}], \"parcoords\": [{\"line\": {\"colorbar\": {\"outlinewidth\": 0, \"ticks\": \"\"}}, \"type\": \"parcoords\"}], \"pie\": [{\"automargin\": true, \"type\": \"pie\"}], \"scatter\": [{\"marker\": {\"colorbar\": {\"outlinewidth\": 0, \"ticks\": \"\"}}, \"type\": \"scatter\"}], \"scatter3d\": [{\"line\": {\"colorbar\": {\"outlinewidth\": 0, \"ticks\": \"\"}}, \"marker\": {\"colorbar\": {\"outlinewidth\": 0, \"ticks\": \"\"}}, \"type\": \"scatter3d\"}], \"scattercarpet\": [{\"marker\": {\"colorbar\": {\"outlinewidth\": 0, \"ticks\": \"\"}}, \"type\": \"scattercarpet\"}], \"scattergeo\": [{\"marker\": {\"colorbar\": {\"outlinewidth\": 0, \"ticks\": \"\"}}, \"type\": \"scattergeo\"}], \"scattergl\": [{\"marker\": {\"colorbar\": {\"outlinewidth\": 0, \"ticks\": \"\"}}, \"type\": \"scattergl\"}], \"scattermapbox\": [{\"marker\": {\"colorbar\": {\"outlinewidth\": 0, \"ticks\": \"\"}}, \"type\": \"scattermapbox\"}], \"scatterpolar\": [{\"marker\": {\"colorbar\": {\"outlinewidth\": 0, \"ticks\": \"\"}}, \"type\": \"scatterpolar\"}], \"scatterpolargl\": [{\"marker\": {\"colorbar\": {\"outlinewidth\": 0, \"ticks\": \"\"}}, \"type\": \"scatterpolargl\"}], \"scatterternary\": [{\"marker\": {\"colorbar\": {\"outlinewidth\": 0, \"ticks\": \"\"}}, \"type\": \"scatterternary\"}], \"surface\": [{\"colorbar\": {\"outlinewidth\": 0, \"ticks\": \"\"}, \"colorscale\": [[0.0, \"#0d0887\"], [0.1111111111111111, \"#46039f\"], [0.2222222222222222, \"#7201a8\"], [0.3333333333333333, \"#9c179e\"], [0.4444444444444444, \"#bd3786\"], [0.5555555555555556, \"#d8576b\"], [0.6666666666666666, \"#ed7953\"], [0.7777777777777778, \"#fb9f3a\"], [0.8888888888888888, \"#fdca26\"], [1.0, \"#f0f921\"]], \"type\": \"surface\"}], \"table\": [{\"cells\": {\"fill\": {\"color\": \"#EBF0F8\"}, \"line\": {\"color\": \"white\"}}, \"header\": {\"fill\": {\"color\": \"#C8D4E3\"}, \"line\": {\"color\": \"white\"}}, \"type\": \"table\"}]}, \"layout\": {\"annotationdefaults\": {\"arrowcolor\": \"#2a3f5f\", \"arrowhead\": 0, \"arrowwidth\": 1}, \"coloraxis\": {\"colorbar\": {\"outlinewidth\": 0, \"ticks\": \"\"}}, \"colorscale\": {\"diverging\": [[0, \"#8e0152\"], [0.1, \"#c51b7d\"], [0.2, \"#de77ae\"], [0.3, \"#f1b6da\"], [0.4, \"#fde0ef\"], [0.5, \"#f7f7f7\"], [0.6, \"#e6f5d0\"], [0.7, \"#b8e186\"], [0.8, \"#7fbc41\"], [0.9, \"#4d9221\"], [1, \"#276419\"]], \"sequential\": [[0.0, \"#0d0887\"], [0.1111111111111111, \"#46039f\"], [0.2222222222222222, \"#7201a8\"], [0.3333333333333333, \"#9c179e\"], [0.4444444444444444, \"#bd3786\"], [0.5555555555555556, \"#d8576b\"], [0.6666666666666666, \"#ed7953\"], [0.7777777777777778, \"#fb9f3a\"], [0.8888888888888888, \"#fdca26\"], [1.0, \"#f0f921\"]], \"sequentialminus\": [[0.0, \"#0d0887\"], [0.1111111111111111, \"#46039f\"], [0.2222222222222222, \"#7201a8\"], [0.3333333333333333, \"#9c179e\"], [0.4444444444444444, \"#bd3786\"], [0.5555555555555556, \"#d8576b\"], [0.6666666666666666, \"#ed7953\"], [0.7777777777777778, \"#fb9f3a\"], [0.8888888888888888, \"#fdca26\"], [1.0, \"#f0f921\"]]}, \"colorway\": [\"#636efa\", \"#EF553B\", \"#00cc96\", \"#ab63fa\", \"#FFA15A\", \"#19d3f3\", \"#FF6692\", \"#B6E880\", \"#FF97FF\", \"#FECB52\"], \"font\": {\"color\": \"#2a3f5f\"}, \"geo\": {\"bgcolor\": \"white\", \"lakecolor\": \"white\", \"landcolor\": \"#E5ECF6\", \"showlakes\": true, \"showland\": true, \"subunitcolor\": \"white\"}, \"hoverlabel\": {\"align\": \"left\"}, \"hovermode\": \"closest\", \"mapbox\": {\"style\": \"light\"}, \"paper_bgcolor\": \"white\", \"plot_bgcolor\": \"#E5ECF6\", \"polar\": {\"angularaxis\": {\"gridcolor\": \"white\", \"linecolor\": \"white\", \"ticks\": \"\"}, \"bgcolor\": \"#E5ECF6\", \"radialaxis\": {\"gridcolor\": \"white\", \"linecolor\": \"white\", \"ticks\": \"\"}}, \"scene\": {\"xaxis\": {\"backgroundcolor\": \"#E5ECF6\", \"gridcolor\": \"white\", \"gridwidth\": 2, \"linecolor\": \"white\", \"showbackground\": true, \"ticks\": \"\", \"zerolinecolor\": \"white\"}, \"yaxis\": {\"backgroundcolor\": \"#E5ECF6\", \"gridcolor\": \"white\", \"gridwidth\": 2, \"linecolor\": \"white\", \"showbackground\": true, \"ticks\": \"\", \"zerolinecolor\": \"white\"}, \"zaxis\": {\"backgroundcolor\": \"#E5ECF6\", \"gridcolor\": \"white\", \"gridwidth\": 2, \"linecolor\": \"white\", \"showbackground\": true, \"ticks\": \"\", \"zerolinecolor\": \"white\"}}, \"shapedefaults\": {\"line\": {\"color\": \"#2a3f5f\"}}, \"ternary\": {\"aaxis\": {\"gridcolor\": \"white\", \"linecolor\": \"white\", \"ticks\": \"\"}, \"baxis\": {\"gridcolor\": \"white\", \"linecolor\": \"white\", \"ticks\": \"\"}, \"bgcolor\": \"#E5ECF6\", \"caxis\": {\"gridcolor\": \"white\", \"linecolor\": \"white\", \"ticks\": \"\"}}, \"title\": {\"x\": 0.05}, \"xaxis\": {\"automargin\": true, \"gridcolor\": \"white\", \"linecolor\": \"white\", \"ticks\": \"\", \"title\": {\"standoff\": 15}, \"zerolinecolor\": \"white\", \"zerolinewidth\": 2}, \"yaxis\": {\"automargin\": true, \"gridcolor\": \"white\", \"linecolor\": \"white\", \"ticks\": \"\", \"title\": {\"standoff\": 15}, \"zerolinecolor\": \"white\", \"zerolinewidth\": 2}}}, \"xaxis\": {\"anchor\": \"y\", \"domain\": [0.0, 0.2888888888888889], \"matches\": \"x7\", \"nticks\": 20, \"showticklabels\": false}, \"xaxis2\": {\"anchor\": \"y2\", \"domain\": [0.35555555555555557, 0.6444444444444445], \"matches\": \"x8\", \"nticks\": 20, \"showticklabels\": false}, \"xaxis3\": {\"anchor\": \"y3\", \"domain\": [0.7111111111111111, 1.0], \"matches\": \"x9\", \"nticks\": 20, \"showticklabels\": false}, \"xaxis4\": {\"anchor\": \"y4\", \"domain\": [0.0, 0.2888888888888889], \"matches\": \"x7\", \"nticks\": 20, \"showticklabels\": false}, \"xaxis5\": {\"anchor\": \"y5\", \"domain\": [0.35555555555555557, 0.6444444444444445], \"matches\": \"x8\", \"nticks\": 20, \"showticklabels\": false}, \"xaxis6\": {\"anchor\": \"y6\", \"domain\": [0.7111111111111111, 1.0], \"matches\": \"x9\", \"nticks\": 20, \"showticklabels\": false}, \"xaxis7\": {\"anchor\": \"y7\", \"domain\": [0.0, 0.2888888888888889], \"nticks\": 20}, \"xaxis8\": {\"anchor\": \"y8\", \"domain\": [0.35555555555555557, 0.6444444444444445], \"nticks\": 20}, \"xaxis9\": {\"anchor\": \"y9\", \"domain\": [0.7111111111111111, 1.0], \"nticks\": 20}, \"yaxis\": {\"anchor\": \"x\", \"domain\": [0.6, 1.0]}, \"yaxis2\": {\"anchor\": \"x2\", \"domain\": [0.6, 1.0]}, \"yaxis3\": {\"anchor\": \"x3\", \"domain\": [0.6, 1.0]}, \"yaxis4\": {\"anchor\": \"x4\", \"domain\": [0.3, 0.5]}, \"yaxis5\": {\"anchor\": \"x5\", \"domain\": [0.3, 0.5]}, \"yaxis6\": {\"anchor\": \"x6\", \"domain\": [0.3, 0.5]}, \"yaxis7\": {\"anchor\": \"x7\", \"domain\": [0.0, 0.2]}, \"yaxis8\": {\"anchor\": \"x8\", \"domain\": [0.0, 0.2]}, \"yaxis9\": {\"anchor\": \"x9\", \"domain\": [0.0, 0.2]}},                        {\"responsive\": true}                    ).then(function(){\n",
       "                            \n",
       "var gd = document.getElementById('d05d8015-5f7b-4994-868d-4f68ae4d9935');\n",
       "var x = new MutationObserver(function (mutations, observer) {{\n",
       "        var display = window.getComputedStyle(gd).display;\n",
       "        if (!display || display === 'none') {{\n",
       "            console.log([gd, 'removed!']);\n",
       "            Plotly.purge(gd);\n",
       "            observer.disconnect();\n",
       "        }}\n",
       "}});\n",
       "\n",
       "// Listen for the removal of the full notebook cells\n",
       "var notebookContainer = gd.closest('#notebook-container');\n",
       "if (notebookContainer) {{\n",
       "    x.observe(notebookContainer, {childList: true});\n",
       "}}\n",
       "\n",
       "// Listen for the clearing of the current output cell\n",
       "var outputEl = gd.closest('.output');\n",
       "if (outputEl) {{\n",
       "    x.observe(outputEl, {childList: true});\n",
       "}}\n",
       "\n",
       "                        })                };                });            </script>        </div>"
      ]
     },
     "metadata": {},
     "output_type": "display_data"
    }
   ],
   "source": [
    "plot_heatmap(['baseline-uniform', 'baseline-data-dist', 'sampling-smoothed-r=0.5'],\n",
    "             ['(a) Uniform Sampling\\n(baseline)', '(b) Union Sampling\\n(baseline)', '(c) Uncertainty-based\\nActive Sampling'])"
   ]
  },
  {
   "cell_type": "code",
   "execution_count": 346,
   "metadata": {},
   "outputs": [
    {
     "data": {
      "application/vnd.plotly.v1+json": {
       "config": {
        "plotlyServerURL": "https://plot.ly"
       },
       "data": [
        {
         "line": {
          "color": "cadetblue"
         },
         "mode": "lines",
         "name": "SST-2",
         "showlegend": true,
         "type": "scatter",
         "x": [
          0,
          200,
          400,
          600,
          800,
          1000,
          1200,
          1400,
          1600,
          1800,
          2000,
          2200,
          2400
         ],
         "xaxis": "x",
         "y": [
          0.7322626477877298,
          0.3642666401863099,
          0.2904091308116913,
          0.2983312123616536,
          0.27746466406186426,
          0.3026227445602417,
          0.27280253775914515,
          0.2889628318945567,
          0.2873687079747518,
          0.297387496471405,
          0.31714715965588886,
          0.31053086137771607,
          0.3084409124851227
         ],
         "yaxis": "y"
        },
        {
         "line": {
          "color": "coral"
         },
         "mode": "lines",
         "name": "MRPC",
         "showlegend": true,
         "type": "scatter",
         "x": [
          0,
          200,
          400,
          600,
          800,
          1000,
          1200,
          1400,
          1600,
          1800,
          2000,
          2200,
          2400
         ],
         "xaxis": "x",
         "y": [
          0.7702550669900733,
          0.5988445052134446,
          0.5250130486644172,
          0.49271696143680144,
          0.44655096219256035,
          0.4346908950338177,
          0.4176412146855024,
          0.4536956879827711,
          0.42672139484118793,
          0.4437002559113347,
          0.4601239293229346,
          0.4749661497041291,
          0.46558601715985465
         ],
         "yaxis": "y"
        },
        {
         "line": {
          "color": "olive"
         },
         "mode": "lines",
         "name": "RTE",
         "showlegend": true,
         "type": "scatter",
         "x": [
          0,
          200,
          400,
          600,
          800,
          1000,
          1200,
          1400,
          1600,
          1800,
          2000,
          2200,
          2400
         ],
         "xaxis": "x",
         "y": [
          0.8563862201096355,
          0.6969044922630568,
          0.664769610920966,
          0.6554728923500449,
          0.6520043453156661,
          0.6690685062304786,
          0.6782734231384481,
          0.7641245280774895,
          0.75954702741282,
          0.823247420039154,
          0.8403475909417377,
          0.8927326892021198,
          0.9018645956032518
         ],
         "yaxis": "y"
        },
        {
         "line": {
          "color": "purple"
         },
         "mode": "lines",
         "name": "Aggregate",
         "showlegend": true,
         "type": "scatter",
         "x": [
          0,
          200,
          400,
          600,
          800,
          1000,
          1200,
          1400,
          1600,
          1800,
          2000,
          2200,
          2400
         ],
         "xaxis": "x",
         "y": [
          0.7508017733448842,
          0.4341309531908751,
          0.36456780852930376,
          0.3646056122496775,
          0.3416823099871151,
          0.36038088003498253,
          0.33651496121318436,
          0.362865824975958,
          0.35710682735120963,
          0.37370379481573807,
          0.39268286794912616,
          0.3953957280381899,
          0.39335154558791485
         ],
         "yaxis": "y"
        },
        {
         "marker": {
          "color": [
           "cadetblue",
           "coral",
           "olive",
           "purple"
          ],
          "size": 9
         },
         "mode": "markers",
         "name": "sampling-raw minimum",
         "showlegend": false,
         "type": "scatter",
         "x": [
          1200,
          1200,
          800,
          1200
         ],
         "xaxis": "x",
         "y": [
          0.27280253775914515,
          0.4176412146855024,
          0.6520043453156661,
          0.33651496121318436
         ],
         "yaxis": "y"
        },
        {
         "line": {
          "color": "purple",
          "dash": "dash"
         },
         "mode": "lines",
         "showlegend": false,
         "type": "scatter",
         "x": [
          1200,
          1200
         ],
         "xaxis": "x",
         "y": [
          0.2,
          0.9
         ],
         "yaxis": "y"
        },
        {
         "colorbar": {
          "len": 0.5,
          "title": {
           "text": "Probability"
          },
          "yanchor": "middle"
         },
         "colorscale": [
          [
           0,
           "rgb(247,251,255)"
          ],
          [
           0.125,
           "rgb(222,235,247)"
          ],
          [
           0.25,
           "rgb(198,219,239)"
          ],
          [
           0.375,
           "rgb(158,202,225)"
          ],
          [
           0.5,
           "rgb(107,174,214)"
          ],
          [
           0.625,
           "rgb(66,146,198)"
          ],
          [
           0.75,
           "rgb(33,113,181)"
          ],
          [
           0.875,
           "rgb(8,81,156)"
          ],
          [
           1,
           "rgb(8,48,107)"
          ]
         ],
         "hoverongaps": false,
         "type": "heatmap",
         "x": [
          0,
          200,
          400,
          600,
          800,
          1000,
          1200,
          1400,
          1600,
          1800,
          2000,
          2200,
          2400
         ],
         "xaxis": "x4",
         "xgap": 1,
         "y": [
          "SST-2",
          "MRPC",
          "RTE"
         ],
         "yaxis": "y4",
         "ygap": 1,
         "z": [
          [
           0.3333333333333333,
           0.2873631169411079,
           0.31266515904429054,
           0.31266515904429054,
           0.3351780192913038,
           0.3398648388808003,
           0.3398648388808003,
           0.3415308744081637,
           0.3554585414654206,
           0.3554585414654206,
           0.3538253502944195,
           0.36648093015277655
          ],
          [
           0.3333333333333333,
           0.33604269146457955,
           0.30458921233650676,
           0.30458921233650676,
           0.3267880358098708,
           0.3459118726668797,
           0.3459118726668797,
           0.34567344305856906,
           0.36422793367481504,
           0.36422793367481504,
           0.3356094293264169,
           0.3500503325831917
          ],
          [
           0.3333333333333333,
           0.3765941915943125,
           0.3827456286192028,
           0.3827456286192028,
           0.33803394489882543,
           0.31422328845231995,
           0.31422328845231995,
           0.3127956825332672,
           0.28031352485976435,
           0.28031352485976435,
           0.3105652203791636,
           0.2834687372640317
          ]
         ],
         "zmax": 0.4,
         "zmin": 0.28
        },
        {
         "colorbar": {
          "len": 0.5,
          "title": {
           "text": "Uncertainty"
          },
          "y": 0
         },
         "colorscale": [
          [
           0,
           "rgb(255,245,240)"
          ],
          [
           0.125,
           "rgb(254,224,210)"
          ],
          [
           0.25,
           "rgb(252,187,161)"
          ],
          [
           0.375,
           "rgb(252,146,114)"
          ],
          [
           0.5,
           "rgb(251,106,74)"
          ],
          [
           0.625,
           "rgb(239,59,44)"
          ],
          [
           0.75,
           "rgb(203,24,29)"
          ],
          [
           0.875,
           "rgb(165,15,21)"
          ],
          [
           1,
           "rgb(103,0,13)"
          ]
         ],
         "hoverongaps": false,
         "type": "heatmap",
         "x": [
          0,
          200,
          400,
          600,
          800,
          1000,
          1200,
          1400,
          1600,
          1800,
          2000,
          2200,
          2400
         ],
         "xaxis": "x7",
         "xgap": 1,
         "y": [
          "SST-2",
          "MRPC",
          "RTE"
         ],
         "yaxis": "y7",
         "ygap": 1,
         "z": [
          [
           1,
           2.362651056412171,
           2.397481616579711,
           2.326343340927424,
           2.4580159214053414,
           2.485973242376255,
           2.576864567620144,
           2.3849813940642632,
           2.4530520930774258,
           2.348786847522336,
           2.2933549535193025,
           2.441458593059737
          ],
          [
           1,
           2.761342738104087,
           2.327690297325368,
           2.4912042256328415,
           2.4116242089100552,
           2.534926335335515,
           2.5112112522493777,
           2.4137642144962435,
           2.526304550848415,
           2.316936319828511,
           2.187572769066725,
           2.347271614166445
          ],
          [
           1,
           3.094741490062423,
           2.92591423398099,
           2.8172689973318685,
           2.4893303760356,
           2.300647529359852,
           2.188548822109197,
           2.1854794030088938,
           1.9541363786875214,
           2.0988964465092277,
           2.031751608422605,
           1.9063897474585232
          ]
         ],
         "zmax": 3,
         "zmin": 1
        },
        {
         "line": {
          "color": "cadetblue"
         },
         "mode": "lines",
         "name": "SST-2",
         "showlegend": false,
         "type": "scatter",
         "x": [
          0,
          200,
          400,
          600,
          800,
          1000,
          1200,
          1400,
          1600,
          1800,
          2000,
          2200,
          2400
         ],
         "xaxis": "x2",
         "y": [
          0.7296411765416463,
          0.3317488728364309,
          0.3068898293972015,
          0.28662384017308556,
          0.2788865083853404,
          0.2849657684167226,
          0.28234655149777727,
          0.27528647891680397,
          0.29006102021535235,
          0.295512997229894,
          0.3008152691523234,
          0.3163181708653768,
          0.33224903925259913
         ],
         "yaxis": "y2"
        },
        {
         "line": {
          "color": "coral"
         },
         "mode": "lines",
         "name": "MRPC",
         "showlegend": false,
         "type": "scatter",
         "x": [
          0,
          200,
          400,
          600,
          800,
          1000,
          1200,
          1400,
          1600,
          1800,
          2000,
          2200,
          2400
         ],
         "xaxis": "x2",
         "y": [
          0.6320527943910337,
          0.5985282550450245,
          0.4839324838195751,
          0.4948196430611455,
          0.4421852768636217,
          0.40580784242137585,
          0.4231393193107804,
          0.4060495230886671,
          0.4269038816682653,
          0.4224540088690964,
          0.43862022566639514,
          0.4499356723299213,
          0.46667449965196495
         ],
         "yaxis": "y2"
        },
        {
         "line": {
          "color": "olive"
         },
         "mode": "lines",
         "name": "RTE",
         "showlegend": false,
         "type": "scatter",
         "x": [
          0,
          200,
          400,
          600,
          800,
          1000,
          1200,
          1400,
          1600,
          1800,
          2000,
          2200,
          2400
         ],
         "xaxis": "x2",
         "y": [
          0.7931134821712106,
          0.7117959511452828,
          0.6692590797005068,
          0.6550761202107305,
          0.6648803824099941,
          0.7026309468895917,
          0.6857048702124812,
          0.7256897898111943,
          0.8088544523658383,
          0.8384268658172681,
          0.8903979286191545,
          0.9290195691988664,
          0.9601607388920254
         ],
         "yaxis": "y2"
        },
        {
         "line": {
          "color": "purple"
         },
         "mode": "lines",
         "name": "Aggregate",
         "showlegend": false,
         "type": "scatter",
         "x": [
          0,
          200,
          400,
          600,
          800,
          1000,
          1200,
          1400,
          1600,
          1800,
          2000,
          2200,
          2400
         ],
         "xaxis": "x2",
         "y": [
          0.7213335373599435,
          0.4113833667091393,
          0.3710654315164417,
          0.3561606199304322,
          0.34340223370946227,
          0.34628438073133155,
          0.34522670993032706,
          0.3414797113419053,
          0.36421112257985405,
          0.3706382433099647,
          0.3823909905646135,
          0.3996346859687961,
          0.417252473285171
         ],
         "yaxis": "y2"
        },
        {
         "marker": {
          "color": [
           "cadetblue",
           "coral",
           "olive",
           "purple"
          ],
          "size": 9
         },
         "mode": "markers",
         "name": "sampling-smoothed-r=0.25 minimum",
         "showlegend": false,
         "type": "scatter",
         "x": [
          1400,
          1000,
          600,
          1400
         ],
         "xaxis": "x2",
         "y": [
          0.27528647891680397,
          0.40580784242137585,
          0.6550761202107305,
          0.3414797113419053
         ],
         "yaxis": "y2"
        },
        {
         "line": {
          "color": "purple",
          "dash": "dash"
         },
         "mode": "lines",
         "showlegend": false,
         "type": "scatter",
         "x": [
          1400,
          1400
         ],
         "xaxis": "x2",
         "y": [
          0.2,
          0.9
         ],
         "yaxis": "y2"
        },
        {
         "colorbar": {
          "len": 0.5,
          "title": {
           "text": "Probability"
          },
          "yanchor": "middle"
         },
         "colorscale": [
          [
           0,
           "rgb(247,251,255)"
          ],
          [
           0.125,
           "rgb(222,235,247)"
          ],
          [
           0.25,
           "rgb(198,219,239)"
          ],
          [
           0.375,
           "rgb(158,202,225)"
          ],
          [
           0.5,
           "rgb(107,174,214)"
          ],
          [
           0.625,
           "rgb(66,146,198)"
          ],
          [
           0.75,
           "rgb(33,113,181)"
          ],
          [
           0.875,
           "rgb(8,81,156)"
          ],
          [
           1,
           "rgb(8,48,107)"
          ]
         ],
         "hoverongaps": false,
         "type": "heatmap",
         "x": [
          0,
          200,
          400,
          600,
          800,
          1000,
          1200,
          1400,
          1600,
          1800,
          2000,
          2200,
          2400
         ],
         "xaxis": "x5",
         "xgap": 1,
         "y": [
          "SST-2",
          "MRPC",
          "RTE"
         ],
         "yaxis": "y5",
         "ygap": 1,
         "z": [
          [
           0.3333333333333333,
           0.2819180697226651,
           0.2992473397827536,
           0.2992473397827536,
           0.3133669095565751,
           0.3245203981288886,
           0.3245203981288886,
           0.3392867916835655,
           0.3517413893206931,
           0.3517413893206931,
           0.33946683009058926,
           0.34641371338840865
          ],
          [
           0.3333333333333333,
           0.3482511314357201,
           0.3262318548276116,
           0.3262318548276116,
           0.3355725183463915,
           0.34568949548501715,
           0.34568949548501715,
           0.3480241190628463,
           0.3500228283310613,
           0.3500228283310613,
           0.3642580604590995,
           0.36889762792019015
          ],
          [
           0.3333333333333333,
           0.3698307988416148,
           0.3745208053896349,
           0.3745208053896349,
           0.35106057209703345,
           0.3297901063860942,
           0.3297901063860942,
           0.31268908925358824,
           0.2982357823482456,
           0.2982357823482456,
           0.2962751094503113,
           0.2846886586914011
          ]
         ],
         "zmax": 0.4,
         "zmin": 0.28
        },
        {
         "colorbar": {
          "len": 0.5,
          "title": {
           "text": "Uncertainty"
          },
          "y": 0
         },
         "colorscale": [
          [
           0,
           "rgb(255,245,240)"
          ],
          [
           0.125,
           "rgb(254,224,210)"
          ],
          [
           0.25,
           "rgb(252,187,161)"
          ],
          [
           0.375,
           "rgb(252,146,114)"
          ],
          [
           0.5,
           "rgb(251,106,74)"
          ],
          [
           0.625,
           "rgb(239,59,44)"
          ],
          [
           0.75,
           "rgb(203,24,29)"
          ],
          [
           0.875,
           "rgb(165,15,21)"
          ],
          [
           1,
           "rgb(103,0,13)"
          ]
         ],
         "hoverongaps": false,
         "type": "heatmap",
         "x": [
          0,
          200,
          400,
          600,
          800,
          1000,
          1200,
          1400,
          1600,
          1800,
          2000,
          2200,
          2400
         ],
         "xaxis": "x8",
         "xgap": 1,
         "y": [
          "SST-2",
          "MRPC",
          "RTE"
         ],
         "yaxis": "y8",
         "ygap": 1,
         "z": [
          [
           1,
           2.3623793174083736,
           2.4386284757703725,
           2.393385543284039,
           2.4083021675433947,
           2.4054412252445716,
           2.411283216183207,
           2.524229003433941,
           2.434166452762736,
           2.360348724232959,
           2.301303817530897,
           2.40738396211601
          ],
          [
           1,
           2.9062774325924003,
           2.537613948224371,
           2.4028816128696247,
           2.5599738533108134,
           2.5569068718632546,
           2.5880179295576045,
           2.56102275444109,
           2.4128419736402233,
           2.6052166695561523,
           2.540234239590433,
           2.559600884133584
          ],
          [
           1,
           3.0854196515268977,
           2.9931711847057394,
           2.874317846257607,
           2.5851604515695743,
           2.3562289895563784,
           2.3474798995050272,
           2.2662724568829726,
           2.0515839158691715,
           2.013885353558662,
           2.042252209232116,
           1.9446506771142191
          ]
         ],
         "zmax": 3,
         "zmin": 1
        },
        {
         "line": {
          "color": "cadetblue"
         },
         "mode": "lines",
         "name": "SST-2",
         "showlegend": false,
         "type": "scatter",
         "x": [
          0,
          200,
          400,
          600,
          800,
          1000,
          1200,
          1400,
          1600,
          1800,
          2000,
          2200,
          2400
         ],
         "xaxis": "x3",
         "y": [
          0.7042644162178039,
          0.3626221915880839,
          0.28486873976389565,
          0.28559011467297873,
          0.2832157456080118,
          0.2714623085657756,
          0.27127600979804994,
          0.275497590859731,
          0.3036944132645925,
          0.3318792916138967,
          0.28723838432629906,
          0.2980251626968384,
          0.31121754066149393
         ],
         "yaxis": "y3"
        },
        {
         "line": {
          "color": "coral"
         },
         "mode": "lines",
         "name": "MRPC",
         "showlegend": false,
         "type": "scatter",
         "x": [
          0,
          200,
          400,
          600,
          800,
          1000,
          1200,
          1400,
          1600,
          1800,
          2000,
          2200,
          2400
         ],
         "xaxis": "x3",
         "y": [
          0.7914901597827089,
          0.6034184515086655,
          0.5171032684301239,
          0.4854103954009761,
          0.439868555739035,
          0.42842945592855314,
          0.45271292426227744,
          0.45295073861390156,
          0.4806417854003657,
          0.4835446644452663,
          0.4741913890526965,
          0.4709935445411533,
          0.5015209589908326
         ],
         "yaxis": "y3"
        },
        {
         "line": {
          "color": "olive"
         },
         "mode": "lines",
         "name": "RTE",
         "showlegend": false,
         "type": "scatter",
         "x": [
          0,
          200,
          400,
          600,
          800,
          1000,
          1200,
          1400,
          1600,
          1800,
          2000,
          2200,
          2400
         ],
         "xaxis": "x3",
         "y": [
          0.7068585718887439,
          0.6851960918753619,
          0.6437489157137664,
          0.6443684057912965,
          0.6430778569645352,
          0.6744997268137723,
          0.712660220798087,
          0.7512664506976732,
          0.8033173694702738,
          0.8358739280470328,
          0.8960612542963258,
          0.9097178106146734,
          0.9438736372523838
         ],
         "yaxis": "y3"
        },
        {
         "line": {
          "color": "purple"
         },
         "mode": "lines",
         "name": "Aggregate",
         "showlegend": false,
         "type": "scatter",
         "x": [
          0,
          200,
          400,
          600,
          800,
          1000,
          1200,
          1400,
          1600,
          1800,
          2000,
          2200,
          2400
         ],
         "xaxis": "x3",
         "y": [
          0.717790530353296,
          0.43239688254444975,
          0.35707537771396475,
          0.3528589234977472,
          0.3440340352011035,
          0.3367681668222809,
          0.3442448262426904,
          0.35139665553893135,
          0.38196954878775324,
          0.40676080866708014,
          0.37826369656180486,
          0.38721974936517034,
          0.40520296440868314
         ],
         "yaxis": "y3"
        },
        {
         "marker": {
          "color": [
           "cadetblue",
           "coral",
           "olive",
           "purple"
          ],
          "size": 9
         },
         "mode": "markers",
         "name": "sampling-smoothed-r=0.5 minimum",
         "showlegend": false,
         "type": "scatter",
         "x": [
          1200,
          1000,
          800,
          1000
         ],
         "xaxis": "x3",
         "y": [
          0.27127600979804994,
          0.42842945592855314,
          0.6430778569645352,
          0.3367681668222809
         ],
         "yaxis": "y3"
        },
        {
         "line": {
          "color": "purple",
          "dash": "dash"
         },
         "mode": "lines",
         "showlegend": false,
         "type": "scatter",
         "x": [
          1000,
          1000
         ],
         "xaxis": "x3",
         "y": [
          0.2,
          0.9
         ],
         "yaxis": "y3"
        },
        {
         "colorbar": {
          "len": 0.5,
          "title": {
           "text": "Probability"
          },
          "yanchor": "middle"
         },
         "colorscale": [
          [
           0,
           "rgb(247,251,255)"
          ],
          [
           0.125,
           "rgb(222,235,247)"
          ],
          [
           0.25,
           "rgb(198,219,239)"
          ],
          [
           0.375,
           "rgb(158,202,225)"
          ],
          [
           0.5,
           "rgb(107,174,214)"
          ],
          [
           0.625,
           "rgb(66,146,198)"
          ],
          [
           0.75,
           "rgb(33,113,181)"
          ],
          [
           0.875,
           "rgb(8,81,156)"
          ],
          [
           1,
           "rgb(8,48,107)"
          ]
         ],
         "hoverongaps": false,
         "type": "heatmap",
         "x": [
          0,
          200,
          400,
          600,
          800,
          1000,
          1200,
          1400,
          1600,
          1800,
          2000,
          2200,
          2400
         ],
         "xaxis": "x6",
         "xgap": 1,
         "y": [
          "SST-2",
          "MRPC",
          "RTE"
         ],
         "yaxis": "y6",
         "ygap": 1,
         "z": [
          [
           0.3333333333333333,
           0.27302850015613744,
           0.2911810308625855,
           0.2911810308625855,
           0.3109624990986203,
           0.33109748141825207,
           0.33109748141825207,
           0.3410879631690855,
           0.3540135215940421,
           0.3540135215940421,
           0.35276323440085033,
           0.35805877027131067
          ],
          [
           0.3333333333333333,
           0.3450071260908629,
           0.3308154653574977,
           0.3308154653574977,
           0.3289016988908336,
           0.3287608668541605,
           0.3287608668541605,
           0.3397898715193792,
           0.34694698966996174,
           0.34694698966996174,
           0.36744511911255107,
           0.36654539395821295
          ],
          [
           0.3333333333333333,
           0.3819643737529996,
           0.3780035037799168,
           0.3780035037799168,
           0.36013580201054607,
           0.34014165172758737,
           0.34014165172758737,
           0.31912216531153526,
           0.2990394887359962,
           0.2990394887359962,
           0.27979164648659854,
           0.2753958357704765
          ]
         ],
         "zmax": 0.4,
         "zmin": 0.28
        },
        {
         "colorbar": {
          "len": 0.5,
          "title": {
           "text": "Uncertainty"
          },
          "y": 0
         },
         "colorscale": [
          [
           0,
           "rgb(255,245,240)"
          ],
          [
           0.125,
           "rgb(254,224,210)"
          ],
          [
           0.25,
           "rgb(252,187,161)"
          ],
          [
           0.375,
           "rgb(252,146,114)"
          ],
          [
           0.5,
           "rgb(251,106,74)"
          ],
          [
           0.625,
           "rgb(239,59,44)"
          ],
          [
           0.75,
           "rgb(203,24,29)"
          ],
          [
           0.875,
           "rgb(165,15,21)"
          ],
          [
           1,
           "rgb(103,0,13)"
          ]
         ],
         "hoverongaps": false,
         "type": "heatmap",
         "x": [
          0,
          200,
          400,
          600,
          800,
          1000,
          1200,
          1400,
          1600,
          1800,
          2000,
          2200,
          2400
         ],
         "xaxis": "x9",
         "xgap": 1,
         "y": [
          "SST-2",
          "MRPC",
          "RTE"
         ],
         "yaxis": "y9",
         "ygap": 1,
         "z": [
          [
           1,
           2.2989702005099146,
           2.5781984119835557,
           2.409726614894685,
           2.494491863879817,
           2.5618685641005126,
           2.5828692628540444,
           2.4159103573136687,
           2.417348740913585,
           2.46021178028384,
           2.460867237588485,
           2.4448607377743414
          ],
          [
           1,
           2.828041016877125,
           2.5766948205435827,
           2.6084831031987243,
           2.5179286746614484,
           2.464949854841299,
           2.4366859423054414,
           2.4682162697518115,
           2.466876350269143,
           2.586457849766532,
           2.681184092795155,
           2.5519061058179386
          ],
          [
           1,
           3.107245747230761,
           3.0226985999647638,
           2.9465504618330627,
           2.56577894997252,
           2.3189053761724536,
           2.219997764147356,
           2.0312184080837614,
           1.8805298179985976,
           1.8485336679940145,
           1.828467870816877,
           1.8546412271325305
          ]
         ],
         "zmax": 3,
         "zmin": 1
        }
       ],
       "layout": {
        "annotations": [
         {
          "font": {
           "size": 16
          },
          "showarrow": false,
          "text": "Number of iterations",
          "x": 0.5,
          "xanchor": "center",
          "xref": "paper",
          "y": 0,
          "yanchor": "top",
          "yref": "paper",
          "yshift": -30
         }
        ],
        "template": {
         "data": {
          "bar": [
           {
            "error_x": {
             "color": "#2a3f5f"
            },
            "error_y": {
             "color": "#2a3f5f"
            },
            "marker": {
             "line": {
              "color": "#E5ECF6",
              "width": 0.5
             }
            },
            "type": "bar"
           }
          ],
          "barpolar": [
           {
            "marker": {
             "line": {
              "color": "#E5ECF6",
              "width": 0.5
             }
            },
            "type": "barpolar"
           }
          ],
          "carpet": [
           {
            "aaxis": {
             "endlinecolor": "#2a3f5f",
             "gridcolor": "white",
             "linecolor": "white",
             "minorgridcolor": "white",
             "startlinecolor": "#2a3f5f"
            },
            "baxis": {
             "endlinecolor": "#2a3f5f",
             "gridcolor": "white",
             "linecolor": "white",
             "minorgridcolor": "white",
             "startlinecolor": "#2a3f5f"
            },
            "type": "carpet"
           }
          ],
          "choropleth": [
           {
            "colorbar": {
             "outlinewidth": 0,
             "ticks": ""
            },
            "type": "choropleth"
           }
          ],
          "contour": [
           {
            "colorbar": {
             "outlinewidth": 0,
             "ticks": ""
            },
            "colorscale": [
             [
              0,
              "#0d0887"
             ],
             [
              0.1111111111111111,
              "#46039f"
             ],
             [
              0.2222222222222222,
              "#7201a8"
             ],
             [
              0.3333333333333333,
              "#9c179e"
             ],
             [
              0.4444444444444444,
              "#bd3786"
             ],
             [
              0.5555555555555556,
              "#d8576b"
             ],
             [
              0.6666666666666666,
              "#ed7953"
             ],
             [
              0.7777777777777778,
              "#fb9f3a"
             ],
             [
              0.8888888888888888,
              "#fdca26"
             ],
             [
              1,
              "#f0f921"
             ]
            ],
            "type": "contour"
           }
          ],
          "contourcarpet": [
           {
            "colorbar": {
             "outlinewidth": 0,
             "ticks": ""
            },
            "type": "contourcarpet"
           }
          ],
          "heatmap": [
           {
            "colorbar": {
             "outlinewidth": 0,
             "ticks": ""
            },
            "colorscale": [
             [
              0,
              "#0d0887"
             ],
             [
              0.1111111111111111,
              "#46039f"
             ],
             [
              0.2222222222222222,
              "#7201a8"
             ],
             [
              0.3333333333333333,
              "#9c179e"
             ],
             [
              0.4444444444444444,
              "#bd3786"
             ],
             [
              0.5555555555555556,
              "#d8576b"
             ],
             [
              0.6666666666666666,
              "#ed7953"
             ],
             [
              0.7777777777777778,
              "#fb9f3a"
             ],
             [
              0.8888888888888888,
              "#fdca26"
             ],
             [
              1,
              "#f0f921"
             ]
            ],
            "type": "heatmap"
           }
          ],
          "heatmapgl": [
           {
            "colorbar": {
             "outlinewidth": 0,
             "ticks": ""
            },
            "colorscale": [
             [
              0,
              "#0d0887"
             ],
             [
              0.1111111111111111,
              "#46039f"
             ],
             [
              0.2222222222222222,
              "#7201a8"
             ],
             [
              0.3333333333333333,
              "#9c179e"
             ],
             [
              0.4444444444444444,
              "#bd3786"
             ],
             [
              0.5555555555555556,
              "#d8576b"
             ],
             [
              0.6666666666666666,
              "#ed7953"
             ],
             [
              0.7777777777777778,
              "#fb9f3a"
             ],
             [
              0.8888888888888888,
              "#fdca26"
             ],
             [
              1,
              "#f0f921"
             ]
            ],
            "type": "heatmapgl"
           }
          ],
          "histogram": [
           {
            "marker": {
             "colorbar": {
              "outlinewidth": 0,
              "ticks": ""
             }
            },
            "type": "histogram"
           }
          ],
          "histogram2d": [
           {
            "colorbar": {
             "outlinewidth": 0,
             "ticks": ""
            },
            "colorscale": [
             [
              0,
              "#0d0887"
             ],
             [
              0.1111111111111111,
              "#46039f"
             ],
             [
              0.2222222222222222,
              "#7201a8"
             ],
             [
              0.3333333333333333,
              "#9c179e"
             ],
             [
              0.4444444444444444,
              "#bd3786"
             ],
             [
              0.5555555555555556,
              "#d8576b"
             ],
             [
              0.6666666666666666,
              "#ed7953"
             ],
             [
              0.7777777777777778,
              "#fb9f3a"
             ],
             [
              0.8888888888888888,
              "#fdca26"
             ],
             [
              1,
              "#f0f921"
             ]
            ],
            "type": "histogram2d"
           }
          ],
          "histogram2dcontour": [
           {
            "colorbar": {
             "outlinewidth": 0,
             "ticks": ""
            },
            "colorscale": [
             [
              0,
              "#0d0887"
             ],
             [
              0.1111111111111111,
              "#46039f"
             ],
             [
              0.2222222222222222,
              "#7201a8"
             ],
             [
              0.3333333333333333,
              "#9c179e"
             ],
             [
              0.4444444444444444,
              "#bd3786"
             ],
             [
              0.5555555555555556,
              "#d8576b"
             ],
             [
              0.6666666666666666,
              "#ed7953"
             ],
             [
              0.7777777777777778,
              "#fb9f3a"
             ],
             [
              0.8888888888888888,
              "#fdca26"
             ],
             [
              1,
              "#f0f921"
             ]
            ],
            "type": "histogram2dcontour"
           }
          ],
          "mesh3d": [
           {
            "colorbar": {
             "outlinewidth": 0,
             "ticks": ""
            },
            "type": "mesh3d"
           }
          ],
          "parcoords": [
           {
            "line": {
             "colorbar": {
              "outlinewidth": 0,
              "ticks": ""
             }
            },
            "type": "parcoords"
           }
          ],
          "pie": [
           {
            "automargin": true,
            "type": "pie"
           }
          ],
          "scatter": [
           {
            "marker": {
             "colorbar": {
              "outlinewidth": 0,
              "ticks": ""
             }
            },
            "type": "scatter"
           }
          ],
          "scatter3d": [
           {
            "line": {
             "colorbar": {
              "outlinewidth": 0,
              "ticks": ""
             }
            },
            "marker": {
             "colorbar": {
              "outlinewidth": 0,
              "ticks": ""
             }
            },
            "type": "scatter3d"
           }
          ],
          "scattercarpet": [
           {
            "marker": {
             "colorbar": {
              "outlinewidth": 0,
              "ticks": ""
             }
            },
            "type": "scattercarpet"
           }
          ],
          "scattergeo": [
           {
            "marker": {
             "colorbar": {
              "outlinewidth": 0,
              "ticks": ""
             }
            },
            "type": "scattergeo"
           }
          ],
          "scattergl": [
           {
            "marker": {
             "colorbar": {
              "outlinewidth": 0,
              "ticks": ""
             }
            },
            "type": "scattergl"
           }
          ],
          "scattermapbox": [
           {
            "marker": {
             "colorbar": {
              "outlinewidth": 0,
              "ticks": ""
             }
            },
            "type": "scattermapbox"
           }
          ],
          "scatterpolar": [
           {
            "marker": {
             "colorbar": {
              "outlinewidth": 0,
              "ticks": ""
             }
            },
            "type": "scatterpolar"
           }
          ],
          "scatterpolargl": [
           {
            "marker": {
             "colorbar": {
              "outlinewidth": 0,
              "ticks": ""
             }
            },
            "type": "scatterpolargl"
           }
          ],
          "scatterternary": [
           {
            "marker": {
             "colorbar": {
              "outlinewidth": 0,
              "ticks": ""
             }
            },
            "type": "scatterternary"
           }
          ],
          "surface": [
           {
            "colorbar": {
             "outlinewidth": 0,
             "ticks": ""
            },
            "colorscale": [
             [
              0,
              "#0d0887"
             ],
             [
              0.1111111111111111,
              "#46039f"
             ],
             [
              0.2222222222222222,
              "#7201a8"
             ],
             [
              0.3333333333333333,
              "#9c179e"
             ],
             [
              0.4444444444444444,
              "#bd3786"
             ],
             [
              0.5555555555555556,
              "#d8576b"
             ],
             [
              0.6666666666666666,
              "#ed7953"
             ],
             [
              0.7777777777777778,
              "#fb9f3a"
             ],
             [
              0.8888888888888888,
              "#fdca26"
             ],
             [
              1,
              "#f0f921"
             ]
            ],
            "type": "surface"
           }
          ],
          "table": [
           {
            "cells": {
             "fill": {
              "color": "#EBF0F8"
             },
             "line": {
              "color": "white"
             }
            },
            "header": {
             "fill": {
              "color": "#C8D4E3"
             },
             "line": {
              "color": "white"
             }
            },
            "type": "table"
           }
          ]
         },
         "layout": {
          "annotationdefaults": {
           "arrowcolor": "#2a3f5f",
           "arrowhead": 0,
           "arrowwidth": 1
          },
          "coloraxis": {
           "colorbar": {
            "outlinewidth": 0,
            "ticks": ""
           }
          },
          "colorscale": {
           "diverging": [
            [
             0,
             "#8e0152"
            ],
            [
             0.1,
             "#c51b7d"
            ],
            [
             0.2,
             "#de77ae"
            ],
            [
             0.3,
             "#f1b6da"
            ],
            [
             0.4,
             "#fde0ef"
            ],
            [
             0.5,
             "#f7f7f7"
            ],
            [
             0.6,
             "#e6f5d0"
            ],
            [
             0.7,
             "#b8e186"
            ],
            [
             0.8,
             "#7fbc41"
            ],
            [
             0.9,
             "#4d9221"
            ],
            [
             1,
             "#276419"
            ]
           ],
           "sequential": [
            [
             0,
             "#0d0887"
            ],
            [
             0.1111111111111111,
             "#46039f"
            ],
            [
             0.2222222222222222,
             "#7201a8"
            ],
            [
             0.3333333333333333,
             "#9c179e"
            ],
            [
             0.4444444444444444,
             "#bd3786"
            ],
            [
             0.5555555555555556,
             "#d8576b"
            ],
            [
             0.6666666666666666,
             "#ed7953"
            ],
            [
             0.7777777777777778,
             "#fb9f3a"
            ],
            [
             0.8888888888888888,
             "#fdca26"
            ],
            [
             1,
             "#f0f921"
            ]
           ],
           "sequentialminus": [
            [
             0,
             "#0d0887"
            ],
            [
             0.1111111111111111,
             "#46039f"
            ],
            [
             0.2222222222222222,
             "#7201a8"
            ],
            [
             0.3333333333333333,
             "#9c179e"
            ],
            [
             0.4444444444444444,
             "#bd3786"
            ],
            [
             0.5555555555555556,
             "#d8576b"
            ],
            [
             0.6666666666666666,
             "#ed7953"
            ],
            [
             0.7777777777777778,
             "#fb9f3a"
            ],
            [
             0.8888888888888888,
             "#fdca26"
            ],
            [
             1,
             "#f0f921"
            ]
           ]
          },
          "colorway": [
           "#636efa",
           "#EF553B",
           "#00cc96",
           "#ab63fa",
           "#FFA15A",
           "#19d3f3",
           "#FF6692",
           "#B6E880",
           "#FF97FF",
           "#FECB52"
          ],
          "font": {
           "color": "#2a3f5f"
          },
          "geo": {
           "bgcolor": "white",
           "lakecolor": "white",
           "landcolor": "#E5ECF6",
           "showlakes": true,
           "showland": true,
           "subunitcolor": "white"
          },
          "hoverlabel": {
           "align": "left"
          },
          "hovermode": "closest",
          "mapbox": {
           "style": "light"
          },
          "paper_bgcolor": "white",
          "plot_bgcolor": "#E5ECF6",
          "polar": {
           "angularaxis": {
            "gridcolor": "white",
            "linecolor": "white",
            "ticks": ""
           },
           "bgcolor": "#E5ECF6",
           "radialaxis": {
            "gridcolor": "white",
            "linecolor": "white",
            "ticks": ""
           }
          },
          "scene": {
           "xaxis": {
            "backgroundcolor": "#E5ECF6",
            "gridcolor": "white",
            "gridwidth": 2,
            "linecolor": "white",
            "showbackground": true,
            "ticks": "",
            "zerolinecolor": "white"
           },
           "yaxis": {
            "backgroundcolor": "#E5ECF6",
            "gridcolor": "white",
            "gridwidth": 2,
            "linecolor": "white",
            "showbackground": true,
            "ticks": "",
            "zerolinecolor": "white"
           },
           "zaxis": {
            "backgroundcolor": "#E5ECF6",
            "gridcolor": "white",
            "gridwidth": 2,
            "linecolor": "white",
            "showbackground": true,
            "ticks": "",
            "zerolinecolor": "white"
           }
          },
          "shapedefaults": {
           "line": {
            "color": "#2a3f5f"
           }
          },
          "ternary": {
           "aaxis": {
            "gridcolor": "white",
            "linecolor": "white",
            "ticks": ""
           },
           "baxis": {
            "gridcolor": "white",
            "linecolor": "white",
            "ticks": ""
           },
           "bgcolor": "#E5ECF6",
           "caxis": {
            "gridcolor": "white",
            "linecolor": "white",
            "ticks": ""
           }
          },
          "title": {
           "x": 0.05
          },
          "xaxis": {
           "automargin": true,
           "gridcolor": "white",
           "linecolor": "white",
           "ticks": "",
           "title": {
            "standoff": 15
           },
           "zerolinecolor": "white",
           "zerolinewidth": 2
          },
          "yaxis": {
           "automargin": true,
           "gridcolor": "white",
           "linecolor": "white",
           "ticks": "",
           "title": {
            "standoff": 15
           },
           "zerolinecolor": "white",
           "zerolinewidth": 2
          }
         }
        },
        "xaxis": {
         "anchor": "y",
         "domain": [
          0,
          0.2888888888888889
         ],
         "matches": "x7",
         "nticks": 20,
         "showticklabels": false
        },
        "xaxis2": {
         "anchor": "y2",
         "domain": [
          0.35555555555555557,
          0.6444444444444445
         ],
         "matches": "x8",
         "nticks": 20,
         "showticklabels": false
        },
        "xaxis3": {
         "anchor": "y3",
         "domain": [
          0.7111111111111111,
          1
         ],
         "matches": "x9",
         "nticks": 20,
         "showticklabels": false
        },
        "xaxis4": {
         "anchor": "y4",
         "domain": [
          0,
          0.2888888888888889
         ],
         "matches": "x7",
         "nticks": 20,
         "showticklabels": false
        },
        "xaxis5": {
         "anchor": "y5",
         "domain": [
          0.35555555555555557,
          0.6444444444444445
         ],
         "matches": "x8",
         "nticks": 20,
         "showticklabels": false
        },
        "xaxis6": {
         "anchor": "y6",
         "domain": [
          0.7111111111111111,
          1
         ],
         "matches": "x9",
         "nticks": 20,
         "showticklabels": false
        },
        "xaxis7": {
         "anchor": "y7",
         "domain": [
          0,
          0.2888888888888889
         ],
         "nticks": 20
        },
        "xaxis8": {
         "anchor": "y8",
         "domain": [
          0.35555555555555557,
          0.6444444444444445
         ],
         "nticks": 20
        },
        "xaxis9": {
         "anchor": "y9",
         "domain": [
          0.7111111111111111,
          1
         ],
         "nticks": 20
        },
        "yaxis": {
         "anchor": "x",
         "domain": [
          0.6,
          1
         ]
        },
        "yaxis2": {
         "anchor": "x2",
         "domain": [
          0.6,
          1
         ]
        },
        "yaxis3": {
         "anchor": "x3",
         "domain": [
          0.6,
          1
         ]
        },
        "yaxis4": {
         "anchor": "x4",
         "domain": [
          0.3,
          0.5
         ]
        },
        "yaxis5": {
         "anchor": "x5",
         "domain": [
          0.3,
          0.5
         ]
        },
        "yaxis6": {
         "anchor": "x6",
         "domain": [
          0.3,
          0.5
         ]
        },
        "yaxis7": {
         "anchor": "x7",
         "domain": [
          0,
          0.2
         ]
        },
        "yaxis8": {
         "anchor": "x8",
         "domain": [
          0,
          0.2
         ]
        },
        "yaxis9": {
         "anchor": "x9",
         "domain": [
          0,
          0.2
         ]
        }
       }
      },
      "text/html": [
       "<div>                            <div id=\"765638af-1525-4ef8-b8a9-19d9b23c9b18\" class=\"plotly-graph-div\" style=\"height:525px; width:100%;\"></div>            <script type=\"text/javascript\">                require([\"plotly\"], function(Plotly) {                    window.PLOTLYENV=window.PLOTLYENV || {};                                    if (document.getElementById(\"765638af-1525-4ef8-b8a9-19d9b23c9b18\")) {                    Plotly.newPlot(                        \"765638af-1525-4ef8-b8a9-19d9b23c9b18\",                        [{\"line\": {\"color\": \"cadetblue\"}, \"mode\": \"lines\", \"name\": \"SST-2\", \"showlegend\": true, \"type\": \"scatter\", \"x\": [0, 200, 400, 600, 800, 1000, 1200, 1400, 1600, 1800, 2000, 2200, 2400], \"xaxis\": \"x\", \"y\": [0.7322626477877298, 0.3642666401863099, 0.2904091308116913, 0.2983312123616536, 0.27746466406186426, 0.3026227445602417, 0.27280253775914515, 0.2889628318945567, 0.2873687079747518, 0.297387496471405, 0.31714715965588886, 0.31053086137771607, 0.3084409124851227], \"yaxis\": \"y\"}, {\"line\": {\"color\": \"coral\"}, \"mode\": \"lines\", \"name\": \"MRPC\", \"showlegend\": true, \"type\": \"scatter\", \"x\": [0, 200, 400, 600, 800, 1000, 1200, 1400, 1600, 1800, 2000, 2200, 2400], \"xaxis\": \"x\", \"y\": [0.7702550669900733, 0.5988445052134446, 0.5250130486644172, 0.49271696143680144, 0.44655096219256035, 0.4346908950338177, 0.4176412146855024, 0.4536956879827711, 0.42672139484118793, 0.4437002559113347, 0.4601239293229346, 0.4749661497041291, 0.46558601715985465], \"yaxis\": \"y\"}, {\"line\": {\"color\": \"olive\"}, \"mode\": \"lines\", \"name\": \"RTE\", \"showlegend\": true, \"type\": \"scatter\", \"x\": [0, 200, 400, 600, 800, 1000, 1200, 1400, 1600, 1800, 2000, 2200, 2400], \"xaxis\": \"x\", \"y\": [0.8563862201096355, 0.6969044922630568, 0.664769610920966, 0.6554728923500449, 0.6520043453156661, 0.6690685062304786, 0.6782734231384481, 0.7641245280774895, 0.75954702741282, 0.823247420039154, 0.8403475909417377, 0.8927326892021198, 0.9018645956032518], \"yaxis\": \"y\"}, {\"line\": {\"color\": \"purple\"}, \"mode\": \"lines\", \"name\": \"Aggregate\", \"showlegend\": true, \"type\": \"scatter\", \"x\": [0, 200, 400, 600, 800, 1000, 1200, 1400, 1600, 1800, 2000, 2200, 2400], \"xaxis\": \"x\", \"y\": [0.7508017733448842, 0.4341309531908751, 0.36456780852930376, 0.3646056122496775, 0.3416823099871151, 0.36038088003498253, 0.33651496121318436, 0.362865824975958, 0.35710682735120963, 0.37370379481573807, 0.39268286794912616, 0.3953957280381899, 0.39335154558791485], \"yaxis\": \"y\"}, {\"marker\": {\"color\": [\"cadetblue\", \"coral\", \"olive\", \"purple\"], \"size\": 9}, \"mode\": \"markers\", \"name\": \"sampling-raw minimum\", \"showlegend\": false, \"type\": \"scatter\", \"x\": [1200, 1200, 800, 1200], \"xaxis\": \"x\", \"y\": [0.27280253775914515, 0.4176412146855024, 0.6520043453156661, 0.33651496121318436], \"yaxis\": \"y\"}, {\"line\": {\"color\": \"purple\", \"dash\": \"dash\"}, \"mode\": \"lines\", \"showlegend\": false, \"type\": \"scatter\", \"x\": [1200, 1200], \"xaxis\": \"x\", \"y\": [0.2, 0.9], \"yaxis\": \"y\"}, {\"colorbar\": {\"len\": 0.5, \"title\": {\"text\": \"Probability\"}, \"yanchor\": \"middle\"}, \"colorscale\": [[0.0, \"rgb(247,251,255)\"], [0.125, \"rgb(222,235,247)\"], [0.25, \"rgb(198,219,239)\"], [0.375, \"rgb(158,202,225)\"], [0.5, \"rgb(107,174,214)\"], [0.625, \"rgb(66,146,198)\"], [0.75, \"rgb(33,113,181)\"], [0.875, \"rgb(8,81,156)\"], [1.0, \"rgb(8,48,107)\"]], \"hoverongaps\": false, \"type\": \"heatmap\", \"x\": [0, 200, 400, 600, 800, 1000, 1200, 1400, 1600, 1800, 2000, 2200, 2400], \"xaxis\": \"x4\", \"xgap\": 1, \"y\": [\"SST-2\", \"MRPC\", \"RTE\"], \"yaxis\": \"y4\", \"ygap\": 1, \"z\": [[0.3333333333333333, 0.2873631169411079, 0.31266515904429054, 0.31266515904429054, 0.3351780192913038, 0.3398648388808003, 0.3398648388808003, 0.3415308744081637, 0.3554585414654206, 0.3554585414654206, 0.3538253502944195, 0.36648093015277655], [0.3333333333333333, 0.33604269146457955, 0.30458921233650676, 0.30458921233650676, 0.3267880358098708, 0.3459118726668797, 0.3459118726668797, 0.34567344305856906, 0.36422793367481504, 0.36422793367481504, 0.3356094293264169, 0.3500503325831917], [0.3333333333333333, 0.3765941915943125, 0.3827456286192028, 0.3827456286192028, 0.33803394489882543, 0.31422328845231995, 0.31422328845231995, 0.3127956825332672, 0.28031352485976435, 0.28031352485976435, 0.3105652203791636, 0.2834687372640317]], \"zmax\": 0.4, \"zmin\": 0.28}, {\"colorbar\": {\"len\": 0.5, \"title\": {\"text\": \"Uncertainty\"}, \"y\": 0}, \"colorscale\": [[0.0, \"rgb(255,245,240)\"], [0.125, \"rgb(254,224,210)\"], [0.25, \"rgb(252,187,161)\"], [0.375, \"rgb(252,146,114)\"], [0.5, \"rgb(251,106,74)\"], [0.625, \"rgb(239,59,44)\"], [0.75, \"rgb(203,24,29)\"], [0.875, \"rgb(165,15,21)\"], [1.0, \"rgb(103,0,13)\"]], \"hoverongaps\": false, \"type\": \"heatmap\", \"x\": [0, 200, 400, 600, 800, 1000, 1200, 1400, 1600, 1800, 2000, 2200, 2400], \"xaxis\": \"x7\", \"xgap\": 1, \"y\": [\"SST-2\", \"MRPC\", \"RTE\"], \"yaxis\": \"y7\", \"ygap\": 1, \"z\": [[1, 2.362651056412171, 2.397481616579711, 2.326343340927424, 2.4580159214053414, 2.485973242376255, 2.576864567620144, 2.3849813940642632, 2.4530520930774258, 2.348786847522336, 2.2933549535193025, 2.441458593059737], [1, 2.761342738104087, 2.327690297325368, 2.4912042256328415, 2.4116242089100552, 2.534926335335515, 2.5112112522493777, 2.4137642144962435, 2.526304550848415, 2.316936319828511, 2.187572769066725, 2.347271614166445], [1, 3.094741490062423, 2.92591423398099, 2.8172689973318685, 2.4893303760356, 2.300647529359852, 2.188548822109197, 2.1854794030088938, 1.9541363786875214, 2.0988964465092277, 2.031751608422605, 1.9063897474585232]], \"zmax\": 3, \"zmin\": 1}, {\"line\": {\"color\": \"cadetblue\"}, \"mode\": \"lines\", \"name\": \"SST-2\", \"showlegend\": false, \"type\": \"scatter\", \"x\": [0, 200, 400, 600, 800, 1000, 1200, 1400, 1600, 1800, 2000, 2200, 2400], \"xaxis\": \"x2\", \"y\": [0.7296411765416463, 0.3317488728364309, 0.3068898293972015, 0.28662384017308556, 0.2788865083853404, 0.2849657684167226, 0.28234655149777727, 0.27528647891680397, 0.29006102021535235, 0.295512997229894, 0.3008152691523234, 0.3163181708653768, 0.33224903925259913], \"yaxis\": \"y2\"}, {\"line\": {\"color\": \"coral\"}, \"mode\": \"lines\", \"name\": \"MRPC\", \"showlegend\": false, \"type\": \"scatter\", \"x\": [0, 200, 400, 600, 800, 1000, 1200, 1400, 1600, 1800, 2000, 2200, 2400], \"xaxis\": \"x2\", \"y\": [0.6320527943910337, 0.5985282550450245, 0.4839324838195751, 0.4948196430611455, 0.4421852768636217, 0.40580784242137585, 0.4231393193107804, 0.4060495230886671, 0.4269038816682653, 0.4224540088690964, 0.43862022566639514, 0.4499356723299213, 0.46667449965196495], \"yaxis\": \"y2\"}, {\"line\": {\"color\": \"olive\"}, \"mode\": \"lines\", \"name\": \"RTE\", \"showlegend\": false, \"type\": \"scatter\", \"x\": [0, 200, 400, 600, 800, 1000, 1200, 1400, 1600, 1800, 2000, 2200, 2400], \"xaxis\": \"x2\", \"y\": [0.7931134821712106, 0.7117959511452828, 0.6692590797005068, 0.6550761202107305, 0.6648803824099941, 0.7026309468895917, 0.6857048702124812, 0.7256897898111943, 0.8088544523658383, 0.8384268658172681, 0.8903979286191545, 0.9290195691988664, 0.9601607388920254], \"yaxis\": \"y2\"}, {\"line\": {\"color\": \"purple\"}, \"mode\": \"lines\", \"name\": \"Aggregate\", \"showlegend\": false, \"type\": \"scatter\", \"x\": [0, 200, 400, 600, 800, 1000, 1200, 1400, 1600, 1800, 2000, 2200, 2400], \"xaxis\": \"x2\", \"y\": [0.7213335373599435, 0.4113833667091393, 0.3710654315164417, 0.3561606199304322, 0.34340223370946227, 0.34628438073133155, 0.34522670993032706, 0.3414797113419053, 0.36421112257985405, 0.3706382433099647, 0.3823909905646135, 0.3996346859687961, 0.417252473285171], \"yaxis\": \"y2\"}, {\"marker\": {\"color\": [\"cadetblue\", \"coral\", \"olive\", \"purple\"], \"size\": 9}, \"mode\": \"markers\", \"name\": \"sampling-smoothed-r=0.25 minimum\", \"showlegend\": false, \"type\": \"scatter\", \"x\": [1400, 1000, 600, 1400], \"xaxis\": \"x2\", \"y\": [0.27528647891680397, 0.40580784242137585, 0.6550761202107305, 0.3414797113419053], \"yaxis\": \"y2\"}, {\"line\": {\"color\": \"purple\", \"dash\": \"dash\"}, \"mode\": \"lines\", \"showlegend\": false, \"type\": \"scatter\", \"x\": [1400, 1400], \"xaxis\": \"x2\", \"y\": [0.2, 0.9], \"yaxis\": \"y2\"}, {\"colorbar\": {\"len\": 0.5, \"title\": {\"text\": \"Probability\"}, \"yanchor\": \"middle\"}, \"colorscale\": [[0.0, \"rgb(247,251,255)\"], [0.125, \"rgb(222,235,247)\"], [0.25, \"rgb(198,219,239)\"], [0.375, \"rgb(158,202,225)\"], [0.5, \"rgb(107,174,214)\"], [0.625, \"rgb(66,146,198)\"], [0.75, \"rgb(33,113,181)\"], [0.875, \"rgb(8,81,156)\"], [1.0, \"rgb(8,48,107)\"]], \"hoverongaps\": false, \"type\": \"heatmap\", \"x\": [0, 200, 400, 600, 800, 1000, 1200, 1400, 1600, 1800, 2000, 2200, 2400], \"xaxis\": \"x5\", \"xgap\": 1, \"y\": [\"SST-2\", \"MRPC\", \"RTE\"], \"yaxis\": \"y5\", \"ygap\": 1, \"z\": [[0.3333333333333333, 0.2819180697226651, 0.2992473397827536, 0.2992473397827536, 0.3133669095565751, 0.3245203981288886, 0.3245203981288886, 0.3392867916835655, 0.3517413893206931, 0.3517413893206931, 0.33946683009058926, 0.34641371338840865], [0.3333333333333333, 0.3482511314357201, 0.3262318548276116, 0.3262318548276116, 0.3355725183463915, 0.34568949548501715, 0.34568949548501715, 0.3480241190628463, 0.3500228283310613, 0.3500228283310613, 0.3642580604590995, 0.36889762792019015], [0.3333333333333333, 0.3698307988416148, 0.3745208053896349, 0.3745208053896349, 0.35106057209703345, 0.3297901063860942, 0.3297901063860942, 0.31268908925358824, 0.2982357823482456, 0.2982357823482456, 0.2962751094503113, 0.2846886586914011]], \"zmax\": 0.4, \"zmin\": 0.28}, {\"colorbar\": {\"len\": 0.5, \"title\": {\"text\": \"Uncertainty\"}, \"y\": 0}, \"colorscale\": [[0.0, \"rgb(255,245,240)\"], [0.125, \"rgb(254,224,210)\"], [0.25, \"rgb(252,187,161)\"], [0.375, \"rgb(252,146,114)\"], [0.5, \"rgb(251,106,74)\"], [0.625, \"rgb(239,59,44)\"], [0.75, \"rgb(203,24,29)\"], [0.875, \"rgb(165,15,21)\"], [1.0, \"rgb(103,0,13)\"]], \"hoverongaps\": false, \"type\": \"heatmap\", \"x\": [0, 200, 400, 600, 800, 1000, 1200, 1400, 1600, 1800, 2000, 2200, 2400], \"xaxis\": \"x8\", \"xgap\": 1, \"y\": [\"SST-2\", \"MRPC\", \"RTE\"], \"yaxis\": \"y8\", \"ygap\": 1, \"z\": [[1, 2.3623793174083736, 2.4386284757703725, 2.393385543284039, 2.4083021675433947, 2.4054412252445716, 2.411283216183207, 2.524229003433941, 2.434166452762736, 2.360348724232959, 2.301303817530897, 2.40738396211601], [1, 2.9062774325924003, 2.537613948224371, 2.4028816128696247, 2.5599738533108134, 2.5569068718632546, 2.5880179295576045, 2.56102275444109, 2.4128419736402233, 2.6052166695561523, 2.540234239590433, 2.559600884133584], [1, 3.0854196515268977, 2.9931711847057394, 2.874317846257607, 2.5851604515695743, 2.3562289895563784, 2.3474798995050272, 2.2662724568829726, 2.0515839158691715, 2.013885353558662, 2.042252209232116, 1.9446506771142191]], \"zmax\": 3, \"zmin\": 1}, {\"line\": {\"color\": \"cadetblue\"}, \"mode\": \"lines\", \"name\": \"SST-2\", \"showlegend\": false, \"type\": \"scatter\", \"x\": [0, 200, 400, 600, 800, 1000, 1200, 1400, 1600, 1800, 2000, 2200, 2400], \"xaxis\": \"x3\", \"y\": [0.7042644162178039, 0.3626221915880839, 0.28486873976389565, 0.28559011467297873, 0.2832157456080118, 0.2714623085657756, 0.27127600979804994, 0.275497590859731, 0.3036944132645925, 0.3318792916138967, 0.28723838432629906, 0.2980251626968384, 0.31121754066149393], \"yaxis\": \"y3\"}, {\"line\": {\"color\": \"coral\"}, \"mode\": \"lines\", \"name\": \"MRPC\", \"showlegend\": false, \"type\": \"scatter\", \"x\": [0, 200, 400, 600, 800, 1000, 1200, 1400, 1600, 1800, 2000, 2200, 2400], \"xaxis\": \"x3\", \"y\": [0.7914901597827089, 0.6034184515086655, 0.5171032684301239, 0.4854103954009761, 0.439868555739035, 0.42842945592855314, 0.45271292426227744, 0.45295073861390156, 0.4806417854003657, 0.4835446644452663, 0.4741913890526965, 0.4709935445411533, 0.5015209589908326], \"yaxis\": \"y3\"}, {\"line\": {\"color\": \"olive\"}, \"mode\": \"lines\", \"name\": \"RTE\", \"showlegend\": false, \"type\": \"scatter\", \"x\": [0, 200, 400, 600, 800, 1000, 1200, 1400, 1600, 1800, 2000, 2200, 2400], \"xaxis\": \"x3\", \"y\": [0.7068585718887439, 0.6851960918753619, 0.6437489157137664, 0.6443684057912965, 0.6430778569645352, 0.6744997268137723, 0.712660220798087, 0.7512664506976732, 0.8033173694702738, 0.8358739280470328, 0.8960612542963258, 0.9097178106146734, 0.9438736372523838], \"yaxis\": \"y3\"}, {\"line\": {\"color\": \"purple\"}, \"mode\": \"lines\", \"name\": \"Aggregate\", \"showlegend\": false, \"type\": \"scatter\", \"x\": [0, 200, 400, 600, 800, 1000, 1200, 1400, 1600, 1800, 2000, 2200, 2400], \"xaxis\": \"x3\", \"y\": [0.717790530353296, 0.43239688254444975, 0.35707537771396475, 0.3528589234977472, 0.3440340352011035, 0.3367681668222809, 0.3442448262426904, 0.35139665553893135, 0.38196954878775324, 0.40676080866708014, 0.37826369656180486, 0.38721974936517034, 0.40520296440868314], \"yaxis\": \"y3\"}, {\"marker\": {\"color\": [\"cadetblue\", \"coral\", \"olive\", \"purple\"], \"size\": 9}, \"mode\": \"markers\", \"name\": \"sampling-smoothed-r=0.5 minimum\", \"showlegend\": false, \"type\": \"scatter\", \"x\": [1200, 1000, 800, 1000], \"xaxis\": \"x3\", \"y\": [0.27127600979804994, 0.42842945592855314, 0.6430778569645352, 0.3367681668222809], \"yaxis\": \"y3\"}, {\"line\": {\"color\": \"purple\", \"dash\": \"dash\"}, \"mode\": \"lines\", \"showlegend\": false, \"type\": \"scatter\", \"x\": [1000, 1000], \"xaxis\": \"x3\", \"y\": [0.2, 0.9], \"yaxis\": \"y3\"}, {\"colorbar\": {\"len\": 0.5, \"title\": {\"text\": \"Probability\"}, \"yanchor\": \"middle\"}, \"colorscale\": [[0.0, \"rgb(247,251,255)\"], [0.125, \"rgb(222,235,247)\"], [0.25, \"rgb(198,219,239)\"], [0.375, \"rgb(158,202,225)\"], [0.5, \"rgb(107,174,214)\"], [0.625, \"rgb(66,146,198)\"], [0.75, \"rgb(33,113,181)\"], [0.875, \"rgb(8,81,156)\"], [1.0, \"rgb(8,48,107)\"]], \"hoverongaps\": false, \"type\": \"heatmap\", \"x\": [0, 200, 400, 600, 800, 1000, 1200, 1400, 1600, 1800, 2000, 2200, 2400], \"xaxis\": \"x6\", \"xgap\": 1, \"y\": [\"SST-2\", \"MRPC\", \"RTE\"], \"yaxis\": \"y6\", \"ygap\": 1, \"z\": [[0.3333333333333333, 0.27302850015613744, 0.2911810308625855, 0.2911810308625855, 0.3109624990986203, 0.33109748141825207, 0.33109748141825207, 0.3410879631690855, 0.3540135215940421, 0.3540135215940421, 0.35276323440085033, 0.35805877027131067], [0.3333333333333333, 0.3450071260908629, 0.3308154653574977, 0.3308154653574977, 0.3289016988908336, 0.3287608668541605, 0.3287608668541605, 0.3397898715193792, 0.34694698966996174, 0.34694698966996174, 0.36744511911255107, 0.36654539395821295], [0.3333333333333333, 0.3819643737529996, 0.3780035037799168, 0.3780035037799168, 0.36013580201054607, 0.34014165172758737, 0.34014165172758737, 0.31912216531153526, 0.2990394887359962, 0.2990394887359962, 0.27979164648659854, 0.2753958357704765]], \"zmax\": 0.4, \"zmin\": 0.28}, {\"colorbar\": {\"len\": 0.5, \"title\": {\"text\": \"Uncertainty\"}, \"y\": 0}, \"colorscale\": [[0.0, \"rgb(255,245,240)\"], [0.125, \"rgb(254,224,210)\"], [0.25, \"rgb(252,187,161)\"], [0.375, \"rgb(252,146,114)\"], [0.5, \"rgb(251,106,74)\"], [0.625, \"rgb(239,59,44)\"], [0.75, \"rgb(203,24,29)\"], [0.875, \"rgb(165,15,21)\"], [1.0, \"rgb(103,0,13)\"]], \"hoverongaps\": false, \"type\": \"heatmap\", \"x\": [0, 200, 400, 600, 800, 1000, 1200, 1400, 1600, 1800, 2000, 2200, 2400], \"xaxis\": \"x9\", \"xgap\": 1, \"y\": [\"SST-2\", \"MRPC\", \"RTE\"], \"yaxis\": \"y9\", \"ygap\": 1, \"z\": [[1, 2.2989702005099146, 2.5781984119835557, 2.409726614894685, 2.494491863879817, 2.5618685641005126, 2.5828692628540444, 2.4159103573136687, 2.417348740913585, 2.46021178028384, 2.460867237588485, 2.4448607377743414], [1, 2.828041016877125, 2.5766948205435827, 2.6084831031987243, 2.5179286746614484, 2.464949854841299, 2.4366859423054414, 2.4682162697518115, 2.466876350269143, 2.586457849766532, 2.681184092795155, 2.5519061058179386], [1, 3.107245747230761, 3.0226985999647638, 2.9465504618330627, 2.56577894997252, 2.3189053761724536, 2.219997764147356, 2.0312184080837614, 1.8805298179985976, 1.8485336679940145, 1.828467870816877, 1.8546412271325305]], \"zmax\": 3, \"zmin\": 1}],                        {\"annotations\": [{\"font\": {\"size\": 16}, \"showarrow\": false, \"text\": \"Number of iterations\", \"x\": 0.5, \"xanchor\": \"center\", \"xref\": \"paper\", \"y\": 0, \"yanchor\": \"top\", \"yref\": \"paper\", \"yshift\": -30}], \"template\": {\"data\": {\"bar\": [{\"error_x\": {\"color\": \"#2a3f5f\"}, \"error_y\": {\"color\": \"#2a3f5f\"}, \"marker\": {\"line\": {\"color\": \"#E5ECF6\", \"width\": 0.5}}, \"type\": \"bar\"}], \"barpolar\": [{\"marker\": {\"line\": {\"color\": \"#E5ECF6\", \"width\": 0.5}}, \"type\": \"barpolar\"}], \"carpet\": [{\"aaxis\": {\"endlinecolor\": \"#2a3f5f\", \"gridcolor\": \"white\", \"linecolor\": \"white\", \"minorgridcolor\": \"white\", \"startlinecolor\": \"#2a3f5f\"}, \"baxis\": {\"endlinecolor\": \"#2a3f5f\", \"gridcolor\": \"white\", \"linecolor\": \"white\", \"minorgridcolor\": \"white\", \"startlinecolor\": \"#2a3f5f\"}, \"type\": \"carpet\"}], \"choropleth\": [{\"colorbar\": {\"outlinewidth\": 0, \"ticks\": \"\"}, \"type\": \"choropleth\"}], \"contour\": [{\"colorbar\": {\"outlinewidth\": 0, \"ticks\": \"\"}, \"colorscale\": [[0.0, \"#0d0887\"], [0.1111111111111111, \"#46039f\"], [0.2222222222222222, \"#7201a8\"], [0.3333333333333333, \"#9c179e\"], [0.4444444444444444, \"#bd3786\"], [0.5555555555555556, \"#d8576b\"], [0.6666666666666666, \"#ed7953\"], [0.7777777777777778, \"#fb9f3a\"], [0.8888888888888888, \"#fdca26\"], [1.0, \"#f0f921\"]], \"type\": \"contour\"}], \"contourcarpet\": [{\"colorbar\": {\"outlinewidth\": 0, \"ticks\": \"\"}, \"type\": \"contourcarpet\"}], \"heatmap\": [{\"colorbar\": {\"outlinewidth\": 0, \"ticks\": \"\"}, \"colorscale\": [[0.0, \"#0d0887\"], [0.1111111111111111, \"#46039f\"], [0.2222222222222222, \"#7201a8\"], [0.3333333333333333, \"#9c179e\"], [0.4444444444444444, \"#bd3786\"], [0.5555555555555556, \"#d8576b\"], [0.6666666666666666, \"#ed7953\"], [0.7777777777777778, \"#fb9f3a\"], [0.8888888888888888, \"#fdca26\"], [1.0, \"#f0f921\"]], \"type\": \"heatmap\"}], \"heatmapgl\": [{\"colorbar\": {\"outlinewidth\": 0, \"ticks\": \"\"}, \"colorscale\": [[0.0, \"#0d0887\"], [0.1111111111111111, \"#46039f\"], [0.2222222222222222, \"#7201a8\"], [0.3333333333333333, \"#9c179e\"], [0.4444444444444444, \"#bd3786\"], [0.5555555555555556, \"#d8576b\"], [0.6666666666666666, \"#ed7953\"], [0.7777777777777778, \"#fb9f3a\"], [0.8888888888888888, \"#fdca26\"], [1.0, \"#f0f921\"]], \"type\": \"heatmapgl\"}], \"histogram\": [{\"marker\": {\"colorbar\": {\"outlinewidth\": 0, \"ticks\": \"\"}}, \"type\": \"histogram\"}], \"histogram2d\": [{\"colorbar\": {\"outlinewidth\": 0, \"ticks\": \"\"}, \"colorscale\": [[0.0, \"#0d0887\"], [0.1111111111111111, \"#46039f\"], [0.2222222222222222, \"#7201a8\"], [0.3333333333333333, \"#9c179e\"], [0.4444444444444444, \"#bd3786\"], [0.5555555555555556, \"#d8576b\"], [0.6666666666666666, \"#ed7953\"], [0.7777777777777778, \"#fb9f3a\"], [0.8888888888888888, \"#fdca26\"], [1.0, \"#f0f921\"]], \"type\": \"histogram2d\"}], \"histogram2dcontour\": [{\"colorbar\": {\"outlinewidth\": 0, \"ticks\": \"\"}, \"colorscale\": [[0.0, \"#0d0887\"], [0.1111111111111111, \"#46039f\"], [0.2222222222222222, \"#7201a8\"], [0.3333333333333333, \"#9c179e\"], [0.4444444444444444, \"#bd3786\"], [0.5555555555555556, \"#d8576b\"], [0.6666666666666666, \"#ed7953\"], [0.7777777777777778, \"#fb9f3a\"], [0.8888888888888888, \"#fdca26\"], [1.0, \"#f0f921\"]], \"type\": \"histogram2dcontour\"}], \"mesh3d\": [{\"colorbar\": {\"outlinewidth\": 0, \"ticks\": \"\"}, \"type\": \"mesh3d\"}], \"parcoords\": [{\"line\": {\"colorbar\": {\"outlinewidth\": 0, \"ticks\": \"\"}}, \"type\": \"parcoords\"}], \"pie\": [{\"automargin\": true, \"type\": \"pie\"}], \"scatter\": [{\"marker\": {\"colorbar\": {\"outlinewidth\": 0, \"ticks\": \"\"}}, \"type\": \"scatter\"}], \"scatter3d\": [{\"line\": {\"colorbar\": {\"outlinewidth\": 0, \"ticks\": \"\"}}, \"marker\": {\"colorbar\": {\"outlinewidth\": 0, \"ticks\": \"\"}}, \"type\": \"scatter3d\"}], \"scattercarpet\": [{\"marker\": {\"colorbar\": {\"outlinewidth\": 0, \"ticks\": \"\"}}, \"type\": \"scattercarpet\"}], \"scattergeo\": [{\"marker\": {\"colorbar\": {\"outlinewidth\": 0, \"ticks\": \"\"}}, \"type\": \"scattergeo\"}], \"scattergl\": [{\"marker\": {\"colorbar\": {\"outlinewidth\": 0, \"ticks\": \"\"}}, \"type\": \"scattergl\"}], \"scattermapbox\": [{\"marker\": {\"colorbar\": {\"outlinewidth\": 0, \"ticks\": \"\"}}, \"type\": \"scattermapbox\"}], \"scatterpolar\": [{\"marker\": {\"colorbar\": {\"outlinewidth\": 0, \"ticks\": \"\"}}, \"type\": \"scatterpolar\"}], \"scatterpolargl\": [{\"marker\": {\"colorbar\": {\"outlinewidth\": 0, \"ticks\": \"\"}}, \"type\": \"scatterpolargl\"}], \"scatterternary\": [{\"marker\": {\"colorbar\": {\"outlinewidth\": 0, \"ticks\": \"\"}}, \"type\": \"scatterternary\"}], \"surface\": [{\"colorbar\": {\"outlinewidth\": 0, \"ticks\": \"\"}, \"colorscale\": [[0.0, \"#0d0887\"], [0.1111111111111111, \"#46039f\"], [0.2222222222222222, \"#7201a8\"], [0.3333333333333333, \"#9c179e\"], [0.4444444444444444, \"#bd3786\"], [0.5555555555555556, \"#d8576b\"], [0.6666666666666666, \"#ed7953\"], [0.7777777777777778, \"#fb9f3a\"], [0.8888888888888888, \"#fdca26\"], [1.0, \"#f0f921\"]], \"type\": \"surface\"}], \"table\": [{\"cells\": {\"fill\": {\"color\": \"#EBF0F8\"}, \"line\": {\"color\": \"white\"}}, \"header\": {\"fill\": {\"color\": \"#C8D4E3\"}, \"line\": {\"color\": \"white\"}}, \"type\": \"table\"}]}, \"layout\": {\"annotationdefaults\": {\"arrowcolor\": \"#2a3f5f\", \"arrowhead\": 0, \"arrowwidth\": 1}, \"coloraxis\": {\"colorbar\": {\"outlinewidth\": 0, \"ticks\": \"\"}}, \"colorscale\": {\"diverging\": [[0, \"#8e0152\"], [0.1, \"#c51b7d\"], [0.2, \"#de77ae\"], [0.3, \"#f1b6da\"], [0.4, \"#fde0ef\"], [0.5, \"#f7f7f7\"], [0.6, \"#e6f5d0\"], [0.7, \"#b8e186\"], [0.8, \"#7fbc41\"], [0.9, \"#4d9221\"], [1, \"#276419\"]], \"sequential\": [[0.0, \"#0d0887\"], [0.1111111111111111, \"#46039f\"], [0.2222222222222222, \"#7201a8\"], [0.3333333333333333, \"#9c179e\"], [0.4444444444444444, \"#bd3786\"], [0.5555555555555556, \"#d8576b\"], [0.6666666666666666, \"#ed7953\"], [0.7777777777777778, \"#fb9f3a\"], [0.8888888888888888, \"#fdca26\"], [1.0, \"#f0f921\"]], \"sequentialminus\": [[0.0, \"#0d0887\"], [0.1111111111111111, \"#46039f\"], [0.2222222222222222, \"#7201a8\"], [0.3333333333333333, \"#9c179e\"], [0.4444444444444444, \"#bd3786\"], [0.5555555555555556, \"#d8576b\"], [0.6666666666666666, \"#ed7953\"], [0.7777777777777778, \"#fb9f3a\"], [0.8888888888888888, \"#fdca26\"], [1.0, \"#f0f921\"]]}, \"colorway\": [\"#636efa\", \"#EF553B\", \"#00cc96\", \"#ab63fa\", \"#FFA15A\", \"#19d3f3\", \"#FF6692\", \"#B6E880\", \"#FF97FF\", \"#FECB52\"], \"font\": {\"color\": \"#2a3f5f\"}, \"geo\": {\"bgcolor\": \"white\", \"lakecolor\": \"white\", \"landcolor\": \"#E5ECF6\", \"showlakes\": true, \"showland\": true, \"subunitcolor\": \"white\"}, \"hoverlabel\": {\"align\": \"left\"}, \"hovermode\": \"closest\", \"mapbox\": {\"style\": \"light\"}, \"paper_bgcolor\": \"white\", \"plot_bgcolor\": \"#E5ECF6\", \"polar\": {\"angularaxis\": {\"gridcolor\": \"white\", \"linecolor\": \"white\", \"ticks\": \"\"}, \"bgcolor\": \"#E5ECF6\", \"radialaxis\": {\"gridcolor\": \"white\", \"linecolor\": \"white\", \"ticks\": \"\"}}, \"scene\": {\"xaxis\": {\"backgroundcolor\": \"#E5ECF6\", \"gridcolor\": \"white\", \"gridwidth\": 2, \"linecolor\": \"white\", \"showbackground\": true, \"ticks\": \"\", \"zerolinecolor\": \"white\"}, \"yaxis\": {\"backgroundcolor\": \"#E5ECF6\", \"gridcolor\": \"white\", \"gridwidth\": 2, \"linecolor\": \"white\", \"showbackground\": true, \"ticks\": \"\", \"zerolinecolor\": \"white\"}, \"zaxis\": {\"backgroundcolor\": \"#E5ECF6\", \"gridcolor\": \"white\", \"gridwidth\": 2, \"linecolor\": \"white\", \"showbackground\": true, \"ticks\": \"\", \"zerolinecolor\": \"white\"}}, \"shapedefaults\": {\"line\": {\"color\": \"#2a3f5f\"}}, \"ternary\": {\"aaxis\": {\"gridcolor\": \"white\", \"linecolor\": \"white\", \"ticks\": \"\"}, \"baxis\": {\"gridcolor\": \"white\", \"linecolor\": \"white\", \"ticks\": \"\"}, \"bgcolor\": \"#E5ECF6\", \"caxis\": {\"gridcolor\": \"white\", \"linecolor\": \"white\", \"ticks\": \"\"}}, \"title\": {\"x\": 0.05}, \"xaxis\": {\"automargin\": true, \"gridcolor\": \"white\", \"linecolor\": \"white\", \"ticks\": \"\", \"title\": {\"standoff\": 15}, \"zerolinecolor\": \"white\", \"zerolinewidth\": 2}, \"yaxis\": {\"automargin\": true, \"gridcolor\": \"white\", \"linecolor\": \"white\", \"ticks\": \"\", \"title\": {\"standoff\": 15}, \"zerolinecolor\": \"white\", \"zerolinewidth\": 2}}}, \"xaxis\": {\"anchor\": \"y\", \"domain\": [0.0, 0.2888888888888889], \"matches\": \"x7\", \"nticks\": 20, \"showticklabels\": false}, \"xaxis2\": {\"anchor\": \"y2\", \"domain\": [0.35555555555555557, 0.6444444444444445], \"matches\": \"x8\", \"nticks\": 20, \"showticklabels\": false}, \"xaxis3\": {\"anchor\": \"y3\", \"domain\": [0.7111111111111111, 1.0], \"matches\": \"x9\", \"nticks\": 20, \"showticklabels\": false}, \"xaxis4\": {\"anchor\": \"y4\", \"domain\": [0.0, 0.2888888888888889], \"matches\": \"x7\", \"nticks\": 20, \"showticklabels\": false}, \"xaxis5\": {\"anchor\": \"y5\", \"domain\": [0.35555555555555557, 0.6444444444444445], \"matches\": \"x8\", \"nticks\": 20, \"showticklabels\": false}, \"xaxis6\": {\"anchor\": \"y6\", \"domain\": [0.7111111111111111, 1.0], \"matches\": \"x9\", \"nticks\": 20, \"showticklabels\": false}, \"xaxis7\": {\"anchor\": \"y7\", \"domain\": [0.0, 0.2888888888888889], \"nticks\": 20}, \"xaxis8\": {\"anchor\": \"y8\", \"domain\": [0.35555555555555557, 0.6444444444444445], \"nticks\": 20}, \"xaxis9\": {\"anchor\": \"y9\", \"domain\": [0.7111111111111111, 1.0], \"nticks\": 20}, \"yaxis\": {\"anchor\": \"x\", \"domain\": [0.6, 1.0]}, \"yaxis2\": {\"anchor\": \"x2\", \"domain\": [0.6, 1.0]}, \"yaxis3\": {\"anchor\": \"x3\", \"domain\": [0.6, 1.0]}, \"yaxis4\": {\"anchor\": \"x4\", \"domain\": [0.3, 0.5]}, \"yaxis5\": {\"anchor\": \"x5\", \"domain\": [0.3, 0.5]}, \"yaxis6\": {\"anchor\": \"x6\", \"domain\": [0.3, 0.5]}, \"yaxis7\": {\"anchor\": \"x7\", \"domain\": [0.0, 0.2]}, \"yaxis8\": {\"anchor\": \"x8\", \"domain\": [0.0, 0.2]}, \"yaxis9\": {\"anchor\": \"x9\", \"domain\": [0.0, 0.2]}},                        {\"responsive\": true}                    ).then(function(){\n",
       "                            \n",
       "var gd = document.getElementById('765638af-1525-4ef8-b8a9-19d9b23c9b18');\n",
       "var x = new MutationObserver(function (mutations, observer) {{\n",
       "        var display = window.getComputedStyle(gd).display;\n",
       "        if (!display || display === 'none') {{\n",
       "            console.log([gd, 'removed!']);\n",
       "            Plotly.purge(gd);\n",
       "            observer.disconnect();\n",
       "        }}\n",
       "}});\n",
       "\n",
       "// Listen for the removal of the full notebook cells\n",
       "var notebookContainer = gd.closest('#notebook-container');\n",
       "if (notebookContainer) {{\n",
       "    x.observe(notebookContainer, {childList: true});\n",
       "}}\n",
       "\n",
       "// Listen for the clearing of the current output cell\n",
       "var outputEl = gd.closest('.output');\n",
       "if (outputEl) {{\n",
       "    x.observe(outputEl, {childList: true});\n",
       "}}\n",
       "\n",
       "                        })                };                });            </script>        </div>"
      ]
     },
     "metadata": {},
     "output_type": "display_data"
    }
   ],
   "source": [
    "plot_heatmap(['sampling-raw', 'sampling-smoothed-r=0.25', 'sampling-smoothed-r=0.5'], None, zmin=0.28, zmax=0.4)"
   ]
  },
  {
   "cell_type": "markdown",
   "metadata": {},
   "source": [
    "## Downstream metrics"
   ]
  },
  {
   "cell_type": "code",
   "execution_count": 323,
   "metadata": {},
   "outputs": [
    {
     "data": {
      "text/plain": [
       "Index(['train_loss_by_task/rte', 'dev_loss', 'mrpc/test_F1', 'sst/test_AUC',\n",
       "       'test_uncertainty_by_task/mrpc', '_step', 'mrpc/dev_F1',\n",
       "       'dev_uncertainty_by_task/sst', 'train_loss', 'sst/test_ACC', '_runtime',\n",
       "       'test_uncertainty_by_task/rte', 'test_loss_by_task/rte',\n",
       "       'test_loss_by_task/mrpc', 'mrpc/dev_ACC', 'sst/dev_F1',\n",
       "       'dev_loss_by_task/mrpc', 'mrpc/dev_AUC', 'rte/dev_AUC', 'mrpc/test_ACC',\n",
       "       'dev_loss_by_task/sst', 'sst/test_F1', 'rte/test_F1', 'sst/dev_ACC',\n",
       "       'rte/dev_ACC', 'dev_uncertainty_by_task/rte', 'rte/test_ACC',\n",
       "       'train_loss_by_task/sst', 'rte/test_AUC', 'train_loss_by_task/mrpc',\n",
       "       'dev_loss_by_task/rte', 'test_loss', 'test_uncertainty_by_task/sst',\n",
       "       'test_loss_by_task/sst', 'sst/dev_AUC', 'rte/dev_F1', 'global_step',\n",
       "       '_timestamp', 'mrpc/test_AUC', 'dev_uncertainty_by_task/mrpc'],\n",
       "      dtype='object')"
      ]
     },
     "execution_count": 323,
     "metadata": {},
     "output_type": "execute_result"
    }
   ],
   "source": [
    "config_metrics_df['baseline-uniform'].columns"
   ]
  },
  {
   "cell_type": "code",
   "execution_count": 324,
   "metadata": {},
   "outputs": [],
   "source": [
    "dev_summary_dfs = {}\n",
    "test_summary_dfs = {}\n",
    "for config, metrics_df in config_metrics_df.items():\n",
    "    dev_df = metrics_df[[c for c in metrics_df.columns if 'dev' in c]]\n",
    "    test_df = metrics_df[[c for c in metrics_df.columns if 'test' in c]]\n",
    "    dev_summary_df = dev_df[sorted([c for c in dev_df.columns if 'AUC' in c or 'F1' in c or 'ACC' in c or 'uncertainty' in c])]\n",
    "    test_summary_df = test_df[sorted([c for c in test_df.columns if 'AUC' in c or 'F1' in c or 'ACC' in c or 'uncertainty' in c])]\n",
    "    dev_summary_dfs[config] = dev_summary_df\n",
    "    test_summary_dfs[config] = test_summary_df"
   ]
  },
  {
   "cell_type": "code",
   "execution_count": 325,
   "metadata": {},
   "outputs": [],
   "source": [
    "# best points manually chosen based on plots below\n",
    "best_checkpoints = {\n",
    "                    'union': ('baseline-data-dist', 2400),\n",
    "                    'uniform': ('baseline-uniform', 2400),\n",
    "                    'active': ('sampling-smoothed-r=0.5', 2200)\n",
    "                   }"
   ]
  },
  {
   "cell_type": "code",
   "execution_count": 329,
   "metadata": {},
   "outputs": [],
   "source": [
    "METRICS = ['ACC', 'AUC', 'F1']\n",
    "dev_summaries = {}\n",
    "test_summaries = {}\n",
    "for name, (run_name, step) in best_checkpoints.items():\n",
    "    dev_summary = dev_summary_dfs[run_name].loc[step].to_dict()\n",
    "    test_summary = test_summary_dfs[run_name].loc[step].to_dict()\n",
    "    for m in METRICS:\n",
    "        dev_by_task = [val for key, val in dev_summary.items() if m in key]\n",
    "        test_by_task = [val for key, val in test_summary.items() if m in key]\n",
    "        dev_summary[f'aggregate/dev_{m}'] = sum(dev_by_task) / len(dev_by_task)\n",
    "        test_summary[f'aggregate/test_{m}'] = sum(test_by_task) / len(test_by_task)\n",
    "        \n",
    "    for key, val in dev_summary.items():\n",
    "        dev_summary[key] = round(val,2)\n",
    "\n",
    "    for key, val in test_summary.items():\n",
    "        test_summary[key] = round(val,2)\n",
    "    dev_summaries[name] = dev_summary\n",
    "    test_summaries[name] = test_summary"
   ]
  },
  {
   "cell_type": "code",
   "execution_count": 330,
   "metadata": {
    "scrolled": false
   },
   "outputs": [
    {
     "name": "stdout",
     "output_type": "stream",
     "text": [
      "{\n",
      "    \"union\": {\n",
      "        \"dev_uncertainty_by_task/mrpc\": 2.58,\n",
      "        \"dev_uncertainty_by_task/rte\": 2.28,\n",
      "        \"dev_uncertainty_by_task/sst\": 2.27,\n",
      "        \"mrpc/dev_ACC\": 83.17,\n",
      "        \"mrpc/dev_AUC\": 88.37,\n",
      "        \"mrpc/dev_F1\": 88.21,\n",
      "        \"rte/dev_ACC\": 66.18,\n",
      "        \"rte/dev_AUC\": 72.02,\n",
      "        \"rte/dev_F1\": 68.61,\n",
      "        \"sst/dev_ACC\": 90.97,\n",
      "        \"sst/dev_AUC\": 96.37,\n",
      "        \"sst/dev_F1\": 91.34,\n",
      "        \"aggregate/dev_ACC\": 80.11,\n",
      "        \"aggregate/dev_AUC\": 85.59,\n",
      "        \"aggregate/dev_F1\": 82.72\n",
      "    },\n",
      "    \"uniform\": {\n",
      "        \"dev_uncertainty_by_task/mrpc\": 2.42,\n",
      "        \"dev_uncertainty_by_task/rte\": 1.85,\n",
      "        \"dev_uncertainty_by_task/sst\": 2.41,\n",
      "        \"mrpc/dev_ACC\": 83.17,\n",
      "        \"mrpc/dev_AUC\": 88.41,\n",
      "        \"mrpc/dev_F1\": 88.61,\n",
      "        \"rte/dev_ACC\": 67.15,\n",
      "        \"rte/dev_AUC\": 72.46,\n",
      "        \"rte/dev_F1\": 71.06,\n",
      "        \"sst/dev_ACC\": 90.37,\n",
      "        \"sst/dev_AUC\": 96.24,\n",
      "        \"sst/dev_F1\": 90.84,\n",
      "        \"aggregate/dev_ACC\": 80.23,\n",
      "        \"aggregate/dev_AUC\": 85.7,\n",
      "        \"aggregate/dev_F1\": 83.51\n",
      "    },\n",
      "    \"active\": {\n",
      "        \"dev_uncertainty_by_task/mrpc\": 2.55,\n",
      "        \"dev_uncertainty_by_task/rte\": 1.85,\n",
      "        \"dev_uncertainty_by_task/sst\": 2.44,\n",
      "        \"mrpc/dev_ACC\": 80.72,\n",
      "        \"mrpc/dev_AUC\": 88.71,\n",
      "        \"mrpc/dev_F1\": 86.86,\n",
      "        \"rte/dev_ACC\": 69.08,\n",
      "        \"rte/dev_AUC\": 73.89,\n",
      "        \"rte/dev_F1\": 71.91,\n",
      "        \"sst/dev_ACC\": 90.37,\n",
      "        \"sst/dev_AUC\": 96.32,\n",
      "        \"sst/dev_F1\": 90.88,\n",
      "        \"aggregate/dev_ACC\": 80.06,\n",
      "        \"aggregate/dev_AUC\": 86.31,\n",
      "        \"aggregate/dev_F1\": 83.22\n",
      "    }\n",
      "}\n"
     ]
    }
   ],
   "source": [
    "import json\n",
    "print(json.dumps(dev_summaries, indent=4))"
   ]
  },
  {
   "cell_type": "code",
   "execution_count": 331,
   "metadata": {},
   "outputs": [
    {
     "name": "stdout",
     "output_type": "stream",
     "text": [
      "{\n",
      "    \"union\": {\n",
      "        \"mrpc/test_ACC\": 78.76,\n",
      "        \"mrpc/test_AUC\": 85.96,\n",
      "        \"mrpc/test_F1\": 85.12,\n",
      "        \"rte/test_ACC\": 62.11,\n",
      "        \"rte/test_AUC\": 69.35,\n",
      "        \"rte/test_F1\": 62.97,\n",
      "        \"sst/test_ACC\": 91.2,\n",
      "        \"sst/test_AUC\": 96.72,\n",
      "        \"sst/test_F1\": 92.18,\n",
      "        \"test_uncertainty_by_task/mrpc\": 2.54,\n",
      "        \"test_uncertainty_by_task/rte\": 2.48,\n",
      "        \"test_uncertainty_by_task/sst\": 2.28,\n",
      "        \"aggregate/test_ACC\": 77.36,\n",
      "        \"aggregate/test_AUC\": 84.01,\n",
      "        \"aggregate/test_F1\": 80.09\n",
      "    },\n",
      "    \"uniform\": {\n",
      "        \"mrpc/test_ACC\": 79.74,\n",
      "        \"mrpc/test_AUC\": 85.02,\n",
      "        \"mrpc/test_F1\": 86.28,\n",
      "        \"rte/test_ACC\": 65.47,\n",
      "        \"rte/test_AUC\": 69.96,\n",
      "        \"rte/test_F1\": 69.06,\n",
      "        \"sst/test_ACC\": 90.03,\n",
      "        \"sst/test_AUC\": 96.07,\n",
      "        \"sst/test_F1\": 91.23,\n",
      "        \"test_uncertainty_by_task/mrpc\": 2.46,\n",
      "        \"test_uncertainty_by_task/rte\": 2.21,\n",
      "        \"test_uncertainty_by_task/sst\": 2.31,\n",
      "        \"aggregate/test_ACC\": 78.41,\n",
      "        \"aggregate/test_AUC\": 83.68,\n",
      "        \"aggregate/test_F1\": 82.19\n",
      "    },\n",
      "    \"active\": {\n",
      "        \"mrpc/test_ACC\": 79.41,\n",
      "        \"mrpc/test_AUC\": 86.85,\n",
      "        \"mrpc/test_F1\": 85.85,\n",
      "        \"rte/test_ACC\": 68.11,\n",
      "        \"rte/test_AUC\": 71.89,\n",
      "        \"rte/test_F1\": 70.76,\n",
      "        \"sst/test_ACC\": 90.33,\n",
      "        \"sst/test_AUC\": 96.14,\n",
      "        \"sst/test_F1\": 91.44,\n",
      "        \"test_uncertainty_by_task/mrpc\": 2.41,\n",
      "        \"test_uncertainty_by_task/rte\": 2.3,\n",
      "        \"test_uncertainty_by_task/sst\": 2.35,\n",
      "        \"aggregate/test_ACC\": 79.28,\n",
      "        \"aggregate/test_AUC\": 84.96,\n",
      "        \"aggregate/test_F1\": 82.68\n",
      "    }\n",
      "}\n"
     ]
    }
   ],
   "source": [
    "print(json.dumps(test_summaries, indent=4))"
   ]
  },
  {
   "cell_type": "code",
   "execution_count": 216,
   "metadata": {},
   "outputs": [
    {
     "data": {
      "application/vnd.plotly.v1+json": {
       "config": {
        "plotlyServerURL": "https://plot.ly"
       },
       "data": [
        {
         "line": {
          "color": "#636EFA",
          "dash": "dash"
         },
         "mode": "lines",
         "name": "baseline-uniform/sst",
         "type": "scatter",
         "x": [
          0,
          200,
          400,
          600,
          800,
          1000,
          1200,
          1400,
          1600,
          1800,
          2000,
          2200,
          2400
         ],
         "y": [
          53.691801055353324,
          93.49688239604984,
          95.29656282662758,
          95.35222717461386,
          95.75522637502286,
          96.10376261625106,
          96.08827804942514,
          96.1229848371384,
          96.17718082102913,
          96.10229425215549,
          96.11390767727494,
          96.2101522693567,
          96.23671631072186
         ]
        },
        {
         "line": {
          "color": "#636EFA",
          "dash": "dot"
         },
         "mode": "lines",
         "name": "baseline-uniform/mrpc",
         "type": "scatter",
         "x": [
          0,
          200,
          400,
          600,
          800,
          1000,
          1200,
          1400,
          1600,
          1800,
          2000,
          2200,
          2400
         ],
         "y": [
          49.780505952380956,
          68.76116071428572,
          79.98511904761905,
          80.75520833333333,
          84.36755952380952,
          86.68898809523812,
          86.953125,
          87.23214285714285,
          87.81994047619048,
          88.20684523809524,
          87.90922619047619,
          87.87202380952381,
          88.41145833333333
         ]
        },
        {
         "line": {
          "color": "#636EFA",
          "dash": "dashdot"
         },
         "mode": "lines",
         "name": "baseline-uniform/rte",
         "type": "scatter",
         "x": [
          0,
          200,
          400,
          600,
          800,
          1000,
          1200,
          1400,
          1600,
          1800,
          2000,
          2200,
          2400
         ],
         "y": [
          48.95129504504505,
          57.34093468468469,
          62.35219594594596,
          64.6044481981982,
          68.10247747747748,
          69.75647522522523,
          71.2134009009009,
          70.00281531531532,
          72.21987612612612,
          72.36064189189189,
          71.50197072072073,
          71.76942567567568,
          72.45917792792794
         ]
        },
        {
         "marker": {
          "color": "#636EFA"
         },
         "mode": "markers",
         "name": "baseline-uniform maximum",
         "type": "scatter",
         "x": [
          2400,
          2400,
          2400
         ],
         "y": [
          96.23671631072186,
          88.41145833333333,
          72.45917792792794
         ]
        }
       ],
       "layout": {
        "font": {
         "size": 14
        },
        "legend": {
         "title": {
          "text": "Method/Task"
         }
        },
        "template": {
         "data": {
          "bar": [
           {
            "error_x": {
             "color": "#2a3f5f"
            },
            "error_y": {
             "color": "#2a3f5f"
            },
            "marker": {
             "line": {
              "color": "#E5ECF6",
              "width": 0.5
             }
            },
            "type": "bar"
           }
          ],
          "barpolar": [
           {
            "marker": {
             "line": {
              "color": "#E5ECF6",
              "width": 0.5
             }
            },
            "type": "barpolar"
           }
          ],
          "carpet": [
           {
            "aaxis": {
             "endlinecolor": "#2a3f5f",
             "gridcolor": "white",
             "linecolor": "white",
             "minorgridcolor": "white",
             "startlinecolor": "#2a3f5f"
            },
            "baxis": {
             "endlinecolor": "#2a3f5f",
             "gridcolor": "white",
             "linecolor": "white",
             "minorgridcolor": "white",
             "startlinecolor": "#2a3f5f"
            },
            "type": "carpet"
           }
          ],
          "choropleth": [
           {
            "colorbar": {
             "outlinewidth": 0,
             "ticks": ""
            },
            "type": "choropleth"
           }
          ],
          "contour": [
           {
            "colorbar": {
             "outlinewidth": 0,
             "ticks": ""
            },
            "colorscale": [
             [
              0,
              "#0d0887"
             ],
             [
              0.1111111111111111,
              "#46039f"
             ],
             [
              0.2222222222222222,
              "#7201a8"
             ],
             [
              0.3333333333333333,
              "#9c179e"
             ],
             [
              0.4444444444444444,
              "#bd3786"
             ],
             [
              0.5555555555555556,
              "#d8576b"
             ],
             [
              0.6666666666666666,
              "#ed7953"
             ],
             [
              0.7777777777777778,
              "#fb9f3a"
             ],
             [
              0.8888888888888888,
              "#fdca26"
             ],
             [
              1,
              "#f0f921"
             ]
            ],
            "type": "contour"
           }
          ],
          "contourcarpet": [
           {
            "colorbar": {
             "outlinewidth": 0,
             "ticks": ""
            },
            "type": "contourcarpet"
           }
          ],
          "heatmap": [
           {
            "colorbar": {
             "outlinewidth": 0,
             "ticks": ""
            },
            "colorscale": [
             [
              0,
              "#0d0887"
             ],
             [
              0.1111111111111111,
              "#46039f"
             ],
             [
              0.2222222222222222,
              "#7201a8"
             ],
             [
              0.3333333333333333,
              "#9c179e"
             ],
             [
              0.4444444444444444,
              "#bd3786"
             ],
             [
              0.5555555555555556,
              "#d8576b"
             ],
             [
              0.6666666666666666,
              "#ed7953"
             ],
             [
              0.7777777777777778,
              "#fb9f3a"
             ],
             [
              0.8888888888888888,
              "#fdca26"
             ],
             [
              1,
              "#f0f921"
             ]
            ],
            "type": "heatmap"
           }
          ],
          "heatmapgl": [
           {
            "colorbar": {
             "outlinewidth": 0,
             "ticks": ""
            },
            "colorscale": [
             [
              0,
              "#0d0887"
             ],
             [
              0.1111111111111111,
              "#46039f"
             ],
             [
              0.2222222222222222,
              "#7201a8"
             ],
             [
              0.3333333333333333,
              "#9c179e"
             ],
             [
              0.4444444444444444,
              "#bd3786"
             ],
             [
              0.5555555555555556,
              "#d8576b"
             ],
             [
              0.6666666666666666,
              "#ed7953"
             ],
             [
              0.7777777777777778,
              "#fb9f3a"
             ],
             [
              0.8888888888888888,
              "#fdca26"
             ],
             [
              1,
              "#f0f921"
             ]
            ],
            "type": "heatmapgl"
           }
          ],
          "histogram": [
           {
            "marker": {
             "colorbar": {
              "outlinewidth": 0,
              "ticks": ""
             }
            },
            "type": "histogram"
           }
          ],
          "histogram2d": [
           {
            "colorbar": {
             "outlinewidth": 0,
             "ticks": ""
            },
            "colorscale": [
             [
              0,
              "#0d0887"
             ],
             [
              0.1111111111111111,
              "#46039f"
             ],
             [
              0.2222222222222222,
              "#7201a8"
             ],
             [
              0.3333333333333333,
              "#9c179e"
             ],
             [
              0.4444444444444444,
              "#bd3786"
             ],
             [
              0.5555555555555556,
              "#d8576b"
             ],
             [
              0.6666666666666666,
              "#ed7953"
             ],
             [
              0.7777777777777778,
              "#fb9f3a"
             ],
             [
              0.8888888888888888,
              "#fdca26"
             ],
             [
              1,
              "#f0f921"
             ]
            ],
            "type": "histogram2d"
           }
          ],
          "histogram2dcontour": [
           {
            "colorbar": {
             "outlinewidth": 0,
             "ticks": ""
            },
            "colorscale": [
             [
              0,
              "#0d0887"
             ],
             [
              0.1111111111111111,
              "#46039f"
             ],
             [
              0.2222222222222222,
              "#7201a8"
             ],
             [
              0.3333333333333333,
              "#9c179e"
             ],
             [
              0.4444444444444444,
              "#bd3786"
             ],
             [
              0.5555555555555556,
              "#d8576b"
             ],
             [
              0.6666666666666666,
              "#ed7953"
             ],
             [
              0.7777777777777778,
              "#fb9f3a"
             ],
             [
              0.8888888888888888,
              "#fdca26"
             ],
             [
              1,
              "#f0f921"
             ]
            ],
            "type": "histogram2dcontour"
           }
          ],
          "mesh3d": [
           {
            "colorbar": {
             "outlinewidth": 0,
             "ticks": ""
            },
            "type": "mesh3d"
           }
          ],
          "parcoords": [
           {
            "line": {
             "colorbar": {
              "outlinewidth": 0,
              "ticks": ""
             }
            },
            "type": "parcoords"
           }
          ],
          "pie": [
           {
            "automargin": true,
            "type": "pie"
           }
          ],
          "scatter": [
           {
            "marker": {
             "colorbar": {
              "outlinewidth": 0,
              "ticks": ""
             }
            },
            "type": "scatter"
           }
          ],
          "scatter3d": [
           {
            "line": {
             "colorbar": {
              "outlinewidth": 0,
              "ticks": ""
             }
            },
            "marker": {
             "colorbar": {
              "outlinewidth": 0,
              "ticks": ""
             }
            },
            "type": "scatter3d"
           }
          ],
          "scattercarpet": [
           {
            "marker": {
             "colorbar": {
              "outlinewidth": 0,
              "ticks": ""
             }
            },
            "type": "scattercarpet"
           }
          ],
          "scattergeo": [
           {
            "marker": {
             "colorbar": {
              "outlinewidth": 0,
              "ticks": ""
             }
            },
            "type": "scattergeo"
           }
          ],
          "scattergl": [
           {
            "marker": {
             "colorbar": {
              "outlinewidth": 0,
              "ticks": ""
             }
            },
            "type": "scattergl"
           }
          ],
          "scattermapbox": [
           {
            "marker": {
             "colorbar": {
              "outlinewidth": 0,
              "ticks": ""
             }
            },
            "type": "scattermapbox"
           }
          ],
          "scatterpolar": [
           {
            "marker": {
             "colorbar": {
              "outlinewidth": 0,
              "ticks": ""
             }
            },
            "type": "scatterpolar"
           }
          ],
          "scatterpolargl": [
           {
            "marker": {
             "colorbar": {
              "outlinewidth": 0,
              "ticks": ""
             }
            },
            "type": "scatterpolargl"
           }
          ],
          "scatterternary": [
           {
            "marker": {
             "colorbar": {
              "outlinewidth": 0,
              "ticks": ""
             }
            },
            "type": "scatterternary"
           }
          ],
          "surface": [
           {
            "colorbar": {
             "outlinewidth": 0,
             "ticks": ""
            },
            "colorscale": [
             [
              0,
              "#0d0887"
             ],
             [
              0.1111111111111111,
              "#46039f"
             ],
             [
              0.2222222222222222,
              "#7201a8"
             ],
             [
              0.3333333333333333,
              "#9c179e"
             ],
             [
              0.4444444444444444,
              "#bd3786"
             ],
             [
              0.5555555555555556,
              "#d8576b"
             ],
             [
              0.6666666666666666,
              "#ed7953"
             ],
             [
              0.7777777777777778,
              "#fb9f3a"
             ],
             [
              0.8888888888888888,
              "#fdca26"
             ],
             [
              1,
              "#f0f921"
             ]
            ],
            "type": "surface"
           }
          ],
          "table": [
           {
            "cells": {
             "fill": {
              "color": "#EBF0F8"
             },
             "line": {
              "color": "white"
             }
            },
            "header": {
             "fill": {
              "color": "#C8D4E3"
             },
             "line": {
              "color": "white"
             }
            },
            "type": "table"
           }
          ]
         },
         "layout": {
          "annotationdefaults": {
           "arrowcolor": "#2a3f5f",
           "arrowhead": 0,
           "arrowwidth": 1
          },
          "coloraxis": {
           "colorbar": {
            "outlinewidth": 0,
            "ticks": ""
           }
          },
          "colorscale": {
           "diverging": [
            [
             0,
             "#8e0152"
            ],
            [
             0.1,
             "#c51b7d"
            ],
            [
             0.2,
             "#de77ae"
            ],
            [
             0.3,
             "#f1b6da"
            ],
            [
             0.4,
             "#fde0ef"
            ],
            [
             0.5,
             "#f7f7f7"
            ],
            [
             0.6,
             "#e6f5d0"
            ],
            [
             0.7,
             "#b8e186"
            ],
            [
             0.8,
             "#7fbc41"
            ],
            [
             0.9,
             "#4d9221"
            ],
            [
             1,
             "#276419"
            ]
           ],
           "sequential": [
            [
             0,
             "#0d0887"
            ],
            [
             0.1111111111111111,
             "#46039f"
            ],
            [
             0.2222222222222222,
             "#7201a8"
            ],
            [
             0.3333333333333333,
             "#9c179e"
            ],
            [
             0.4444444444444444,
             "#bd3786"
            ],
            [
             0.5555555555555556,
             "#d8576b"
            ],
            [
             0.6666666666666666,
             "#ed7953"
            ],
            [
             0.7777777777777778,
             "#fb9f3a"
            ],
            [
             0.8888888888888888,
             "#fdca26"
            ],
            [
             1,
             "#f0f921"
            ]
           ],
           "sequentialminus": [
            [
             0,
             "#0d0887"
            ],
            [
             0.1111111111111111,
             "#46039f"
            ],
            [
             0.2222222222222222,
             "#7201a8"
            ],
            [
             0.3333333333333333,
             "#9c179e"
            ],
            [
             0.4444444444444444,
             "#bd3786"
            ],
            [
             0.5555555555555556,
             "#d8576b"
            ],
            [
             0.6666666666666666,
             "#ed7953"
            ],
            [
             0.7777777777777778,
             "#fb9f3a"
            ],
            [
             0.8888888888888888,
             "#fdca26"
            ],
            [
             1,
             "#f0f921"
            ]
           ]
          },
          "colorway": [
           "#636efa",
           "#EF553B",
           "#00cc96",
           "#ab63fa",
           "#FFA15A",
           "#19d3f3",
           "#FF6692",
           "#B6E880",
           "#FF97FF",
           "#FECB52"
          ],
          "font": {
           "color": "#2a3f5f"
          },
          "geo": {
           "bgcolor": "white",
           "lakecolor": "white",
           "landcolor": "#E5ECF6",
           "showlakes": true,
           "showland": true,
           "subunitcolor": "white"
          },
          "hoverlabel": {
           "align": "left"
          },
          "hovermode": "closest",
          "mapbox": {
           "style": "light"
          },
          "paper_bgcolor": "white",
          "plot_bgcolor": "#E5ECF6",
          "polar": {
           "angularaxis": {
            "gridcolor": "white",
            "linecolor": "white",
            "ticks": ""
           },
           "bgcolor": "#E5ECF6",
           "radialaxis": {
            "gridcolor": "white",
            "linecolor": "white",
            "ticks": ""
           }
          },
          "scene": {
           "xaxis": {
            "backgroundcolor": "#E5ECF6",
            "gridcolor": "white",
            "gridwidth": 2,
            "linecolor": "white",
            "showbackground": true,
            "ticks": "",
            "zerolinecolor": "white"
           },
           "yaxis": {
            "backgroundcolor": "#E5ECF6",
            "gridcolor": "white",
            "gridwidth": 2,
            "linecolor": "white",
            "showbackground": true,
            "ticks": "",
            "zerolinecolor": "white"
           },
           "zaxis": {
            "backgroundcolor": "#E5ECF6",
            "gridcolor": "white",
            "gridwidth": 2,
            "linecolor": "white",
            "showbackground": true,
            "ticks": "",
            "zerolinecolor": "white"
           }
          },
          "shapedefaults": {
           "line": {
            "color": "#2a3f5f"
           }
          },
          "ternary": {
           "aaxis": {
            "gridcolor": "white",
            "linecolor": "white",
            "ticks": ""
           },
           "baxis": {
            "gridcolor": "white",
            "linecolor": "white",
            "ticks": ""
           },
           "bgcolor": "#E5ECF6",
           "caxis": {
            "gridcolor": "white",
            "linecolor": "white",
            "ticks": ""
           }
          },
          "title": {
           "x": 0.05
          },
          "xaxis": {
           "automargin": true,
           "gridcolor": "white",
           "linecolor": "white",
           "ticks": "",
           "title": {
            "standoff": 15
           },
           "zerolinecolor": "white",
           "zerolinewidth": 2
          },
          "yaxis": {
           "automargin": true,
           "gridcolor": "white",
           "linecolor": "white",
           "ticks": "",
           "title": {
            "standoff": 15
           },
           "zerolinecolor": "white",
           "zerolinewidth": 2
          }
         }
        },
        "xaxis": {
         "title": {
          "text": "Iteration"
         }
        },
        "yaxis": {
         "title": {
          "text": "Dev Auc"
         }
        }
       }
      },
      "text/html": [
       "<div>                            <div id=\"6fc126f7-2eb0-4995-a5cb-ac7bd178f40e\" class=\"plotly-graph-div\" style=\"height:525px; width:100%;\"></div>            <script type=\"text/javascript\">                require([\"plotly\"], function(Plotly) {                    window.PLOTLYENV=window.PLOTLYENV || {};                                    if (document.getElementById(\"6fc126f7-2eb0-4995-a5cb-ac7bd178f40e\")) {                    Plotly.newPlot(                        \"6fc126f7-2eb0-4995-a5cb-ac7bd178f40e\",                        [{\"line\": {\"color\": \"#636EFA\", \"dash\": \"dash\"}, \"mode\": \"lines\", \"name\": \"baseline-uniform/sst\", \"type\": \"scatter\", \"x\": [0, 200, 400, 600, 800, 1000, 1200, 1400, 1600, 1800, 2000, 2200, 2400], \"y\": [53.691801055353324, 93.49688239604984, 95.29656282662758, 95.35222717461386, 95.75522637502286, 96.10376261625106, 96.08827804942514, 96.1229848371384, 96.17718082102913, 96.10229425215549, 96.11390767727494, 96.2101522693567, 96.23671631072186]}, {\"line\": {\"color\": \"#636EFA\", \"dash\": \"dot\"}, \"mode\": \"lines\", \"name\": \"baseline-uniform/mrpc\", \"type\": \"scatter\", \"x\": [0, 200, 400, 600, 800, 1000, 1200, 1400, 1600, 1800, 2000, 2200, 2400], \"y\": [49.780505952380956, 68.76116071428572, 79.98511904761905, 80.75520833333333, 84.36755952380952, 86.68898809523812, 86.953125, 87.23214285714285, 87.81994047619048, 88.20684523809524, 87.90922619047619, 87.87202380952381, 88.41145833333333]}, {\"line\": {\"color\": \"#636EFA\", \"dash\": \"dashdot\"}, \"mode\": \"lines\", \"name\": \"baseline-uniform/rte\", \"type\": \"scatter\", \"x\": [0, 200, 400, 600, 800, 1000, 1200, 1400, 1600, 1800, 2000, 2200, 2400], \"y\": [48.95129504504505, 57.34093468468469, 62.35219594594596, 64.6044481981982, 68.10247747747748, 69.75647522522523, 71.2134009009009, 70.00281531531532, 72.21987612612612, 72.36064189189189, 71.50197072072073, 71.76942567567568, 72.45917792792794]}, {\"marker\": {\"color\": \"#636EFA\"}, \"mode\": \"markers\", \"name\": \"baseline-uniform maximum\", \"type\": \"scatter\", \"x\": [2400, 2400, 2400], \"y\": [96.23671631072186, 88.41145833333333, 72.45917792792794]}],                        {\"font\": {\"size\": 14}, \"legend\": {\"title\": {\"text\": \"Method/Task\"}}, \"template\": {\"data\": {\"bar\": [{\"error_x\": {\"color\": \"#2a3f5f\"}, \"error_y\": {\"color\": \"#2a3f5f\"}, \"marker\": {\"line\": {\"color\": \"#E5ECF6\", \"width\": 0.5}}, \"type\": \"bar\"}], \"barpolar\": [{\"marker\": {\"line\": {\"color\": \"#E5ECF6\", \"width\": 0.5}}, \"type\": \"barpolar\"}], \"carpet\": [{\"aaxis\": {\"endlinecolor\": \"#2a3f5f\", \"gridcolor\": \"white\", \"linecolor\": \"white\", \"minorgridcolor\": \"white\", \"startlinecolor\": \"#2a3f5f\"}, \"baxis\": {\"endlinecolor\": \"#2a3f5f\", \"gridcolor\": \"white\", \"linecolor\": \"white\", \"minorgridcolor\": \"white\", \"startlinecolor\": \"#2a3f5f\"}, \"type\": \"carpet\"}], \"choropleth\": [{\"colorbar\": {\"outlinewidth\": 0, \"ticks\": \"\"}, \"type\": \"choropleth\"}], \"contour\": [{\"colorbar\": {\"outlinewidth\": 0, \"ticks\": \"\"}, \"colorscale\": [[0.0, \"#0d0887\"], [0.1111111111111111, \"#46039f\"], [0.2222222222222222, \"#7201a8\"], [0.3333333333333333, \"#9c179e\"], [0.4444444444444444, \"#bd3786\"], [0.5555555555555556, \"#d8576b\"], [0.6666666666666666, \"#ed7953\"], [0.7777777777777778, \"#fb9f3a\"], [0.8888888888888888, \"#fdca26\"], [1.0, \"#f0f921\"]], \"type\": \"contour\"}], \"contourcarpet\": [{\"colorbar\": {\"outlinewidth\": 0, \"ticks\": \"\"}, \"type\": \"contourcarpet\"}], \"heatmap\": [{\"colorbar\": {\"outlinewidth\": 0, \"ticks\": \"\"}, \"colorscale\": [[0.0, \"#0d0887\"], [0.1111111111111111, \"#46039f\"], [0.2222222222222222, \"#7201a8\"], [0.3333333333333333, \"#9c179e\"], [0.4444444444444444, \"#bd3786\"], [0.5555555555555556, \"#d8576b\"], [0.6666666666666666, \"#ed7953\"], [0.7777777777777778, \"#fb9f3a\"], [0.8888888888888888, \"#fdca26\"], [1.0, \"#f0f921\"]], \"type\": \"heatmap\"}], \"heatmapgl\": [{\"colorbar\": {\"outlinewidth\": 0, \"ticks\": \"\"}, \"colorscale\": [[0.0, \"#0d0887\"], [0.1111111111111111, \"#46039f\"], [0.2222222222222222, \"#7201a8\"], [0.3333333333333333, \"#9c179e\"], [0.4444444444444444, \"#bd3786\"], [0.5555555555555556, \"#d8576b\"], [0.6666666666666666, \"#ed7953\"], [0.7777777777777778, \"#fb9f3a\"], [0.8888888888888888, \"#fdca26\"], [1.0, \"#f0f921\"]], \"type\": \"heatmapgl\"}], \"histogram\": [{\"marker\": {\"colorbar\": {\"outlinewidth\": 0, \"ticks\": \"\"}}, \"type\": \"histogram\"}], \"histogram2d\": [{\"colorbar\": {\"outlinewidth\": 0, \"ticks\": \"\"}, \"colorscale\": [[0.0, \"#0d0887\"], [0.1111111111111111, \"#46039f\"], [0.2222222222222222, \"#7201a8\"], [0.3333333333333333, \"#9c179e\"], [0.4444444444444444, \"#bd3786\"], [0.5555555555555556, \"#d8576b\"], [0.6666666666666666, \"#ed7953\"], [0.7777777777777778, \"#fb9f3a\"], [0.8888888888888888, \"#fdca26\"], [1.0, \"#f0f921\"]], \"type\": \"histogram2d\"}], \"histogram2dcontour\": [{\"colorbar\": {\"outlinewidth\": 0, \"ticks\": \"\"}, \"colorscale\": [[0.0, \"#0d0887\"], [0.1111111111111111, \"#46039f\"], [0.2222222222222222, \"#7201a8\"], [0.3333333333333333, \"#9c179e\"], [0.4444444444444444, \"#bd3786\"], [0.5555555555555556, \"#d8576b\"], [0.6666666666666666, \"#ed7953\"], [0.7777777777777778, \"#fb9f3a\"], [0.8888888888888888, \"#fdca26\"], [1.0, \"#f0f921\"]], \"type\": \"histogram2dcontour\"}], \"mesh3d\": [{\"colorbar\": {\"outlinewidth\": 0, \"ticks\": \"\"}, \"type\": \"mesh3d\"}], \"parcoords\": [{\"line\": {\"colorbar\": {\"outlinewidth\": 0, \"ticks\": \"\"}}, \"type\": \"parcoords\"}], \"pie\": [{\"automargin\": true, \"type\": \"pie\"}], \"scatter\": [{\"marker\": {\"colorbar\": {\"outlinewidth\": 0, \"ticks\": \"\"}}, \"type\": \"scatter\"}], \"scatter3d\": [{\"line\": {\"colorbar\": {\"outlinewidth\": 0, \"ticks\": \"\"}}, \"marker\": {\"colorbar\": {\"outlinewidth\": 0, \"ticks\": \"\"}}, \"type\": \"scatter3d\"}], \"scattercarpet\": [{\"marker\": {\"colorbar\": {\"outlinewidth\": 0, \"ticks\": \"\"}}, \"type\": \"scattercarpet\"}], \"scattergeo\": [{\"marker\": {\"colorbar\": {\"outlinewidth\": 0, \"ticks\": \"\"}}, \"type\": \"scattergeo\"}], \"scattergl\": [{\"marker\": {\"colorbar\": {\"outlinewidth\": 0, \"ticks\": \"\"}}, \"type\": \"scattergl\"}], \"scattermapbox\": [{\"marker\": {\"colorbar\": {\"outlinewidth\": 0, \"ticks\": \"\"}}, \"type\": \"scattermapbox\"}], \"scatterpolar\": [{\"marker\": {\"colorbar\": {\"outlinewidth\": 0, \"ticks\": \"\"}}, \"type\": \"scatterpolar\"}], \"scatterpolargl\": [{\"marker\": {\"colorbar\": {\"outlinewidth\": 0, \"ticks\": \"\"}}, \"type\": \"scatterpolargl\"}], \"scatterternary\": [{\"marker\": {\"colorbar\": {\"outlinewidth\": 0, \"ticks\": \"\"}}, \"type\": \"scatterternary\"}], \"surface\": [{\"colorbar\": {\"outlinewidth\": 0, \"ticks\": \"\"}, \"colorscale\": [[0.0, \"#0d0887\"], [0.1111111111111111, \"#46039f\"], [0.2222222222222222, \"#7201a8\"], [0.3333333333333333, \"#9c179e\"], [0.4444444444444444, \"#bd3786\"], [0.5555555555555556, \"#d8576b\"], [0.6666666666666666, \"#ed7953\"], [0.7777777777777778, \"#fb9f3a\"], [0.8888888888888888, \"#fdca26\"], [1.0, \"#f0f921\"]], \"type\": \"surface\"}], \"table\": [{\"cells\": {\"fill\": {\"color\": \"#EBF0F8\"}, \"line\": {\"color\": \"white\"}}, \"header\": {\"fill\": {\"color\": \"#C8D4E3\"}, \"line\": {\"color\": \"white\"}}, \"type\": \"table\"}]}, \"layout\": {\"annotationdefaults\": {\"arrowcolor\": \"#2a3f5f\", \"arrowhead\": 0, \"arrowwidth\": 1}, \"coloraxis\": {\"colorbar\": {\"outlinewidth\": 0, \"ticks\": \"\"}}, \"colorscale\": {\"diverging\": [[0, \"#8e0152\"], [0.1, \"#c51b7d\"], [0.2, \"#de77ae\"], [0.3, \"#f1b6da\"], [0.4, \"#fde0ef\"], [0.5, \"#f7f7f7\"], [0.6, \"#e6f5d0\"], [0.7, \"#b8e186\"], [0.8, \"#7fbc41\"], [0.9, \"#4d9221\"], [1, \"#276419\"]], \"sequential\": [[0.0, \"#0d0887\"], [0.1111111111111111, \"#46039f\"], [0.2222222222222222, \"#7201a8\"], [0.3333333333333333, \"#9c179e\"], [0.4444444444444444, \"#bd3786\"], [0.5555555555555556, \"#d8576b\"], [0.6666666666666666, \"#ed7953\"], [0.7777777777777778, \"#fb9f3a\"], [0.8888888888888888, \"#fdca26\"], [1.0, \"#f0f921\"]], \"sequentialminus\": [[0.0, \"#0d0887\"], [0.1111111111111111, \"#46039f\"], [0.2222222222222222, \"#7201a8\"], [0.3333333333333333, \"#9c179e\"], [0.4444444444444444, \"#bd3786\"], [0.5555555555555556, \"#d8576b\"], [0.6666666666666666, \"#ed7953\"], [0.7777777777777778, \"#fb9f3a\"], [0.8888888888888888, \"#fdca26\"], [1.0, \"#f0f921\"]]}, \"colorway\": [\"#636efa\", \"#EF553B\", \"#00cc96\", \"#ab63fa\", \"#FFA15A\", \"#19d3f3\", \"#FF6692\", \"#B6E880\", \"#FF97FF\", \"#FECB52\"], \"font\": {\"color\": \"#2a3f5f\"}, \"geo\": {\"bgcolor\": \"white\", \"lakecolor\": \"white\", \"landcolor\": \"#E5ECF6\", \"showlakes\": true, \"showland\": true, \"subunitcolor\": \"white\"}, \"hoverlabel\": {\"align\": \"left\"}, \"hovermode\": \"closest\", \"mapbox\": {\"style\": \"light\"}, \"paper_bgcolor\": \"white\", \"plot_bgcolor\": \"#E5ECF6\", \"polar\": {\"angularaxis\": {\"gridcolor\": \"white\", \"linecolor\": \"white\", \"ticks\": \"\"}, \"bgcolor\": \"#E5ECF6\", \"radialaxis\": {\"gridcolor\": \"white\", \"linecolor\": \"white\", \"ticks\": \"\"}}, \"scene\": {\"xaxis\": {\"backgroundcolor\": \"#E5ECF6\", \"gridcolor\": \"white\", \"gridwidth\": 2, \"linecolor\": \"white\", \"showbackground\": true, \"ticks\": \"\", \"zerolinecolor\": \"white\"}, \"yaxis\": {\"backgroundcolor\": \"#E5ECF6\", \"gridcolor\": \"white\", \"gridwidth\": 2, \"linecolor\": \"white\", \"showbackground\": true, \"ticks\": \"\", \"zerolinecolor\": \"white\"}, \"zaxis\": {\"backgroundcolor\": \"#E5ECF6\", \"gridcolor\": \"white\", \"gridwidth\": 2, \"linecolor\": \"white\", \"showbackground\": true, \"ticks\": \"\", \"zerolinecolor\": \"white\"}}, \"shapedefaults\": {\"line\": {\"color\": \"#2a3f5f\"}}, \"ternary\": {\"aaxis\": {\"gridcolor\": \"white\", \"linecolor\": \"white\", \"ticks\": \"\"}, \"baxis\": {\"gridcolor\": \"white\", \"linecolor\": \"white\", \"ticks\": \"\"}, \"bgcolor\": \"#E5ECF6\", \"caxis\": {\"gridcolor\": \"white\", \"linecolor\": \"white\", \"ticks\": \"\"}}, \"title\": {\"x\": 0.05}, \"xaxis\": {\"automargin\": true, \"gridcolor\": \"white\", \"linecolor\": \"white\", \"ticks\": \"\", \"title\": {\"standoff\": 15}, \"zerolinecolor\": \"white\", \"zerolinewidth\": 2}, \"yaxis\": {\"automargin\": true, \"gridcolor\": \"white\", \"linecolor\": \"white\", \"ticks\": \"\", \"title\": {\"standoff\": 15}, \"zerolinecolor\": \"white\", \"zerolinewidth\": 2}}}, \"xaxis\": {\"title\": {\"text\": \"Iteration\"}}, \"yaxis\": {\"title\": {\"text\": \"Dev Auc\"}}},                        {\"responsive\": true}                    ).then(function(){\n",
       "                            \n",
       "var gd = document.getElementById('6fc126f7-2eb0-4995-a5cb-ac7bd178f40e');\n",
       "var x = new MutationObserver(function (mutations, observer) {{\n",
       "        var display = window.getComputedStyle(gd).display;\n",
       "        if (!display || display === 'none') {{\n",
       "            console.log([gd, 'removed!']);\n",
       "            Plotly.purge(gd);\n",
       "            observer.disconnect();\n",
       "        }}\n",
       "}});\n",
       "\n",
       "// Listen for the removal of the full notebook cells\n",
       "var notebookContainer = gd.closest('#notebook-container');\n",
       "if (notebookContainer) {{\n",
       "    x.observe(notebookContainer, {childList: true});\n",
       "}}\n",
       "\n",
       "// Listen for the clearing of the current output cell\n",
       "var outputEl = gd.closest('.output');\n",
       "if (outputEl) {{\n",
       "    x.observe(outputEl, {childList: true});\n",
       "}}\n",
       "\n",
       "                        })                };                });            </script>        </div>"
      ]
     },
     "metadata": {},
     "output_type": "display_data"
    }
   ],
   "source": [
    "plot_metric_over_time('dev', 'auc', \n",
    "                      [\n",
    "                       'baseline-uniform',\n",
    "\n",
    "                      ],\n",
    "                      plot_maxima=True)"
   ]
  },
  {
   "cell_type": "code",
   "execution_count": 217,
   "metadata": {},
   "outputs": [
    {
     "data": {
      "application/vnd.plotly.v1+json": {
       "config": {
        "plotlyServerURL": "https://plot.ly"
       },
       "data": [
        {
         "line": {
          "color": "#636EFA",
          "dash": "dash"
         },
         "mode": "lines",
         "name": "baseline-data-dist/sst",
         "type": "scatter",
         "x": [
          0,
          200,
          400,
          600,
          800,
          1000,
          1200,
          1400,
          1600,
          1800,
          2000,
          2200,
          2400
         ],
         "y": [
          49.32768947570057,
          92.91888089297895,
          95.91394318498851,
          96.03902110840131,
          96.247528809971,
          96.10109286335002,
          96.45143118778641,
          96.43821591092636,
          96.24672788410071,
          96.39116151604588,
          96.43908358061918,
          96.54820973044839,
          96.37287370867391
         ]
        },
        {
         "line": {
          "color": "#636EFA",
          "dash": "dot"
         },
         "mode": "lines",
         "name": "baseline-data-dist/mrpc",
         "type": "scatter",
         "x": [
          0,
          200,
          400,
          600,
          800,
          1000,
          1200,
          1400,
          1600,
          1800,
          2000,
          2200,
          2400
         ],
         "y": [
          49.620535714285715,
          68.34449404761905,
          78.77232142857143,
          80.1078869047619,
          83.99925595238095,
          85.37946428571429,
          85.66964285714285,
          86.1346726190476,
          87.24702380952381,
          87.41815476190476,
          87.90178571428571,
          88.18824404761904,
          88.36681547619048
         ]
        },
        {
         "line": {
          "color": "#636EFA",
          "dash": "dashdot"
         },
         "mode": "lines",
         "name": "baseline-data-dist/rte",
         "type": "scatter",
         "x": [
          0,
          200,
          400,
          600,
          800,
          1000,
          1200,
          1400,
          1600,
          1800,
          2000,
          2200,
          2400
         ],
         "y": [
          48.95129504504504,
          56.12331081081081,
          62.443693693693696,
          63.4079391891892,
          66.37809684684684,
          68.85557432432432,
          68.41920045045045,
          70.71368243243244,
          70.87556306306307,
          70.73479729729729,
          71.6920045045045,
          71.34009009009009,
          72.01576576576578
         ]
        },
        {
         "marker": {
          "color": "#636EFA"
         },
         "mode": "markers",
         "name": "baseline-data-dist maximum",
         "type": "scatter",
         "x": [
          2200,
          2400,
          2400
         ],
         "y": [
          96.54820973044839,
          88.36681547619048,
          72.01576576576578
         ]
        }
       ],
       "layout": {
        "font": {
         "size": 14
        },
        "legend": {
         "title": {
          "text": "Method/Task"
         }
        },
        "template": {
         "data": {
          "bar": [
           {
            "error_x": {
             "color": "#2a3f5f"
            },
            "error_y": {
             "color": "#2a3f5f"
            },
            "marker": {
             "line": {
              "color": "#E5ECF6",
              "width": 0.5
             }
            },
            "type": "bar"
           }
          ],
          "barpolar": [
           {
            "marker": {
             "line": {
              "color": "#E5ECF6",
              "width": 0.5
             }
            },
            "type": "barpolar"
           }
          ],
          "carpet": [
           {
            "aaxis": {
             "endlinecolor": "#2a3f5f",
             "gridcolor": "white",
             "linecolor": "white",
             "minorgridcolor": "white",
             "startlinecolor": "#2a3f5f"
            },
            "baxis": {
             "endlinecolor": "#2a3f5f",
             "gridcolor": "white",
             "linecolor": "white",
             "minorgridcolor": "white",
             "startlinecolor": "#2a3f5f"
            },
            "type": "carpet"
           }
          ],
          "choropleth": [
           {
            "colorbar": {
             "outlinewidth": 0,
             "ticks": ""
            },
            "type": "choropleth"
           }
          ],
          "contour": [
           {
            "colorbar": {
             "outlinewidth": 0,
             "ticks": ""
            },
            "colorscale": [
             [
              0,
              "#0d0887"
             ],
             [
              0.1111111111111111,
              "#46039f"
             ],
             [
              0.2222222222222222,
              "#7201a8"
             ],
             [
              0.3333333333333333,
              "#9c179e"
             ],
             [
              0.4444444444444444,
              "#bd3786"
             ],
             [
              0.5555555555555556,
              "#d8576b"
             ],
             [
              0.6666666666666666,
              "#ed7953"
             ],
             [
              0.7777777777777778,
              "#fb9f3a"
             ],
             [
              0.8888888888888888,
              "#fdca26"
             ],
             [
              1,
              "#f0f921"
             ]
            ],
            "type": "contour"
           }
          ],
          "contourcarpet": [
           {
            "colorbar": {
             "outlinewidth": 0,
             "ticks": ""
            },
            "type": "contourcarpet"
           }
          ],
          "heatmap": [
           {
            "colorbar": {
             "outlinewidth": 0,
             "ticks": ""
            },
            "colorscale": [
             [
              0,
              "#0d0887"
             ],
             [
              0.1111111111111111,
              "#46039f"
             ],
             [
              0.2222222222222222,
              "#7201a8"
             ],
             [
              0.3333333333333333,
              "#9c179e"
             ],
             [
              0.4444444444444444,
              "#bd3786"
             ],
             [
              0.5555555555555556,
              "#d8576b"
             ],
             [
              0.6666666666666666,
              "#ed7953"
             ],
             [
              0.7777777777777778,
              "#fb9f3a"
             ],
             [
              0.8888888888888888,
              "#fdca26"
             ],
             [
              1,
              "#f0f921"
             ]
            ],
            "type": "heatmap"
           }
          ],
          "heatmapgl": [
           {
            "colorbar": {
             "outlinewidth": 0,
             "ticks": ""
            },
            "colorscale": [
             [
              0,
              "#0d0887"
             ],
             [
              0.1111111111111111,
              "#46039f"
             ],
             [
              0.2222222222222222,
              "#7201a8"
             ],
             [
              0.3333333333333333,
              "#9c179e"
             ],
             [
              0.4444444444444444,
              "#bd3786"
             ],
             [
              0.5555555555555556,
              "#d8576b"
             ],
             [
              0.6666666666666666,
              "#ed7953"
             ],
             [
              0.7777777777777778,
              "#fb9f3a"
             ],
             [
              0.8888888888888888,
              "#fdca26"
             ],
             [
              1,
              "#f0f921"
             ]
            ],
            "type": "heatmapgl"
           }
          ],
          "histogram": [
           {
            "marker": {
             "colorbar": {
              "outlinewidth": 0,
              "ticks": ""
             }
            },
            "type": "histogram"
           }
          ],
          "histogram2d": [
           {
            "colorbar": {
             "outlinewidth": 0,
             "ticks": ""
            },
            "colorscale": [
             [
              0,
              "#0d0887"
             ],
             [
              0.1111111111111111,
              "#46039f"
             ],
             [
              0.2222222222222222,
              "#7201a8"
             ],
             [
              0.3333333333333333,
              "#9c179e"
             ],
             [
              0.4444444444444444,
              "#bd3786"
             ],
             [
              0.5555555555555556,
              "#d8576b"
             ],
             [
              0.6666666666666666,
              "#ed7953"
             ],
             [
              0.7777777777777778,
              "#fb9f3a"
             ],
             [
              0.8888888888888888,
              "#fdca26"
             ],
             [
              1,
              "#f0f921"
             ]
            ],
            "type": "histogram2d"
           }
          ],
          "histogram2dcontour": [
           {
            "colorbar": {
             "outlinewidth": 0,
             "ticks": ""
            },
            "colorscale": [
             [
              0,
              "#0d0887"
             ],
             [
              0.1111111111111111,
              "#46039f"
             ],
             [
              0.2222222222222222,
              "#7201a8"
             ],
             [
              0.3333333333333333,
              "#9c179e"
             ],
             [
              0.4444444444444444,
              "#bd3786"
             ],
             [
              0.5555555555555556,
              "#d8576b"
             ],
             [
              0.6666666666666666,
              "#ed7953"
             ],
             [
              0.7777777777777778,
              "#fb9f3a"
             ],
             [
              0.8888888888888888,
              "#fdca26"
             ],
             [
              1,
              "#f0f921"
             ]
            ],
            "type": "histogram2dcontour"
           }
          ],
          "mesh3d": [
           {
            "colorbar": {
             "outlinewidth": 0,
             "ticks": ""
            },
            "type": "mesh3d"
           }
          ],
          "parcoords": [
           {
            "line": {
             "colorbar": {
              "outlinewidth": 0,
              "ticks": ""
             }
            },
            "type": "parcoords"
           }
          ],
          "pie": [
           {
            "automargin": true,
            "type": "pie"
           }
          ],
          "scatter": [
           {
            "marker": {
             "colorbar": {
              "outlinewidth": 0,
              "ticks": ""
             }
            },
            "type": "scatter"
           }
          ],
          "scatter3d": [
           {
            "line": {
             "colorbar": {
              "outlinewidth": 0,
              "ticks": ""
             }
            },
            "marker": {
             "colorbar": {
              "outlinewidth": 0,
              "ticks": ""
             }
            },
            "type": "scatter3d"
           }
          ],
          "scattercarpet": [
           {
            "marker": {
             "colorbar": {
              "outlinewidth": 0,
              "ticks": ""
             }
            },
            "type": "scattercarpet"
           }
          ],
          "scattergeo": [
           {
            "marker": {
             "colorbar": {
              "outlinewidth": 0,
              "ticks": ""
             }
            },
            "type": "scattergeo"
           }
          ],
          "scattergl": [
           {
            "marker": {
             "colorbar": {
              "outlinewidth": 0,
              "ticks": ""
             }
            },
            "type": "scattergl"
           }
          ],
          "scattermapbox": [
           {
            "marker": {
             "colorbar": {
              "outlinewidth": 0,
              "ticks": ""
             }
            },
            "type": "scattermapbox"
           }
          ],
          "scatterpolar": [
           {
            "marker": {
             "colorbar": {
              "outlinewidth": 0,
              "ticks": ""
             }
            },
            "type": "scatterpolar"
           }
          ],
          "scatterpolargl": [
           {
            "marker": {
             "colorbar": {
              "outlinewidth": 0,
              "ticks": ""
             }
            },
            "type": "scatterpolargl"
           }
          ],
          "scatterternary": [
           {
            "marker": {
             "colorbar": {
              "outlinewidth": 0,
              "ticks": ""
             }
            },
            "type": "scatterternary"
           }
          ],
          "surface": [
           {
            "colorbar": {
             "outlinewidth": 0,
             "ticks": ""
            },
            "colorscale": [
             [
              0,
              "#0d0887"
             ],
             [
              0.1111111111111111,
              "#46039f"
             ],
             [
              0.2222222222222222,
              "#7201a8"
             ],
             [
              0.3333333333333333,
              "#9c179e"
             ],
             [
              0.4444444444444444,
              "#bd3786"
             ],
             [
              0.5555555555555556,
              "#d8576b"
             ],
             [
              0.6666666666666666,
              "#ed7953"
             ],
             [
              0.7777777777777778,
              "#fb9f3a"
             ],
             [
              0.8888888888888888,
              "#fdca26"
             ],
             [
              1,
              "#f0f921"
             ]
            ],
            "type": "surface"
           }
          ],
          "table": [
           {
            "cells": {
             "fill": {
              "color": "#EBF0F8"
             },
             "line": {
              "color": "white"
             }
            },
            "header": {
             "fill": {
              "color": "#C8D4E3"
             },
             "line": {
              "color": "white"
             }
            },
            "type": "table"
           }
          ]
         },
         "layout": {
          "annotationdefaults": {
           "arrowcolor": "#2a3f5f",
           "arrowhead": 0,
           "arrowwidth": 1
          },
          "coloraxis": {
           "colorbar": {
            "outlinewidth": 0,
            "ticks": ""
           }
          },
          "colorscale": {
           "diverging": [
            [
             0,
             "#8e0152"
            ],
            [
             0.1,
             "#c51b7d"
            ],
            [
             0.2,
             "#de77ae"
            ],
            [
             0.3,
             "#f1b6da"
            ],
            [
             0.4,
             "#fde0ef"
            ],
            [
             0.5,
             "#f7f7f7"
            ],
            [
             0.6,
             "#e6f5d0"
            ],
            [
             0.7,
             "#b8e186"
            ],
            [
             0.8,
             "#7fbc41"
            ],
            [
             0.9,
             "#4d9221"
            ],
            [
             1,
             "#276419"
            ]
           ],
           "sequential": [
            [
             0,
             "#0d0887"
            ],
            [
             0.1111111111111111,
             "#46039f"
            ],
            [
             0.2222222222222222,
             "#7201a8"
            ],
            [
             0.3333333333333333,
             "#9c179e"
            ],
            [
             0.4444444444444444,
             "#bd3786"
            ],
            [
             0.5555555555555556,
             "#d8576b"
            ],
            [
             0.6666666666666666,
             "#ed7953"
            ],
            [
             0.7777777777777778,
             "#fb9f3a"
            ],
            [
             0.8888888888888888,
             "#fdca26"
            ],
            [
             1,
             "#f0f921"
            ]
           ],
           "sequentialminus": [
            [
             0,
             "#0d0887"
            ],
            [
             0.1111111111111111,
             "#46039f"
            ],
            [
             0.2222222222222222,
             "#7201a8"
            ],
            [
             0.3333333333333333,
             "#9c179e"
            ],
            [
             0.4444444444444444,
             "#bd3786"
            ],
            [
             0.5555555555555556,
             "#d8576b"
            ],
            [
             0.6666666666666666,
             "#ed7953"
            ],
            [
             0.7777777777777778,
             "#fb9f3a"
            ],
            [
             0.8888888888888888,
             "#fdca26"
            ],
            [
             1,
             "#f0f921"
            ]
           ]
          },
          "colorway": [
           "#636efa",
           "#EF553B",
           "#00cc96",
           "#ab63fa",
           "#FFA15A",
           "#19d3f3",
           "#FF6692",
           "#B6E880",
           "#FF97FF",
           "#FECB52"
          ],
          "font": {
           "color": "#2a3f5f"
          },
          "geo": {
           "bgcolor": "white",
           "lakecolor": "white",
           "landcolor": "#E5ECF6",
           "showlakes": true,
           "showland": true,
           "subunitcolor": "white"
          },
          "hoverlabel": {
           "align": "left"
          },
          "hovermode": "closest",
          "mapbox": {
           "style": "light"
          },
          "paper_bgcolor": "white",
          "plot_bgcolor": "#E5ECF6",
          "polar": {
           "angularaxis": {
            "gridcolor": "white",
            "linecolor": "white",
            "ticks": ""
           },
           "bgcolor": "#E5ECF6",
           "radialaxis": {
            "gridcolor": "white",
            "linecolor": "white",
            "ticks": ""
           }
          },
          "scene": {
           "xaxis": {
            "backgroundcolor": "#E5ECF6",
            "gridcolor": "white",
            "gridwidth": 2,
            "linecolor": "white",
            "showbackground": true,
            "ticks": "",
            "zerolinecolor": "white"
           },
           "yaxis": {
            "backgroundcolor": "#E5ECF6",
            "gridcolor": "white",
            "gridwidth": 2,
            "linecolor": "white",
            "showbackground": true,
            "ticks": "",
            "zerolinecolor": "white"
           },
           "zaxis": {
            "backgroundcolor": "#E5ECF6",
            "gridcolor": "white",
            "gridwidth": 2,
            "linecolor": "white",
            "showbackground": true,
            "ticks": "",
            "zerolinecolor": "white"
           }
          },
          "shapedefaults": {
           "line": {
            "color": "#2a3f5f"
           }
          },
          "ternary": {
           "aaxis": {
            "gridcolor": "white",
            "linecolor": "white",
            "ticks": ""
           },
           "baxis": {
            "gridcolor": "white",
            "linecolor": "white",
            "ticks": ""
           },
           "bgcolor": "#E5ECF6",
           "caxis": {
            "gridcolor": "white",
            "linecolor": "white",
            "ticks": ""
           }
          },
          "title": {
           "x": 0.05
          },
          "xaxis": {
           "automargin": true,
           "gridcolor": "white",
           "linecolor": "white",
           "ticks": "",
           "title": {
            "standoff": 15
           },
           "zerolinecolor": "white",
           "zerolinewidth": 2
          },
          "yaxis": {
           "automargin": true,
           "gridcolor": "white",
           "linecolor": "white",
           "ticks": "",
           "title": {
            "standoff": 15
           },
           "zerolinecolor": "white",
           "zerolinewidth": 2
          }
         }
        },
        "xaxis": {
         "title": {
          "text": "Iteration"
         }
        },
        "yaxis": {
         "title": {
          "text": "Dev Auc"
         }
        }
       }
      },
      "text/html": [
       "<div>                            <div id=\"e10678be-7ed4-46a3-bb31-05052f7e5938\" class=\"plotly-graph-div\" style=\"height:525px; width:100%;\"></div>            <script type=\"text/javascript\">                require([\"plotly\"], function(Plotly) {                    window.PLOTLYENV=window.PLOTLYENV || {};                                    if (document.getElementById(\"e10678be-7ed4-46a3-bb31-05052f7e5938\")) {                    Plotly.newPlot(                        \"e10678be-7ed4-46a3-bb31-05052f7e5938\",                        [{\"line\": {\"color\": \"#636EFA\", \"dash\": \"dash\"}, \"mode\": \"lines\", \"name\": \"baseline-data-dist/sst\", \"type\": \"scatter\", \"x\": [0, 200, 400, 600, 800, 1000, 1200, 1400, 1600, 1800, 2000, 2200, 2400], \"y\": [49.32768947570057, 92.91888089297895, 95.91394318498851, 96.03902110840131, 96.247528809971, 96.10109286335002, 96.45143118778641, 96.43821591092636, 96.24672788410071, 96.39116151604588, 96.43908358061918, 96.54820973044839, 96.37287370867391]}, {\"line\": {\"color\": \"#636EFA\", \"dash\": \"dot\"}, \"mode\": \"lines\", \"name\": \"baseline-data-dist/mrpc\", \"type\": \"scatter\", \"x\": [0, 200, 400, 600, 800, 1000, 1200, 1400, 1600, 1800, 2000, 2200, 2400], \"y\": [49.620535714285715, 68.34449404761905, 78.77232142857143, 80.1078869047619, 83.99925595238095, 85.37946428571429, 85.66964285714285, 86.1346726190476, 87.24702380952381, 87.41815476190476, 87.90178571428571, 88.18824404761904, 88.36681547619048]}, {\"line\": {\"color\": \"#636EFA\", \"dash\": \"dashdot\"}, \"mode\": \"lines\", \"name\": \"baseline-data-dist/rte\", \"type\": \"scatter\", \"x\": [0, 200, 400, 600, 800, 1000, 1200, 1400, 1600, 1800, 2000, 2200, 2400], \"y\": [48.95129504504504, 56.12331081081081, 62.443693693693696, 63.4079391891892, 66.37809684684684, 68.85557432432432, 68.41920045045045, 70.71368243243244, 70.87556306306307, 70.73479729729729, 71.6920045045045, 71.34009009009009, 72.01576576576578]}, {\"marker\": {\"color\": \"#636EFA\"}, \"mode\": \"markers\", \"name\": \"baseline-data-dist maximum\", \"type\": \"scatter\", \"x\": [2200, 2400, 2400], \"y\": [96.54820973044839, 88.36681547619048, 72.01576576576578]}],                        {\"font\": {\"size\": 14}, \"legend\": {\"title\": {\"text\": \"Method/Task\"}}, \"template\": {\"data\": {\"bar\": [{\"error_x\": {\"color\": \"#2a3f5f\"}, \"error_y\": {\"color\": \"#2a3f5f\"}, \"marker\": {\"line\": {\"color\": \"#E5ECF6\", \"width\": 0.5}}, \"type\": \"bar\"}], \"barpolar\": [{\"marker\": {\"line\": {\"color\": \"#E5ECF6\", \"width\": 0.5}}, \"type\": \"barpolar\"}], \"carpet\": [{\"aaxis\": {\"endlinecolor\": \"#2a3f5f\", \"gridcolor\": \"white\", \"linecolor\": \"white\", \"minorgridcolor\": \"white\", \"startlinecolor\": \"#2a3f5f\"}, \"baxis\": {\"endlinecolor\": \"#2a3f5f\", \"gridcolor\": \"white\", \"linecolor\": \"white\", \"minorgridcolor\": \"white\", \"startlinecolor\": \"#2a3f5f\"}, \"type\": \"carpet\"}], \"choropleth\": [{\"colorbar\": {\"outlinewidth\": 0, \"ticks\": \"\"}, \"type\": \"choropleth\"}], \"contour\": [{\"colorbar\": {\"outlinewidth\": 0, \"ticks\": \"\"}, \"colorscale\": [[0.0, \"#0d0887\"], [0.1111111111111111, \"#46039f\"], [0.2222222222222222, \"#7201a8\"], [0.3333333333333333, \"#9c179e\"], [0.4444444444444444, \"#bd3786\"], [0.5555555555555556, \"#d8576b\"], [0.6666666666666666, \"#ed7953\"], [0.7777777777777778, \"#fb9f3a\"], [0.8888888888888888, \"#fdca26\"], [1.0, \"#f0f921\"]], \"type\": \"contour\"}], \"contourcarpet\": [{\"colorbar\": {\"outlinewidth\": 0, \"ticks\": \"\"}, \"type\": \"contourcarpet\"}], \"heatmap\": [{\"colorbar\": {\"outlinewidth\": 0, \"ticks\": \"\"}, \"colorscale\": [[0.0, \"#0d0887\"], [0.1111111111111111, \"#46039f\"], [0.2222222222222222, \"#7201a8\"], [0.3333333333333333, \"#9c179e\"], [0.4444444444444444, \"#bd3786\"], [0.5555555555555556, \"#d8576b\"], [0.6666666666666666, \"#ed7953\"], [0.7777777777777778, \"#fb9f3a\"], [0.8888888888888888, \"#fdca26\"], [1.0, \"#f0f921\"]], \"type\": \"heatmap\"}], \"heatmapgl\": [{\"colorbar\": {\"outlinewidth\": 0, \"ticks\": \"\"}, \"colorscale\": [[0.0, \"#0d0887\"], [0.1111111111111111, \"#46039f\"], [0.2222222222222222, \"#7201a8\"], [0.3333333333333333, \"#9c179e\"], [0.4444444444444444, \"#bd3786\"], [0.5555555555555556, \"#d8576b\"], [0.6666666666666666, \"#ed7953\"], [0.7777777777777778, \"#fb9f3a\"], [0.8888888888888888, \"#fdca26\"], [1.0, \"#f0f921\"]], \"type\": \"heatmapgl\"}], \"histogram\": [{\"marker\": {\"colorbar\": {\"outlinewidth\": 0, \"ticks\": \"\"}}, \"type\": \"histogram\"}], \"histogram2d\": [{\"colorbar\": {\"outlinewidth\": 0, \"ticks\": \"\"}, \"colorscale\": [[0.0, \"#0d0887\"], [0.1111111111111111, \"#46039f\"], [0.2222222222222222, \"#7201a8\"], [0.3333333333333333, \"#9c179e\"], [0.4444444444444444, \"#bd3786\"], [0.5555555555555556, \"#d8576b\"], [0.6666666666666666, \"#ed7953\"], [0.7777777777777778, \"#fb9f3a\"], [0.8888888888888888, \"#fdca26\"], [1.0, \"#f0f921\"]], \"type\": \"histogram2d\"}], \"histogram2dcontour\": [{\"colorbar\": {\"outlinewidth\": 0, \"ticks\": \"\"}, \"colorscale\": [[0.0, \"#0d0887\"], [0.1111111111111111, \"#46039f\"], [0.2222222222222222, \"#7201a8\"], [0.3333333333333333, \"#9c179e\"], [0.4444444444444444, \"#bd3786\"], [0.5555555555555556, \"#d8576b\"], [0.6666666666666666, \"#ed7953\"], [0.7777777777777778, \"#fb9f3a\"], [0.8888888888888888, \"#fdca26\"], [1.0, \"#f0f921\"]], \"type\": \"histogram2dcontour\"}], \"mesh3d\": [{\"colorbar\": {\"outlinewidth\": 0, \"ticks\": \"\"}, \"type\": \"mesh3d\"}], \"parcoords\": [{\"line\": {\"colorbar\": {\"outlinewidth\": 0, \"ticks\": \"\"}}, \"type\": \"parcoords\"}], \"pie\": [{\"automargin\": true, \"type\": \"pie\"}], \"scatter\": [{\"marker\": {\"colorbar\": {\"outlinewidth\": 0, \"ticks\": \"\"}}, \"type\": \"scatter\"}], \"scatter3d\": [{\"line\": {\"colorbar\": {\"outlinewidth\": 0, \"ticks\": \"\"}}, \"marker\": {\"colorbar\": {\"outlinewidth\": 0, \"ticks\": \"\"}}, \"type\": \"scatter3d\"}], \"scattercarpet\": [{\"marker\": {\"colorbar\": {\"outlinewidth\": 0, \"ticks\": \"\"}}, \"type\": \"scattercarpet\"}], \"scattergeo\": [{\"marker\": {\"colorbar\": {\"outlinewidth\": 0, \"ticks\": \"\"}}, \"type\": \"scattergeo\"}], \"scattergl\": [{\"marker\": {\"colorbar\": {\"outlinewidth\": 0, \"ticks\": \"\"}}, \"type\": \"scattergl\"}], \"scattermapbox\": [{\"marker\": {\"colorbar\": {\"outlinewidth\": 0, \"ticks\": \"\"}}, \"type\": \"scattermapbox\"}], \"scatterpolar\": [{\"marker\": {\"colorbar\": {\"outlinewidth\": 0, \"ticks\": \"\"}}, \"type\": \"scatterpolar\"}], \"scatterpolargl\": [{\"marker\": {\"colorbar\": {\"outlinewidth\": 0, \"ticks\": \"\"}}, \"type\": \"scatterpolargl\"}], \"scatterternary\": [{\"marker\": {\"colorbar\": {\"outlinewidth\": 0, \"ticks\": \"\"}}, \"type\": \"scatterternary\"}], \"surface\": [{\"colorbar\": {\"outlinewidth\": 0, \"ticks\": \"\"}, \"colorscale\": [[0.0, \"#0d0887\"], [0.1111111111111111, \"#46039f\"], [0.2222222222222222, \"#7201a8\"], [0.3333333333333333, \"#9c179e\"], [0.4444444444444444, \"#bd3786\"], [0.5555555555555556, \"#d8576b\"], [0.6666666666666666, \"#ed7953\"], [0.7777777777777778, \"#fb9f3a\"], [0.8888888888888888, \"#fdca26\"], [1.0, \"#f0f921\"]], \"type\": \"surface\"}], \"table\": [{\"cells\": {\"fill\": {\"color\": \"#EBF0F8\"}, \"line\": {\"color\": \"white\"}}, \"header\": {\"fill\": {\"color\": \"#C8D4E3\"}, \"line\": {\"color\": \"white\"}}, \"type\": \"table\"}]}, \"layout\": {\"annotationdefaults\": {\"arrowcolor\": \"#2a3f5f\", \"arrowhead\": 0, \"arrowwidth\": 1}, \"coloraxis\": {\"colorbar\": {\"outlinewidth\": 0, \"ticks\": \"\"}}, \"colorscale\": {\"diverging\": [[0, \"#8e0152\"], [0.1, \"#c51b7d\"], [0.2, \"#de77ae\"], [0.3, \"#f1b6da\"], [0.4, \"#fde0ef\"], [0.5, \"#f7f7f7\"], [0.6, \"#e6f5d0\"], [0.7, \"#b8e186\"], [0.8, \"#7fbc41\"], [0.9, \"#4d9221\"], [1, \"#276419\"]], \"sequential\": [[0.0, \"#0d0887\"], [0.1111111111111111, \"#46039f\"], [0.2222222222222222, \"#7201a8\"], [0.3333333333333333, \"#9c179e\"], [0.4444444444444444, \"#bd3786\"], [0.5555555555555556, \"#d8576b\"], [0.6666666666666666, \"#ed7953\"], [0.7777777777777778, \"#fb9f3a\"], [0.8888888888888888, \"#fdca26\"], [1.0, \"#f0f921\"]], \"sequentialminus\": [[0.0, \"#0d0887\"], [0.1111111111111111, \"#46039f\"], [0.2222222222222222, \"#7201a8\"], [0.3333333333333333, \"#9c179e\"], [0.4444444444444444, \"#bd3786\"], [0.5555555555555556, \"#d8576b\"], [0.6666666666666666, \"#ed7953\"], [0.7777777777777778, \"#fb9f3a\"], [0.8888888888888888, \"#fdca26\"], [1.0, \"#f0f921\"]]}, \"colorway\": [\"#636efa\", \"#EF553B\", \"#00cc96\", \"#ab63fa\", \"#FFA15A\", \"#19d3f3\", \"#FF6692\", \"#B6E880\", \"#FF97FF\", \"#FECB52\"], \"font\": {\"color\": \"#2a3f5f\"}, \"geo\": {\"bgcolor\": \"white\", \"lakecolor\": \"white\", \"landcolor\": \"#E5ECF6\", \"showlakes\": true, \"showland\": true, \"subunitcolor\": \"white\"}, \"hoverlabel\": {\"align\": \"left\"}, \"hovermode\": \"closest\", \"mapbox\": {\"style\": \"light\"}, \"paper_bgcolor\": \"white\", \"plot_bgcolor\": \"#E5ECF6\", \"polar\": {\"angularaxis\": {\"gridcolor\": \"white\", \"linecolor\": \"white\", \"ticks\": \"\"}, \"bgcolor\": \"#E5ECF6\", \"radialaxis\": {\"gridcolor\": \"white\", \"linecolor\": \"white\", \"ticks\": \"\"}}, \"scene\": {\"xaxis\": {\"backgroundcolor\": \"#E5ECF6\", \"gridcolor\": \"white\", \"gridwidth\": 2, \"linecolor\": \"white\", \"showbackground\": true, \"ticks\": \"\", \"zerolinecolor\": \"white\"}, \"yaxis\": {\"backgroundcolor\": \"#E5ECF6\", \"gridcolor\": \"white\", \"gridwidth\": 2, \"linecolor\": \"white\", \"showbackground\": true, \"ticks\": \"\", \"zerolinecolor\": \"white\"}, \"zaxis\": {\"backgroundcolor\": \"#E5ECF6\", \"gridcolor\": \"white\", \"gridwidth\": 2, \"linecolor\": \"white\", \"showbackground\": true, \"ticks\": \"\", \"zerolinecolor\": \"white\"}}, \"shapedefaults\": {\"line\": {\"color\": \"#2a3f5f\"}}, \"ternary\": {\"aaxis\": {\"gridcolor\": \"white\", \"linecolor\": \"white\", \"ticks\": \"\"}, \"baxis\": {\"gridcolor\": \"white\", \"linecolor\": \"white\", \"ticks\": \"\"}, \"bgcolor\": \"#E5ECF6\", \"caxis\": {\"gridcolor\": \"white\", \"linecolor\": \"white\", \"ticks\": \"\"}}, \"title\": {\"x\": 0.05}, \"xaxis\": {\"automargin\": true, \"gridcolor\": \"white\", \"linecolor\": \"white\", \"ticks\": \"\", \"title\": {\"standoff\": 15}, \"zerolinecolor\": \"white\", \"zerolinewidth\": 2}, \"yaxis\": {\"automargin\": true, \"gridcolor\": \"white\", \"linecolor\": \"white\", \"ticks\": \"\", \"title\": {\"standoff\": 15}, \"zerolinecolor\": \"white\", \"zerolinewidth\": 2}}}, \"xaxis\": {\"title\": {\"text\": \"Iteration\"}}, \"yaxis\": {\"title\": {\"text\": \"Dev Auc\"}}},                        {\"responsive\": true}                    ).then(function(){\n",
       "                            \n",
       "var gd = document.getElementById('e10678be-7ed4-46a3-bb31-05052f7e5938');\n",
       "var x = new MutationObserver(function (mutations, observer) {{\n",
       "        var display = window.getComputedStyle(gd).display;\n",
       "        if (!display || display === 'none') {{\n",
       "            console.log([gd, 'removed!']);\n",
       "            Plotly.purge(gd);\n",
       "            observer.disconnect();\n",
       "        }}\n",
       "}});\n",
       "\n",
       "// Listen for the removal of the full notebook cells\n",
       "var notebookContainer = gd.closest('#notebook-container');\n",
       "if (notebookContainer) {{\n",
       "    x.observe(notebookContainer, {childList: true});\n",
       "}}\n",
       "\n",
       "// Listen for the clearing of the current output cell\n",
       "var outputEl = gd.closest('.output');\n",
       "if (outputEl) {{\n",
       "    x.observe(outputEl, {childList: true});\n",
       "}}\n",
       "\n",
       "                        })                };                });            </script>        </div>"
      ]
     },
     "metadata": {},
     "output_type": "display_data"
    }
   ],
   "source": [
    "plot_metric_over_time('dev', 'auc', \n",
    "                      ['baseline-data-dist'],\n",
    "                      plot_maxima=True)"
   ]
  },
  {
   "cell_type": "code",
   "execution_count": 219,
   "metadata": {},
   "outputs": [
    {
     "data": {
      "application/vnd.plotly.v1+json": {
       "config": {
        "plotlyServerURL": "https://plot.ly"
       },
       "data": [
        {
         "line": {
          "color": "#636EFA",
          "dash": "dash"
         },
         "mode": "lines",
         "name": "sampling-smoothed-r=0.5/sst",
         "type": "scatter",
         "x": [
          0,
          200,
          400,
          600,
          800,
          1000,
          1200,
          1400,
          1600,
          1800,
          2000,
          2200,
          2400
         ],
         "y": [
          51.31451958463985,
          93.84368329789237,
          95.48611528260001,
          95.41029430021104,
          95.6687263810298,
          96.06745397679718,
          95.92221941898168,
          96.2718235613703,
          96.21282202225774,
          96.39062756546566,
          96.41091768751342,
          96.31961213829852,
          96.2889099799368
         ]
        },
        {
         "line": {
          "color": "#636EFA",
          "dash": "dot"
         },
         "mode": "lines",
         "name": "sampling-smoothed-r=0.5/mrpc",
         "type": "scatter",
         "x": [
          0,
          200,
          400,
          600,
          800,
          1000,
          1200,
          1400,
          1600,
          1800,
          2000,
          2200,
          2400
         ],
         "y": [
          53.991815476190474,
          69.14806547619048,
          81.21651785714285,
          81.90848214285715,
          85.64732142857143,
          86.35416666666667,
          86.65178571428571,
          87.17261904761905,
          87.09821428571429,
          87.69717261904763,
          87.55208333333333,
          88.70535714285715,
          88.66815476190477
         ]
        },
        {
         "line": {
          "color": "#636EFA",
          "dash": "dashdot"
         },
         "mode": "lines",
         "name": "sampling-smoothed-r=0.5/rte",
         "type": "scatter",
         "x": [
          0,
          200,
          400,
          600,
          800,
          1000,
          1200,
          1400,
          1600,
          1800,
          2000,
          2200,
          2400
         ],
         "y": [
          51.51323198198198,
          58.15033783783784,
          67.7364864864865,
          67.51126126126125,
          70.92483108108108,
          73.08558558558559,
          72.88147522522523,
          72.79701576576578,
          74.00760135135135,
          74.2117117117117,
          73.10670045045043,
          73.89498873873873,
          73.96537162162161
         ]
        },
        {
         "marker": {
          "color": "#636EFA"
         },
         "mode": "markers",
         "name": "sampling-smoothed-r=0.5 maximum",
         "type": "scatter",
         "x": [
          2000,
          2200,
          1800
         ],
         "y": [
          96.41091768751342,
          88.70535714285715,
          74.2117117117117
         ]
        }
       ],
       "layout": {
        "font": {
         "size": 14
        },
        "legend": {
         "title": {
          "text": "Method/Task"
         }
        },
        "template": {
         "data": {
          "bar": [
           {
            "error_x": {
             "color": "#2a3f5f"
            },
            "error_y": {
             "color": "#2a3f5f"
            },
            "marker": {
             "line": {
              "color": "#E5ECF6",
              "width": 0.5
             }
            },
            "type": "bar"
           }
          ],
          "barpolar": [
           {
            "marker": {
             "line": {
              "color": "#E5ECF6",
              "width": 0.5
             }
            },
            "type": "barpolar"
           }
          ],
          "carpet": [
           {
            "aaxis": {
             "endlinecolor": "#2a3f5f",
             "gridcolor": "white",
             "linecolor": "white",
             "minorgridcolor": "white",
             "startlinecolor": "#2a3f5f"
            },
            "baxis": {
             "endlinecolor": "#2a3f5f",
             "gridcolor": "white",
             "linecolor": "white",
             "minorgridcolor": "white",
             "startlinecolor": "#2a3f5f"
            },
            "type": "carpet"
           }
          ],
          "choropleth": [
           {
            "colorbar": {
             "outlinewidth": 0,
             "ticks": ""
            },
            "type": "choropleth"
           }
          ],
          "contour": [
           {
            "colorbar": {
             "outlinewidth": 0,
             "ticks": ""
            },
            "colorscale": [
             [
              0,
              "#0d0887"
             ],
             [
              0.1111111111111111,
              "#46039f"
             ],
             [
              0.2222222222222222,
              "#7201a8"
             ],
             [
              0.3333333333333333,
              "#9c179e"
             ],
             [
              0.4444444444444444,
              "#bd3786"
             ],
             [
              0.5555555555555556,
              "#d8576b"
             ],
             [
              0.6666666666666666,
              "#ed7953"
             ],
             [
              0.7777777777777778,
              "#fb9f3a"
             ],
             [
              0.8888888888888888,
              "#fdca26"
             ],
             [
              1,
              "#f0f921"
             ]
            ],
            "type": "contour"
           }
          ],
          "contourcarpet": [
           {
            "colorbar": {
             "outlinewidth": 0,
             "ticks": ""
            },
            "type": "contourcarpet"
           }
          ],
          "heatmap": [
           {
            "colorbar": {
             "outlinewidth": 0,
             "ticks": ""
            },
            "colorscale": [
             [
              0,
              "#0d0887"
             ],
             [
              0.1111111111111111,
              "#46039f"
             ],
             [
              0.2222222222222222,
              "#7201a8"
             ],
             [
              0.3333333333333333,
              "#9c179e"
             ],
             [
              0.4444444444444444,
              "#bd3786"
             ],
             [
              0.5555555555555556,
              "#d8576b"
             ],
             [
              0.6666666666666666,
              "#ed7953"
             ],
             [
              0.7777777777777778,
              "#fb9f3a"
             ],
             [
              0.8888888888888888,
              "#fdca26"
             ],
             [
              1,
              "#f0f921"
             ]
            ],
            "type": "heatmap"
           }
          ],
          "heatmapgl": [
           {
            "colorbar": {
             "outlinewidth": 0,
             "ticks": ""
            },
            "colorscale": [
             [
              0,
              "#0d0887"
             ],
             [
              0.1111111111111111,
              "#46039f"
             ],
             [
              0.2222222222222222,
              "#7201a8"
             ],
             [
              0.3333333333333333,
              "#9c179e"
             ],
             [
              0.4444444444444444,
              "#bd3786"
             ],
             [
              0.5555555555555556,
              "#d8576b"
             ],
             [
              0.6666666666666666,
              "#ed7953"
             ],
             [
              0.7777777777777778,
              "#fb9f3a"
             ],
             [
              0.8888888888888888,
              "#fdca26"
             ],
             [
              1,
              "#f0f921"
             ]
            ],
            "type": "heatmapgl"
           }
          ],
          "histogram": [
           {
            "marker": {
             "colorbar": {
              "outlinewidth": 0,
              "ticks": ""
             }
            },
            "type": "histogram"
           }
          ],
          "histogram2d": [
           {
            "colorbar": {
             "outlinewidth": 0,
             "ticks": ""
            },
            "colorscale": [
             [
              0,
              "#0d0887"
             ],
             [
              0.1111111111111111,
              "#46039f"
             ],
             [
              0.2222222222222222,
              "#7201a8"
             ],
             [
              0.3333333333333333,
              "#9c179e"
             ],
             [
              0.4444444444444444,
              "#bd3786"
             ],
             [
              0.5555555555555556,
              "#d8576b"
             ],
             [
              0.6666666666666666,
              "#ed7953"
             ],
             [
              0.7777777777777778,
              "#fb9f3a"
             ],
             [
              0.8888888888888888,
              "#fdca26"
             ],
             [
              1,
              "#f0f921"
             ]
            ],
            "type": "histogram2d"
           }
          ],
          "histogram2dcontour": [
           {
            "colorbar": {
             "outlinewidth": 0,
             "ticks": ""
            },
            "colorscale": [
             [
              0,
              "#0d0887"
             ],
             [
              0.1111111111111111,
              "#46039f"
             ],
             [
              0.2222222222222222,
              "#7201a8"
             ],
             [
              0.3333333333333333,
              "#9c179e"
             ],
             [
              0.4444444444444444,
              "#bd3786"
             ],
             [
              0.5555555555555556,
              "#d8576b"
             ],
             [
              0.6666666666666666,
              "#ed7953"
             ],
             [
              0.7777777777777778,
              "#fb9f3a"
             ],
             [
              0.8888888888888888,
              "#fdca26"
             ],
             [
              1,
              "#f0f921"
             ]
            ],
            "type": "histogram2dcontour"
           }
          ],
          "mesh3d": [
           {
            "colorbar": {
             "outlinewidth": 0,
             "ticks": ""
            },
            "type": "mesh3d"
           }
          ],
          "parcoords": [
           {
            "line": {
             "colorbar": {
              "outlinewidth": 0,
              "ticks": ""
             }
            },
            "type": "parcoords"
           }
          ],
          "pie": [
           {
            "automargin": true,
            "type": "pie"
           }
          ],
          "scatter": [
           {
            "marker": {
             "colorbar": {
              "outlinewidth": 0,
              "ticks": ""
             }
            },
            "type": "scatter"
           }
          ],
          "scatter3d": [
           {
            "line": {
             "colorbar": {
              "outlinewidth": 0,
              "ticks": ""
             }
            },
            "marker": {
             "colorbar": {
              "outlinewidth": 0,
              "ticks": ""
             }
            },
            "type": "scatter3d"
           }
          ],
          "scattercarpet": [
           {
            "marker": {
             "colorbar": {
              "outlinewidth": 0,
              "ticks": ""
             }
            },
            "type": "scattercarpet"
           }
          ],
          "scattergeo": [
           {
            "marker": {
             "colorbar": {
              "outlinewidth": 0,
              "ticks": ""
             }
            },
            "type": "scattergeo"
           }
          ],
          "scattergl": [
           {
            "marker": {
             "colorbar": {
              "outlinewidth": 0,
              "ticks": ""
             }
            },
            "type": "scattergl"
           }
          ],
          "scattermapbox": [
           {
            "marker": {
             "colorbar": {
              "outlinewidth": 0,
              "ticks": ""
             }
            },
            "type": "scattermapbox"
           }
          ],
          "scatterpolar": [
           {
            "marker": {
             "colorbar": {
              "outlinewidth": 0,
              "ticks": ""
             }
            },
            "type": "scatterpolar"
           }
          ],
          "scatterpolargl": [
           {
            "marker": {
             "colorbar": {
              "outlinewidth": 0,
              "ticks": ""
             }
            },
            "type": "scatterpolargl"
           }
          ],
          "scatterternary": [
           {
            "marker": {
             "colorbar": {
              "outlinewidth": 0,
              "ticks": ""
             }
            },
            "type": "scatterternary"
           }
          ],
          "surface": [
           {
            "colorbar": {
             "outlinewidth": 0,
             "ticks": ""
            },
            "colorscale": [
             [
              0,
              "#0d0887"
             ],
             [
              0.1111111111111111,
              "#46039f"
             ],
             [
              0.2222222222222222,
              "#7201a8"
             ],
             [
              0.3333333333333333,
              "#9c179e"
             ],
             [
              0.4444444444444444,
              "#bd3786"
             ],
             [
              0.5555555555555556,
              "#d8576b"
             ],
             [
              0.6666666666666666,
              "#ed7953"
             ],
             [
              0.7777777777777778,
              "#fb9f3a"
             ],
             [
              0.8888888888888888,
              "#fdca26"
             ],
             [
              1,
              "#f0f921"
             ]
            ],
            "type": "surface"
           }
          ],
          "table": [
           {
            "cells": {
             "fill": {
              "color": "#EBF0F8"
             },
             "line": {
              "color": "white"
             }
            },
            "header": {
             "fill": {
              "color": "#C8D4E3"
             },
             "line": {
              "color": "white"
             }
            },
            "type": "table"
           }
          ]
         },
         "layout": {
          "annotationdefaults": {
           "arrowcolor": "#2a3f5f",
           "arrowhead": 0,
           "arrowwidth": 1
          },
          "coloraxis": {
           "colorbar": {
            "outlinewidth": 0,
            "ticks": ""
           }
          },
          "colorscale": {
           "diverging": [
            [
             0,
             "#8e0152"
            ],
            [
             0.1,
             "#c51b7d"
            ],
            [
             0.2,
             "#de77ae"
            ],
            [
             0.3,
             "#f1b6da"
            ],
            [
             0.4,
             "#fde0ef"
            ],
            [
             0.5,
             "#f7f7f7"
            ],
            [
             0.6,
             "#e6f5d0"
            ],
            [
             0.7,
             "#b8e186"
            ],
            [
             0.8,
             "#7fbc41"
            ],
            [
             0.9,
             "#4d9221"
            ],
            [
             1,
             "#276419"
            ]
           ],
           "sequential": [
            [
             0,
             "#0d0887"
            ],
            [
             0.1111111111111111,
             "#46039f"
            ],
            [
             0.2222222222222222,
             "#7201a8"
            ],
            [
             0.3333333333333333,
             "#9c179e"
            ],
            [
             0.4444444444444444,
             "#bd3786"
            ],
            [
             0.5555555555555556,
             "#d8576b"
            ],
            [
             0.6666666666666666,
             "#ed7953"
            ],
            [
             0.7777777777777778,
             "#fb9f3a"
            ],
            [
             0.8888888888888888,
             "#fdca26"
            ],
            [
             1,
             "#f0f921"
            ]
           ],
           "sequentialminus": [
            [
             0,
             "#0d0887"
            ],
            [
             0.1111111111111111,
             "#46039f"
            ],
            [
             0.2222222222222222,
             "#7201a8"
            ],
            [
             0.3333333333333333,
             "#9c179e"
            ],
            [
             0.4444444444444444,
             "#bd3786"
            ],
            [
             0.5555555555555556,
             "#d8576b"
            ],
            [
             0.6666666666666666,
             "#ed7953"
            ],
            [
             0.7777777777777778,
             "#fb9f3a"
            ],
            [
             0.8888888888888888,
             "#fdca26"
            ],
            [
             1,
             "#f0f921"
            ]
           ]
          },
          "colorway": [
           "#636efa",
           "#EF553B",
           "#00cc96",
           "#ab63fa",
           "#FFA15A",
           "#19d3f3",
           "#FF6692",
           "#B6E880",
           "#FF97FF",
           "#FECB52"
          ],
          "font": {
           "color": "#2a3f5f"
          },
          "geo": {
           "bgcolor": "white",
           "lakecolor": "white",
           "landcolor": "#E5ECF6",
           "showlakes": true,
           "showland": true,
           "subunitcolor": "white"
          },
          "hoverlabel": {
           "align": "left"
          },
          "hovermode": "closest",
          "mapbox": {
           "style": "light"
          },
          "paper_bgcolor": "white",
          "plot_bgcolor": "#E5ECF6",
          "polar": {
           "angularaxis": {
            "gridcolor": "white",
            "linecolor": "white",
            "ticks": ""
           },
           "bgcolor": "#E5ECF6",
           "radialaxis": {
            "gridcolor": "white",
            "linecolor": "white",
            "ticks": ""
           }
          },
          "scene": {
           "xaxis": {
            "backgroundcolor": "#E5ECF6",
            "gridcolor": "white",
            "gridwidth": 2,
            "linecolor": "white",
            "showbackground": true,
            "ticks": "",
            "zerolinecolor": "white"
           },
           "yaxis": {
            "backgroundcolor": "#E5ECF6",
            "gridcolor": "white",
            "gridwidth": 2,
            "linecolor": "white",
            "showbackground": true,
            "ticks": "",
            "zerolinecolor": "white"
           },
           "zaxis": {
            "backgroundcolor": "#E5ECF6",
            "gridcolor": "white",
            "gridwidth": 2,
            "linecolor": "white",
            "showbackground": true,
            "ticks": "",
            "zerolinecolor": "white"
           }
          },
          "shapedefaults": {
           "line": {
            "color": "#2a3f5f"
           }
          },
          "ternary": {
           "aaxis": {
            "gridcolor": "white",
            "linecolor": "white",
            "ticks": ""
           },
           "baxis": {
            "gridcolor": "white",
            "linecolor": "white",
            "ticks": ""
           },
           "bgcolor": "#E5ECF6",
           "caxis": {
            "gridcolor": "white",
            "linecolor": "white",
            "ticks": ""
           }
          },
          "title": {
           "x": 0.05
          },
          "xaxis": {
           "automargin": true,
           "gridcolor": "white",
           "linecolor": "white",
           "ticks": "",
           "title": {
            "standoff": 15
           },
           "zerolinecolor": "white",
           "zerolinewidth": 2
          },
          "yaxis": {
           "automargin": true,
           "gridcolor": "white",
           "linecolor": "white",
           "ticks": "",
           "title": {
            "standoff": 15
           },
           "zerolinecolor": "white",
           "zerolinewidth": 2
          }
         }
        },
        "xaxis": {
         "title": {
          "text": "Iteration"
         }
        },
        "yaxis": {
         "title": {
          "text": "Dev Auc"
         }
        }
       }
      },
      "text/html": [
       "<div>                            <div id=\"88df0ff9-add9-40d5-a2eb-3579d278be55\" class=\"plotly-graph-div\" style=\"height:525px; width:100%;\"></div>            <script type=\"text/javascript\">                require([\"plotly\"], function(Plotly) {                    window.PLOTLYENV=window.PLOTLYENV || {};                                    if (document.getElementById(\"88df0ff9-add9-40d5-a2eb-3579d278be55\")) {                    Plotly.newPlot(                        \"88df0ff9-add9-40d5-a2eb-3579d278be55\",                        [{\"line\": {\"color\": \"#636EFA\", \"dash\": \"dash\"}, \"mode\": \"lines\", \"name\": \"sampling-smoothed-r=0.5/sst\", \"type\": \"scatter\", \"x\": [0, 200, 400, 600, 800, 1000, 1200, 1400, 1600, 1800, 2000, 2200, 2400], \"y\": [51.31451958463985, 93.84368329789237, 95.48611528260001, 95.41029430021104, 95.6687263810298, 96.06745397679718, 95.92221941898168, 96.2718235613703, 96.21282202225774, 96.39062756546566, 96.41091768751342, 96.31961213829852, 96.2889099799368]}, {\"line\": {\"color\": \"#636EFA\", \"dash\": \"dot\"}, \"mode\": \"lines\", \"name\": \"sampling-smoothed-r=0.5/mrpc\", \"type\": \"scatter\", \"x\": [0, 200, 400, 600, 800, 1000, 1200, 1400, 1600, 1800, 2000, 2200, 2400], \"y\": [53.991815476190474, 69.14806547619048, 81.21651785714285, 81.90848214285715, 85.64732142857143, 86.35416666666667, 86.65178571428571, 87.17261904761905, 87.09821428571429, 87.69717261904763, 87.55208333333333, 88.70535714285715, 88.66815476190477]}, {\"line\": {\"color\": \"#636EFA\", \"dash\": \"dashdot\"}, \"mode\": \"lines\", \"name\": \"sampling-smoothed-r=0.5/rte\", \"type\": \"scatter\", \"x\": [0, 200, 400, 600, 800, 1000, 1200, 1400, 1600, 1800, 2000, 2200, 2400], \"y\": [51.51323198198198, 58.15033783783784, 67.7364864864865, 67.51126126126125, 70.92483108108108, 73.08558558558559, 72.88147522522523, 72.79701576576578, 74.00760135135135, 74.2117117117117, 73.10670045045043, 73.89498873873873, 73.96537162162161]}, {\"marker\": {\"color\": \"#636EFA\"}, \"mode\": \"markers\", \"name\": \"sampling-smoothed-r=0.5 maximum\", \"type\": \"scatter\", \"x\": [2000, 2200, 1800], \"y\": [96.41091768751342, 88.70535714285715, 74.2117117117117]}],                        {\"font\": {\"size\": 14}, \"legend\": {\"title\": {\"text\": \"Method/Task\"}}, \"template\": {\"data\": {\"bar\": [{\"error_x\": {\"color\": \"#2a3f5f\"}, \"error_y\": {\"color\": \"#2a3f5f\"}, \"marker\": {\"line\": {\"color\": \"#E5ECF6\", \"width\": 0.5}}, \"type\": \"bar\"}], \"barpolar\": [{\"marker\": {\"line\": {\"color\": \"#E5ECF6\", \"width\": 0.5}}, \"type\": \"barpolar\"}], \"carpet\": [{\"aaxis\": {\"endlinecolor\": \"#2a3f5f\", \"gridcolor\": \"white\", \"linecolor\": \"white\", \"minorgridcolor\": \"white\", \"startlinecolor\": \"#2a3f5f\"}, \"baxis\": {\"endlinecolor\": \"#2a3f5f\", \"gridcolor\": \"white\", \"linecolor\": \"white\", \"minorgridcolor\": \"white\", \"startlinecolor\": \"#2a3f5f\"}, \"type\": \"carpet\"}], \"choropleth\": [{\"colorbar\": {\"outlinewidth\": 0, \"ticks\": \"\"}, \"type\": \"choropleth\"}], \"contour\": [{\"colorbar\": {\"outlinewidth\": 0, \"ticks\": \"\"}, \"colorscale\": [[0.0, \"#0d0887\"], [0.1111111111111111, \"#46039f\"], [0.2222222222222222, \"#7201a8\"], [0.3333333333333333, \"#9c179e\"], [0.4444444444444444, \"#bd3786\"], [0.5555555555555556, \"#d8576b\"], [0.6666666666666666, \"#ed7953\"], [0.7777777777777778, \"#fb9f3a\"], [0.8888888888888888, \"#fdca26\"], [1.0, \"#f0f921\"]], \"type\": \"contour\"}], \"contourcarpet\": [{\"colorbar\": {\"outlinewidth\": 0, \"ticks\": \"\"}, \"type\": \"contourcarpet\"}], \"heatmap\": [{\"colorbar\": {\"outlinewidth\": 0, \"ticks\": \"\"}, \"colorscale\": [[0.0, \"#0d0887\"], [0.1111111111111111, \"#46039f\"], [0.2222222222222222, \"#7201a8\"], [0.3333333333333333, \"#9c179e\"], [0.4444444444444444, \"#bd3786\"], [0.5555555555555556, \"#d8576b\"], [0.6666666666666666, \"#ed7953\"], [0.7777777777777778, \"#fb9f3a\"], [0.8888888888888888, \"#fdca26\"], [1.0, \"#f0f921\"]], \"type\": \"heatmap\"}], \"heatmapgl\": [{\"colorbar\": {\"outlinewidth\": 0, \"ticks\": \"\"}, \"colorscale\": [[0.0, \"#0d0887\"], [0.1111111111111111, \"#46039f\"], [0.2222222222222222, \"#7201a8\"], [0.3333333333333333, \"#9c179e\"], [0.4444444444444444, \"#bd3786\"], [0.5555555555555556, \"#d8576b\"], [0.6666666666666666, \"#ed7953\"], [0.7777777777777778, \"#fb9f3a\"], [0.8888888888888888, \"#fdca26\"], [1.0, \"#f0f921\"]], \"type\": \"heatmapgl\"}], \"histogram\": [{\"marker\": {\"colorbar\": {\"outlinewidth\": 0, \"ticks\": \"\"}}, \"type\": \"histogram\"}], \"histogram2d\": [{\"colorbar\": {\"outlinewidth\": 0, \"ticks\": \"\"}, \"colorscale\": [[0.0, \"#0d0887\"], [0.1111111111111111, \"#46039f\"], [0.2222222222222222, \"#7201a8\"], [0.3333333333333333, \"#9c179e\"], [0.4444444444444444, \"#bd3786\"], [0.5555555555555556, \"#d8576b\"], [0.6666666666666666, \"#ed7953\"], [0.7777777777777778, \"#fb9f3a\"], [0.8888888888888888, \"#fdca26\"], [1.0, \"#f0f921\"]], \"type\": \"histogram2d\"}], \"histogram2dcontour\": [{\"colorbar\": {\"outlinewidth\": 0, \"ticks\": \"\"}, \"colorscale\": [[0.0, \"#0d0887\"], [0.1111111111111111, \"#46039f\"], [0.2222222222222222, \"#7201a8\"], [0.3333333333333333, \"#9c179e\"], [0.4444444444444444, \"#bd3786\"], [0.5555555555555556, \"#d8576b\"], [0.6666666666666666, \"#ed7953\"], [0.7777777777777778, \"#fb9f3a\"], [0.8888888888888888, \"#fdca26\"], [1.0, \"#f0f921\"]], \"type\": \"histogram2dcontour\"}], \"mesh3d\": [{\"colorbar\": {\"outlinewidth\": 0, \"ticks\": \"\"}, \"type\": \"mesh3d\"}], \"parcoords\": [{\"line\": {\"colorbar\": {\"outlinewidth\": 0, \"ticks\": \"\"}}, \"type\": \"parcoords\"}], \"pie\": [{\"automargin\": true, \"type\": \"pie\"}], \"scatter\": [{\"marker\": {\"colorbar\": {\"outlinewidth\": 0, \"ticks\": \"\"}}, \"type\": \"scatter\"}], \"scatter3d\": [{\"line\": {\"colorbar\": {\"outlinewidth\": 0, \"ticks\": \"\"}}, \"marker\": {\"colorbar\": {\"outlinewidth\": 0, \"ticks\": \"\"}}, \"type\": \"scatter3d\"}], \"scattercarpet\": [{\"marker\": {\"colorbar\": {\"outlinewidth\": 0, \"ticks\": \"\"}}, \"type\": \"scattercarpet\"}], \"scattergeo\": [{\"marker\": {\"colorbar\": {\"outlinewidth\": 0, \"ticks\": \"\"}}, \"type\": \"scattergeo\"}], \"scattergl\": [{\"marker\": {\"colorbar\": {\"outlinewidth\": 0, \"ticks\": \"\"}}, \"type\": \"scattergl\"}], \"scattermapbox\": [{\"marker\": {\"colorbar\": {\"outlinewidth\": 0, \"ticks\": \"\"}}, \"type\": \"scattermapbox\"}], \"scatterpolar\": [{\"marker\": {\"colorbar\": {\"outlinewidth\": 0, \"ticks\": \"\"}}, \"type\": \"scatterpolar\"}], \"scatterpolargl\": [{\"marker\": {\"colorbar\": {\"outlinewidth\": 0, \"ticks\": \"\"}}, \"type\": \"scatterpolargl\"}], \"scatterternary\": [{\"marker\": {\"colorbar\": {\"outlinewidth\": 0, \"ticks\": \"\"}}, \"type\": \"scatterternary\"}], \"surface\": [{\"colorbar\": {\"outlinewidth\": 0, \"ticks\": \"\"}, \"colorscale\": [[0.0, \"#0d0887\"], [0.1111111111111111, \"#46039f\"], [0.2222222222222222, \"#7201a8\"], [0.3333333333333333, \"#9c179e\"], [0.4444444444444444, \"#bd3786\"], [0.5555555555555556, \"#d8576b\"], [0.6666666666666666, \"#ed7953\"], [0.7777777777777778, \"#fb9f3a\"], [0.8888888888888888, \"#fdca26\"], [1.0, \"#f0f921\"]], \"type\": \"surface\"}], \"table\": [{\"cells\": {\"fill\": {\"color\": \"#EBF0F8\"}, \"line\": {\"color\": \"white\"}}, \"header\": {\"fill\": {\"color\": \"#C8D4E3\"}, \"line\": {\"color\": \"white\"}}, \"type\": \"table\"}]}, \"layout\": {\"annotationdefaults\": {\"arrowcolor\": \"#2a3f5f\", \"arrowhead\": 0, \"arrowwidth\": 1}, \"coloraxis\": {\"colorbar\": {\"outlinewidth\": 0, \"ticks\": \"\"}}, \"colorscale\": {\"diverging\": [[0, \"#8e0152\"], [0.1, \"#c51b7d\"], [0.2, \"#de77ae\"], [0.3, \"#f1b6da\"], [0.4, \"#fde0ef\"], [0.5, \"#f7f7f7\"], [0.6, \"#e6f5d0\"], [0.7, \"#b8e186\"], [0.8, \"#7fbc41\"], [0.9, \"#4d9221\"], [1, \"#276419\"]], \"sequential\": [[0.0, \"#0d0887\"], [0.1111111111111111, \"#46039f\"], [0.2222222222222222, \"#7201a8\"], [0.3333333333333333, \"#9c179e\"], [0.4444444444444444, \"#bd3786\"], [0.5555555555555556, \"#d8576b\"], [0.6666666666666666, \"#ed7953\"], [0.7777777777777778, \"#fb9f3a\"], [0.8888888888888888, \"#fdca26\"], [1.0, \"#f0f921\"]], \"sequentialminus\": [[0.0, \"#0d0887\"], [0.1111111111111111, \"#46039f\"], [0.2222222222222222, \"#7201a8\"], [0.3333333333333333, \"#9c179e\"], [0.4444444444444444, \"#bd3786\"], [0.5555555555555556, \"#d8576b\"], [0.6666666666666666, \"#ed7953\"], [0.7777777777777778, \"#fb9f3a\"], [0.8888888888888888, \"#fdca26\"], [1.0, \"#f0f921\"]]}, \"colorway\": [\"#636efa\", \"#EF553B\", \"#00cc96\", \"#ab63fa\", \"#FFA15A\", \"#19d3f3\", \"#FF6692\", \"#B6E880\", \"#FF97FF\", \"#FECB52\"], \"font\": {\"color\": \"#2a3f5f\"}, \"geo\": {\"bgcolor\": \"white\", \"lakecolor\": \"white\", \"landcolor\": \"#E5ECF6\", \"showlakes\": true, \"showland\": true, \"subunitcolor\": \"white\"}, \"hoverlabel\": {\"align\": \"left\"}, \"hovermode\": \"closest\", \"mapbox\": {\"style\": \"light\"}, \"paper_bgcolor\": \"white\", \"plot_bgcolor\": \"#E5ECF6\", \"polar\": {\"angularaxis\": {\"gridcolor\": \"white\", \"linecolor\": \"white\", \"ticks\": \"\"}, \"bgcolor\": \"#E5ECF6\", \"radialaxis\": {\"gridcolor\": \"white\", \"linecolor\": \"white\", \"ticks\": \"\"}}, \"scene\": {\"xaxis\": {\"backgroundcolor\": \"#E5ECF6\", \"gridcolor\": \"white\", \"gridwidth\": 2, \"linecolor\": \"white\", \"showbackground\": true, \"ticks\": \"\", \"zerolinecolor\": \"white\"}, \"yaxis\": {\"backgroundcolor\": \"#E5ECF6\", \"gridcolor\": \"white\", \"gridwidth\": 2, \"linecolor\": \"white\", \"showbackground\": true, \"ticks\": \"\", \"zerolinecolor\": \"white\"}, \"zaxis\": {\"backgroundcolor\": \"#E5ECF6\", \"gridcolor\": \"white\", \"gridwidth\": 2, \"linecolor\": \"white\", \"showbackground\": true, \"ticks\": \"\", \"zerolinecolor\": \"white\"}}, \"shapedefaults\": {\"line\": {\"color\": \"#2a3f5f\"}}, \"ternary\": {\"aaxis\": {\"gridcolor\": \"white\", \"linecolor\": \"white\", \"ticks\": \"\"}, \"baxis\": {\"gridcolor\": \"white\", \"linecolor\": \"white\", \"ticks\": \"\"}, \"bgcolor\": \"#E5ECF6\", \"caxis\": {\"gridcolor\": \"white\", \"linecolor\": \"white\", \"ticks\": \"\"}}, \"title\": {\"x\": 0.05}, \"xaxis\": {\"automargin\": true, \"gridcolor\": \"white\", \"linecolor\": \"white\", \"ticks\": \"\", \"title\": {\"standoff\": 15}, \"zerolinecolor\": \"white\", \"zerolinewidth\": 2}, \"yaxis\": {\"automargin\": true, \"gridcolor\": \"white\", \"linecolor\": \"white\", \"ticks\": \"\", \"title\": {\"standoff\": 15}, \"zerolinecolor\": \"white\", \"zerolinewidth\": 2}}}, \"xaxis\": {\"title\": {\"text\": \"Iteration\"}}, \"yaxis\": {\"title\": {\"text\": \"Dev Auc\"}}},                        {\"responsive\": true}                    ).then(function(){\n",
       "                            \n",
       "var gd = document.getElementById('88df0ff9-add9-40d5-a2eb-3579d278be55');\n",
       "var x = new MutationObserver(function (mutations, observer) {{\n",
       "        var display = window.getComputedStyle(gd).display;\n",
       "        if (!display || display === 'none') {{\n",
       "            console.log([gd, 'removed!']);\n",
       "            Plotly.purge(gd);\n",
       "            observer.disconnect();\n",
       "        }}\n",
       "}});\n",
       "\n",
       "// Listen for the removal of the full notebook cells\n",
       "var notebookContainer = gd.closest('#notebook-container');\n",
       "if (notebookContainer) {{\n",
       "    x.observe(notebookContainer, {childList: true});\n",
       "}}\n",
       "\n",
       "// Listen for the clearing of the current output cell\n",
       "var outputEl = gd.closest('.output');\n",
       "if (outputEl) {{\n",
       "    x.observe(outputEl, {childList: true});\n",
       "}}\n",
       "\n",
       "                        })                };                });            </script>        </div>"
      ]
     },
     "metadata": {},
     "output_type": "display_data"
    }
   ],
   "source": [
    "plot_metric_over_time('dev', 'auc', \n",
    "                      ['sampling-smoothed-r=0.5'],\n",
    "                      plot_maxima=True)"
   ]
  },
  {
   "cell_type": "code",
   "execution_count": 338,
   "metadata": {},
   "outputs": [
    {
     "data": {
      "application/vnd.plotly.v1+json": {
       "config": {
        "plotlyServerURL": "https://plot.ly"
       },
       "data": [
        {
         "line": {
          "color": "#636EFA",
          "dash": "dash"
         },
         "mode": "lines",
         "name": "sampling-raw/sst",
         "type": "scatter",
         "x": [
          0,
          200,
          400,
          600,
          800,
          1000,
          1200,
          1400,
          1600,
          1800,
          2000,
          2200,
          2400
         ],
         "y": [
          48.15620190273288,
          92.95879369884919,
          95.44767084082532,
          95.50640540464777,
          95.73627112942562,
          95.99443623495428,
          96.0779995007562,
          96.09455196874252,
          96.20574717707002,
          96.34390688969783,
          96.23070936669455,
          96.38542154730868,
          96.25313529106313
         ]
        },
        {
         "line": {
          "color": "#636EFA",
          "dash": "dot"
         },
         "mode": "lines",
         "name": "sampling-raw/mrpc",
         "type": "scatter",
         "x": [
          0,
          200,
          400,
          600,
          800,
          1000,
          1200,
          1400,
          1600,
          1800,
          2000,
          2200,
          2400
         ],
         "y": [
          53.02455357142858,
          67.90178571428572,
          82.25818452380952,
          81.77083333333334,
          85.49107142857143,
          87.11309523809524,
          87.64508928571428,
          87.92410714285715,
          89.23363095238096,
          89.20386904761904,
          89.79538690476191,
          89.21502976190476,
          89.19642857142857
         ]
        },
        {
         "line": {
          "color": "#636EFA",
          "dash": "dashdot"
         },
         "mode": "lines",
         "name": "sampling-raw/rte",
         "type": "scatter",
         "x": [
          0,
          200,
          400,
          600,
          800,
          1000,
          1200,
          1400,
          1600,
          1800,
          2000,
          2200,
          2400
         ],
         "y": [
          52.470439189189186,
          57.868806306306304,
          64.06953828828829,
          66.49774774774775,
          70.43918918918918,
          72.29729729729729,
          72.86739864864865,
          72.04391891891892,
          72.52252252252254,
          72.00872747747746,
          71.67792792792793,
          72.240990990991,
          72.81813063063063
         ]
        },
        {
         "marker": {
          "color": "#636EFA"
         },
         "mode": "markers",
         "name": "sampling-raw maximum",
         "type": "scatter",
         "x": [
          2200,
          2000,
          1200
         ],
         "y": [
          96.38542154730868,
          89.79538690476191,
          72.86739864864865
         ]
        }
       ],
       "layout": {
        "font": {
         "size": 14
        },
        "legend": {
         "title": {
          "text": "Method/Task"
         }
        },
        "template": {
         "data": {
          "bar": [
           {
            "error_x": {
             "color": "#2a3f5f"
            },
            "error_y": {
             "color": "#2a3f5f"
            },
            "marker": {
             "line": {
              "color": "#E5ECF6",
              "width": 0.5
             }
            },
            "type": "bar"
           }
          ],
          "barpolar": [
           {
            "marker": {
             "line": {
              "color": "#E5ECF6",
              "width": 0.5
             }
            },
            "type": "barpolar"
           }
          ],
          "carpet": [
           {
            "aaxis": {
             "endlinecolor": "#2a3f5f",
             "gridcolor": "white",
             "linecolor": "white",
             "minorgridcolor": "white",
             "startlinecolor": "#2a3f5f"
            },
            "baxis": {
             "endlinecolor": "#2a3f5f",
             "gridcolor": "white",
             "linecolor": "white",
             "minorgridcolor": "white",
             "startlinecolor": "#2a3f5f"
            },
            "type": "carpet"
           }
          ],
          "choropleth": [
           {
            "colorbar": {
             "outlinewidth": 0,
             "ticks": ""
            },
            "type": "choropleth"
           }
          ],
          "contour": [
           {
            "colorbar": {
             "outlinewidth": 0,
             "ticks": ""
            },
            "colorscale": [
             [
              0,
              "#0d0887"
             ],
             [
              0.1111111111111111,
              "#46039f"
             ],
             [
              0.2222222222222222,
              "#7201a8"
             ],
             [
              0.3333333333333333,
              "#9c179e"
             ],
             [
              0.4444444444444444,
              "#bd3786"
             ],
             [
              0.5555555555555556,
              "#d8576b"
             ],
             [
              0.6666666666666666,
              "#ed7953"
             ],
             [
              0.7777777777777778,
              "#fb9f3a"
             ],
             [
              0.8888888888888888,
              "#fdca26"
             ],
             [
              1,
              "#f0f921"
             ]
            ],
            "type": "contour"
           }
          ],
          "contourcarpet": [
           {
            "colorbar": {
             "outlinewidth": 0,
             "ticks": ""
            },
            "type": "contourcarpet"
           }
          ],
          "heatmap": [
           {
            "colorbar": {
             "outlinewidth": 0,
             "ticks": ""
            },
            "colorscale": [
             [
              0,
              "#0d0887"
             ],
             [
              0.1111111111111111,
              "#46039f"
             ],
             [
              0.2222222222222222,
              "#7201a8"
             ],
             [
              0.3333333333333333,
              "#9c179e"
             ],
             [
              0.4444444444444444,
              "#bd3786"
             ],
             [
              0.5555555555555556,
              "#d8576b"
             ],
             [
              0.6666666666666666,
              "#ed7953"
             ],
             [
              0.7777777777777778,
              "#fb9f3a"
             ],
             [
              0.8888888888888888,
              "#fdca26"
             ],
             [
              1,
              "#f0f921"
             ]
            ],
            "type": "heatmap"
           }
          ],
          "heatmapgl": [
           {
            "colorbar": {
             "outlinewidth": 0,
             "ticks": ""
            },
            "colorscale": [
             [
              0,
              "#0d0887"
             ],
             [
              0.1111111111111111,
              "#46039f"
             ],
             [
              0.2222222222222222,
              "#7201a8"
             ],
             [
              0.3333333333333333,
              "#9c179e"
             ],
             [
              0.4444444444444444,
              "#bd3786"
             ],
             [
              0.5555555555555556,
              "#d8576b"
             ],
             [
              0.6666666666666666,
              "#ed7953"
             ],
             [
              0.7777777777777778,
              "#fb9f3a"
             ],
             [
              0.8888888888888888,
              "#fdca26"
             ],
             [
              1,
              "#f0f921"
             ]
            ],
            "type": "heatmapgl"
           }
          ],
          "histogram": [
           {
            "marker": {
             "colorbar": {
              "outlinewidth": 0,
              "ticks": ""
             }
            },
            "type": "histogram"
           }
          ],
          "histogram2d": [
           {
            "colorbar": {
             "outlinewidth": 0,
             "ticks": ""
            },
            "colorscale": [
             [
              0,
              "#0d0887"
             ],
             [
              0.1111111111111111,
              "#46039f"
             ],
             [
              0.2222222222222222,
              "#7201a8"
             ],
             [
              0.3333333333333333,
              "#9c179e"
             ],
             [
              0.4444444444444444,
              "#bd3786"
             ],
             [
              0.5555555555555556,
              "#d8576b"
             ],
             [
              0.6666666666666666,
              "#ed7953"
             ],
             [
              0.7777777777777778,
              "#fb9f3a"
             ],
             [
              0.8888888888888888,
              "#fdca26"
             ],
             [
              1,
              "#f0f921"
             ]
            ],
            "type": "histogram2d"
           }
          ],
          "histogram2dcontour": [
           {
            "colorbar": {
             "outlinewidth": 0,
             "ticks": ""
            },
            "colorscale": [
             [
              0,
              "#0d0887"
             ],
             [
              0.1111111111111111,
              "#46039f"
             ],
             [
              0.2222222222222222,
              "#7201a8"
             ],
             [
              0.3333333333333333,
              "#9c179e"
             ],
             [
              0.4444444444444444,
              "#bd3786"
             ],
             [
              0.5555555555555556,
              "#d8576b"
             ],
             [
              0.6666666666666666,
              "#ed7953"
             ],
             [
              0.7777777777777778,
              "#fb9f3a"
             ],
             [
              0.8888888888888888,
              "#fdca26"
             ],
             [
              1,
              "#f0f921"
             ]
            ],
            "type": "histogram2dcontour"
           }
          ],
          "mesh3d": [
           {
            "colorbar": {
             "outlinewidth": 0,
             "ticks": ""
            },
            "type": "mesh3d"
           }
          ],
          "parcoords": [
           {
            "line": {
             "colorbar": {
              "outlinewidth": 0,
              "ticks": ""
             }
            },
            "type": "parcoords"
           }
          ],
          "pie": [
           {
            "automargin": true,
            "type": "pie"
           }
          ],
          "scatter": [
           {
            "marker": {
             "colorbar": {
              "outlinewidth": 0,
              "ticks": ""
             }
            },
            "type": "scatter"
           }
          ],
          "scatter3d": [
           {
            "line": {
             "colorbar": {
              "outlinewidth": 0,
              "ticks": ""
             }
            },
            "marker": {
             "colorbar": {
              "outlinewidth": 0,
              "ticks": ""
             }
            },
            "type": "scatter3d"
           }
          ],
          "scattercarpet": [
           {
            "marker": {
             "colorbar": {
              "outlinewidth": 0,
              "ticks": ""
             }
            },
            "type": "scattercarpet"
           }
          ],
          "scattergeo": [
           {
            "marker": {
             "colorbar": {
              "outlinewidth": 0,
              "ticks": ""
             }
            },
            "type": "scattergeo"
           }
          ],
          "scattergl": [
           {
            "marker": {
             "colorbar": {
              "outlinewidth": 0,
              "ticks": ""
             }
            },
            "type": "scattergl"
           }
          ],
          "scattermapbox": [
           {
            "marker": {
             "colorbar": {
              "outlinewidth": 0,
              "ticks": ""
             }
            },
            "type": "scattermapbox"
           }
          ],
          "scatterpolar": [
           {
            "marker": {
             "colorbar": {
              "outlinewidth": 0,
              "ticks": ""
             }
            },
            "type": "scatterpolar"
           }
          ],
          "scatterpolargl": [
           {
            "marker": {
             "colorbar": {
              "outlinewidth": 0,
              "ticks": ""
             }
            },
            "type": "scatterpolargl"
           }
          ],
          "scatterternary": [
           {
            "marker": {
             "colorbar": {
              "outlinewidth": 0,
              "ticks": ""
             }
            },
            "type": "scatterternary"
           }
          ],
          "surface": [
           {
            "colorbar": {
             "outlinewidth": 0,
             "ticks": ""
            },
            "colorscale": [
             [
              0,
              "#0d0887"
             ],
             [
              0.1111111111111111,
              "#46039f"
             ],
             [
              0.2222222222222222,
              "#7201a8"
             ],
             [
              0.3333333333333333,
              "#9c179e"
             ],
             [
              0.4444444444444444,
              "#bd3786"
             ],
             [
              0.5555555555555556,
              "#d8576b"
             ],
             [
              0.6666666666666666,
              "#ed7953"
             ],
             [
              0.7777777777777778,
              "#fb9f3a"
             ],
             [
              0.8888888888888888,
              "#fdca26"
             ],
             [
              1,
              "#f0f921"
             ]
            ],
            "type": "surface"
           }
          ],
          "table": [
           {
            "cells": {
             "fill": {
              "color": "#EBF0F8"
             },
             "line": {
              "color": "white"
             }
            },
            "header": {
             "fill": {
              "color": "#C8D4E3"
             },
             "line": {
              "color": "white"
             }
            },
            "type": "table"
           }
          ]
         },
         "layout": {
          "annotationdefaults": {
           "arrowcolor": "#2a3f5f",
           "arrowhead": 0,
           "arrowwidth": 1
          },
          "coloraxis": {
           "colorbar": {
            "outlinewidth": 0,
            "ticks": ""
           }
          },
          "colorscale": {
           "diverging": [
            [
             0,
             "#8e0152"
            ],
            [
             0.1,
             "#c51b7d"
            ],
            [
             0.2,
             "#de77ae"
            ],
            [
             0.3,
             "#f1b6da"
            ],
            [
             0.4,
             "#fde0ef"
            ],
            [
             0.5,
             "#f7f7f7"
            ],
            [
             0.6,
             "#e6f5d0"
            ],
            [
             0.7,
             "#b8e186"
            ],
            [
             0.8,
             "#7fbc41"
            ],
            [
             0.9,
             "#4d9221"
            ],
            [
             1,
             "#276419"
            ]
           ],
           "sequential": [
            [
             0,
             "#0d0887"
            ],
            [
             0.1111111111111111,
             "#46039f"
            ],
            [
             0.2222222222222222,
             "#7201a8"
            ],
            [
             0.3333333333333333,
             "#9c179e"
            ],
            [
             0.4444444444444444,
             "#bd3786"
            ],
            [
             0.5555555555555556,
             "#d8576b"
            ],
            [
             0.6666666666666666,
             "#ed7953"
            ],
            [
             0.7777777777777778,
             "#fb9f3a"
            ],
            [
             0.8888888888888888,
             "#fdca26"
            ],
            [
             1,
             "#f0f921"
            ]
           ],
           "sequentialminus": [
            [
             0,
             "#0d0887"
            ],
            [
             0.1111111111111111,
             "#46039f"
            ],
            [
             0.2222222222222222,
             "#7201a8"
            ],
            [
             0.3333333333333333,
             "#9c179e"
            ],
            [
             0.4444444444444444,
             "#bd3786"
            ],
            [
             0.5555555555555556,
             "#d8576b"
            ],
            [
             0.6666666666666666,
             "#ed7953"
            ],
            [
             0.7777777777777778,
             "#fb9f3a"
            ],
            [
             0.8888888888888888,
             "#fdca26"
            ],
            [
             1,
             "#f0f921"
            ]
           ]
          },
          "colorway": [
           "#636efa",
           "#EF553B",
           "#00cc96",
           "#ab63fa",
           "#FFA15A",
           "#19d3f3",
           "#FF6692",
           "#B6E880",
           "#FF97FF",
           "#FECB52"
          ],
          "font": {
           "color": "#2a3f5f"
          },
          "geo": {
           "bgcolor": "white",
           "lakecolor": "white",
           "landcolor": "#E5ECF6",
           "showlakes": true,
           "showland": true,
           "subunitcolor": "white"
          },
          "hoverlabel": {
           "align": "left"
          },
          "hovermode": "closest",
          "mapbox": {
           "style": "light"
          },
          "paper_bgcolor": "white",
          "plot_bgcolor": "#E5ECF6",
          "polar": {
           "angularaxis": {
            "gridcolor": "white",
            "linecolor": "white",
            "ticks": ""
           },
           "bgcolor": "#E5ECF6",
           "radialaxis": {
            "gridcolor": "white",
            "linecolor": "white",
            "ticks": ""
           }
          },
          "scene": {
           "xaxis": {
            "backgroundcolor": "#E5ECF6",
            "gridcolor": "white",
            "gridwidth": 2,
            "linecolor": "white",
            "showbackground": true,
            "ticks": "",
            "zerolinecolor": "white"
           },
           "yaxis": {
            "backgroundcolor": "#E5ECF6",
            "gridcolor": "white",
            "gridwidth": 2,
            "linecolor": "white",
            "showbackground": true,
            "ticks": "",
            "zerolinecolor": "white"
           },
           "zaxis": {
            "backgroundcolor": "#E5ECF6",
            "gridcolor": "white",
            "gridwidth": 2,
            "linecolor": "white",
            "showbackground": true,
            "ticks": "",
            "zerolinecolor": "white"
           }
          },
          "shapedefaults": {
           "line": {
            "color": "#2a3f5f"
           }
          },
          "ternary": {
           "aaxis": {
            "gridcolor": "white",
            "linecolor": "white",
            "ticks": ""
           },
           "baxis": {
            "gridcolor": "white",
            "linecolor": "white",
            "ticks": ""
           },
           "bgcolor": "#E5ECF6",
           "caxis": {
            "gridcolor": "white",
            "linecolor": "white",
            "ticks": ""
           }
          },
          "title": {
           "x": 0.05
          },
          "xaxis": {
           "automargin": true,
           "gridcolor": "white",
           "linecolor": "white",
           "ticks": "",
           "title": {
            "standoff": 15
           },
           "zerolinecolor": "white",
           "zerolinewidth": 2
          },
          "yaxis": {
           "automargin": true,
           "gridcolor": "white",
           "linecolor": "white",
           "ticks": "",
           "title": {
            "standoff": 15
           },
           "zerolinecolor": "white",
           "zerolinewidth": 2
          }
         }
        },
        "xaxis": {
         "title": {
          "text": "Iteration"
         }
        },
        "yaxis": {
         "title": {
          "text": "Dev Auc"
         }
        }
       }
      },
      "text/html": [
       "<div>                            <div id=\"4915631e-266c-4df4-8bd8-b0f34bb5d746\" class=\"plotly-graph-div\" style=\"height:525px; width:100%;\"></div>            <script type=\"text/javascript\">                require([\"plotly\"], function(Plotly) {                    window.PLOTLYENV=window.PLOTLYENV || {};                                    if (document.getElementById(\"4915631e-266c-4df4-8bd8-b0f34bb5d746\")) {                    Plotly.newPlot(                        \"4915631e-266c-4df4-8bd8-b0f34bb5d746\",                        [{\"line\": {\"color\": \"#636EFA\", \"dash\": \"dash\"}, \"mode\": \"lines\", \"name\": \"sampling-raw/sst\", \"type\": \"scatter\", \"x\": [0, 200, 400, 600, 800, 1000, 1200, 1400, 1600, 1800, 2000, 2200, 2400], \"y\": [48.15620190273288, 92.95879369884919, 95.44767084082532, 95.50640540464777, 95.73627112942562, 95.99443623495428, 96.0779995007562, 96.09455196874252, 96.20574717707002, 96.34390688969783, 96.23070936669455, 96.38542154730868, 96.25313529106313]}, {\"line\": {\"color\": \"#636EFA\", \"dash\": \"dot\"}, \"mode\": \"lines\", \"name\": \"sampling-raw/mrpc\", \"type\": \"scatter\", \"x\": [0, 200, 400, 600, 800, 1000, 1200, 1400, 1600, 1800, 2000, 2200, 2400], \"y\": [53.02455357142858, 67.90178571428572, 82.25818452380952, 81.77083333333334, 85.49107142857143, 87.11309523809524, 87.64508928571428, 87.92410714285715, 89.23363095238096, 89.20386904761904, 89.79538690476191, 89.21502976190476, 89.19642857142857]}, {\"line\": {\"color\": \"#636EFA\", \"dash\": \"dashdot\"}, \"mode\": \"lines\", \"name\": \"sampling-raw/rte\", \"type\": \"scatter\", \"x\": [0, 200, 400, 600, 800, 1000, 1200, 1400, 1600, 1800, 2000, 2200, 2400], \"y\": [52.470439189189186, 57.868806306306304, 64.06953828828829, 66.49774774774775, 70.43918918918918, 72.29729729729729, 72.86739864864865, 72.04391891891892, 72.52252252252254, 72.00872747747746, 71.67792792792793, 72.240990990991, 72.81813063063063]}, {\"marker\": {\"color\": \"#636EFA\"}, \"mode\": \"markers\", \"name\": \"sampling-raw maximum\", \"type\": \"scatter\", \"x\": [2200, 2000, 1200], \"y\": [96.38542154730868, 89.79538690476191, 72.86739864864865]}],                        {\"font\": {\"size\": 14}, \"legend\": {\"title\": {\"text\": \"Method/Task\"}}, \"template\": {\"data\": {\"bar\": [{\"error_x\": {\"color\": \"#2a3f5f\"}, \"error_y\": {\"color\": \"#2a3f5f\"}, \"marker\": {\"line\": {\"color\": \"#E5ECF6\", \"width\": 0.5}}, \"type\": \"bar\"}], \"barpolar\": [{\"marker\": {\"line\": {\"color\": \"#E5ECF6\", \"width\": 0.5}}, \"type\": \"barpolar\"}], \"carpet\": [{\"aaxis\": {\"endlinecolor\": \"#2a3f5f\", \"gridcolor\": \"white\", \"linecolor\": \"white\", \"minorgridcolor\": \"white\", \"startlinecolor\": \"#2a3f5f\"}, \"baxis\": {\"endlinecolor\": \"#2a3f5f\", \"gridcolor\": \"white\", \"linecolor\": \"white\", \"minorgridcolor\": \"white\", \"startlinecolor\": \"#2a3f5f\"}, \"type\": \"carpet\"}], \"choropleth\": [{\"colorbar\": {\"outlinewidth\": 0, \"ticks\": \"\"}, \"type\": \"choropleth\"}], \"contour\": [{\"colorbar\": {\"outlinewidth\": 0, \"ticks\": \"\"}, \"colorscale\": [[0.0, \"#0d0887\"], [0.1111111111111111, \"#46039f\"], [0.2222222222222222, \"#7201a8\"], [0.3333333333333333, \"#9c179e\"], [0.4444444444444444, \"#bd3786\"], [0.5555555555555556, \"#d8576b\"], [0.6666666666666666, \"#ed7953\"], [0.7777777777777778, \"#fb9f3a\"], [0.8888888888888888, \"#fdca26\"], [1.0, \"#f0f921\"]], \"type\": \"contour\"}], \"contourcarpet\": [{\"colorbar\": {\"outlinewidth\": 0, \"ticks\": \"\"}, \"type\": \"contourcarpet\"}], \"heatmap\": [{\"colorbar\": {\"outlinewidth\": 0, \"ticks\": \"\"}, \"colorscale\": [[0.0, \"#0d0887\"], [0.1111111111111111, \"#46039f\"], [0.2222222222222222, \"#7201a8\"], [0.3333333333333333, \"#9c179e\"], [0.4444444444444444, \"#bd3786\"], [0.5555555555555556, \"#d8576b\"], [0.6666666666666666, \"#ed7953\"], [0.7777777777777778, \"#fb9f3a\"], [0.8888888888888888, \"#fdca26\"], [1.0, \"#f0f921\"]], \"type\": \"heatmap\"}], \"heatmapgl\": [{\"colorbar\": {\"outlinewidth\": 0, \"ticks\": \"\"}, \"colorscale\": [[0.0, \"#0d0887\"], [0.1111111111111111, \"#46039f\"], [0.2222222222222222, \"#7201a8\"], [0.3333333333333333, \"#9c179e\"], [0.4444444444444444, \"#bd3786\"], [0.5555555555555556, \"#d8576b\"], [0.6666666666666666, \"#ed7953\"], [0.7777777777777778, \"#fb9f3a\"], [0.8888888888888888, \"#fdca26\"], [1.0, \"#f0f921\"]], \"type\": \"heatmapgl\"}], \"histogram\": [{\"marker\": {\"colorbar\": {\"outlinewidth\": 0, \"ticks\": \"\"}}, \"type\": \"histogram\"}], \"histogram2d\": [{\"colorbar\": {\"outlinewidth\": 0, \"ticks\": \"\"}, \"colorscale\": [[0.0, \"#0d0887\"], [0.1111111111111111, \"#46039f\"], [0.2222222222222222, \"#7201a8\"], [0.3333333333333333, \"#9c179e\"], [0.4444444444444444, \"#bd3786\"], [0.5555555555555556, \"#d8576b\"], [0.6666666666666666, \"#ed7953\"], [0.7777777777777778, \"#fb9f3a\"], [0.8888888888888888, \"#fdca26\"], [1.0, \"#f0f921\"]], \"type\": \"histogram2d\"}], \"histogram2dcontour\": [{\"colorbar\": {\"outlinewidth\": 0, \"ticks\": \"\"}, \"colorscale\": [[0.0, \"#0d0887\"], [0.1111111111111111, \"#46039f\"], [0.2222222222222222, \"#7201a8\"], [0.3333333333333333, \"#9c179e\"], [0.4444444444444444, \"#bd3786\"], [0.5555555555555556, \"#d8576b\"], [0.6666666666666666, \"#ed7953\"], [0.7777777777777778, \"#fb9f3a\"], [0.8888888888888888, \"#fdca26\"], [1.0, \"#f0f921\"]], \"type\": \"histogram2dcontour\"}], \"mesh3d\": [{\"colorbar\": {\"outlinewidth\": 0, \"ticks\": \"\"}, \"type\": \"mesh3d\"}], \"parcoords\": [{\"line\": {\"colorbar\": {\"outlinewidth\": 0, \"ticks\": \"\"}}, \"type\": \"parcoords\"}], \"pie\": [{\"automargin\": true, \"type\": \"pie\"}], \"scatter\": [{\"marker\": {\"colorbar\": {\"outlinewidth\": 0, \"ticks\": \"\"}}, \"type\": \"scatter\"}], \"scatter3d\": [{\"line\": {\"colorbar\": {\"outlinewidth\": 0, \"ticks\": \"\"}}, \"marker\": {\"colorbar\": {\"outlinewidth\": 0, \"ticks\": \"\"}}, \"type\": \"scatter3d\"}], \"scattercarpet\": [{\"marker\": {\"colorbar\": {\"outlinewidth\": 0, \"ticks\": \"\"}}, \"type\": \"scattercarpet\"}], \"scattergeo\": [{\"marker\": {\"colorbar\": {\"outlinewidth\": 0, \"ticks\": \"\"}}, \"type\": \"scattergeo\"}], \"scattergl\": [{\"marker\": {\"colorbar\": {\"outlinewidth\": 0, \"ticks\": \"\"}}, \"type\": \"scattergl\"}], \"scattermapbox\": [{\"marker\": {\"colorbar\": {\"outlinewidth\": 0, \"ticks\": \"\"}}, \"type\": \"scattermapbox\"}], \"scatterpolar\": [{\"marker\": {\"colorbar\": {\"outlinewidth\": 0, \"ticks\": \"\"}}, \"type\": \"scatterpolar\"}], \"scatterpolargl\": [{\"marker\": {\"colorbar\": {\"outlinewidth\": 0, \"ticks\": \"\"}}, \"type\": \"scatterpolargl\"}], \"scatterternary\": [{\"marker\": {\"colorbar\": {\"outlinewidth\": 0, \"ticks\": \"\"}}, \"type\": \"scatterternary\"}], \"surface\": [{\"colorbar\": {\"outlinewidth\": 0, \"ticks\": \"\"}, \"colorscale\": [[0.0, \"#0d0887\"], [0.1111111111111111, \"#46039f\"], [0.2222222222222222, \"#7201a8\"], [0.3333333333333333, \"#9c179e\"], [0.4444444444444444, \"#bd3786\"], [0.5555555555555556, \"#d8576b\"], [0.6666666666666666, \"#ed7953\"], [0.7777777777777778, \"#fb9f3a\"], [0.8888888888888888, \"#fdca26\"], [1.0, \"#f0f921\"]], \"type\": \"surface\"}], \"table\": [{\"cells\": {\"fill\": {\"color\": \"#EBF0F8\"}, \"line\": {\"color\": \"white\"}}, \"header\": {\"fill\": {\"color\": \"#C8D4E3\"}, \"line\": {\"color\": \"white\"}}, \"type\": \"table\"}]}, \"layout\": {\"annotationdefaults\": {\"arrowcolor\": \"#2a3f5f\", \"arrowhead\": 0, \"arrowwidth\": 1}, \"coloraxis\": {\"colorbar\": {\"outlinewidth\": 0, \"ticks\": \"\"}}, \"colorscale\": {\"diverging\": [[0, \"#8e0152\"], [0.1, \"#c51b7d\"], [0.2, \"#de77ae\"], [0.3, \"#f1b6da\"], [0.4, \"#fde0ef\"], [0.5, \"#f7f7f7\"], [0.6, \"#e6f5d0\"], [0.7, \"#b8e186\"], [0.8, \"#7fbc41\"], [0.9, \"#4d9221\"], [1, \"#276419\"]], \"sequential\": [[0.0, \"#0d0887\"], [0.1111111111111111, \"#46039f\"], [0.2222222222222222, \"#7201a8\"], [0.3333333333333333, \"#9c179e\"], [0.4444444444444444, \"#bd3786\"], [0.5555555555555556, \"#d8576b\"], [0.6666666666666666, \"#ed7953\"], [0.7777777777777778, \"#fb9f3a\"], [0.8888888888888888, \"#fdca26\"], [1.0, \"#f0f921\"]], \"sequentialminus\": [[0.0, \"#0d0887\"], [0.1111111111111111, \"#46039f\"], [0.2222222222222222, \"#7201a8\"], [0.3333333333333333, \"#9c179e\"], [0.4444444444444444, \"#bd3786\"], [0.5555555555555556, \"#d8576b\"], [0.6666666666666666, \"#ed7953\"], [0.7777777777777778, \"#fb9f3a\"], [0.8888888888888888, \"#fdca26\"], [1.0, \"#f0f921\"]]}, \"colorway\": [\"#636efa\", \"#EF553B\", \"#00cc96\", \"#ab63fa\", \"#FFA15A\", \"#19d3f3\", \"#FF6692\", \"#B6E880\", \"#FF97FF\", \"#FECB52\"], \"font\": {\"color\": \"#2a3f5f\"}, \"geo\": {\"bgcolor\": \"white\", \"lakecolor\": \"white\", \"landcolor\": \"#E5ECF6\", \"showlakes\": true, \"showland\": true, \"subunitcolor\": \"white\"}, \"hoverlabel\": {\"align\": \"left\"}, \"hovermode\": \"closest\", \"mapbox\": {\"style\": \"light\"}, \"paper_bgcolor\": \"white\", \"plot_bgcolor\": \"#E5ECF6\", \"polar\": {\"angularaxis\": {\"gridcolor\": \"white\", \"linecolor\": \"white\", \"ticks\": \"\"}, \"bgcolor\": \"#E5ECF6\", \"radialaxis\": {\"gridcolor\": \"white\", \"linecolor\": \"white\", \"ticks\": \"\"}}, \"scene\": {\"xaxis\": {\"backgroundcolor\": \"#E5ECF6\", \"gridcolor\": \"white\", \"gridwidth\": 2, \"linecolor\": \"white\", \"showbackground\": true, \"ticks\": \"\", \"zerolinecolor\": \"white\"}, \"yaxis\": {\"backgroundcolor\": \"#E5ECF6\", \"gridcolor\": \"white\", \"gridwidth\": 2, \"linecolor\": \"white\", \"showbackground\": true, \"ticks\": \"\", \"zerolinecolor\": \"white\"}, \"zaxis\": {\"backgroundcolor\": \"#E5ECF6\", \"gridcolor\": \"white\", \"gridwidth\": 2, \"linecolor\": \"white\", \"showbackground\": true, \"ticks\": \"\", \"zerolinecolor\": \"white\"}}, \"shapedefaults\": {\"line\": {\"color\": \"#2a3f5f\"}}, \"ternary\": {\"aaxis\": {\"gridcolor\": \"white\", \"linecolor\": \"white\", \"ticks\": \"\"}, \"baxis\": {\"gridcolor\": \"white\", \"linecolor\": \"white\", \"ticks\": \"\"}, \"bgcolor\": \"#E5ECF6\", \"caxis\": {\"gridcolor\": \"white\", \"linecolor\": \"white\", \"ticks\": \"\"}}, \"title\": {\"x\": 0.05}, \"xaxis\": {\"automargin\": true, \"gridcolor\": \"white\", \"linecolor\": \"white\", \"ticks\": \"\", \"title\": {\"standoff\": 15}, \"zerolinecolor\": \"white\", \"zerolinewidth\": 2}, \"yaxis\": {\"automargin\": true, \"gridcolor\": \"white\", \"linecolor\": \"white\", \"ticks\": \"\", \"title\": {\"standoff\": 15}, \"zerolinecolor\": \"white\", \"zerolinewidth\": 2}}}, \"xaxis\": {\"title\": {\"text\": \"Iteration\"}}, \"yaxis\": {\"title\": {\"text\": \"Dev Auc\"}}},                        {\"responsive\": true}                    ).then(function(){\n",
       "                            \n",
       "var gd = document.getElementById('4915631e-266c-4df4-8bd8-b0f34bb5d746');\n",
       "var x = new MutationObserver(function (mutations, observer) {{\n",
       "        var display = window.getComputedStyle(gd).display;\n",
       "        if (!display || display === 'none') {{\n",
       "            console.log([gd, 'removed!']);\n",
       "            Plotly.purge(gd);\n",
       "            observer.disconnect();\n",
       "        }}\n",
       "}});\n",
       "\n",
       "// Listen for the removal of the full notebook cells\n",
       "var notebookContainer = gd.closest('#notebook-container');\n",
       "if (notebookContainer) {{\n",
       "    x.observe(notebookContainer, {childList: true});\n",
       "}}\n",
       "\n",
       "// Listen for the clearing of the current output cell\n",
       "var outputEl = gd.closest('.output');\n",
       "if (outputEl) {{\n",
       "    x.observe(outputEl, {childList: true});\n",
       "}}\n",
       "\n",
       "                        })                };                });            </script>        </div>"
      ]
     },
     "metadata": {},
     "output_type": "display_data"
    }
   ],
   "source": [
    "plot_metric_over_time('dev', 'auc', \n",
    "                      ['sampling-raw'],\n",
    "                      plot_maxima=True)"
   ]
  },
  {
   "cell_type": "code",
   "execution_count": null,
   "metadata": {},
   "outputs": [],
   "source": []
  }
 ],
 "metadata": {
  "kernelspec": {
   "display_name": "Python 3",
   "language": "python",
   "name": "python3"
  },
  "language_info": {
   "codemirror_mode": {
    "name": "ipython",
    "version": 3
   },
   "file_extension": ".py",
   "mimetype": "text/x-python",
   "name": "python",
   "nbconvert_exporter": "python",
   "pygments_lexer": "ipython3",
   "version": "3.7.9"
  }
 },
 "nbformat": 4,
 "nbformat_minor": 4
}
